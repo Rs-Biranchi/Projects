{
 "cells": [
  {
   "cell_type": "code",
   "execution_count": 1,
   "metadata": {},
   "outputs": [],
   "source": [
    "import pandas as pd\n",
    "import numpy as np\n",
    "import matplotlib.pyplot as plt\n",
    "import seaborn as sns\n",
    "import warnings\n",
    "warnings.filterwarnings('ignore')"
   ]
  },
  {
   "cell_type": "code",
   "execution_count": 2,
   "metadata": {},
   "outputs": [
    {
     "data": {
      "text/html": [
       "<div>\n",
       "<style scoped>\n",
       "    .dataframe tbody tr th:only-of-type {\n",
       "        vertical-align: middle;\n",
       "    }\n",
       "\n",
       "    .dataframe tbody tr th {\n",
       "        vertical-align: top;\n",
       "    }\n",
       "\n",
       "    .dataframe thead th {\n",
       "        text-align: right;\n",
       "    }\n",
       "</style>\n",
       "<table border=\"1\" class=\"dataframe\">\n",
       "  <thead>\n",
       "    <tr style=\"text-align: right;\">\n",
       "      <th></th>\n",
       "      <th>ID</th>\n",
       "      <th>Reason for absence</th>\n",
       "      <th>Month of absence</th>\n",
       "      <th>Day of the week</th>\n",
       "      <th>Seasons</th>\n",
       "      <th>Transportation expense</th>\n",
       "      <th>Distance from Residence to Work</th>\n",
       "      <th>Service time</th>\n",
       "      <th>Age</th>\n",
       "      <th>Work load Average/day</th>\n",
       "      <th>...</th>\n",
       "      <th>Disciplinary failure</th>\n",
       "      <th>Education</th>\n",
       "      <th>Son</th>\n",
       "      <th>Social drinker</th>\n",
       "      <th>Social smoker</th>\n",
       "      <th>Pet</th>\n",
       "      <th>Weight</th>\n",
       "      <th>Height</th>\n",
       "      <th>Body mass index</th>\n",
       "      <th>Absenteeism time in hours</th>\n",
       "    </tr>\n",
       "  </thead>\n",
       "  <tbody>\n",
       "    <tr>\n",
       "      <td>0</td>\n",
       "      <td>11</td>\n",
       "      <td>26</td>\n",
       "      <td>7</td>\n",
       "      <td>3</td>\n",
       "      <td>1</td>\n",
       "      <td>289</td>\n",
       "      <td>36</td>\n",
       "      <td>13</td>\n",
       "      <td>33</td>\n",
       "      <td>239554</td>\n",
       "      <td>...</td>\n",
       "      <td>0</td>\n",
       "      <td>1</td>\n",
       "      <td>2</td>\n",
       "      <td>1</td>\n",
       "      <td>0</td>\n",
       "      <td>1</td>\n",
       "      <td>90</td>\n",
       "      <td>172</td>\n",
       "      <td>30</td>\n",
       "      <td>4</td>\n",
       "    </tr>\n",
       "    <tr>\n",
       "      <td>1</td>\n",
       "      <td>36</td>\n",
       "      <td>0</td>\n",
       "      <td>7</td>\n",
       "      <td>3</td>\n",
       "      <td>1</td>\n",
       "      <td>118</td>\n",
       "      <td>13</td>\n",
       "      <td>18</td>\n",
       "      <td>50</td>\n",
       "      <td>239554</td>\n",
       "      <td>...</td>\n",
       "      <td>1</td>\n",
       "      <td>1</td>\n",
       "      <td>1</td>\n",
       "      <td>1</td>\n",
       "      <td>0</td>\n",
       "      <td>0</td>\n",
       "      <td>98</td>\n",
       "      <td>178</td>\n",
       "      <td>31</td>\n",
       "      <td>0</td>\n",
       "    </tr>\n",
       "    <tr>\n",
       "      <td>2</td>\n",
       "      <td>3</td>\n",
       "      <td>23</td>\n",
       "      <td>7</td>\n",
       "      <td>4</td>\n",
       "      <td>1</td>\n",
       "      <td>179</td>\n",
       "      <td>51</td>\n",
       "      <td>18</td>\n",
       "      <td>38</td>\n",
       "      <td>239554</td>\n",
       "      <td>...</td>\n",
       "      <td>0</td>\n",
       "      <td>1</td>\n",
       "      <td>0</td>\n",
       "      <td>1</td>\n",
       "      <td>0</td>\n",
       "      <td>0</td>\n",
       "      <td>89</td>\n",
       "      <td>170</td>\n",
       "      <td>31</td>\n",
       "      <td>2</td>\n",
       "    </tr>\n",
       "    <tr>\n",
       "      <td>3</td>\n",
       "      <td>7</td>\n",
       "      <td>7</td>\n",
       "      <td>7</td>\n",
       "      <td>5</td>\n",
       "      <td>1</td>\n",
       "      <td>279</td>\n",
       "      <td>5</td>\n",
       "      <td>14</td>\n",
       "      <td>39</td>\n",
       "      <td>239554</td>\n",
       "      <td>...</td>\n",
       "      <td>0</td>\n",
       "      <td>1</td>\n",
       "      <td>2</td>\n",
       "      <td>1</td>\n",
       "      <td>1</td>\n",
       "      <td>0</td>\n",
       "      <td>68</td>\n",
       "      <td>168</td>\n",
       "      <td>24</td>\n",
       "      <td>4</td>\n",
       "    </tr>\n",
       "    <tr>\n",
       "      <td>4</td>\n",
       "      <td>11</td>\n",
       "      <td>23</td>\n",
       "      <td>7</td>\n",
       "      <td>5</td>\n",
       "      <td>1</td>\n",
       "      <td>289</td>\n",
       "      <td>36</td>\n",
       "      <td>13</td>\n",
       "      <td>33</td>\n",
       "      <td>239554</td>\n",
       "      <td>...</td>\n",
       "      <td>0</td>\n",
       "      <td>1</td>\n",
       "      <td>2</td>\n",
       "      <td>1</td>\n",
       "      <td>0</td>\n",
       "      <td>1</td>\n",
       "      <td>90</td>\n",
       "      <td>172</td>\n",
       "      <td>30</td>\n",
       "      <td>2</td>\n",
       "    </tr>\n",
       "    <tr>\n",
       "      <td>...</td>\n",
       "      <td>...</td>\n",
       "      <td>...</td>\n",
       "      <td>...</td>\n",
       "      <td>...</td>\n",
       "      <td>...</td>\n",
       "      <td>...</td>\n",
       "      <td>...</td>\n",
       "      <td>...</td>\n",
       "      <td>...</td>\n",
       "      <td>...</td>\n",
       "      <td>...</td>\n",
       "      <td>...</td>\n",
       "      <td>...</td>\n",
       "      <td>...</td>\n",
       "      <td>...</td>\n",
       "      <td>...</td>\n",
       "      <td>...</td>\n",
       "      <td>...</td>\n",
       "      <td>...</td>\n",
       "      <td>...</td>\n",
       "      <td>...</td>\n",
       "    </tr>\n",
       "    <tr>\n",
       "      <td>735</td>\n",
       "      <td>11</td>\n",
       "      <td>14</td>\n",
       "      <td>7</td>\n",
       "      <td>3</td>\n",
       "      <td>1</td>\n",
       "      <td>289</td>\n",
       "      <td>36</td>\n",
       "      <td>13</td>\n",
       "      <td>33</td>\n",
       "      <td>264604</td>\n",
       "      <td>...</td>\n",
       "      <td>0</td>\n",
       "      <td>1</td>\n",
       "      <td>2</td>\n",
       "      <td>1</td>\n",
       "      <td>0</td>\n",
       "      <td>1</td>\n",
       "      <td>90</td>\n",
       "      <td>172</td>\n",
       "      <td>30</td>\n",
       "      <td>8</td>\n",
       "    </tr>\n",
       "    <tr>\n",
       "      <td>736</td>\n",
       "      <td>1</td>\n",
       "      <td>11</td>\n",
       "      <td>7</td>\n",
       "      <td>3</td>\n",
       "      <td>1</td>\n",
       "      <td>235</td>\n",
       "      <td>11</td>\n",
       "      <td>14</td>\n",
       "      <td>37</td>\n",
       "      <td>264604</td>\n",
       "      <td>...</td>\n",
       "      <td>0</td>\n",
       "      <td>3</td>\n",
       "      <td>1</td>\n",
       "      <td>0</td>\n",
       "      <td>0</td>\n",
       "      <td>1</td>\n",
       "      <td>88</td>\n",
       "      <td>172</td>\n",
       "      <td>29</td>\n",
       "      <td>4</td>\n",
       "    </tr>\n",
       "    <tr>\n",
       "      <td>737</td>\n",
       "      <td>4</td>\n",
       "      <td>0</td>\n",
       "      <td>0</td>\n",
       "      <td>3</td>\n",
       "      <td>1</td>\n",
       "      <td>118</td>\n",
       "      <td>14</td>\n",
       "      <td>13</td>\n",
       "      <td>40</td>\n",
       "      <td>271219</td>\n",
       "      <td>...</td>\n",
       "      <td>0</td>\n",
       "      <td>1</td>\n",
       "      <td>1</td>\n",
       "      <td>1</td>\n",
       "      <td>0</td>\n",
       "      <td>8</td>\n",
       "      <td>98</td>\n",
       "      <td>170</td>\n",
       "      <td>34</td>\n",
       "      <td>0</td>\n",
       "    </tr>\n",
       "    <tr>\n",
       "      <td>738</td>\n",
       "      <td>8</td>\n",
       "      <td>0</td>\n",
       "      <td>0</td>\n",
       "      <td>4</td>\n",
       "      <td>2</td>\n",
       "      <td>231</td>\n",
       "      <td>35</td>\n",
       "      <td>14</td>\n",
       "      <td>39</td>\n",
       "      <td>271219</td>\n",
       "      <td>...</td>\n",
       "      <td>0</td>\n",
       "      <td>1</td>\n",
       "      <td>2</td>\n",
       "      <td>1</td>\n",
       "      <td>0</td>\n",
       "      <td>2</td>\n",
       "      <td>100</td>\n",
       "      <td>170</td>\n",
       "      <td>35</td>\n",
       "      <td>0</td>\n",
       "    </tr>\n",
       "    <tr>\n",
       "      <td>739</td>\n",
       "      <td>35</td>\n",
       "      <td>0</td>\n",
       "      <td>0</td>\n",
       "      <td>6</td>\n",
       "      <td>3</td>\n",
       "      <td>179</td>\n",
       "      <td>45</td>\n",
       "      <td>14</td>\n",
       "      <td>53</td>\n",
       "      <td>271219</td>\n",
       "      <td>...</td>\n",
       "      <td>0</td>\n",
       "      <td>1</td>\n",
       "      <td>1</td>\n",
       "      <td>0</td>\n",
       "      <td>0</td>\n",
       "      <td>1</td>\n",
       "      <td>77</td>\n",
       "      <td>175</td>\n",
       "      <td>25</td>\n",
       "      <td>0</td>\n",
       "    </tr>\n",
       "  </tbody>\n",
       "</table>\n",
       "<p>740 rows × 21 columns</p>\n",
       "</div>"
      ],
      "text/plain": [
       "     ID  Reason for absence  Month of absence  Day of the week  Seasons  \\\n",
       "0    11                  26                 7                3        1   \n",
       "1    36                   0                 7                3        1   \n",
       "2     3                  23                 7                4        1   \n",
       "3     7                   7                 7                5        1   \n",
       "4    11                  23                 7                5        1   \n",
       "..   ..                 ...               ...              ...      ...   \n",
       "735  11                  14                 7                3        1   \n",
       "736   1                  11                 7                3        1   \n",
       "737   4                   0                 0                3        1   \n",
       "738   8                   0                 0                4        2   \n",
       "739  35                   0                 0                6        3   \n",
       "\n",
       "     Transportation expense  Distance from Residence to Work  Service time  \\\n",
       "0                       289                               36            13   \n",
       "1                       118                               13            18   \n",
       "2                       179                               51            18   \n",
       "3                       279                                5            14   \n",
       "4                       289                               36            13   \n",
       "..                      ...                              ...           ...   \n",
       "735                     289                               36            13   \n",
       "736                     235                               11            14   \n",
       "737                     118                               14            13   \n",
       "738                     231                               35            14   \n",
       "739                     179                               45            14   \n",
       "\n",
       "     Age  Work load Average/day   ...  Disciplinary failure  Education  Son  \\\n",
       "0     33                  239554  ...                     0          1    2   \n",
       "1     50                  239554  ...                     1          1    1   \n",
       "2     38                  239554  ...                     0          1    0   \n",
       "3     39                  239554  ...                     0          1    2   \n",
       "4     33                  239554  ...                     0          1    2   \n",
       "..   ...                     ...  ...                   ...        ...  ...   \n",
       "735   33                  264604  ...                     0          1    2   \n",
       "736   37                  264604  ...                     0          3    1   \n",
       "737   40                  271219  ...                     0          1    1   \n",
       "738   39                  271219  ...                     0          1    2   \n",
       "739   53                  271219  ...                     0          1    1   \n",
       "\n",
       "     Social drinker  Social smoker  Pet  Weight  Height  Body mass index  \\\n",
       "0                 1              0    1      90     172               30   \n",
       "1                 1              0    0      98     178               31   \n",
       "2                 1              0    0      89     170               31   \n",
       "3                 1              1    0      68     168               24   \n",
       "4                 1              0    1      90     172               30   \n",
       "..              ...            ...  ...     ...     ...              ...   \n",
       "735               1              0    1      90     172               30   \n",
       "736               0              0    1      88     172               29   \n",
       "737               1              0    8      98     170               34   \n",
       "738               1              0    2     100     170               35   \n",
       "739               0              0    1      77     175               25   \n",
       "\n",
       "     Absenteeism time in hours  \n",
       "0                            4  \n",
       "1                            0  \n",
       "2                            2  \n",
       "3                            4  \n",
       "4                            2  \n",
       "..                         ...  \n",
       "735                          8  \n",
       "736                          4  \n",
       "737                          0  \n",
       "738                          0  \n",
       "739                          0  \n",
       "\n",
       "[740 rows x 21 columns]"
      ]
     },
     "execution_count": 2,
     "metadata": {},
     "output_type": "execute_result"
    }
   ],
   "source": [
    "Data=pd.read_excel('Absenteeism_at_work.xls')\n",
    "Data"
   ]
  },
  {
   "cell_type": "markdown",
   "metadata": {},
   "source": [
    "The database was created with records of absenteeism at work from July 2007 to July 2010 at a courier company in Brazil.\n",
    "\n",
    "Data Set Information:\n",
    "\n",
    "The data set allows for several new combinations of attributes and attribute exclusions, or the modification of the attribute type (categorical, integer, or real) depending on the purpose of the research.The data set (Absenteeism at work - Part I) was used in academic research at the Universidade Nove de Julho - Postgraduate Program in Informatics and Knowledge Management.\n",
    "\n",
    "Attribute Information:\n",
    "\n",
    "1. Individual identification (ID)\n",
    "2. Reason for absence (ICD).\n",
    "Absences attested by the International Code of Diseases (ICD) stratified into 21 categories (I to XXI) as follows:\n",
    "\n",
    "I Certain infectious and parasitic diseases\n",
    "II Neoplasms\n",
    "III Diseases of the blood and blood-forming organs and certain disorders involving the immune mechanism\n",
    "IV Endocrine, nutritional and metabolic diseases\n",
    "V Mental and behavioural disorders\n",
    "VI Diseases of the nervous system\n",
    "VII Diseases of the eye and adnexa\n",
    "VIII Diseases of the ear and mastoid process\n",
    "IX Diseases of the circulatory system\n",
    "X Diseases of the respiratory system\n",
    "XI Diseases of the digestive system\n",
    "XII Diseases of the skin and subcutaneous tissue\n",
    "XIII Diseases of the musculoskeletal system and connective tissue\n",
    "XIV Diseases of the genitourinary system\n",
    "XV Pregnancy, childbirth and the puerperium\n",
    "XVI Certain conditions originating in the perinatal period\n",
    "XVII Congenital malformations, deformations and chromosomal abnormalities\n",
    "XVIII Symptoms, signs and abnormal clinical and laboratory findings, not elsewhere classified\n",
    "XIX Injury, poisoning and certain other consequences of external causes\n",
    "XX External causes of morbidity and mortality\n",
    "XXI Factors influencing health status and contact with health services.\n",
    "\n",
    "And 7 categories without (CID) patient follow-up (22), medical consultation (23), blood donation (24), laboratory examination (25), unjustified absence (26), physiotherapy (27), dental consultation (28).\n",
    "3. Month of absence\n",
    "4. Day of the week (Monday (2), Tuesday (3), Wednesday (4), Thursday (5), Friday (6))\n",
    "5. Seasons (summer (1), autumn (2), winter (3), spring (4))\n",
    "6. Transportation expense\n",
    "7. Distance from Residence to Work (kilometers)\n",
    "8. Service time\n",
    "9. Age\n",
    "10. Work load Average/day\n",
    "11. Hit target\n",
    "12. Disciplinary failure (yes=1; no=0)\n",
    "13. Education (high school (1), graduate (2), postgraduate (3), master and doctor (4))\n",
    "14. Son (number of children)\n",
    "15. Social drinker (yes=1; no=0)\n",
    "16. Social smoker (yes=1; no=0)\n",
    "17. Pet (number of pet)\n",
    "18. Weight\n",
    "19. Height\n",
    "20. Body mass index\n",
    "21. Absenteeism time in hours (target)\n"
   ]
  },
  {
   "cell_type": "markdown",
   "metadata": {},
   "source": [
    "# Exploratory Data Analysis"
   ]
  },
  {
   "cell_type": "code",
   "execution_count": 3,
   "metadata": {},
   "outputs": [
    {
     "data": {
      "text/plain": [
       "(740, 21)"
      ]
     },
     "execution_count": 3,
     "metadata": {},
     "output_type": "execute_result"
    }
   ],
   "source": [
    "Data.shape"
   ]
  },
  {
   "cell_type": "code",
   "execution_count": 4,
   "metadata": {},
   "outputs": [
    {
     "name": "stdout",
     "output_type": "stream",
     "text": [
      "<class 'pandas.core.frame.DataFrame'>\n",
      "RangeIndex: 740 entries, 0 to 739\n",
      "Data columns (total 21 columns):\n",
      "ID                                 740 non-null int64\n",
      "Reason for absence                 740 non-null int64\n",
      "Month of absence                   740 non-null int64\n",
      "Day of the week                    740 non-null int64\n",
      "Seasons                            740 non-null int64\n",
      "Transportation expense             740 non-null int64\n",
      "Distance from Residence to Work    740 non-null int64\n",
      "Service time                       740 non-null int64\n",
      "Age                                740 non-null int64\n",
      "Work load Average/day              740 non-null int64\n",
      "Hit target                         740 non-null int64\n",
      "Disciplinary failure               740 non-null int64\n",
      "Education                          740 non-null int64\n",
      "Son                                740 non-null int64\n",
      "Social drinker                     740 non-null int64\n",
      "Social smoker                      740 non-null int64\n",
      "Pet                                740 non-null int64\n",
      "Weight                             740 non-null int64\n",
      "Height                             740 non-null int64\n",
      "Body mass index                    740 non-null int64\n",
      "Absenteeism time in hours          740 non-null int64\n",
      "dtypes: int64(21)\n",
      "memory usage: 121.5 KB\n"
     ]
    }
   ],
   "source": [
    "Data.info()"
   ]
  },
  {
   "cell_type": "markdown",
   "metadata": {},
   "source": [
    "From Data information we found that there are no null value present in the dataset."
   ]
  },
  {
   "cell_type": "code",
   "execution_count": 5,
   "metadata": {},
   "outputs": [
    {
     "data": {
      "text/plain": [
       "ID                                 36\n",
       "Reason for absence                 28\n",
       "Month of absence                   13\n",
       "Day of the week                     5\n",
       "Seasons                             4\n",
       "Transportation expense             24\n",
       "Distance from Residence to Work    25\n",
       "Service time                       18\n",
       "Age                                22\n",
       "Work load Average/day              38\n",
       "Hit target                         13\n",
       "Disciplinary failure                2\n",
       "Education                           4\n",
       "Son                                 5\n",
       "Social drinker                      2\n",
       "Social smoker                       2\n",
       "Pet                                 6\n",
       "Weight                             26\n",
       "Height                             14\n",
       "Body mass index                    17\n",
       "Absenteeism time in hours          19\n",
       "dtype: int64"
      ]
     },
     "execution_count": 5,
     "metadata": {},
     "output_type": "execute_result"
    }
   ],
   "source": [
    "Data.nunique()"
   ]
  },
  {
   "cell_type": "markdown",
   "metadata": {},
   "source": [
    "# Statistical Summary"
   ]
  },
  {
   "cell_type": "code",
   "execution_count": 6,
   "metadata": {},
   "outputs": [
    {
     "data": {
      "text/html": [
       "<div>\n",
       "<style scoped>\n",
       "    .dataframe tbody tr th:only-of-type {\n",
       "        vertical-align: middle;\n",
       "    }\n",
       "\n",
       "    .dataframe tbody tr th {\n",
       "        vertical-align: top;\n",
       "    }\n",
       "\n",
       "    .dataframe thead th {\n",
       "        text-align: right;\n",
       "    }\n",
       "</style>\n",
       "<table border=\"1\" class=\"dataframe\">\n",
       "  <thead>\n",
       "    <tr style=\"text-align: right;\">\n",
       "      <th></th>\n",
       "      <th>ID</th>\n",
       "      <th>Reason for absence</th>\n",
       "      <th>Month of absence</th>\n",
       "      <th>Day of the week</th>\n",
       "      <th>Seasons</th>\n",
       "      <th>Transportation expense</th>\n",
       "      <th>Distance from Residence to Work</th>\n",
       "      <th>Service time</th>\n",
       "      <th>Age</th>\n",
       "      <th>Work load Average/day</th>\n",
       "      <th>...</th>\n",
       "      <th>Disciplinary failure</th>\n",
       "      <th>Education</th>\n",
       "      <th>Son</th>\n",
       "      <th>Social drinker</th>\n",
       "      <th>Social smoker</th>\n",
       "      <th>Pet</th>\n",
       "      <th>Weight</th>\n",
       "      <th>Height</th>\n",
       "      <th>Body mass index</th>\n",
       "      <th>Absenteeism time in hours</th>\n",
       "    </tr>\n",
       "  </thead>\n",
       "  <tbody>\n",
       "    <tr>\n",
       "      <td>count</td>\n",
       "      <td>740.000000</td>\n",
       "      <td>740.000000</td>\n",
       "      <td>740.000000</td>\n",
       "      <td>740.000000</td>\n",
       "      <td>740.000000</td>\n",
       "      <td>740.000000</td>\n",
       "      <td>740.000000</td>\n",
       "      <td>740.000000</td>\n",
       "      <td>740.000000</td>\n",
       "      <td>740.000000</td>\n",
       "      <td>...</td>\n",
       "      <td>740.000000</td>\n",
       "      <td>740.000000</td>\n",
       "      <td>740.000000</td>\n",
       "      <td>740.000000</td>\n",
       "      <td>740.000000</td>\n",
       "      <td>740.000000</td>\n",
       "      <td>740.000000</td>\n",
       "      <td>740.000000</td>\n",
       "      <td>740.000000</td>\n",
       "      <td>740.000000</td>\n",
       "    </tr>\n",
       "    <tr>\n",
       "      <td>mean</td>\n",
       "      <td>18.017568</td>\n",
       "      <td>19.216216</td>\n",
       "      <td>6.324324</td>\n",
       "      <td>3.914865</td>\n",
       "      <td>2.544595</td>\n",
       "      <td>221.329730</td>\n",
       "      <td>29.631081</td>\n",
       "      <td>12.554054</td>\n",
       "      <td>36.450000</td>\n",
       "      <td>271490.235135</td>\n",
       "      <td>...</td>\n",
       "      <td>0.054054</td>\n",
       "      <td>1.291892</td>\n",
       "      <td>1.018919</td>\n",
       "      <td>0.567568</td>\n",
       "      <td>0.072973</td>\n",
       "      <td>0.745946</td>\n",
       "      <td>79.035135</td>\n",
       "      <td>172.114865</td>\n",
       "      <td>26.677027</td>\n",
       "      <td>6.924324</td>\n",
       "    </tr>\n",
       "    <tr>\n",
       "      <td>std</td>\n",
       "      <td>11.021247</td>\n",
       "      <td>8.433406</td>\n",
       "      <td>3.436287</td>\n",
       "      <td>1.421675</td>\n",
       "      <td>1.111831</td>\n",
       "      <td>66.952223</td>\n",
       "      <td>14.836788</td>\n",
       "      <td>4.384873</td>\n",
       "      <td>6.478772</td>\n",
       "      <td>39058.116188</td>\n",
       "      <td>...</td>\n",
       "      <td>0.226277</td>\n",
       "      <td>0.673238</td>\n",
       "      <td>1.098489</td>\n",
       "      <td>0.495749</td>\n",
       "      <td>0.260268</td>\n",
       "      <td>1.318258</td>\n",
       "      <td>12.883211</td>\n",
       "      <td>6.034995</td>\n",
       "      <td>4.285452</td>\n",
       "      <td>13.330998</td>\n",
       "    </tr>\n",
       "    <tr>\n",
       "      <td>min</td>\n",
       "      <td>1.000000</td>\n",
       "      <td>0.000000</td>\n",
       "      <td>0.000000</td>\n",
       "      <td>2.000000</td>\n",
       "      <td>1.000000</td>\n",
       "      <td>118.000000</td>\n",
       "      <td>5.000000</td>\n",
       "      <td>1.000000</td>\n",
       "      <td>27.000000</td>\n",
       "      <td>205917.000000</td>\n",
       "      <td>...</td>\n",
       "      <td>0.000000</td>\n",
       "      <td>1.000000</td>\n",
       "      <td>0.000000</td>\n",
       "      <td>0.000000</td>\n",
       "      <td>0.000000</td>\n",
       "      <td>0.000000</td>\n",
       "      <td>56.000000</td>\n",
       "      <td>163.000000</td>\n",
       "      <td>19.000000</td>\n",
       "      <td>0.000000</td>\n",
       "    </tr>\n",
       "    <tr>\n",
       "      <td>25%</td>\n",
       "      <td>9.000000</td>\n",
       "      <td>13.000000</td>\n",
       "      <td>3.000000</td>\n",
       "      <td>3.000000</td>\n",
       "      <td>2.000000</td>\n",
       "      <td>179.000000</td>\n",
       "      <td>16.000000</td>\n",
       "      <td>9.000000</td>\n",
       "      <td>31.000000</td>\n",
       "      <td>244387.000000</td>\n",
       "      <td>...</td>\n",
       "      <td>0.000000</td>\n",
       "      <td>1.000000</td>\n",
       "      <td>0.000000</td>\n",
       "      <td>0.000000</td>\n",
       "      <td>0.000000</td>\n",
       "      <td>0.000000</td>\n",
       "      <td>69.000000</td>\n",
       "      <td>169.000000</td>\n",
       "      <td>24.000000</td>\n",
       "      <td>2.000000</td>\n",
       "    </tr>\n",
       "    <tr>\n",
       "      <td>50%</td>\n",
       "      <td>18.000000</td>\n",
       "      <td>23.000000</td>\n",
       "      <td>6.000000</td>\n",
       "      <td>4.000000</td>\n",
       "      <td>3.000000</td>\n",
       "      <td>225.000000</td>\n",
       "      <td>26.000000</td>\n",
       "      <td>13.000000</td>\n",
       "      <td>37.000000</td>\n",
       "      <td>264249.000000</td>\n",
       "      <td>...</td>\n",
       "      <td>0.000000</td>\n",
       "      <td>1.000000</td>\n",
       "      <td>1.000000</td>\n",
       "      <td>1.000000</td>\n",
       "      <td>0.000000</td>\n",
       "      <td>0.000000</td>\n",
       "      <td>83.000000</td>\n",
       "      <td>170.000000</td>\n",
       "      <td>25.000000</td>\n",
       "      <td>3.000000</td>\n",
       "    </tr>\n",
       "    <tr>\n",
       "      <td>75%</td>\n",
       "      <td>28.000000</td>\n",
       "      <td>26.000000</td>\n",
       "      <td>9.000000</td>\n",
       "      <td>5.000000</td>\n",
       "      <td>4.000000</td>\n",
       "      <td>260.000000</td>\n",
       "      <td>50.000000</td>\n",
       "      <td>16.000000</td>\n",
       "      <td>40.000000</td>\n",
       "      <td>294217.000000</td>\n",
       "      <td>...</td>\n",
       "      <td>0.000000</td>\n",
       "      <td>1.000000</td>\n",
       "      <td>2.000000</td>\n",
       "      <td>1.000000</td>\n",
       "      <td>0.000000</td>\n",
       "      <td>1.000000</td>\n",
       "      <td>89.000000</td>\n",
       "      <td>172.000000</td>\n",
       "      <td>31.000000</td>\n",
       "      <td>8.000000</td>\n",
       "    </tr>\n",
       "    <tr>\n",
       "      <td>max</td>\n",
       "      <td>36.000000</td>\n",
       "      <td>28.000000</td>\n",
       "      <td>12.000000</td>\n",
       "      <td>6.000000</td>\n",
       "      <td>4.000000</td>\n",
       "      <td>388.000000</td>\n",
       "      <td>52.000000</td>\n",
       "      <td>29.000000</td>\n",
       "      <td>58.000000</td>\n",
       "      <td>378884.000000</td>\n",
       "      <td>...</td>\n",
       "      <td>1.000000</td>\n",
       "      <td>4.000000</td>\n",
       "      <td>4.000000</td>\n",
       "      <td>1.000000</td>\n",
       "      <td>1.000000</td>\n",
       "      <td>8.000000</td>\n",
       "      <td>108.000000</td>\n",
       "      <td>196.000000</td>\n",
       "      <td>38.000000</td>\n",
       "      <td>120.000000</td>\n",
       "    </tr>\n",
       "  </tbody>\n",
       "</table>\n",
       "<p>8 rows × 21 columns</p>\n",
       "</div>"
      ],
      "text/plain": [
       "               ID  Reason for absence  Month of absence  Day of the week  \\\n",
       "count  740.000000          740.000000        740.000000       740.000000   \n",
       "mean    18.017568           19.216216          6.324324         3.914865   \n",
       "std     11.021247            8.433406          3.436287         1.421675   \n",
       "min      1.000000            0.000000          0.000000         2.000000   \n",
       "25%      9.000000           13.000000          3.000000         3.000000   \n",
       "50%     18.000000           23.000000          6.000000         4.000000   \n",
       "75%     28.000000           26.000000          9.000000         5.000000   \n",
       "max     36.000000           28.000000         12.000000         6.000000   \n",
       "\n",
       "          Seasons  Transportation expense  Distance from Residence to Work  \\\n",
       "count  740.000000              740.000000                       740.000000   \n",
       "mean     2.544595              221.329730                        29.631081   \n",
       "std      1.111831               66.952223                        14.836788   \n",
       "min      1.000000              118.000000                         5.000000   \n",
       "25%      2.000000              179.000000                        16.000000   \n",
       "50%      3.000000              225.000000                        26.000000   \n",
       "75%      4.000000              260.000000                        50.000000   \n",
       "max      4.000000              388.000000                        52.000000   \n",
       "\n",
       "       Service time         Age  Work load Average/day   ...  \\\n",
       "count    740.000000  740.000000              740.000000  ...   \n",
       "mean      12.554054   36.450000           271490.235135  ...   \n",
       "std        4.384873    6.478772            39058.116188  ...   \n",
       "min        1.000000   27.000000           205917.000000  ...   \n",
       "25%        9.000000   31.000000           244387.000000  ...   \n",
       "50%       13.000000   37.000000           264249.000000  ...   \n",
       "75%       16.000000   40.000000           294217.000000  ...   \n",
       "max       29.000000   58.000000           378884.000000  ...   \n",
       "\n",
       "       Disciplinary failure   Education         Son  Social drinker  \\\n",
       "count            740.000000  740.000000  740.000000      740.000000   \n",
       "mean               0.054054    1.291892    1.018919        0.567568   \n",
       "std                0.226277    0.673238    1.098489        0.495749   \n",
       "min                0.000000    1.000000    0.000000        0.000000   \n",
       "25%                0.000000    1.000000    0.000000        0.000000   \n",
       "50%                0.000000    1.000000    1.000000        1.000000   \n",
       "75%                0.000000    1.000000    2.000000        1.000000   \n",
       "max                1.000000    4.000000    4.000000        1.000000   \n",
       "\n",
       "       Social smoker         Pet      Weight      Height  Body mass index  \\\n",
       "count     740.000000  740.000000  740.000000  740.000000       740.000000   \n",
       "mean        0.072973    0.745946   79.035135  172.114865        26.677027   \n",
       "std         0.260268    1.318258   12.883211    6.034995         4.285452   \n",
       "min         0.000000    0.000000   56.000000  163.000000        19.000000   \n",
       "25%         0.000000    0.000000   69.000000  169.000000        24.000000   \n",
       "50%         0.000000    0.000000   83.000000  170.000000        25.000000   \n",
       "75%         0.000000    1.000000   89.000000  172.000000        31.000000   \n",
       "max         1.000000    8.000000  108.000000  196.000000        38.000000   \n",
       "\n",
       "       Absenteeism time in hours  \n",
       "count                 740.000000  \n",
       "mean                    6.924324  \n",
       "std                    13.330998  \n",
       "min                     0.000000  \n",
       "25%                     2.000000  \n",
       "50%                     3.000000  \n",
       "75%                     8.000000  \n",
       "max                   120.000000  \n",
       "\n",
       "[8 rows x 21 columns]"
      ]
     },
     "execution_count": 6,
     "metadata": {},
     "output_type": "execute_result"
    }
   ],
   "source": [
    "Data.describe()"
   ]
  },
  {
   "cell_type": "markdown",
   "metadata": {},
   "source": [
    "Uni,Bi & Multivariate Analysis"
   ]
  },
  {
   "cell_type": "code",
   "execution_count": 7,
   "metadata": {},
   "outputs": [
    {
     "data": {
      "text/plain": [
       "23    149\n",
       "28    112\n",
       "27     69\n",
       "13     55\n",
       "0      43\n",
       "19     40\n",
       "22     38\n",
       "26     33\n",
       "25     31\n",
       "11     26\n",
       "10     25\n",
       "18     21\n",
       "14     19\n",
       "1      16\n",
       "7      15\n",
       "6       8\n",
       "12      8\n",
       "8       6\n",
       "21      6\n",
       "9       4\n",
       "5       3\n",
       "24      3\n",
       "16      3\n",
       "4       2\n",
       "15      2\n",
       "3       1\n",
       "2       1\n",
       "17      1\n",
       "Name: Reason for absence, dtype: int64"
      ]
     },
     "execution_count": 7,
     "metadata": {},
     "output_type": "execute_result"
    }
   ],
   "source": [
    "Data['Reason for absence'].value_counts()"
   ]
  },
  {
   "cell_type": "code",
   "execution_count": 8,
   "metadata": {},
   "outputs": [
    {
     "name": "stdout",
     "output_type": "stream",
     "text": [
      "Heighst Absenteeism time in hours  120\n",
      "Lowest Absenteeism time in hours  0\n"
     ]
    }
   ],
   "source": [
    "#Absenteeism time in hours\n",
    "print('Heighst Absenteeism time in hours ',max(Data['Absenteeism time in hours']))\n",
    "print('Lowest Absenteeism time in hours ',min(Data['Absenteeism time in hours']))"
   ]
  },
  {
   "cell_type": "code",
   "execution_count": 9,
   "metadata": {},
   "outputs": [
    {
     "data": {
      "text/plain": [
       "<matplotlib.axes._subplots.AxesSubplot at 0x1a76d195c48>"
      ]
     },
     "execution_count": 9,
     "metadata": {},
     "output_type": "execute_result"
    },
    {
     "data": {
      "image/png": "[encoded data removed]",
      "text/plain": [
       "<Figure size 1872x432 with 1 Axes>"
      ]
     },
     "metadata": {
      "needs_background": "light"
     },
     "output_type": "display_data"
    }
   ],
   "source": [
    "plt.figure(figsize=(26,6))\n",
    "sns.barplot(x='Reason for absence',y='Absenteeism time in hours',data=Data)"
   ]
  },
  {
   "cell_type": "markdown",
   "metadata": {},
   "source": [
    "From all types of reason for absence 'medical consultation' is highest reason followed by  'dental consultation'.Means peoples are absent in there work due to these two reasons mostly.But Absenteeism time in hours is highest i.e 120 hours by reason 'Diseases of the circulatory system'. "
   ]
  },
  {
   "cell_type": "code",
   "execution_count": 10,
   "metadata": {},
   "outputs": [
    {
     "data": {
      "text/plain": [
       "3     87\n",
       "2     72\n",
       "10    71\n",
       "7     67\n",
       "5     64\n",
       "11    63\n",
       "8     54\n",
       "6     54\n",
       "9     53\n",
       "4     53\n",
       "1     50\n",
       "12    49\n",
       "0      3\n",
       "Name: Month of absence, dtype: int64"
      ]
     },
     "execution_count": 10,
     "metadata": {},
     "output_type": "execute_result"
    }
   ],
   "source": [
    "#Month of absence\n",
    "Data['Month of absence'].value_counts()"
   ]
  },
  {
   "cell_type": "code",
   "execution_count": 11,
   "metadata": {},
   "outputs": [
    {
     "data": {
      "text/plain": [
       "<matplotlib.axes._subplots.AxesSubplot at 0x1a76d11fb08>"
      ]
     },
     "execution_count": 11,
     "metadata": {},
     "output_type": "execute_result"
    },
    {
     "data": {
      "image/png": "[encoded data removed]",
      "text/plain": [
       "<Figure size 1872x432 with 1 Axes>"
      ]
     },
     "metadata": {
      "needs_background": "light"
     },
     "output_type": "display_data"
    }
   ],
   "source": [
    "plt.figure(figsize=(26,6))\n",
    "sns.barplot(x='Month of absence',y='Absenteeism time in hours',data=Data)"
   ]
  },
  {
   "cell_type": "markdown",
   "metadata": {},
   "source": [
    "People are absent in their works in the month of march is highest followed by February and December.But in the month of July the Absenteeism time in hours is highest followed by April,March and December."
   ]
  },
  {
   "cell_type": "code",
   "execution_count": 12,
   "metadata": {},
   "outputs": [
    {
     "data": {
      "text/plain": [
       "2    161\n",
       "4    156\n",
       "3    154\n",
       "6    144\n",
       "5    125\n",
       "Name: Day of the week, dtype: int64"
      ]
     },
     "execution_count": 12,
     "metadata": {},
     "output_type": "execute_result"
    }
   ],
   "source": [
    "Data['Day of the week'].value_counts()"
   ]
  },
  {
   "cell_type": "code",
   "execution_count": 13,
   "metadata": {},
   "outputs": [
    {
     "data": {
      "text/plain": [
       "<matplotlib.axes._subplots.AxesSubplot at 0x1a76d5ec4c8>"
      ]
     },
     "execution_count": 13,
     "metadata": {},
     "output_type": "execute_result"
    },
    {
     "data": {
      "image/png": "[encoded data removed]",
      "text/plain": [
       "<Figure size 432x288 with 1 Axes>"
      ]
     },
     "metadata": {
      "needs_background": "light"
     },
     "output_type": "display_data"
    }
   ],
   "source": [
    "sns.barplot(x='Day of the week',y='Absenteeism time in hours',data=Data)"
   ]
  },
  {
   "cell_type": "markdown",
   "metadata": {},
   "source": [
    "On Monday 'Absenteeism time in hours' highest followed by Tuesday,wednesday,Friday and it is lowest on Thursday."
   ]
  },
  {
   "cell_type": "code",
   "execution_count": 14,
   "metadata": {},
   "outputs": [
    {
     "data": {
      "text/plain": [
       "4    195\n",
       "2    192\n",
       "3    183\n",
       "1    170\n",
       "Name: Seasons, dtype: int64"
      ]
     },
     "execution_count": 14,
     "metadata": {},
     "output_type": "execute_result"
    }
   ],
   "source": [
    "Data['Seasons'].value_counts()"
   ]
  },
  {
   "cell_type": "code",
   "execution_count": 15,
   "metadata": {},
   "outputs": [
    {
     "data": {
      "text/plain": [
       "<matplotlib.axes._subplots.AxesSubplot at 0x1a76d870f48>"
      ]
     },
     "execution_count": 15,
     "metadata": {},
     "output_type": "execute_result"
    },
    {
     "data": {
      "image/png": "[encoded data removed]",
      "text/plain": [
       "<Figure size 432x288 with 1 Axes>"
      ]
     },
     "metadata": {
      "needs_background": "light"
     },
     "output_type": "display_data"
    }
   ],
   "source": [
    "sns.barplot(x='Seasons',y='Absenteeism time in hours',data=Data)"
   ]
  },
  {
   "cell_type": "markdown",
   "metadata": {},
   "source": [
    "In between July 2007 to July 2010 in Brazil number of employees are absent in there work is highest in spring followed by autumn,winter and lowest in summer.But if we see season wise 'Absenteeism time in hours' in winter it is highest followed by summer,spring and lowest in autumn."
   ]
  },
  {
   "cell_type": "code",
   "execution_count": 16,
   "metadata": {},
   "outputs": [
    {
     "data": {
      "text/plain": [
       "179    180\n",
       "118     92\n",
       "225     81\n",
       "235     58\n",
       "289     45\n",
       "260     42\n",
       "291     40\n",
       "246     30\n",
       "155     29\n",
       "248     24\n",
       "361     24\n",
       "330     16\n",
       "369     15\n",
       "378      8\n",
       "228      8\n",
       "189      8\n",
       "233      7\n",
       "184      7\n",
       "157      7\n",
       "279      6\n",
       "300      5\n",
       "268      3\n",
       "388      3\n",
       "231      2\n",
       "Name: Transportation expense, dtype: int64"
      ]
     },
     "execution_count": 16,
     "metadata": {},
     "output_type": "execute_result"
    }
   ],
   "source": [
    "Data['Transportation expense'].value_counts()"
   ]
  },
  {
   "cell_type": "code",
   "execution_count": 17,
   "metadata": {},
   "outputs": [
    {
     "data": {
      "text/plain": [
       "<matplotlib.axes._subplots.AxesSubplot at 0x1a76d324988>"
      ]
     },
     "execution_count": 17,
     "metadata": {},
     "output_type": "execute_result"
    },
    {
     "data": {
      "image/png": "[encoded data removed]",
      "text/plain": [
       "<Figure size 1872x432 with 1 Axes>"
      ]
     },
     "metadata": {
      "needs_background": "light"
     },
     "output_type": "display_data"
    }
   ],
   "source": [
    "plt.figure(figsize=(26,6))\n",
    "sns.barplot(x='Transportation expense',y='Absenteeism time in hours',data=Data)"
   ]
  },
  {
   "cell_type": "markdown",
   "metadata": {},
   "source": [
    "Employees are mostly expense 179 followed by 118,225,235 on Transpotation but those Employees Transpotation expense 228 are highest Absenteeism time in hours followed by 300 and 155."
   ]
  },
  {
   "cell_type": "code",
   "execution_count": 18,
   "metadata": {},
   "outputs": [
    {
     "data": {
      "text/plain": [
       "26    128\n",
       "51    120\n",
       "10     55\n",
       "25     54\n",
       "50     45\n",
       "36     40\n",
       "31     37\n",
       "13     34\n",
       "12     29\n",
       "11     26\n",
       "16     26\n",
       "52     24\n",
       "22     20\n",
       "20     19\n",
       "17     15\n",
       "29     14\n",
       "15      9\n",
       "14      9\n",
       "49      8\n",
       "27      7\n",
       "42      7\n",
       "5       6\n",
       "48      5\n",
       "35      2\n",
       "45      1\n",
       "Name: Distance from Residence to Work, dtype: int64"
      ]
     },
     "execution_count": 18,
     "metadata": {},
     "output_type": "execute_result"
    }
   ],
   "source": [
    "Data['Distance from Residence to Work'].value_counts()"
   ]
  },
  {
   "cell_type": "code",
   "execution_count": 19,
   "metadata": {},
   "outputs": [
    {
     "name": "stdout",
     "output_type": "stream",
     "text": [
      "Higest Distance from Residence to Work is  52\n",
      "& Lowest Distance from Residence to Work is  5\n"
     ]
    }
   ],
   "source": [
    "print('Higest Distance from Residence to Work is ',max(Data['Distance from Residence to Work']))\n",
    "print('& Lowest Distance from Residence to Work is ',min(Data['Distance from Residence to Work']))"
   ]
  },
  {
   "cell_type": "code",
   "execution_count": 20,
   "metadata": {},
   "outputs": [
    {
     "data": {
      "text/plain": [
       "<matplotlib.axes._subplots.AxesSubplot at 0x1a76dd1e7c8>"
      ]
     },
     "execution_count": 20,
     "metadata": {},
     "output_type": "execute_result"
    },
    {
     "data": {
      "image/png": "[encoded data removed]",
      "text/plain": [
       "<Figure size 1872x432 with 1 Axes>"
      ]
     },
     "metadata": {
      "needs_background": "light"
     },
     "output_type": "display_data"
    }
   ],
   "source": [
    "plt.figure(figsize=(26,6))\n",
    "sns.barplot(x='Distance from Residence to Work',y='Absenteeism time in hours',data=Data)"
   ]
  },
  {
   "cell_type": "markdown",
   "metadata": {},
   "source": [
    "Employees work Distance from their Residence varies from 5 km to 52km,Most Employee Residence distance from work is 26 km followed by 51 km and 10 km. But Employees Residence distance from work is 14km are Highest Absenteeism time in hours. "
   ]
  },
  {
   "cell_type": "code",
   "execution_count": 21,
   "metadata": {},
   "outputs": [
    {
     "data": {
      "text/plain": [
       "18    147\n",
       "9     126\n",
       "14     85\n",
       "13     73\n",
       "12     61\n",
       "10     55\n",
       "11     50\n",
       "16     38\n",
       "3      24\n",
       "17     20\n",
       "4      16\n",
       "8      13\n",
       "6       7\n",
       "1       7\n",
       "7       7\n",
       "29      5\n",
       "15      4\n",
       "24      2\n",
       "Name: Service time, dtype: int64"
      ]
     },
     "execution_count": 21,
     "metadata": {},
     "output_type": "execute_result"
    }
   ],
   "source": [
    "Data['Service time'].value_counts()"
   ]
  },
  {
   "cell_type": "code",
   "execution_count": 22,
   "metadata": {},
   "outputs": [
    {
     "data": {
      "text/plain": [
       "<matplotlib.axes._subplots.AxesSubplot at 0x1a76daf0508>"
      ]
     },
     "execution_count": 22,
     "metadata": {},
     "output_type": "execute_result"
    },
    {
     "data": {
      "image/png": "[encoded data removed]",
      "text/plain": [
       "<Figure size 1872x432 with 1 Axes>"
      ]
     },
     "metadata": {
      "needs_background": "light"
     },
     "output_type": "display_data"
    }
   ],
   "source": [
    "plt.figure(figsize=(26,6))\n",
    "sns.barplot(x='Service time',y='Absenteeism time in hours',data=Data)"
   ]
  },
  {
   "cell_type": "markdown",
   "metadata": {},
   "source": [
    "Employees with Service time 16 are highest Absenteeism time in their work followed by 13,14,3,4."
   ]
  },
  {
   "cell_type": "code",
   "execution_count": 23,
   "metadata": {},
   "outputs": [
    {
     "data": {
      "text/plain": [
       "132    27\n",
       "137    27\n",
       "209    27\n",
       "118    27\n",
       "149    27\n",
       "       ..\n",
       "620    58\n",
       "622    58\n",
       "640    58\n",
       "255    58\n",
       "434    58\n",
       "Name: Age, Length: 740, dtype: int64"
      ]
     },
     "execution_count": 23,
     "metadata": {},
     "output_type": "execute_result"
    }
   ],
   "source": [
    "Data.Age.sort_values()"
   ]
  },
  {
   "cell_type": "code",
   "execution_count": 24,
   "metadata": {},
   "outputs": [
    {
     "data": {
      "text/plain": [
       "28    117\n",
       "38    113\n",
       "37     78\n",
       "40     58\n",
       "33     51\n",
       "36     50\n",
       "30     46\n",
       "50     37\n",
       "41     34\n",
       "34     29\n",
       "47     24\n",
       "43     24\n",
       "31     22\n",
       "32     13\n",
       "58      8\n",
       "39      8\n",
       "29      7\n",
       "27      7\n",
       "48      6\n",
       "49      5\n",
       "46      2\n",
       "53      1\n",
       "Name: Age, dtype: int64"
      ]
     },
     "execution_count": 24,
     "metadata": {},
     "output_type": "execute_result"
    }
   ],
   "source": [
    "Data.Age.value_counts()"
   ]
  },
  {
   "cell_type": "code",
   "execution_count": 25,
   "metadata": {},
   "outputs": [
    {
     "data": {
      "text/plain": [
       "<matplotlib.axes._subplots.AxesSubplot at 0x1a76daf8fc8>"
      ]
     },
     "execution_count": 25,
     "metadata": {},
     "output_type": "execute_result"
    },
    {
     "data": {
      "image/png": "[encoded data removed]",
      "text/plain": [
       "<Figure size 1872x432 with 1 Axes>"
      ]
     },
     "metadata": {
      "needs_background": "light"
     },
     "output_type": "display_data"
    }
   ],
   "source": [
    "plt.figure(figsize=(26,6))\n",
    "sns.barplot(x='Age',y='Absenteeism time in hours',data=Data)"
   ]
  },
  {
   "cell_type": "markdown",
   "metadata": {},
   "source": [
    "Employees Age varies from 27 to 58,Out of 740 observations(Employees) 117 Employees age are 28,113 are 38 and 78 are 37. But highest aged employees i.e 58 are highest Absenteeism time in work."
   ]
  },
  {
   "cell_type": "code",
   "execution_count": 26,
   "metadata": {},
   "outputs": [
    {
     "data": {
      "text/plain": [
       "222196    36\n",
       "264249    33\n",
       "237656    32\n",
       "343253    29\n",
       "265017    28\n",
       "284853    25\n",
       "308593    24\n",
       "268519    23\n",
       "284031    22\n",
       "244387    22\n",
       "241476    22\n",
       "205917    21\n",
       "251818    21\n",
       "326452    20\n",
       "246288    20\n",
       "230290    20\n",
       "236629    19\n",
       "275089    19\n",
       "239554    19\n",
       "253957    19\n",
       "294217    19\n",
       "306345    18\n",
       "253465    18\n",
       "302585    18\n",
       "265615    18\n",
       "378884    16\n",
       "246074    16\n",
       "377550    16\n",
       "275312    16\n",
       "313532    15\n",
       "261306    15\n",
       "280549    15\n",
       "249797    15\n",
       "239409    13\n",
       "261756    12\n",
       "264604    12\n",
       "330061    11\n",
       "271219     3\n",
       "Name: Work load Average/day , dtype: int64"
      ]
     },
     "execution_count": 26,
     "metadata": {},
     "output_type": "execute_result"
    }
   ],
   "source": [
    "Data['Work load Average/day '].value_counts()"
   ]
  },
  {
   "cell_type": "code",
   "execution_count": 27,
   "metadata": {},
   "outputs": [
    {
     "data": {
      "text/plain": [
       "<matplotlib.axes._subplots.AxesSubplot at 0x1a76dca24c8>"
      ]
     },
     "execution_count": 27,
     "metadata": {},
     "output_type": "execute_result"
    },
    {
     "data": {
      "image/png": "[encoded data removed]",
      "text/plain": [
       "<Figure size 432x1440 with 1 Axes>"
      ]
     },
     "metadata": {
      "needs_background": "light"
     },
     "output_type": "display_data"
    }
   ],
   "source": [
    "plt.figure(figsize=(6,20))\n",
    "sns.barplot(y='Work load Average/day ',x='Absenteeism time in hours',data=Data,orient='h')"
   ]
  },
  {
   "cell_type": "markdown",
   "metadata": {},
   "source": [
    "Employees Work load Average/day 264604 are highest absenteeism time in work followed by 239409 compared to others."
   ]
  },
  {
   "cell_type": "code",
   "execution_count": 28,
   "metadata": {},
   "outputs": [
    {
     "data": {
      "text/plain": [
       "274     81\n",
       "286     81\n",
       "285     81\n",
       "284     81\n",
       "283     81\n",
       "      ... \n",
       "365    100\n",
       "366    100\n",
       "368    100\n",
       "362    100\n",
       "367    100\n",
       "Name: Hit target, Length: 740, dtype: int64"
      ]
     },
     "execution_count": 28,
     "metadata": {},
     "output_type": "execute_result"
    }
   ],
   "source": [
    "Data['Hit target'].sort_values()"
   ]
  },
  {
   "cell_type": "code",
   "execution_count": 29,
   "metadata": {},
   "outputs": [
    {
     "data": {
      "text/plain": [
       "93     105\n",
       "99     102\n",
       "97      89\n",
       "92      79\n",
       "96      75\n",
       "95      75\n",
       "98      66\n",
       "91      45\n",
       "94      34\n",
       "88      28\n",
       "81      19\n",
       "87      12\n",
       "100     11\n",
       "Name: Hit target, dtype: int64"
      ]
     },
     "execution_count": 29,
     "metadata": {},
     "output_type": "execute_result"
    }
   ],
   "source": [
    "Data['Hit target'].value_counts()"
   ]
  },
  {
   "cell_type": "code",
   "execution_count": 30,
   "metadata": {},
   "outputs": [
    {
     "data": {
      "text/plain": [
       "<matplotlib.axes._subplots.AxesSubplot at 0x1a76e09dd48>"
      ]
     },
     "execution_count": 30,
     "metadata": {},
     "output_type": "execute_result"
    },
    {
     "data": {
      "image/png": "[encoded data removed]",
      "text/plain": [
       "<Figure size 1872x432 with 1 Axes>"
      ]
     },
     "metadata": {
      "needs_background": "light"
     },
     "output_type": "display_data"
    }
   ],
   "source": [
    "plt.figure(figsize=(26,6))\n",
    "sns.barplot(x='Hit target',y='Absenteeism time in hours',data=Data)"
   ]
  },
  {
   "cell_type": "markdown",
   "metadata": {},
   "source": [
    "Empoyees have Hit targets varies from 81 to 100,highest hit target are 93 i.e 105 times followed 99 102 times and 97 89 times compared to others but Employee Absenteeism time is highest when Hit target is 81."
   ]
  },
  {
   "cell_type": "code",
   "execution_count": 31,
   "metadata": {},
   "outputs": [
    {
     "data": {
      "text/plain": [
       "0    700\n",
       "1     40\n",
       "Name: Disciplinary failure, dtype: int64"
      ]
     },
     "execution_count": 31,
     "metadata": {},
     "output_type": "execute_result"
    }
   ],
   "source": [
    "Data['Disciplinary failure'].value_counts()"
   ]
  },
  {
   "cell_type": "code",
   "execution_count": 32,
   "metadata": {},
   "outputs": [
    {
     "data": {
      "text/plain": [
       "<matplotlib.axes._subplots.AxesSubplot at 0x1a76e1afb08>"
      ]
     },
     "execution_count": 32,
     "metadata": {},
     "output_type": "execute_result"
    },
    {
     "data": {
      "image/png": "[encoded data removed]",
      "text/plain": [
       "<Figure size 432x288 with 1 Axes>"
      ]
     },
     "metadata": {
      "needs_background": "light"
     },
     "output_type": "display_data"
    }
   ],
   "source": [
    "sns.barplot(x='Disciplinary failure',y='Absenteeism time in hours',data=Data)"
   ]
  },
  {
   "cell_type": "markdown",
   "metadata": {},
   "source": [
    "Employees when Disciplinary failure is yes there is no Absenteeism time and when it is no Employees are absent."
   ]
  },
  {
   "cell_type": "code",
   "execution_count": 33,
   "metadata": {},
   "outputs": [
    {
     "data": {
      "text/plain": [
       "1    611\n",
       "3     79\n",
       "2     46\n",
       "4      4\n",
       "Name: Education, dtype: int64"
      ]
     },
     "execution_count": 33,
     "metadata": {},
     "output_type": "execute_result"
    }
   ],
   "source": [
    "Data['Education'].value_counts()"
   ]
  },
  {
   "cell_type": "code",
   "execution_count": 34,
   "metadata": {},
   "outputs": [
    {
     "data": {
      "text/plain": [
       "<matplotlib.axes._subplots.AxesSubplot at 0x1a76e214548>"
      ]
     },
     "execution_count": 34,
     "metadata": {},
     "output_type": "execute_result"
    },
    {
     "data": {
      "image/png": "[encoded data removed]",
      "text/plain": [
       "<Figure size 432x288 with 1 Axes>"
      ]
     },
     "metadata": {
      "needs_background": "light"
     },
     "output_type": "display_data"
    }
   ],
   "source": [
    "sns.barplot(x='Education',y='Absenteeism time in hours',data=Data)"
   ]
  },
  {
   "cell_type": "markdown",
   "metadata": {},
   "source": [
    "#Education (high school (1), graduate (2), postgraduate (3), master and doctor (4))\n",
    "In the work there are 611 Employess have high school standard Education followed by 79 postgraduates, 46 graduates and 4 master and doctorates.Among them High school Education level Employees are highest Absenteeism time in hours. "
   ]
  },
  {
   "cell_type": "code",
   "execution_count": 35,
   "metadata": {},
   "outputs": [
    {
     "data": {
      "text/plain": [
       "0    298\n",
       "1    229\n",
       "2    156\n",
       "4     42\n",
       "3     15\n",
       "Name: Son, dtype: int64"
      ]
     },
     "execution_count": 35,
     "metadata": {},
     "output_type": "execute_result"
    }
   ],
   "source": [
    "Data.Son.value_counts()"
   ]
  },
  {
   "cell_type": "code",
   "execution_count": 36,
   "metadata": {},
   "outputs": [
    {
     "data": {
      "text/plain": [
       "<matplotlib.axes._subplots.AxesSubplot at 0x1a76dbd8788>"
      ]
     },
     "execution_count": 36,
     "metadata": {},
     "output_type": "execute_result"
    },
    {
     "data": {
      "image/png": "[encoded data removed]",
      "text/plain": [
       "<Figure size 432x288 with 1 Axes>"
      ]
     },
     "metadata": {
      "needs_background": "light"
     },
     "output_type": "display_data"
    }
   ],
   "source": [
    "sns.barplot(x='Son',y='Absenteeism time in hours',data=Data)"
   ]
  },
  {
   "cell_type": "markdown",
   "metadata": {},
   "source": [
    "Out of 740 Employees 298 Employees have no Son followed by 299 with One Son,156 with 2 Sons,42 with 4 Sons and 15 with 3 Sons Among them Employees with 3 Sons Are highest Absenteeism time in work followed by Employees with 2 Sons,4 Sons and One Son.Employees with 0 Son are very less Absenteeism time."
   ]
  },
  {
   "cell_type": "code",
   "execution_count": 37,
   "metadata": {},
   "outputs": [
    {
     "data": {
      "text/plain": [
       "1    420\n",
       "0    320\n",
       "Name: Social drinker, dtype: int64"
      ]
     },
     "execution_count": 37,
     "metadata": {},
     "output_type": "execute_result"
    }
   ],
   "source": [
    "Data['Social drinker'].value_counts()"
   ]
  },
  {
   "cell_type": "code",
   "execution_count": 38,
   "metadata": {},
   "outputs": [
    {
     "data": {
      "text/plain": [
       "<matplotlib.axes._subplots.AxesSubplot at 0x1a76edd9c88>"
      ]
     },
     "execution_count": 38,
     "metadata": {},
     "output_type": "execute_result"
    },
    {
     "data": {
      "image/png": "[encoded data removed]",
      "text/plain": [
       "<Figure size 432x288 with 1 Axes>"
      ]
     },
     "metadata": {
      "needs_background": "light"
     },
     "output_type": "display_data"
    }
   ],
   "source": [
    "sns.barplot(x='Social drinker',y='Absenteeism time in hours',data=Data)"
   ]
  },
  {
   "cell_type": "markdown",
   "metadata": {},
   "source": [
    "420 are Social Drinker and 320 are not.Social Drinkers are take more absenteeism time in hours."
   ]
  },
  {
   "cell_type": "code",
   "execution_count": 39,
   "metadata": {},
   "outputs": [
    {
     "data": {
      "text/plain": [
       "0    686\n",
       "1     54\n",
       "Name: Social smoker, dtype: int64"
      ]
     },
     "execution_count": 39,
     "metadata": {},
     "output_type": "execute_result"
    }
   ],
   "source": [
    "Data['Social smoker'].value_counts()"
   ]
  },
  {
   "cell_type": "code",
   "execution_count": 40,
   "metadata": {},
   "outputs": [
    {
     "data": {
      "text/plain": [
       "<matplotlib.axes._subplots.AxesSubplot at 0x1a76ee38188>"
      ]
     },
     "execution_count": 40,
     "metadata": {},
     "output_type": "execute_result"
    },
    {
     "data": {
      "image/png": "[encoded data removed]",
      "text/plain": [
       "<Figure size 432x288 with 1 Axes>"
      ]
     },
     "metadata": {
      "needs_background": "light"
     },
     "output_type": "display_data"
    }
   ],
   "source": [
    "sns.barplot(x='Social smoker',y='Absenteeism time in hours',data=Data)"
   ]
  },
  {
   "cell_type": "markdown",
   "metadata": {},
   "source": [
    "686 are Social smoker and 54 are not.Social Smokers are take more absenteeism time in hours."
   ]
  },
  {
   "cell_type": "code",
   "execution_count": 41,
   "metadata": {},
   "outputs": [
    {
     "data": {
      "text/plain": [
       "0    460\n",
       "1    138\n",
       "2     96\n",
       "4     32\n",
       "8      8\n",
       "5      6\n",
       "Name: Pet, dtype: int64"
      ]
     },
     "execution_count": 41,
     "metadata": {},
     "output_type": "execute_result"
    }
   ],
   "source": [
    "Data.Pet.value_counts()"
   ]
  },
  {
   "cell_type": "markdown",
   "metadata": {},
   "source": [
    "Social Drinkers are take more absenteeism time in hours."
   ]
  },
  {
   "cell_type": "code",
   "execution_count": 42,
   "metadata": {},
   "outputs": [
    {
     "data": {
      "text/plain": [
       "<matplotlib.axes._subplots.AxesSubplot at 0x1a76eeabd48>"
      ]
     },
     "execution_count": 42,
     "metadata": {},
     "output_type": "execute_result"
    },
    {
     "data": {
      "image/png": "[encoded data removed]",
      "text/plain": [
       "<Figure size 432x288 with 1 Axes>"
      ]
     },
     "metadata": {
      "needs_background": "light"
     },
     "output_type": "display_data"
    }
   ],
   "source": [
    "sns.barplot(x='Pet',y='Absenteeism time in hours',data=Data)"
   ]
  },
  {
   "cell_type": "markdown",
   "metadata": {},
   "source": [
    "Empoyees with 1 Pet are highest Absenteeism time comapred to others."
   ]
  },
  {
   "cell_type": "code",
   "execution_count": 43,
   "metadata": {},
   "outputs": [
    {
     "data": {
      "text/plain": [
       "<matplotlib.axes._subplots.AxesSubplot at 0x1a76ef0a908>"
      ]
     },
     "execution_count": 43,
     "metadata": {},
     "output_type": "execute_result"
    },
    {
     "data": {
      "image/png": "[encoded data removed]",
      "text/plain": [
       "<Figure size 432x288 with 1 Axes>"
      ]
     },
     "metadata": {
      "needs_background": "light"
     },
     "output_type": "display_data"
    }
   ],
   "source": [
    "sns.lineplot(y='Weight',x='Absenteeism time in hours',data=Data)"
   ]
  },
  {
   "cell_type": "code",
   "execution_count": 44,
   "metadata": {},
   "outputs": [
    {
     "data": {
      "text/plain": [
       "<matplotlib.axes._subplots.AxesSubplot at 0x1a76efaaa48>"
      ]
     },
     "execution_count": 44,
     "metadata": {},
     "output_type": "execute_result"
    },
    {
     "data": {
      "image/png": "[encoded data removed]",
      "text/plain": [
       "<Figure size 432x288 with 1 Axes>"
      ]
     },
     "metadata": {
      "needs_background": "light"
     },
     "output_type": "display_data"
    }
   ],
   "source": [
    "sns.lineplot(y='Height',x='Absenteeism time in hours',data=Data)"
   ]
  },
  {
   "cell_type": "code",
   "execution_count": 45,
   "metadata": {},
   "outputs": [
    {
     "data": {
      "text/plain": [
       "<matplotlib.axes._subplots.AxesSubplot at 0x1a76ef63308>"
      ]
     },
     "execution_count": 45,
     "metadata": {},
     "output_type": "execute_result"
    },
    {
     "data": {
      "image/png": "[encoded data removed]",
      "text/plain": [
       "<Figure size 1872x432 with 1 Axes>"
      ]
     },
     "metadata": {
      "needs_background": "light"
     },
     "output_type": "display_data"
    }
   ],
   "source": [
    "plt.figure(figsize=(26,6))\n",
    "sns.barplot(y='Body mass index',x='Absenteeism time in hours',data=Data)"
   ]
  },
  {
   "cell_type": "code",
   "execution_count": 46,
   "metadata": {},
   "outputs": [
    {
     "data": {
      "text/html": [
       "<div>\n",
       "<style scoped>\n",
       "    .dataframe tbody tr th:only-of-type {\n",
       "        vertical-align: middle;\n",
       "    }\n",
       "\n",
       "    .dataframe tbody tr th {\n",
       "        vertical-align: top;\n",
       "    }\n",
       "\n",
       "    .dataframe thead th {\n",
       "        text-align: right;\n",
       "    }\n",
       "</style>\n",
       "<table border=\"1\" class=\"dataframe\">\n",
       "  <thead>\n",
       "    <tr style=\"text-align: right;\">\n",
       "      <th></th>\n",
       "      <th>Reason for absence</th>\n",
       "      <th>Month of absence</th>\n",
       "      <th>Day of the week</th>\n",
       "      <th>Seasons</th>\n",
       "      <th>Transportation expense</th>\n",
       "      <th>Distance from Residence to Work</th>\n",
       "      <th>Service time</th>\n",
       "      <th>Age</th>\n",
       "      <th>Work load Average/day</th>\n",
       "      <th>Hit target</th>\n",
       "      <th>Disciplinary failure</th>\n",
       "      <th>Education</th>\n",
       "      <th>Son</th>\n",
       "      <th>Social drinker</th>\n",
       "      <th>Social smoker</th>\n",
       "      <th>Pet</th>\n",
       "      <th>Weight</th>\n",
       "      <th>Height</th>\n",
       "      <th>Body mass index</th>\n",
       "      <th>Absenteeism time in hours</th>\n",
       "    </tr>\n",
       "  </thead>\n",
       "  <tbody>\n",
       "    <tr>\n",
       "      <td>0</td>\n",
       "      <td>26</td>\n",
       "      <td>7</td>\n",
       "      <td>3</td>\n",
       "      <td>1</td>\n",
       "      <td>289</td>\n",
       "      <td>36</td>\n",
       "      <td>13</td>\n",
       "      <td>33</td>\n",
       "      <td>239554</td>\n",
       "      <td>97</td>\n",
       "      <td>0</td>\n",
       "      <td>1</td>\n",
       "      <td>2</td>\n",
       "      <td>1</td>\n",
       "      <td>0</td>\n",
       "      <td>1</td>\n",
       "      <td>90</td>\n",
       "      <td>172</td>\n",
       "      <td>30</td>\n",
       "      <td>4</td>\n",
       "    </tr>\n",
       "    <tr>\n",
       "      <td>1</td>\n",
       "      <td>0</td>\n",
       "      <td>7</td>\n",
       "      <td>3</td>\n",
       "      <td>1</td>\n",
       "      <td>118</td>\n",
       "      <td>13</td>\n",
       "      <td>18</td>\n",
       "      <td>50</td>\n",
       "      <td>239554</td>\n",
       "      <td>97</td>\n",
       "      <td>1</td>\n",
       "      <td>1</td>\n",
       "      <td>1</td>\n",
       "      <td>1</td>\n",
       "      <td>0</td>\n",
       "      <td>0</td>\n",
       "      <td>98</td>\n",
       "      <td>178</td>\n",
       "      <td>31</td>\n",
       "      <td>0</td>\n",
       "    </tr>\n",
       "    <tr>\n",
       "      <td>2</td>\n",
       "      <td>23</td>\n",
       "      <td>7</td>\n",
       "      <td>4</td>\n",
       "      <td>1</td>\n",
       "      <td>179</td>\n",
       "      <td>51</td>\n",
       "      <td>18</td>\n",
       "      <td>38</td>\n",
       "      <td>239554</td>\n",
       "      <td>97</td>\n",
       "      <td>0</td>\n",
       "      <td>1</td>\n",
       "      <td>0</td>\n",
       "      <td>1</td>\n",
       "      <td>0</td>\n",
       "      <td>0</td>\n",
       "      <td>89</td>\n",
       "      <td>170</td>\n",
       "      <td>31</td>\n",
       "      <td>2</td>\n",
       "    </tr>\n",
       "    <tr>\n",
       "      <td>3</td>\n",
       "      <td>7</td>\n",
       "      <td>7</td>\n",
       "      <td>5</td>\n",
       "      <td>1</td>\n",
       "      <td>279</td>\n",
       "      <td>5</td>\n",
       "      <td>14</td>\n",
       "      <td>39</td>\n",
       "      <td>239554</td>\n",
       "      <td>97</td>\n",
       "      <td>0</td>\n",
       "      <td>1</td>\n",
       "      <td>2</td>\n",
       "      <td>1</td>\n",
       "      <td>1</td>\n",
       "      <td>0</td>\n",
       "      <td>68</td>\n",
       "      <td>168</td>\n",
       "      <td>24</td>\n",
       "      <td>4</td>\n",
       "    </tr>\n",
       "    <tr>\n",
       "      <td>4</td>\n",
       "      <td>23</td>\n",
       "      <td>7</td>\n",
       "      <td>5</td>\n",
       "      <td>1</td>\n",
       "      <td>289</td>\n",
       "      <td>36</td>\n",
       "      <td>13</td>\n",
       "      <td>33</td>\n",
       "      <td>239554</td>\n",
       "      <td>97</td>\n",
       "      <td>0</td>\n",
       "      <td>1</td>\n",
       "      <td>2</td>\n",
       "      <td>1</td>\n",
       "      <td>0</td>\n",
       "      <td>1</td>\n",
       "      <td>90</td>\n",
       "      <td>172</td>\n",
       "      <td>30</td>\n",
       "      <td>2</td>\n",
       "    </tr>\n",
       "    <tr>\n",
       "      <td>...</td>\n",
       "      <td>...</td>\n",
       "      <td>...</td>\n",
       "      <td>...</td>\n",
       "      <td>...</td>\n",
       "      <td>...</td>\n",
       "      <td>...</td>\n",
       "      <td>...</td>\n",
       "      <td>...</td>\n",
       "      <td>...</td>\n",
       "      <td>...</td>\n",
       "      <td>...</td>\n",
       "      <td>...</td>\n",
       "      <td>...</td>\n",
       "      <td>...</td>\n",
       "      <td>...</td>\n",
       "      <td>...</td>\n",
       "      <td>...</td>\n",
       "      <td>...</td>\n",
       "      <td>...</td>\n",
       "      <td>...</td>\n",
       "    </tr>\n",
       "    <tr>\n",
       "      <td>735</td>\n",
       "      <td>14</td>\n",
       "      <td>7</td>\n",
       "      <td>3</td>\n",
       "      <td>1</td>\n",
       "      <td>289</td>\n",
       "      <td>36</td>\n",
       "      <td>13</td>\n",
       "      <td>33</td>\n",
       "      <td>264604</td>\n",
       "      <td>93</td>\n",
       "      <td>0</td>\n",
       "      <td>1</td>\n",
       "      <td>2</td>\n",
       "      <td>1</td>\n",
       "      <td>0</td>\n",
       "      <td>1</td>\n",
       "      <td>90</td>\n",
       "      <td>172</td>\n",
       "      <td>30</td>\n",
       "      <td>8</td>\n",
       "    </tr>\n",
       "    <tr>\n",
       "      <td>736</td>\n",
       "      <td>11</td>\n",
       "      <td>7</td>\n",
       "      <td>3</td>\n",
       "      <td>1</td>\n",
       "      <td>235</td>\n",
       "      <td>11</td>\n",
       "      <td>14</td>\n",
       "      <td>37</td>\n",
       "      <td>264604</td>\n",
       "      <td>93</td>\n",
       "      <td>0</td>\n",
       "      <td>3</td>\n",
       "      <td>1</td>\n",
       "      <td>0</td>\n",
       "      <td>0</td>\n",
       "      <td>1</td>\n",
       "      <td>88</td>\n",
       "      <td>172</td>\n",
       "      <td>29</td>\n",
       "      <td>4</td>\n",
       "    </tr>\n",
       "    <tr>\n",
       "      <td>737</td>\n",
       "      <td>0</td>\n",
       "      <td>0</td>\n",
       "      <td>3</td>\n",
       "      <td>1</td>\n",
       "      <td>118</td>\n",
       "      <td>14</td>\n",
       "      <td>13</td>\n",
       "      <td>40</td>\n",
       "      <td>271219</td>\n",
       "      <td>95</td>\n",
       "      <td>0</td>\n",
       "      <td>1</td>\n",
       "      <td>1</td>\n",
       "      <td>1</td>\n",
       "      <td>0</td>\n",
       "      <td>8</td>\n",
       "      <td>98</td>\n",
       "      <td>170</td>\n",
       "      <td>34</td>\n",
       "      <td>0</td>\n",
       "    </tr>\n",
       "    <tr>\n",
       "      <td>738</td>\n",
       "      <td>0</td>\n",
       "      <td>0</td>\n",
       "      <td>4</td>\n",
       "      <td>2</td>\n",
       "      <td>231</td>\n",
       "      <td>35</td>\n",
       "      <td>14</td>\n",
       "      <td>39</td>\n",
       "      <td>271219</td>\n",
       "      <td>95</td>\n",
       "      <td>0</td>\n",
       "      <td>1</td>\n",
       "      <td>2</td>\n",
       "      <td>1</td>\n",
       "      <td>0</td>\n",
       "      <td>2</td>\n",
       "      <td>100</td>\n",
       "      <td>170</td>\n",
       "      <td>35</td>\n",
       "      <td>0</td>\n",
       "    </tr>\n",
       "    <tr>\n",
       "      <td>739</td>\n",
       "      <td>0</td>\n",
       "      <td>0</td>\n",
       "      <td>6</td>\n",
       "      <td>3</td>\n",
       "      <td>179</td>\n",
       "      <td>45</td>\n",
       "      <td>14</td>\n",
       "      <td>53</td>\n",
       "      <td>271219</td>\n",
       "      <td>95</td>\n",
       "      <td>0</td>\n",
       "      <td>1</td>\n",
       "      <td>1</td>\n",
       "      <td>0</td>\n",
       "      <td>0</td>\n",
       "      <td>1</td>\n",
       "      <td>77</td>\n",
       "      <td>175</td>\n",
       "      <td>25</td>\n",
       "      <td>0</td>\n",
       "    </tr>\n",
       "  </tbody>\n",
       "</table>\n",
       "<p>740 rows × 20 columns</p>\n",
       "</div>"
      ],
      "text/plain": [
       "     Reason for absence  Month of absence  Day of the week  Seasons  \\\n",
       "0                    26                 7                3        1   \n",
       "1                     0                 7                3        1   \n",
       "2                    23                 7                4        1   \n",
       "3                     7                 7                5        1   \n",
       "4                    23                 7                5        1   \n",
       "..                  ...               ...              ...      ...   \n",
       "735                  14                 7                3        1   \n",
       "736                  11                 7                3        1   \n",
       "737                   0                 0                3        1   \n",
       "738                   0                 0                4        2   \n",
       "739                   0                 0                6        3   \n",
       "\n",
       "     Transportation expense  Distance from Residence to Work  Service time  \\\n",
       "0                       289                               36            13   \n",
       "1                       118                               13            18   \n",
       "2                       179                               51            18   \n",
       "3                       279                                5            14   \n",
       "4                       289                               36            13   \n",
       "..                      ...                              ...           ...   \n",
       "735                     289                               36            13   \n",
       "736                     235                               11            14   \n",
       "737                     118                               14            13   \n",
       "738                     231                               35            14   \n",
       "739                     179                               45            14   \n",
       "\n",
       "     Age  Work load Average/day   Hit target  Disciplinary failure  Education  \\\n",
       "0     33                  239554          97                     0          1   \n",
       "1     50                  239554          97                     1          1   \n",
       "2     38                  239554          97                     0          1   \n",
       "3     39                  239554          97                     0          1   \n",
       "4     33                  239554          97                     0          1   \n",
       "..   ...                     ...         ...                   ...        ...   \n",
       "735   33                  264604          93                     0          1   \n",
       "736   37                  264604          93                     0          3   \n",
       "737   40                  271219          95                     0          1   \n",
       "738   39                  271219          95                     0          1   \n",
       "739   53                  271219          95                     0          1   \n",
       "\n",
       "     Son  Social drinker  Social smoker  Pet  Weight  Height  Body mass index  \\\n",
       "0      2               1              0    1      90     172               30   \n",
       "1      1               1              0    0      98     178               31   \n",
       "2      0               1              0    0      89     170               31   \n",
       "3      2               1              1    0      68     168               24   \n",
       "4      2               1              0    1      90     172               30   \n",
       "..   ...             ...            ...  ...     ...     ...              ...   \n",
       "735    2               1              0    1      90     172               30   \n",
       "736    1               0              0    1      88     172               29   \n",
       "737    1               1              0    8      98     170               34   \n",
       "738    2               1              0    2     100     170               35   \n",
       "739    1               0              0    1      77     175               25   \n",
       "\n",
       "     Absenteeism time in hours  \n",
       "0                            4  \n",
       "1                            0  \n",
       "2                            2  \n",
       "3                            4  \n",
       "4                            2  \n",
       "..                         ...  \n",
       "735                          8  \n",
       "736                          4  \n",
       "737                          0  \n",
       "738                          0  \n",
       "739                          0  \n",
       "\n",
       "[740 rows x 20 columns]"
      ]
     },
     "execution_count": 46,
     "metadata": {},
     "output_type": "execute_result"
    }
   ],
   "source": [
    "#Dropping Redundant columns 'ID' as it is not affect the model.\n",
    "Data.drop('ID',axis=1,inplace=True)\n",
    "Data"
   ]
  },
  {
   "cell_type": "markdown",
   "metadata": {},
   "source": [
    "# Checking for Correlation"
   ]
  },
  {
   "cell_type": "code",
   "execution_count": 47,
   "metadata": {},
   "outputs": [
    {
     "data": {
      "text/html": [
       "<div>\n",
       "<style scoped>\n",
       "    .dataframe tbody tr th:only-of-type {\n",
       "        vertical-align: middle;\n",
       "    }\n",
       "\n",
       "    .dataframe tbody tr th {\n",
       "        vertical-align: top;\n",
       "    }\n",
       "\n",
       "    .dataframe thead th {\n",
       "        text-align: right;\n",
       "    }\n",
       "</style>\n",
       "<table border=\"1\" class=\"dataframe\">\n",
       "  <thead>\n",
       "    <tr style=\"text-align: right;\">\n",
       "      <th></th>\n",
       "      <th>Reason for absence</th>\n",
       "      <th>Month of absence</th>\n",
       "      <th>Day of the week</th>\n",
       "      <th>Seasons</th>\n",
       "      <th>Transportation expense</th>\n",
       "      <th>Distance from Residence to Work</th>\n",
       "      <th>Service time</th>\n",
       "      <th>Age</th>\n",
       "      <th>Work load Average/day</th>\n",
       "      <th>Hit target</th>\n",
       "      <th>Disciplinary failure</th>\n",
       "      <th>Education</th>\n",
       "      <th>Son</th>\n",
       "      <th>Social drinker</th>\n",
       "      <th>Social smoker</th>\n",
       "      <th>Pet</th>\n",
       "      <th>Weight</th>\n",
       "      <th>Height</th>\n",
       "      <th>Body mass index</th>\n",
       "      <th>Absenteeism time in hours</th>\n",
       "    </tr>\n",
       "  </thead>\n",
       "  <tbody>\n",
       "    <tr>\n",
       "      <td>Reason for absence</td>\n",
       "      <td>1.000000</td>\n",
       "      <td>-0.083858</td>\n",
       "      <td>0.116319</td>\n",
       "      <td>-0.117925</td>\n",
       "      <td>-0.119381</td>\n",
       "      <td>0.161831</td>\n",
       "      <td>0.048425</td>\n",
       "      <td>-0.078608</td>\n",
       "      <td>-0.123472</td>\n",
       "      <td>0.088943</td>\n",
       "      <td>-0.545054</td>\n",
       "      <td>-0.047357</td>\n",
       "      <td>-0.055364</td>\n",
       "      <td>0.065441</td>\n",
       "      <td>-0.115702</td>\n",
       "      <td>-0.055911</td>\n",
       "      <td>-0.000269</td>\n",
       "      <td>-0.079267</td>\n",
       "      <td>0.037205</td>\n",
       "      <td>-0.173116</td>\n",
       "    </tr>\n",
       "    <tr>\n",
       "      <td>Month of absence</td>\n",
       "      <td>-0.083858</td>\n",
       "      <td>1.000000</td>\n",
       "      <td>-0.006528</td>\n",
       "      <td>0.407770</td>\n",
       "      <td>0.137525</td>\n",
       "      <td>-0.003887</td>\n",
       "      <td>-0.062862</td>\n",
       "      <td>-0.001520</td>\n",
       "      <td>-0.169989</td>\n",
       "      <td>-0.460453</td>\n",
       "      <td>0.107946</td>\n",
       "      <td>-0.066128</td>\n",
       "      <td>0.079031</td>\n",
       "      <td>0.056226</td>\n",
       "      <td>-0.038603</td>\n",
       "      <td>0.047787</td>\n",
       "      <td>0.023278</td>\n",
       "      <td>-0.068942</td>\n",
       "      <td>0.051046</td>\n",
       "      <td>0.024345</td>\n",
       "    </tr>\n",
       "    <tr>\n",
       "      <td>Day of the week</td>\n",
       "      <td>0.116319</td>\n",
       "      <td>-0.006528</td>\n",
       "      <td>1.000000</td>\n",
       "      <td>0.046493</td>\n",
       "      <td>0.033988</td>\n",
       "      <td>0.118026</td>\n",
       "      <td>0.021252</td>\n",
       "      <td>0.004459</td>\n",
       "      <td>0.015646</td>\n",
       "      <td>0.030986</td>\n",
       "      <td>-0.015120</td>\n",
       "      <td>0.058516</td>\n",
       "      <td>0.098079</td>\n",
       "      <td>0.041772</td>\n",
       "      <td>0.013156</td>\n",
       "      <td>-0.028885</td>\n",
       "      <td>-0.128980</td>\n",
       "      <td>-0.082133</td>\n",
       "      <td>-0.103578</td>\n",
       "      <td>-0.124361</td>\n",
       "    </tr>\n",
       "    <tr>\n",
       "      <td>Seasons</td>\n",
       "      <td>-0.117925</td>\n",
       "      <td>0.407770</td>\n",
       "      <td>0.046493</td>\n",
       "      <td>1.000000</td>\n",
       "      <td>0.036995</td>\n",
       "      <td>-0.063108</td>\n",
       "      <td>-0.010904</td>\n",
       "      <td>-0.012089</td>\n",
       "      <td>0.150439</td>\n",
       "      <td>-0.061154</td>\n",
       "      <td>0.151766</td>\n",
       "      <td>-0.002951</td>\n",
       "      <td>0.046950</td>\n",
       "      <td>-0.045982</td>\n",
       "      <td>-0.048671</td>\n",
       "      <td>0.012356</td>\n",
       "      <td>-0.026278</td>\n",
       "      <td>-0.033737</td>\n",
       "      <td>-0.011031</td>\n",
       "      <td>-0.005615</td>\n",
       "    </tr>\n",
       "    <tr>\n",
       "      <td>Transportation expense</td>\n",
       "      <td>-0.119381</td>\n",
       "      <td>0.137525</td>\n",
       "      <td>0.033988</td>\n",
       "      <td>0.036995</td>\n",
       "      <td>1.000000</td>\n",
       "      <td>0.262183</td>\n",
       "      <td>-0.349887</td>\n",
       "      <td>-0.227542</td>\n",
       "      <td>0.005438</td>\n",
       "      <td>-0.080193</td>\n",
       "      <td>0.109222</td>\n",
       "      <td>-0.055065</td>\n",
       "      <td>0.383001</td>\n",
       "      <td>0.145117</td>\n",
       "      <td>0.044356</td>\n",
       "      <td>0.400080</td>\n",
       "      <td>-0.207435</td>\n",
       "      <td>-0.194496</td>\n",
       "      <td>-0.136517</td>\n",
       "      <td>0.027585</td>\n",
       "    </tr>\n",
       "    <tr>\n",
       "      <td>Distance from Residence to Work</td>\n",
       "      <td>0.161831</td>\n",
       "      <td>-0.003887</td>\n",
       "      <td>0.118026</td>\n",
       "      <td>-0.063108</td>\n",
       "      <td>0.262183</td>\n",
       "      <td>1.000000</td>\n",
       "      <td>0.131730</td>\n",
       "      <td>-0.145886</td>\n",
       "      <td>-0.068677</td>\n",
       "      <td>-0.013865</td>\n",
       "      <td>-0.056527</td>\n",
       "      <td>-0.259605</td>\n",
       "      <td>0.054230</td>\n",
       "      <td>0.452196</td>\n",
       "      <td>-0.075369</td>\n",
       "      <td>0.205941</td>\n",
       "      <td>-0.047859</td>\n",
       "      <td>-0.353372</td>\n",
       "      <td>0.113772</td>\n",
       "      <td>-0.088363</td>\n",
       "    </tr>\n",
       "    <tr>\n",
       "      <td>Service time</td>\n",
       "      <td>0.048425</td>\n",
       "      <td>-0.062862</td>\n",
       "      <td>0.021252</td>\n",
       "      <td>-0.010904</td>\n",
       "      <td>-0.349887</td>\n",
       "      <td>0.131730</td>\n",
       "      <td>1.000000</td>\n",
       "      <td>0.670979</td>\n",
       "      <td>-0.000668</td>\n",
       "      <td>-0.007840</td>\n",
       "      <td>-0.000221</td>\n",
       "      <td>-0.213000</td>\n",
       "      <td>-0.047128</td>\n",
       "      <td>0.353141</td>\n",
       "      <td>0.072424</td>\n",
       "      <td>-0.440301</td>\n",
       "      <td>0.455975</td>\n",
       "      <td>-0.053135</td>\n",
       "      <td>0.499718</td>\n",
       "      <td>0.019029</td>\n",
       "    </tr>\n",
       "    <tr>\n",
       "      <td>Age</td>\n",
       "      <td>-0.078608</td>\n",
       "      <td>-0.001520</td>\n",
       "      <td>0.004459</td>\n",
       "      <td>-0.012089</td>\n",
       "      <td>-0.227542</td>\n",
       "      <td>-0.145886</td>\n",
       "      <td>0.670979</td>\n",
       "      <td>1.000000</td>\n",
       "      <td>-0.039425</td>\n",
       "      <td>-0.039224</td>\n",
       "      <td>0.104304</td>\n",
       "      <td>-0.221882</td>\n",
       "      <td>0.056984</td>\n",
       "      <td>0.213183</td>\n",
       "      <td>0.121738</td>\n",
       "      <td>-0.231226</td>\n",
       "      <td>0.418730</td>\n",
       "      <td>-0.062997</td>\n",
       "      <td>0.470688</td>\n",
       "      <td>0.065760</td>\n",
       "    </tr>\n",
       "    <tr>\n",
       "      <td>Work load Average/day</td>\n",
       "      <td>-0.123472</td>\n",
       "      <td>-0.169989</td>\n",
       "      <td>0.015646</td>\n",
       "      <td>0.150439</td>\n",
       "      <td>0.005438</td>\n",
       "      <td>-0.068677</td>\n",
       "      <td>-0.000668</td>\n",
       "      <td>-0.039425</td>\n",
       "      <td>1.000000</td>\n",
       "      <td>-0.089445</td>\n",
       "      <td>0.029026</td>\n",
       "      <td>-0.074960</td>\n",
       "      <td>0.027820</td>\n",
       "      <td>-0.033713</td>\n",
       "      <td>0.030968</td>\n",
       "      <td>0.007114</td>\n",
       "      <td>-0.038522</td>\n",
       "      <td>0.103315</td>\n",
       "      <td>-0.090709</td>\n",
       "      <td>0.024749</td>\n",
       "    </tr>\n",
       "    <tr>\n",
       "      <td>Hit target</td>\n",
       "      <td>0.088943</td>\n",
       "      <td>-0.460453</td>\n",
       "      <td>0.030986</td>\n",
       "      <td>-0.061154</td>\n",
       "      <td>-0.080193</td>\n",
       "      <td>-0.013865</td>\n",
       "      <td>-0.007840</td>\n",
       "      <td>-0.039224</td>\n",
       "      <td>-0.089445</td>\n",
       "      <td>1.000000</td>\n",
       "      <td>-0.147971</td>\n",
       "      <td>0.101062</td>\n",
       "      <td>-0.014091</td>\n",
       "      <td>-0.102480</td>\n",
       "      <td>0.051254</td>\n",
       "      <td>0.007201</td>\n",
       "      <td>-0.044947</td>\n",
       "      <td>0.093267</td>\n",
       "      <td>-0.088939</td>\n",
       "      <td>0.026695</td>\n",
       "    </tr>\n",
       "    <tr>\n",
       "      <td>Disciplinary failure</td>\n",
       "      <td>-0.545054</td>\n",
       "      <td>0.107946</td>\n",
       "      <td>-0.015120</td>\n",
       "      <td>0.151766</td>\n",
       "      <td>0.109222</td>\n",
       "      <td>-0.056527</td>\n",
       "      <td>-0.000221</td>\n",
       "      <td>0.104304</td>\n",
       "      <td>0.029026</td>\n",
       "      <td>-0.147971</td>\n",
       "      <td>1.000000</td>\n",
       "      <td>-0.059298</td>\n",
       "      <td>0.072096</td>\n",
       "      <td>0.051838</td>\n",
       "      <td>0.116748</td>\n",
       "      <td>0.018881</td>\n",
       "      <td>0.072225</td>\n",
       "      <td>-0.010498</td>\n",
       "      <td>0.079428</td>\n",
       "      <td>-0.124248</td>\n",
       "    </tr>\n",
       "    <tr>\n",
       "      <td>Education</td>\n",
       "      <td>-0.047357</td>\n",
       "      <td>-0.066128</td>\n",
       "      <td>0.058516</td>\n",
       "      <td>-0.002951</td>\n",
       "      <td>-0.055065</td>\n",
       "      <td>-0.259605</td>\n",
       "      <td>-0.213000</td>\n",
       "      <td>-0.221882</td>\n",
       "      <td>-0.074960</td>\n",
       "      <td>0.101062</td>\n",
       "      <td>-0.059298</td>\n",
       "      <td>1.000000</td>\n",
       "      <td>-0.188622</td>\n",
       "      <td>-0.420013</td>\n",
       "      <td>0.032727</td>\n",
       "      <td>-0.053554</td>\n",
       "      <td>-0.300574</td>\n",
       "      <td>0.100977</td>\n",
       "      <td>-0.366884</td>\n",
       "      <td>-0.046235</td>\n",
       "    </tr>\n",
       "    <tr>\n",
       "      <td>Son</td>\n",
       "      <td>-0.055364</td>\n",
       "      <td>0.079031</td>\n",
       "      <td>0.098079</td>\n",
       "      <td>0.046950</td>\n",
       "      <td>0.383001</td>\n",
       "      <td>0.054230</td>\n",
       "      <td>-0.047128</td>\n",
       "      <td>0.056984</td>\n",
       "      <td>0.027820</td>\n",
       "      <td>-0.014091</td>\n",
       "      <td>0.072096</td>\n",
       "      <td>-0.188622</td>\n",
       "      <td>1.000000</td>\n",
       "      <td>0.206376</td>\n",
       "      <td>0.156088</td>\n",
       "      <td>0.108917</td>\n",
       "      <td>-0.139552</td>\n",
       "      <td>-0.014208</td>\n",
       "      <td>-0.144150</td>\n",
       "      <td>0.113756</td>\n",
       "    </tr>\n",
       "    <tr>\n",
       "      <td>Social drinker</td>\n",
       "      <td>0.065441</td>\n",
       "      <td>0.056226</td>\n",
       "      <td>0.041772</td>\n",
       "      <td>-0.045982</td>\n",
       "      <td>0.145117</td>\n",
       "      <td>0.452196</td>\n",
       "      <td>0.353141</td>\n",
       "      <td>0.213183</td>\n",
       "      <td>-0.033713</td>\n",
       "      <td>-0.102480</td>\n",
       "      <td>0.051838</td>\n",
       "      <td>-0.420013</td>\n",
       "      <td>0.206376</td>\n",
       "      <td>1.000000</td>\n",
       "      <td>-0.111678</td>\n",
       "      <td>-0.122780</td>\n",
       "      <td>0.378664</td>\n",
       "      <td>0.169951</td>\n",
       "      <td>0.323978</td>\n",
       "      <td>0.065067</td>\n",
       "    </tr>\n",
       "    <tr>\n",
       "      <td>Social smoker</td>\n",
       "      <td>-0.115702</td>\n",
       "      <td>-0.038603</td>\n",
       "      <td>0.013156</td>\n",
       "      <td>-0.048671</td>\n",
       "      <td>0.044356</td>\n",
       "      <td>-0.075369</td>\n",
       "      <td>0.072424</td>\n",
       "      <td>0.121738</td>\n",
       "      <td>0.030968</td>\n",
       "      <td>0.051254</td>\n",
       "      <td>0.116748</td>\n",
       "      <td>0.032727</td>\n",
       "      <td>0.156088</td>\n",
       "      <td>-0.111678</td>\n",
       "      <td>1.000000</td>\n",
       "      <td>0.105379</td>\n",
       "      <td>-0.198511</td>\n",
       "      <td>0.003271</td>\n",
       "      <td>-0.196006</td>\n",
       "      <td>-0.008936</td>\n",
       "    </tr>\n",
       "    <tr>\n",
       "      <td>Pet</td>\n",
       "      <td>-0.055911</td>\n",
       "      <td>0.047787</td>\n",
       "      <td>-0.028885</td>\n",
       "      <td>0.012356</td>\n",
       "      <td>0.400080</td>\n",
       "      <td>0.205941</td>\n",
       "      <td>-0.440301</td>\n",
       "      <td>-0.231226</td>\n",
       "      <td>0.007114</td>\n",
       "      <td>0.007201</td>\n",
       "      <td>0.018881</td>\n",
       "      <td>-0.053554</td>\n",
       "      <td>0.108917</td>\n",
       "      <td>-0.122780</td>\n",
       "      <td>0.105379</td>\n",
       "      <td>1.000000</td>\n",
       "      <td>-0.103770</td>\n",
       "      <td>-0.103143</td>\n",
       "      <td>-0.076103</td>\n",
       "      <td>-0.028277</td>\n",
       "    </tr>\n",
       "    <tr>\n",
       "      <td>Weight</td>\n",
       "      <td>-0.000269</td>\n",
       "      <td>0.023278</td>\n",
       "      <td>-0.128980</td>\n",
       "      <td>-0.026278</td>\n",
       "      <td>-0.207435</td>\n",
       "      <td>-0.047859</td>\n",
       "      <td>0.455975</td>\n",
       "      <td>0.418730</td>\n",
       "      <td>-0.038522</td>\n",
       "      <td>-0.044947</td>\n",
       "      <td>0.072225</td>\n",
       "      <td>-0.300574</td>\n",
       "      <td>-0.139552</td>\n",
       "      <td>0.378664</td>\n",
       "      <td>-0.198511</td>\n",
       "      <td>-0.103770</td>\n",
       "      <td>1.000000</td>\n",
       "      <td>0.306802</td>\n",
       "      <td>0.904117</td>\n",
       "      <td>0.015789</td>\n",
       "    </tr>\n",
       "    <tr>\n",
       "      <td>Height</td>\n",
       "      <td>-0.079267</td>\n",
       "      <td>-0.068942</td>\n",
       "      <td>-0.082133</td>\n",
       "      <td>-0.033737</td>\n",
       "      <td>-0.194496</td>\n",
       "      <td>-0.353372</td>\n",
       "      <td>-0.053135</td>\n",
       "      <td>-0.062997</td>\n",
       "      <td>0.103315</td>\n",
       "      <td>0.093267</td>\n",
       "      <td>-0.010498</td>\n",
       "      <td>0.100977</td>\n",
       "      <td>-0.014208</td>\n",
       "      <td>0.169951</td>\n",
       "      <td>0.003271</td>\n",
       "      <td>-0.103143</td>\n",
       "      <td>0.306802</td>\n",
       "      <td>1.000000</td>\n",
       "      <td>-0.121049</td>\n",
       "      <td>0.144420</td>\n",
       "    </tr>\n",
       "    <tr>\n",
       "      <td>Body mass index</td>\n",
       "      <td>0.037205</td>\n",
       "      <td>0.051046</td>\n",
       "      <td>-0.103578</td>\n",
       "      <td>-0.011031</td>\n",
       "      <td>-0.136517</td>\n",
       "      <td>0.113772</td>\n",
       "      <td>0.499718</td>\n",
       "      <td>0.470688</td>\n",
       "      <td>-0.090709</td>\n",
       "      <td>-0.088939</td>\n",
       "      <td>0.079428</td>\n",
       "      <td>-0.366884</td>\n",
       "      <td>-0.144150</td>\n",
       "      <td>0.323978</td>\n",
       "      <td>-0.196006</td>\n",
       "      <td>-0.076103</td>\n",
       "      <td>0.904117</td>\n",
       "      <td>-0.121049</td>\n",
       "      <td>1.000000</td>\n",
       "      <td>-0.049719</td>\n",
       "    </tr>\n",
       "    <tr>\n",
       "      <td>Absenteeism time in hours</td>\n",
       "      <td>-0.173116</td>\n",
       "      <td>0.024345</td>\n",
       "      <td>-0.124361</td>\n",
       "      <td>-0.005615</td>\n",
       "      <td>0.027585</td>\n",
       "      <td>-0.088363</td>\n",
       "      <td>0.019029</td>\n",
       "      <td>0.065760</td>\n",
       "      <td>0.024749</td>\n",
       "      <td>0.026695</td>\n",
       "      <td>-0.124248</td>\n",
       "      <td>-0.046235</td>\n",
       "      <td>0.113756</td>\n",
       "      <td>0.065067</td>\n",
       "      <td>-0.008936</td>\n",
       "      <td>-0.028277</td>\n",
       "      <td>0.015789</td>\n",
       "      <td>0.144420</td>\n",
       "      <td>-0.049719</td>\n",
       "      <td>1.000000</td>\n",
       "    </tr>\n",
       "  </tbody>\n",
       "</table>\n",
       "</div>"
      ],
      "text/plain": [
       "                                 Reason for absence  Month of absence  \\\n",
       "Reason for absence                         1.000000         -0.083858   \n",
       "Month of absence                          -0.083858          1.000000   \n",
       "Day of the week                            0.116319         -0.006528   \n",
       "Seasons                                   -0.117925          0.407770   \n",
       "Transportation expense                    -0.119381          0.137525   \n",
       "Distance from Residence to Work            0.161831         -0.003887   \n",
       "Service time                               0.048425         -0.062862   \n",
       "Age                                       -0.078608         -0.001520   \n",
       "Work load Average/day                     -0.123472         -0.169989   \n",
       "Hit target                                 0.088943         -0.460453   \n",
       "Disciplinary failure                      -0.545054          0.107946   \n",
       "Education                                 -0.047357         -0.066128   \n",
       "Son                                       -0.055364          0.079031   \n",
       "Social drinker                             0.065441          0.056226   \n",
       "Social smoker                             -0.115702         -0.038603   \n",
       "Pet                                       -0.055911          0.047787   \n",
       "Weight                                    -0.000269          0.023278   \n",
       "Height                                    -0.079267         -0.068942   \n",
       "Body mass index                            0.037205          0.051046   \n",
       "Absenteeism time in hours                 -0.173116          0.024345   \n",
       "\n",
       "                                 Day of the week   Seasons  \\\n",
       "Reason for absence                      0.116319 -0.117925   \n",
       "Month of absence                       -0.006528  0.407770   \n",
       "Day of the week                         1.000000  0.046493   \n",
       "Seasons                                 0.046493  1.000000   \n",
       "Transportation expense                  0.033988  0.036995   \n",
       "Distance from Residence to Work         0.118026 -0.063108   \n",
       "Service time                            0.021252 -0.010904   \n",
       "Age                                     0.004459 -0.012089   \n",
       "Work load Average/day                   0.015646  0.150439   \n",
       "Hit target                              0.030986 -0.061154   \n",
       "Disciplinary failure                   -0.015120  0.151766   \n",
       "Education                               0.058516 -0.002951   \n",
       "Son                                     0.098079  0.046950   \n",
       "Social drinker                          0.041772 -0.045982   \n",
       "Social smoker                           0.013156 -0.048671   \n",
       "Pet                                    -0.028885  0.012356   \n",
       "Weight                                 -0.128980 -0.026278   \n",
       "Height                                 -0.082133 -0.033737   \n",
       "Body mass index                        -0.103578 -0.011031   \n",
       "Absenteeism time in hours              -0.124361 -0.005615   \n",
       "\n",
       "                                 Transportation expense  \\\n",
       "Reason for absence                            -0.119381   \n",
       "Month of absence                               0.137525   \n",
       "Day of the week                                0.033988   \n",
       "Seasons                                        0.036995   \n",
       "Transportation expense                         1.000000   \n",
       "Distance from Residence to Work                0.262183   \n",
       "Service time                                  -0.349887   \n",
       "Age                                           -0.227542   \n",
       "Work load Average/day                          0.005438   \n",
       "Hit target                                    -0.080193   \n",
       "Disciplinary failure                           0.109222   \n",
       "Education                                     -0.055065   \n",
       "Son                                            0.383001   \n",
       "Social drinker                                 0.145117   \n",
       "Social smoker                                  0.044356   \n",
       "Pet                                            0.400080   \n",
       "Weight                                        -0.207435   \n",
       "Height                                        -0.194496   \n",
       "Body mass index                               -0.136517   \n",
       "Absenteeism time in hours                      0.027585   \n",
       "\n",
       "                                 Distance from Residence to Work  \\\n",
       "Reason for absence                                      0.161831   \n",
       "Month of absence                                       -0.003887   \n",
       "Day of the week                                         0.118026   \n",
       "Seasons                                                -0.063108   \n",
       "Transportation expense                                  0.262183   \n",
       "Distance from Residence to Work                         1.000000   \n",
       "Service time                                            0.131730   \n",
       "Age                                                    -0.145886   \n",
       "Work load Average/day                                  -0.068677   \n",
       "Hit target                                             -0.013865   \n",
       "Disciplinary failure                                   -0.056527   \n",
       "Education                                              -0.259605   \n",
       "Son                                                     0.054230   \n",
       "Social drinker                                          0.452196   \n",
       "Social smoker                                          -0.075369   \n",
       "Pet                                                     0.205941   \n",
       "Weight                                                 -0.047859   \n",
       "Height                                                 -0.353372   \n",
       "Body mass index                                         0.113772   \n",
       "Absenteeism time in hours                              -0.088363   \n",
       "\n",
       "                                 Service time       Age  \\\n",
       "Reason for absence                   0.048425 -0.078608   \n",
       "Month of absence                    -0.062862 -0.001520   \n",
       "Day of the week                      0.021252  0.004459   \n",
       "Seasons                             -0.010904 -0.012089   \n",
       "Transportation expense              -0.349887 -0.227542   \n",
       "Distance from Residence to Work      0.131730 -0.145886   \n",
       "Service time                         1.000000  0.670979   \n",
       "Age                                  0.670979  1.000000   \n",
       "Work load Average/day               -0.000668 -0.039425   \n",
       "Hit target                          -0.007840 -0.039224   \n",
       "Disciplinary failure                -0.000221  0.104304   \n",
       "Education                           -0.213000 -0.221882   \n",
       "Son                                 -0.047128  0.056984   \n",
       "Social drinker                       0.353141  0.213183   \n",
       "Social smoker                        0.072424  0.121738   \n",
       "Pet                                 -0.440301 -0.231226   \n",
       "Weight                               0.455975  0.418730   \n",
       "Height                              -0.053135 -0.062997   \n",
       "Body mass index                      0.499718  0.470688   \n",
       "Absenteeism time in hours            0.019029  0.065760   \n",
       "\n",
       "                                 Work load Average/day   Hit target  \\\n",
       "Reason for absence                            -0.123472    0.088943   \n",
       "Month of absence                              -0.169989   -0.460453   \n",
       "Day of the week                                0.015646    0.030986   \n",
       "Seasons                                        0.150439   -0.061154   \n",
       "Transportation expense                         0.005438   -0.080193   \n",
       "Distance from Residence to Work               -0.068677   -0.013865   \n",
       "Service time                                  -0.000668   -0.007840   \n",
       "Age                                           -0.039425   -0.039224   \n",
       "Work load Average/day                          1.000000   -0.089445   \n",
       "Hit target                                    -0.089445    1.000000   \n",
       "Disciplinary failure                           0.029026   -0.147971   \n",
       "Education                                     -0.074960    0.101062   \n",
       "Son                                            0.027820   -0.014091   \n",
       "Social drinker                                -0.033713   -0.102480   \n",
       "Social smoker                                  0.030968    0.051254   \n",
       "Pet                                            0.007114    0.007201   \n",
       "Weight                                        -0.038522   -0.044947   \n",
       "Height                                         0.103315    0.093267   \n",
       "Body mass index                               -0.090709   -0.088939   \n",
       "Absenteeism time in hours                      0.024749    0.026695   \n",
       "\n",
       "                                 Disciplinary failure  Education       Son  \\\n",
       "Reason for absence                          -0.545054  -0.047357 -0.055364   \n",
       "Month of absence                             0.107946  -0.066128  0.079031   \n",
       "Day of the week                             -0.015120   0.058516  0.098079   \n",
       "Seasons                                      0.151766  -0.002951  0.046950   \n",
       "Transportation expense                       0.109222  -0.055065  0.383001   \n",
       "Distance from Residence to Work             -0.056527  -0.259605  0.054230   \n",
       "Service time                                -0.000221  -0.213000 -0.047128   \n",
       "Age                                          0.104304  -0.221882  0.056984   \n",
       "Work load Average/day                        0.029026  -0.074960  0.027820   \n",
       "Hit target                                  -0.147971   0.101062 -0.014091   \n",
       "Disciplinary failure                         1.000000  -0.059298  0.072096   \n",
       "Education                                   -0.059298   1.000000 -0.188622   \n",
       "Son                                          0.072096  -0.188622  1.000000   \n",
       "Social drinker                               0.051838  -0.420013  0.206376   \n",
       "Social smoker                                0.116748   0.032727  0.156088   \n",
       "Pet                                          0.018881  -0.053554  0.108917   \n",
       "Weight                                       0.072225  -0.300574 -0.139552   \n",
       "Height                                      -0.010498   0.100977 -0.014208   \n",
       "Body mass index                              0.079428  -0.366884 -0.144150   \n",
       "Absenteeism time in hours                   -0.124248  -0.046235  0.113756   \n",
       "\n",
       "                                 Social drinker  Social smoker       Pet  \\\n",
       "Reason for absence                     0.065441      -0.115702 -0.055911   \n",
       "Month of absence                       0.056226      -0.038603  0.047787   \n",
       "Day of the week                        0.041772       0.013156 -0.028885   \n",
       "Seasons                               -0.045982      -0.048671  0.012356   \n",
       "Transportation expense                 0.145117       0.044356  0.400080   \n",
       "Distance from Residence to Work        0.452196      -0.075369  0.205941   \n",
       "Service time                           0.353141       0.072424 -0.440301   \n",
       "Age                                    0.213183       0.121738 -0.231226   \n",
       "Work load Average/day                 -0.033713       0.030968  0.007114   \n",
       "Hit target                            -0.102480       0.051254  0.007201   \n",
       "Disciplinary failure                   0.051838       0.116748  0.018881   \n",
       "Education                             -0.420013       0.032727 -0.053554   \n",
       "Son                                    0.206376       0.156088  0.108917   \n",
       "Social drinker                         1.000000      -0.111678 -0.122780   \n",
       "Social smoker                         -0.111678       1.000000  0.105379   \n",
       "Pet                                   -0.122780       0.105379  1.000000   \n",
       "Weight                                 0.378664      -0.198511 -0.103770   \n",
       "Height                                 0.169951       0.003271 -0.103143   \n",
       "Body mass index                        0.323978      -0.196006 -0.076103   \n",
       "Absenteeism time in hours              0.065067      -0.008936 -0.028277   \n",
       "\n",
       "                                   Weight    Height  Body mass index  \\\n",
       "Reason for absence              -0.000269 -0.079267         0.037205   \n",
       "Month of absence                 0.023278 -0.068942         0.051046   \n",
       "Day of the week                 -0.128980 -0.082133        -0.103578   \n",
       "Seasons                         -0.026278 -0.033737        -0.011031   \n",
       "Transportation expense          -0.207435 -0.194496        -0.136517   \n",
       "Distance from Residence to Work -0.047859 -0.353372         0.113772   \n",
       "Service time                     0.455975 -0.053135         0.499718   \n",
       "Age                              0.418730 -0.062997         0.470688   \n",
       "Work load Average/day           -0.038522  0.103315        -0.090709   \n",
       "Hit target                      -0.044947  0.093267        -0.088939   \n",
       "Disciplinary failure             0.072225 -0.010498         0.079428   \n",
       "Education                       -0.300574  0.100977        -0.366884   \n",
       "Son                             -0.139552 -0.014208        -0.144150   \n",
       "Social drinker                   0.378664  0.169951         0.323978   \n",
       "Social smoker                   -0.198511  0.003271        -0.196006   \n",
       "Pet                             -0.103770 -0.103143        -0.076103   \n",
       "Weight                           1.000000  0.306802         0.904117   \n",
       "Height                           0.306802  1.000000        -0.121049   \n",
       "Body mass index                  0.904117 -0.121049         1.000000   \n",
       "Absenteeism time in hours        0.015789  0.144420        -0.049719   \n",
       "\n",
       "                                 Absenteeism time in hours  \n",
       "Reason for absence                               -0.173116  \n",
       "Month of absence                                  0.024345  \n",
       "Day of the week                                  -0.124361  \n",
       "Seasons                                          -0.005615  \n",
       "Transportation expense                            0.027585  \n",
       "Distance from Residence to Work                  -0.088363  \n",
       "Service time                                      0.019029  \n",
       "Age                                               0.065760  \n",
       "Work load Average/day                             0.024749  \n",
       "Hit target                                        0.026695  \n",
       "Disciplinary failure                             -0.124248  \n",
       "Education                                        -0.046235  \n",
       "Son                                               0.113756  \n",
       "Social drinker                                    0.065067  \n",
       "Social smoker                                    -0.008936  \n",
       "Pet                                              -0.028277  \n",
       "Weight                                            0.015789  \n",
       "Height                                            0.144420  \n",
       "Body mass index                                  -0.049719  \n",
       "Absenteeism time in hours                         1.000000  "
      ]
     },
     "execution_count": 47,
     "metadata": {},
     "output_type": "execute_result"
    }
   ],
   "source": [
    "cor=Data.corr()\n",
    "cor"
   ]
  },
  {
   "cell_type": "code",
   "execution_count": 48,
   "metadata": {},
   "outputs": [
    {
     "data": {
      "text/plain": [
       "<matplotlib.axes._subplots.AxesSubplot at 0x1a76f429788>"
      ]
     },
     "execution_count": 48,
     "metadata": {},
     "output_type": "execute_result"
    },
    {
     "data": {
      "image/png": "[encoded data removed]",
      "text/plain": [
       "<Figure size 3600x3600 with 2 Axes>"
      ]
     },
     "metadata": {
      "needs_background": "light"
     },
     "output_type": "display_data"
    }
   ],
   "source": [
    "plt.figure(figsize=(50,50))\n",
    "sns.heatmap(cor,annot=True)"
   ]
  },
  {
   "cell_type": "markdown",
   "metadata": {},
   "source": [
    "All the correlations are good but Disciplinary failure, Hit target, Service time, Height,Pet are Highly negatively Correlated with Reason for absence, Month of absence, Transportation expense,Distance from Residence to Work and Service time respectively.Social Drinker,Weight and Body mass index are highly negatively correlated with Education."
   ]
  },
  {
   "cell_type": "markdown",
   "metadata": {},
   "source": [
    "# Checking for Outliers"
   ]
  },
  {
   "cell_type": "code",
   "execution_count": 49,
   "metadata": {},
   "outputs": [
    {
     "data": {
      "image/png": "[encoded data removed]",
      "text/plain": [
       "<Figure size 720x3600 with 20 Axes>"
      ]
     },
     "metadata": {
      "needs_background": "light"
     },
     "output_type": "display_data"
    }
   ],
   "source": [
    "collist=Data.columns\n",
    "cols=10\n",
    "rows=10\n",
    "plt.figure(figsize=(cols,5*cols))\n",
    "for i in range(0,len(collist)):\n",
    "    plt.subplot(rows,cols,i+1)\n",
    "    sns.boxplot(Data[collist[i]],color='green',orient='v')"
   ]
  },
  {
   "cell_type": "markdown",
   "metadata": {},
   "source": [
    "some Outliers are present in Pet & Absenteeism time in hours lets remove them."
   ]
  },
  {
   "cell_type": "code",
   "execution_count": 50,
   "metadata": {},
   "outputs": [
    {
     "data": {
      "text/plain": [
       "array([[0.80493838, 0.19676258, 0.64394734, ..., 0.01904601, 0.77593223,\n",
       "        0.21951111],\n",
       "       [2.28012426, 0.19676258, 0.64394734, ..., 0.97582783, 1.00943766,\n",
       "        0.51976661],\n",
       "       [0.44896961, 0.19676258, 0.0599242 , ..., 0.35067062, 1.00943766,\n",
       "        0.36963886],\n",
       "       ...,\n",
       "       [2.28012426, 1.84169773, 0.64394734, ..., 0.35067062, 1.70995395,\n",
       "        0.51976661],\n",
       "       [2.28012426, 1.84169773, 0.0599242 , ..., 0.35067062, 1.94345938,\n",
       "        0.51976661],\n",
       "       [2.28012426, 1.84169773, 1.46766727, ..., 0.47839091, 0.39159492,\n",
       "        0.51976661]])"
      ]
     },
     "execution_count": 50,
     "metadata": {},
     "output_type": "execute_result"
    }
   ],
   "source": [
    "from scipy.stats import zscore\n",
    "z=np.abs(zscore(Data))\n",
    "z"
   ]
  },
  {
   "cell_type": "code",
   "execution_count": 51,
   "metadata": {},
   "outputs": [
    {
     "data": {
      "text/html": [
       "<div>\n",
       "<style scoped>\n",
       "    .dataframe tbody tr th:only-of-type {\n",
       "        vertical-align: middle;\n",
       "    }\n",
       "\n",
       "    .dataframe tbody tr th {\n",
       "        vertical-align: top;\n",
       "    }\n",
       "\n",
       "    .dataframe thead th {\n",
       "        text-align: right;\n",
       "    }\n",
       "</style>\n",
       "<table border=\"1\" class=\"dataframe\">\n",
       "  <thead>\n",
       "    <tr style=\"text-align: right;\">\n",
       "      <th></th>\n",
       "      <th>Reason for absence</th>\n",
       "      <th>Month of absence</th>\n",
       "      <th>Day of the week</th>\n",
       "      <th>Seasons</th>\n",
       "      <th>Transportation expense</th>\n",
       "      <th>Distance from Residence to Work</th>\n",
       "      <th>Service time</th>\n",
       "      <th>Age</th>\n",
       "      <th>Work load Average/day</th>\n",
       "      <th>Hit target</th>\n",
       "      <th>Disciplinary failure</th>\n",
       "      <th>Education</th>\n",
       "      <th>Son</th>\n",
       "      <th>Social drinker</th>\n",
       "      <th>Social smoker</th>\n",
       "      <th>Pet</th>\n",
       "      <th>Weight</th>\n",
       "      <th>Height</th>\n",
       "      <th>Body mass index</th>\n",
       "      <th>Absenteeism time in hours</th>\n",
       "    </tr>\n",
       "  </thead>\n",
       "  <tbody>\n",
       "    <tr>\n",
       "      <td>0</td>\n",
       "      <td>26</td>\n",
       "      <td>7</td>\n",
       "      <td>3</td>\n",
       "      <td>1</td>\n",
       "      <td>289</td>\n",
       "      <td>36</td>\n",
       "      <td>13</td>\n",
       "      <td>33</td>\n",
       "      <td>239554</td>\n",
       "      <td>97</td>\n",
       "      <td>0</td>\n",
       "      <td>1</td>\n",
       "      <td>2</td>\n",
       "      <td>1</td>\n",
       "      <td>0</td>\n",
       "      <td>1</td>\n",
       "      <td>90</td>\n",
       "      <td>172</td>\n",
       "      <td>30</td>\n",
       "      <td>4</td>\n",
       "    </tr>\n",
       "    <tr>\n",
       "      <td>2</td>\n",
       "      <td>23</td>\n",
       "      <td>7</td>\n",
       "      <td>4</td>\n",
       "      <td>1</td>\n",
       "      <td>179</td>\n",
       "      <td>51</td>\n",
       "      <td>18</td>\n",
       "      <td>38</td>\n",
       "      <td>239554</td>\n",
       "      <td>97</td>\n",
       "      <td>0</td>\n",
       "      <td>1</td>\n",
       "      <td>0</td>\n",
       "      <td>1</td>\n",
       "      <td>0</td>\n",
       "      <td>0</td>\n",
       "      <td>89</td>\n",
       "      <td>170</td>\n",
       "      <td>31</td>\n",
       "      <td>2</td>\n",
       "    </tr>\n",
       "    <tr>\n",
       "      <td>4</td>\n",
       "      <td>23</td>\n",
       "      <td>7</td>\n",
       "      <td>5</td>\n",
       "      <td>1</td>\n",
       "      <td>289</td>\n",
       "      <td>36</td>\n",
       "      <td>13</td>\n",
       "      <td>33</td>\n",
       "      <td>239554</td>\n",
       "      <td>97</td>\n",
       "      <td>0</td>\n",
       "      <td>1</td>\n",
       "      <td>2</td>\n",
       "      <td>1</td>\n",
       "      <td>0</td>\n",
       "      <td>1</td>\n",
       "      <td>90</td>\n",
       "      <td>172</td>\n",
       "      <td>30</td>\n",
       "      <td>2</td>\n",
       "    </tr>\n",
       "    <tr>\n",
       "      <td>5</td>\n",
       "      <td>23</td>\n",
       "      <td>7</td>\n",
       "      <td>6</td>\n",
       "      <td>1</td>\n",
       "      <td>179</td>\n",
       "      <td>51</td>\n",
       "      <td>18</td>\n",
       "      <td>38</td>\n",
       "      <td>239554</td>\n",
       "      <td>97</td>\n",
       "      <td>0</td>\n",
       "      <td>1</td>\n",
       "      <td>0</td>\n",
       "      <td>1</td>\n",
       "      <td>0</td>\n",
       "      <td>0</td>\n",
       "      <td>89</td>\n",
       "      <td>170</td>\n",
       "      <td>31</td>\n",
       "      <td>2</td>\n",
       "    </tr>\n",
       "    <tr>\n",
       "      <td>6</td>\n",
       "      <td>22</td>\n",
       "      <td>7</td>\n",
       "      <td>6</td>\n",
       "      <td>1</td>\n",
       "      <td>361</td>\n",
       "      <td>52</td>\n",
       "      <td>3</td>\n",
       "      <td>28</td>\n",
       "      <td>239554</td>\n",
       "      <td>97</td>\n",
       "      <td>0</td>\n",
       "      <td>1</td>\n",
       "      <td>1</td>\n",
       "      <td>1</td>\n",
       "      <td>0</td>\n",
       "      <td>4</td>\n",
       "      <td>80</td>\n",
       "      <td>172</td>\n",
       "      <td>27</td>\n",
       "      <td>8</td>\n",
       "    </tr>\n",
       "    <tr>\n",
       "      <td>...</td>\n",
       "      <td>...</td>\n",
       "      <td>...</td>\n",
       "      <td>...</td>\n",
       "      <td>...</td>\n",
       "      <td>...</td>\n",
       "      <td>...</td>\n",
       "      <td>...</td>\n",
       "      <td>...</td>\n",
       "      <td>...</td>\n",
       "      <td>...</td>\n",
       "      <td>...</td>\n",
       "      <td>...</td>\n",
       "      <td>...</td>\n",
       "      <td>...</td>\n",
       "      <td>...</td>\n",
       "      <td>...</td>\n",
       "      <td>...</td>\n",
       "      <td>...</td>\n",
       "      <td>...</td>\n",
       "      <td>...</td>\n",
       "    </tr>\n",
       "    <tr>\n",
       "      <td>733</td>\n",
       "      <td>22</td>\n",
       "      <td>7</td>\n",
       "      <td>4</td>\n",
       "      <td>1</td>\n",
       "      <td>225</td>\n",
       "      <td>26</td>\n",
       "      <td>9</td>\n",
       "      <td>28</td>\n",
       "      <td>264604</td>\n",
       "      <td>93</td>\n",
       "      <td>0</td>\n",
       "      <td>1</td>\n",
       "      <td>1</td>\n",
       "      <td>0</td>\n",
       "      <td>0</td>\n",
       "      <td>2</td>\n",
       "      <td>69</td>\n",
       "      <td>169</td>\n",
       "      <td>24</td>\n",
       "      <td>8</td>\n",
       "    </tr>\n",
       "    <tr>\n",
       "      <td>735</td>\n",
       "      <td>14</td>\n",
       "      <td>7</td>\n",
       "      <td>3</td>\n",
       "      <td>1</td>\n",
       "      <td>289</td>\n",
       "      <td>36</td>\n",
       "      <td>13</td>\n",
       "      <td>33</td>\n",
       "      <td>264604</td>\n",
       "      <td>93</td>\n",
       "      <td>0</td>\n",
       "      <td>1</td>\n",
       "      <td>2</td>\n",
       "      <td>1</td>\n",
       "      <td>0</td>\n",
       "      <td>1</td>\n",
       "      <td>90</td>\n",
       "      <td>172</td>\n",
       "      <td>30</td>\n",
       "      <td>8</td>\n",
       "    </tr>\n",
       "    <tr>\n",
       "      <td>736</td>\n",
       "      <td>11</td>\n",
       "      <td>7</td>\n",
       "      <td>3</td>\n",
       "      <td>1</td>\n",
       "      <td>235</td>\n",
       "      <td>11</td>\n",
       "      <td>14</td>\n",
       "      <td>37</td>\n",
       "      <td>264604</td>\n",
       "      <td>93</td>\n",
       "      <td>0</td>\n",
       "      <td>3</td>\n",
       "      <td>1</td>\n",
       "      <td>0</td>\n",
       "      <td>0</td>\n",
       "      <td>1</td>\n",
       "      <td>88</td>\n",
       "      <td>172</td>\n",
       "      <td>29</td>\n",
       "      <td>4</td>\n",
       "    </tr>\n",
       "    <tr>\n",
       "      <td>738</td>\n",
       "      <td>0</td>\n",
       "      <td>0</td>\n",
       "      <td>4</td>\n",
       "      <td>2</td>\n",
       "      <td>231</td>\n",
       "      <td>35</td>\n",
       "      <td>14</td>\n",
       "      <td>39</td>\n",
       "      <td>271219</td>\n",
       "      <td>95</td>\n",
       "      <td>0</td>\n",
       "      <td>1</td>\n",
       "      <td>2</td>\n",
       "      <td>1</td>\n",
       "      <td>0</td>\n",
       "      <td>2</td>\n",
       "      <td>100</td>\n",
       "      <td>170</td>\n",
       "      <td>35</td>\n",
       "      <td>0</td>\n",
       "    </tr>\n",
       "    <tr>\n",
       "      <td>739</td>\n",
       "      <td>0</td>\n",
       "      <td>0</td>\n",
       "      <td>6</td>\n",
       "      <td>3</td>\n",
       "      <td>179</td>\n",
       "      <td>45</td>\n",
       "      <td>14</td>\n",
       "      <td>53</td>\n",
       "      <td>271219</td>\n",
       "      <td>95</td>\n",
       "      <td>0</td>\n",
       "      <td>1</td>\n",
       "      <td>1</td>\n",
       "      <td>0</td>\n",
       "      <td>0</td>\n",
       "      <td>1</td>\n",
       "      <td>77</td>\n",
       "      <td>175</td>\n",
       "      <td>25</td>\n",
       "      <td>0</td>\n",
       "    </tr>\n",
       "  </tbody>\n",
       "</table>\n",
       "<p>576 rows × 20 columns</p>\n",
       "</div>"
      ],
      "text/plain": [
       "     Reason for absence  Month of absence  Day of the week  Seasons  \\\n",
       "0                    26                 7                3        1   \n",
       "2                    23                 7                4        1   \n",
       "4                    23                 7                5        1   \n",
       "5                    23                 7                6        1   \n",
       "6                    22                 7                6        1   \n",
       "..                  ...               ...              ...      ...   \n",
       "733                  22                 7                4        1   \n",
       "735                  14                 7                3        1   \n",
       "736                  11                 7                3        1   \n",
       "738                   0                 0                4        2   \n",
       "739                   0                 0                6        3   \n",
       "\n",
       "     Transportation expense  Distance from Residence to Work  Service time  \\\n",
       "0                       289                               36            13   \n",
       "2                       179                               51            18   \n",
       "4                       289                               36            13   \n",
       "5                       179                               51            18   \n",
       "6                       361                               52             3   \n",
       "..                      ...                              ...           ...   \n",
       "733                     225                               26             9   \n",
       "735                     289                               36            13   \n",
       "736                     235                               11            14   \n",
       "738                     231                               35            14   \n",
       "739                     179                               45            14   \n",
       "\n",
       "     Age  Work load Average/day   Hit target  Disciplinary failure  Education  \\\n",
       "0     33                  239554          97                     0          1   \n",
       "2     38                  239554          97                     0          1   \n",
       "4     33                  239554          97                     0          1   \n",
       "5     38                  239554          97                     0          1   \n",
       "6     28                  239554          97                     0          1   \n",
       "..   ...                     ...         ...                   ...        ...   \n",
       "733   28                  264604          93                     0          1   \n",
       "735   33                  264604          93                     0          1   \n",
       "736   37                  264604          93                     0          3   \n",
       "738   39                  271219          95                     0          1   \n",
       "739   53                  271219          95                     0          1   \n",
       "\n",
       "     Son  Social drinker  Social smoker  Pet  Weight  Height  Body mass index  \\\n",
       "0      2               1              0    1      90     172               30   \n",
       "2      0               1              0    0      89     170               31   \n",
       "4      2               1              0    1      90     172               30   \n",
       "5      0               1              0    0      89     170               31   \n",
       "6      1               1              0    4      80     172               27   \n",
       "..   ...             ...            ...  ...     ...     ...              ...   \n",
       "733    1               0              0    2      69     169               24   \n",
       "735    2               1              0    1      90     172               30   \n",
       "736    1               0              0    1      88     172               29   \n",
       "738    2               1              0    2     100     170               35   \n",
       "739    1               0              0    1      77     175               25   \n",
       "\n",
       "     Absenteeism time in hours  \n",
       "0                            4  \n",
       "2                            2  \n",
       "4                            2  \n",
       "5                            2  \n",
       "6                            8  \n",
       "..                         ...  \n",
       "733                          8  \n",
       "735                          8  \n",
       "736                          4  \n",
       "738                          0  \n",
       "739                          0  \n",
       "\n",
       "[576 rows x 20 columns]"
      ]
     },
     "execution_count": 51,
     "metadata": {},
     "output_type": "execute_result"
    }
   ],
   "source": [
    "Data_new=Data[(z<3).all(axis=1)]\n",
    "Data_new"
   ]
  },
  {
   "cell_type": "code",
   "execution_count": 52,
   "metadata": {},
   "outputs": [
    {
     "name": "stdout",
     "output_type": "stream",
     "text": [
      "(740, 20)\n",
      "(576, 20)\n"
     ]
    }
   ],
   "source": [
    "print(Data.shape)\n",
    "print(Data_new.shape)"
   ]
  },
  {
   "cell_type": "markdown",
   "metadata": {},
   "source": [
    "164 observations are removed as outliers."
   ]
  },
  {
   "cell_type": "markdown",
   "metadata": {},
   "source": [
    "# Checking the Skewness of Distribution"
   ]
  },
  {
   "cell_type": "code",
   "execution_count": 53,
   "metadata": {},
   "outputs": [
    {
     "data": {
      "text/plain": [
       "Reason for absence                -0.915312\n",
       "Month of absence                   0.069369\n",
       "Day of the week                    0.102440\n",
       "Seasons                           -0.038532\n",
       "Transportation expense             0.396189\n",
       "Distance from Residence to Work    0.312083\n",
       "Service time                      -0.004720\n",
       "Age                                0.697703\n",
       "Work load Average/day              0.961457\n",
       "Hit target                        -1.261708\n",
       "Disciplinary failure               3.952270\n",
       "Education                          2.108953\n",
       "Son                                1.086465\n",
       "Social drinker                    -0.273327\n",
       "Social smoker                      3.290333\n",
       "Pet                                2.735715\n",
       "Weight                             0.017001\n",
       "Height                             2.566060\n",
       "Body mass index                    0.305046\n",
       "Absenteeism time in hours          5.720728\n",
       "dtype: float64"
      ]
     },
     "execution_count": 53,
     "metadata": {},
     "output_type": "execute_result"
    }
   ],
   "source": [
    "Data.skew()"
   ]
  },
  {
   "cell_type": "code",
   "execution_count": 54,
   "metadata": {},
   "outputs": [],
   "source": [
    "#'Reason for absence','Hit target' are left skewed.\n",
    "list1=['Reason for absence','Hit target']\n",
    "#'Age','Work load Average/day ','Disciplinary failure','Education','Son','Social smoker','Pet','Height','Absenteeism time in hours' are right skewed\n",
    "list2=['Age','Work load Average/day ','Disciplinary failure','Education','Son','Social smoker','Pet','Height','Absenteeism time in hours']\n",
    "for i in list1:\n",
    "    Data[i]=np.sqrt(Data[i])\n",
    "    \n",
    "for j in list2:\n",
    "    Data[j]=np.sqrt(Data[j])"
   ]
  },
  {
   "cell_type": "code",
   "execution_count": 55,
   "metadata": {},
   "outputs": [
    {
     "data": {
      "text/plain": [
       "Reason for absence                -1.780280\n",
       "Month of absence                   0.069369\n",
       "Day of the week                    0.102440\n",
       "Seasons                           -0.038532\n",
       "Transportation expense             0.396189\n",
       "Distance from Residence to Work    0.312083\n",
       "Service time                      -0.004720\n",
       "Age                                0.468638\n",
       "Work load Average/day              0.789866\n",
       "Hit target                        -1.351199\n",
       "Disciplinary failure               3.952270\n",
       "Education                          1.997899\n",
       "Son                                0.061808\n",
       "Social drinker                    -0.273327\n",
       "Social smoker                      3.290333\n",
       "Pet                                1.055038\n",
       "Weight                             0.017001\n",
       "Height                             2.497588\n",
       "Body mass index                    0.305046\n",
       "Absenteeism time in hours          2.532128\n",
       "dtype: float64"
      ]
     },
     "execution_count": 55,
     "metadata": {},
     "output_type": "execute_result"
    }
   ],
   "source": [
    "Data.skew()"
   ]
  },
  {
   "cell_type": "markdown",
   "metadata": {},
   "source": [
    "spliiting the Dataset into train test datasets"
   ]
  },
  {
   "cell_type": "code",
   "execution_count": 56,
   "metadata": {},
   "outputs": [
    {
     "data": {
      "text/html": [
       "<div>\n",
       "<style scoped>\n",
       "    .dataframe tbody tr th:only-of-type {\n",
       "        vertical-align: middle;\n",
       "    }\n",
       "\n",
       "    .dataframe tbody tr th {\n",
       "        vertical-align: top;\n",
       "    }\n",
       "\n",
       "    .dataframe thead th {\n",
       "        text-align: right;\n",
       "    }\n",
       "</style>\n",
       "<table border=\"1\" class=\"dataframe\">\n",
       "  <thead>\n",
       "    <tr style=\"text-align: right;\">\n",
       "      <th></th>\n",
       "      <th>Reason for absence</th>\n",
       "      <th>Month of absence</th>\n",
       "      <th>Day of the week</th>\n",
       "      <th>Seasons</th>\n",
       "      <th>Transportation expense</th>\n",
       "      <th>Distance from Residence to Work</th>\n",
       "      <th>Service time</th>\n",
       "      <th>Age</th>\n",
       "      <th>Work load Average/day</th>\n",
       "      <th>Hit target</th>\n",
       "      <th>Disciplinary failure</th>\n",
       "      <th>Education</th>\n",
       "      <th>Son</th>\n",
       "      <th>Social drinker</th>\n",
       "      <th>Social smoker</th>\n",
       "      <th>Pet</th>\n",
       "      <th>Weight</th>\n",
       "      <th>Height</th>\n",
       "      <th>Body mass index</th>\n",
       "    </tr>\n",
       "  </thead>\n",
       "  <tbody>\n",
       "    <tr>\n",
       "      <td>0</td>\n",
       "      <td>26</td>\n",
       "      <td>7</td>\n",
       "      <td>3</td>\n",
       "      <td>1</td>\n",
       "      <td>289</td>\n",
       "      <td>36</td>\n",
       "      <td>13</td>\n",
       "      <td>33</td>\n",
       "      <td>239554</td>\n",
       "      <td>97</td>\n",
       "      <td>0</td>\n",
       "      <td>1</td>\n",
       "      <td>2</td>\n",
       "      <td>1</td>\n",
       "      <td>0</td>\n",
       "      <td>1</td>\n",
       "      <td>90</td>\n",
       "      <td>172</td>\n",
       "      <td>30</td>\n",
       "    </tr>\n",
       "    <tr>\n",
       "      <td>2</td>\n",
       "      <td>23</td>\n",
       "      <td>7</td>\n",
       "      <td>4</td>\n",
       "      <td>1</td>\n",
       "      <td>179</td>\n",
       "      <td>51</td>\n",
       "      <td>18</td>\n",
       "      <td>38</td>\n",
       "      <td>239554</td>\n",
       "      <td>97</td>\n",
       "      <td>0</td>\n",
       "      <td>1</td>\n",
       "      <td>0</td>\n",
       "      <td>1</td>\n",
       "      <td>0</td>\n",
       "      <td>0</td>\n",
       "      <td>89</td>\n",
       "      <td>170</td>\n",
       "      <td>31</td>\n",
       "    </tr>\n",
       "    <tr>\n",
       "      <td>4</td>\n",
       "      <td>23</td>\n",
       "      <td>7</td>\n",
       "      <td>5</td>\n",
       "      <td>1</td>\n",
       "      <td>289</td>\n",
       "      <td>36</td>\n",
       "      <td>13</td>\n",
       "      <td>33</td>\n",
       "      <td>239554</td>\n",
       "      <td>97</td>\n",
       "      <td>0</td>\n",
       "      <td>1</td>\n",
       "      <td>2</td>\n",
       "      <td>1</td>\n",
       "      <td>0</td>\n",
       "      <td>1</td>\n",
       "      <td>90</td>\n",
       "      <td>172</td>\n",
       "      <td>30</td>\n",
       "    </tr>\n",
       "    <tr>\n",
       "      <td>5</td>\n",
       "      <td>23</td>\n",
       "      <td>7</td>\n",
       "      <td>6</td>\n",
       "      <td>1</td>\n",
       "      <td>179</td>\n",
       "      <td>51</td>\n",
       "      <td>18</td>\n",
       "      <td>38</td>\n",
       "      <td>239554</td>\n",
       "      <td>97</td>\n",
       "      <td>0</td>\n",
       "      <td>1</td>\n",
       "      <td>0</td>\n",
       "      <td>1</td>\n",
       "      <td>0</td>\n",
       "      <td>0</td>\n",
       "      <td>89</td>\n",
       "      <td>170</td>\n",
       "      <td>31</td>\n",
       "    </tr>\n",
       "    <tr>\n",
       "      <td>6</td>\n",
       "      <td>22</td>\n",
       "      <td>7</td>\n",
       "      <td>6</td>\n",
       "      <td>1</td>\n",
       "      <td>361</td>\n",
       "      <td>52</td>\n",
       "      <td>3</td>\n",
       "      <td>28</td>\n",
       "      <td>239554</td>\n",
       "      <td>97</td>\n",
       "      <td>0</td>\n",
       "      <td>1</td>\n",
       "      <td>1</td>\n",
       "      <td>1</td>\n",
       "      <td>0</td>\n",
       "      <td>4</td>\n",
       "      <td>80</td>\n",
       "      <td>172</td>\n",
       "      <td>27</td>\n",
       "    </tr>\n",
       "    <tr>\n",
       "      <td>...</td>\n",
       "      <td>...</td>\n",
       "      <td>...</td>\n",
       "      <td>...</td>\n",
       "      <td>...</td>\n",
       "      <td>...</td>\n",
       "      <td>...</td>\n",
       "      <td>...</td>\n",
       "      <td>...</td>\n",
       "      <td>...</td>\n",
       "      <td>...</td>\n",
       "      <td>...</td>\n",
       "      <td>...</td>\n",
       "      <td>...</td>\n",
       "      <td>...</td>\n",
       "      <td>...</td>\n",
       "      <td>...</td>\n",
       "      <td>...</td>\n",
       "      <td>...</td>\n",
       "      <td>...</td>\n",
       "    </tr>\n",
       "    <tr>\n",
       "      <td>733</td>\n",
       "      <td>22</td>\n",
       "      <td>7</td>\n",
       "      <td>4</td>\n",
       "      <td>1</td>\n",
       "      <td>225</td>\n",
       "      <td>26</td>\n",
       "      <td>9</td>\n",
       "      <td>28</td>\n",
       "      <td>264604</td>\n",
       "      <td>93</td>\n",
       "      <td>0</td>\n",
       "      <td>1</td>\n",
       "      <td>1</td>\n",
       "      <td>0</td>\n",
       "      <td>0</td>\n",
       "      <td>2</td>\n",
       "      <td>69</td>\n",
       "      <td>169</td>\n",
       "      <td>24</td>\n",
       "    </tr>\n",
       "    <tr>\n",
       "      <td>735</td>\n",
       "      <td>14</td>\n",
       "      <td>7</td>\n",
       "      <td>3</td>\n",
       "      <td>1</td>\n",
       "      <td>289</td>\n",
       "      <td>36</td>\n",
       "      <td>13</td>\n",
       "      <td>33</td>\n",
       "      <td>264604</td>\n",
       "      <td>93</td>\n",
       "      <td>0</td>\n",
       "      <td>1</td>\n",
       "      <td>2</td>\n",
       "      <td>1</td>\n",
       "      <td>0</td>\n",
       "      <td>1</td>\n",
       "      <td>90</td>\n",
       "      <td>172</td>\n",
       "      <td>30</td>\n",
       "    </tr>\n",
       "    <tr>\n",
       "      <td>736</td>\n",
       "      <td>11</td>\n",
       "      <td>7</td>\n",
       "      <td>3</td>\n",
       "      <td>1</td>\n",
       "      <td>235</td>\n",
       "      <td>11</td>\n",
       "      <td>14</td>\n",
       "      <td>37</td>\n",
       "      <td>264604</td>\n",
       "      <td>93</td>\n",
       "      <td>0</td>\n",
       "      <td>3</td>\n",
       "      <td>1</td>\n",
       "      <td>0</td>\n",
       "      <td>0</td>\n",
       "      <td>1</td>\n",
       "      <td>88</td>\n",
       "      <td>172</td>\n",
       "      <td>29</td>\n",
       "    </tr>\n",
       "    <tr>\n",
       "      <td>738</td>\n",
       "      <td>0</td>\n",
       "      <td>0</td>\n",
       "      <td>4</td>\n",
       "      <td>2</td>\n",
       "      <td>231</td>\n",
       "      <td>35</td>\n",
       "      <td>14</td>\n",
       "      <td>39</td>\n",
       "      <td>271219</td>\n",
       "      <td>95</td>\n",
       "      <td>0</td>\n",
       "      <td>1</td>\n",
       "      <td>2</td>\n",
       "      <td>1</td>\n",
       "      <td>0</td>\n",
       "      <td>2</td>\n",
       "      <td>100</td>\n",
       "      <td>170</td>\n",
       "      <td>35</td>\n",
       "    </tr>\n",
       "    <tr>\n",
       "      <td>739</td>\n",
       "      <td>0</td>\n",
       "      <td>0</td>\n",
       "      <td>6</td>\n",
       "      <td>3</td>\n",
       "      <td>179</td>\n",
       "      <td>45</td>\n",
       "      <td>14</td>\n",
       "      <td>53</td>\n",
       "      <td>271219</td>\n",
       "      <td>95</td>\n",
       "      <td>0</td>\n",
       "      <td>1</td>\n",
       "      <td>1</td>\n",
       "      <td>0</td>\n",
       "      <td>0</td>\n",
       "      <td>1</td>\n",
       "      <td>77</td>\n",
       "      <td>175</td>\n",
       "      <td>25</td>\n",
       "    </tr>\n",
       "  </tbody>\n",
       "</table>\n",
       "<p>576 rows × 19 columns</p>\n",
       "</div>"
      ],
      "text/plain": [
       "     Reason for absence  Month of absence  Day of the week  Seasons  \\\n",
       "0                    26                 7                3        1   \n",
       "2                    23                 7                4        1   \n",
       "4                    23                 7                5        1   \n",
       "5                    23                 7                6        1   \n",
       "6                    22                 7                6        1   \n",
       "..                  ...               ...              ...      ...   \n",
       "733                  22                 7                4        1   \n",
       "735                  14                 7                3        1   \n",
       "736                  11                 7                3        1   \n",
       "738                   0                 0                4        2   \n",
       "739                   0                 0                6        3   \n",
       "\n",
       "     Transportation expense  Distance from Residence to Work  Service time  \\\n",
       "0                       289                               36            13   \n",
       "2                       179                               51            18   \n",
       "4                       289                               36            13   \n",
       "5                       179                               51            18   \n",
       "6                       361                               52             3   \n",
       "..                      ...                              ...           ...   \n",
       "733                     225                               26             9   \n",
       "735                     289                               36            13   \n",
       "736                     235                               11            14   \n",
       "738                     231                               35            14   \n",
       "739                     179                               45            14   \n",
       "\n",
       "     Age  Work load Average/day   Hit target  Disciplinary failure  Education  \\\n",
       "0     33                  239554          97                     0          1   \n",
       "2     38                  239554          97                     0          1   \n",
       "4     33                  239554          97                     0          1   \n",
       "5     38                  239554          97                     0          1   \n",
       "6     28                  239554          97                     0          1   \n",
       "..   ...                     ...         ...                   ...        ...   \n",
       "733   28                  264604          93                     0          1   \n",
       "735   33                  264604          93                     0          1   \n",
       "736   37                  264604          93                     0          3   \n",
       "738   39                  271219          95                     0          1   \n",
       "739   53                  271219          95                     0          1   \n",
       "\n",
       "     Son  Social drinker  Social smoker  Pet  Weight  Height  Body mass index  \n",
       "0      2               1              0    1      90     172               30  \n",
       "2      0               1              0    0      89     170               31  \n",
       "4      2               1              0    1      90     172               30  \n",
       "5      0               1              0    0      89     170               31  \n",
       "6      1               1              0    4      80     172               27  \n",
       "..   ...             ...            ...  ...     ...     ...              ...  \n",
       "733    1               0              0    2      69     169               24  \n",
       "735    2               1              0    1      90     172               30  \n",
       "736    1               0              0    1      88     172               29  \n",
       "738    2               1              0    2     100     170               35  \n",
       "739    1               0              0    1      77     175               25  \n",
       "\n",
       "[576 rows x 19 columns]"
      ]
     },
     "execution_count": 56,
     "metadata": {},
     "output_type": "execute_result"
    }
   ],
   "source": [
    "df_x=Data_new.iloc[:,0:-1]\n",
    "df_x"
   ]
  },
  {
   "cell_type": "code",
   "execution_count": 57,
   "metadata": {},
   "outputs": [
    {
     "data": {
      "text/plain": [
       "array([[ 4],\n",
       "       [ 2],\n",
       "       [ 2],\n",
       "       [ 2],\n",
       "       [ 8],\n",
       "       [ 4],\n",
       "       [ 8],\n",
       "       [ 8],\n",
       "       [ 8],\n",
       "       [ 8],\n",
       "       [ 1],\n",
       "       [ 4],\n",
       "       [ 8],\n",
       "       [ 2],\n",
       "       [ 8],\n",
       "       [ 8],\n",
       "       [ 2],\n",
       "       [ 8],\n",
       "       [ 1],\n",
       "       [40],\n",
       "       [ 4],\n",
       "       [ 8],\n",
       "       [ 7],\n",
       "       [ 1],\n",
       "       [ 8],\n",
       "       [ 2],\n",
       "       [ 8],\n",
       "       [ 4],\n",
       "       [ 2],\n",
       "       [ 1],\n",
       "       [ 8],\n",
       "       [ 4],\n",
       "       [ 4],\n",
       "       [ 2],\n",
       "       [ 4],\n",
       "       [ 4],\n",
       "       [ 8],\n",
       "       [ 3],\n",
       "       [ 3],\n",
       "       [ 4],\n",
       "       [ 8],\n",
       "       [32],\n",
       "       [ 2],\n",
       "       [ 2],\n",
       "       [ 3],\n",
       "       [ 3],\n",
       "       [ 1],\n",
       "       [ 3],\n",
       "       [ 4],\n",
       "       [ 3],\n",
       "       [ 3],\n",
       "       [ 1],\n",
       "       [ 3],\n",
       "       [ 3],\n",
       "       [ 3],\n",
       "       [ 2],\n",
       "       [ 2],\n",
       "       [ 5],\n",
       "       [ 8],\n",
       "       [ 3],\n",
       "       [16],\n",
       "       [ 8],\n",
       "       [ 2],\n",
       "       [ 8],\n",
       "       [ 1],\n",
       "       [ 3],\n",
       "       [ 1],\n",
       "       [ 1],\n",
       "       [ 8],\n",
       "       [ 5],\n",
       "       [ 8],\n",
       "       [40],\n",
       "       [ 1],\n",
       "       [ 3],\n",
       "       [ 3],\n",
       "       [ 4],\n",
       "       [ 1],\n",
       "       [ 3],\n",
       "       [24],\n",
       "       [ 3],\n",
       "       [ 1],\n",
       "       [ 2],\n",
       "       [ 8],\n",
       "       [ 2],\n",
       "       [ 8],\n",
       "       [ 8],\n",
       "       [ 3],\n",
       "       [ 3],\n",
       "       [ 2],\n",
       "       [ 8],\n",
       "       [ 2],\n",
       "       [ 8],\n",
       "       [ 2],\n",
       "       [ 1],\n",
       "       [ 1],\n",
       "       [ 1],\n",
       "       [ 2],\n",
       "       [ 2],\n",
       "       [ 2],\n",
       "       [ 1],\n",
       "       [ 2],\n",
       "       [ 2],\n",
       "       [ 2],\n",
       "       [ 2],\n",
       "       [ 2],\n",
       "       [ 2],\n",
       "       [ 2],\n",
       "       [ 2],\n",
       "       [ 8],\n",
       "       [ 8],\n",
       "       [ 2],\n",
       "       [ 2],\n",
       "       [ 2],\n",
       "       [ 0],\n",
       "       [ 1],\n",
       "       [ 3],\n",
       "       [ 1],\n",
       "       [ 8],\n",
       "       [ 8],\n",
       "       [ 8],\n",
       "       [ 2],\n",
       "       [ 8],\n",
       "       [ 8],\n",
       "       [ 8],\n",
       "       [ 2],\n",
       "       [ 2],\n",
       "       [ 1],\n",
       "       [ 8],\n",
       "       [ 3],\n",
       "       [ 8],\n",
       "       [ 1],\n",
       "       [ 1],\n",
       "       [ 8],\n",
       "       [ 2],\n",
       "       [ 8],\n",
       "       [ 8],\n",
       "       [ 8],\n",
       "       [ 8],\n",
       "       [ 3],\n",
       "       [40],\n",
       "       [16],\n",
       "       [ 8],\n",
       "       [ 4],\n",
       "       [ 1],\n",
       "       [24],\n",
       "       [ 2],\n",
       "       [ 8],\n",
       "       [ 1],\n",
       "       [ 8],\n",
       "       [16],\n",
       "       [ 3],\n",
       "       [ 2],\n",
       "       [ 3],\n",
       "       [ 1],\n",
       "       [ 1],\n",
       "       [ 1],\n",
       "       [24],\n",
       "       [ 2],\n",
       "       [ 4],\n",
       "       [24],\n",
       "       [ 1],\n",
       "       [ 3],\n",
       "       [ 8],\n",
       "       [ 1],\n",
       "       [ 8],\n",
       "       [ 8],\n",
       "       [16],\n",
       "       [ 3],\n",
       "       [ 8],\n",
       "       [ 8],\n",
       "       [ 8],\n",
       "       [ 4],\n",
       "       [ 1],\n",
       "       [24],\n",
       "       [ 1],\n",
       "       [24],\n",
       "       [ 8],\n",
       "       [ 8],\n",
       "       [ 8],\n",
       "       [24],\n",
       "       [ 4],\n",
       "       [ 8],\n",
       "       [ 8],\n",
       "       [ 8],\n",
       "       [ 8],\n",
       "       [16],\n",
       "       [ 1],\n",
       "       [ 2],\n",
       "       [ 2],\n",
       "       [ 8],\n",
       "       [ 8],\n",
       "       [ 4],\n",
       "       [ 8],\n",
       "       [ 8],\n",
       "       [ 8],\n",
       "       [ 8],\n",
       "       [ 8],\n",
       "       [ 8],\n",
       "       [ 8],\n",
       "       [32],\n",
       "       [ 8],\n",
       "       [ 8],\n",
       "       [ 1],\n",
       "       [ 4],\n",
       "       [ 4],\n",
       "       [ 1],\n",
       "       [ 8],\n",
       "       [ 1],\n",
       "       [ 3],\n",
       "       [ 2],\n",
       "       [ 1],\n",
       "       [ 1],\n",
       "       [ 8],\n",
       "       [ 8],\n",
       "       [ 8],\n",
       "       [ 8],\n",
       "       [ 4],\n",
       "       [ 8],\n",
       "       [ 8],\n",
       "       [ 8],\n",
       "       [ 3],\n",
       "       [ 8],\n",
       "       [ 1],\n",
       "       [16],\n",
       "       [ 3],\n",
       "       [ 2],\n",
       "       [ 2],\n",
       "       [ 1],\n",
       "       [ 4],\n",
       "       [16],\n",
       "       [ 1],\n",
       "       [ 8],\n",
       "       [ 5],\n",
       "       [ 5],\n",
       "       [ 1],\n",
       "       [ 8],\n",
       "       [ 2],\n",
       "       [ 8],\n",
       "       [ 3],\n",
       "       [ 1],\n",
       "       [ 8],\n",
       "       [ 1],\n",
       "       [ 3],\n",
       "       [ 2],\n",
       "       [ 3],\n",
       "       [ 8],\n",
       "       [ 4],\n",
       "       [ 8],\n",
       "       [ 1],\n",
       "       [ 8],\n",
       "       [ 8],\n",
       "       [ 1],\n",
       "       [ 3],\n",
       "       [ 2],\n",
       "       [ 1],\n",
       "       [ 3],\n",
       "       [ 1],\n",
       "       [ 4],\n",
       "       [ 8],\n",
       "       [ 1],\n",
       "       [ 1],\n",
       "       [ 1],\n",
       "       [ 8],\n",
       "       [ 2],\n",
       "       [ 1],\n",
       "       [ 8],\n",
       "       [ 4],\n",
       "       [ 8],\n",
       "       [ 3],\n",
       "       [ 8],\n",
       "       [ 5],\n",
       "       [32],\n",
       "       [ 1],\n",
       "       [ 8],\n",
       "       [ 8],\n",
       "       [ 8],\n",
       "       [ 4],\n",
       "       [ 1],\n",
       "       [ 1],\n",
       "       [ 2],\n",
       "       [ 3],\n",
       "       [ 1],\n",
       "       [ 3],\n",
       "       [ 3],\n",
       "       [ 3],\n",
       "       [ 2],\n",
       "       [ 3],\n",
       "       [ 8],\n",
       "       [ 8],\n",
       "       [ 3],\n",
       "       [ 8],\n",
       "       [ 3],\n",
       "       [ 2],\n",
       "       [ 2],\n",
       "       [ 3],\n",
       "       [ 3],\n",
       "       [24],\n",
       "       [ 3],\n",
       "       [ 3],\n",
       "       [ 8],\n",
       "       [16],\n",
       "       [ 2],\n",
       "       [ 4],\n",
       "       [ 2],\n",
       "       [ 8],\n",
       "       [16],\n",
       "       [ 8],\n",
       "       [ 8],\n",
       "       [ 2],\n",
       "       [ 3],\n",
       "       [ 8],\n",
       "       [ 8],\n",
       "       [ 8],\n",
       "       [ 8],\n",
       "       [ 2],\n",
       "       [ 4],\n",
       "       [ 3],\n",
       "       [ 4],\n",
       "       [ 4],\n",
       "       [ 4],\n",
       "       [ 8],\n",
       "       [ 8],\n",
       "       [ 1],\n",
       "       [ 4],\n",
       "       [ 4],\n",
       "       [ 2],\n",
       "       [16],\n",
       "       [ 2],\n",
       "       [ 8],\n",
       "       [ 3],\n",
       "       [ 4],\n",
       "       [ 1],\n",
       "       [ 3],\n",
       "       [ 3],\n",
       "       [ 8],\n",
       "       [ 2],\n",
       "       [ 1],\n",
       "       [ 8],\n",
       "       [ 3],\n",
       "       [ 3],\n",
       "       [ 3],\n",
       "       [ 2],\n",
       "       [ 4],\n",
       "       [ 4],\n",
       "       [40],\n",
       "       [24],\n",
       "       [ 3],\n",
       "       [ 4],\n",
       "       [ 8],\n",
       "       [ 2],\n",
       "       [ 2],\n",
       "       [ 2],\n",
       "       [ 8],\n",
       "       [ 2],\n",
       "       [ 2],\n",
       "       [ 1],\n",
       "       [ 8],\n",
       "       [ 2],\n",
       "       [ 4],\n",
       "       [ 8],\n",
       "       [ 8],\n",
       "       [ 8],\n",
       "       [ 8],\n",
       "       [ 4],\n",
       "       [ 8],\n",
       "       [ 2],\n",
       "       [ 1],\n",
       "       [ 1],\n",
       "       [ 8],\n",
       "       [ 8],\n",
       "       [ 8],\n",
       "       [ 2],\n",
       "       [ 1],\n",
       "       [ 4],\n",
       "       [ 4],\n",
       "       [ 4],\n",
       "       [ 8],\n",
       "       [ 8],\n",
       "       [ 4],\n",
       "       [ 4],\n",
       "       [16],\n",
       "       [ 4],\n",
       "       [ 1],\n",
       "       [ 5],\n",
       "       [ 2],\n",
       "       [ 3],\n",
       "       [ 1],\n",
       "       [ 1],\n",
       "       [ 3],\n",
       "       [ 2],\n",
       "       [ 8],\n",
       "       [ 1],\n",
       "       [ 4],\n",
       "       [ 1],\n",
       "       [ 2],\n",
       "       [ 8],\n",
       "       [ 8],\n",
       "       [ 3],\n",
       "       [ 8],\n",
       "       [ 2],\n",
       "       [ 2],\n",
       "       [ 1],\n",
       "       [ 2],\n",
       "       [ 8],\n",
       "       [ 3],\n",
       "       [ 4],\n",
       "       [ 8],\n",
       "       [ 3],\n",
       "       [ 1],\n",
       "       [ 8],\n",
       "       [ 1],\n",
       "       [ 8],\n",
       "       [ 3],\n",
       "       [ 8],\n",
       "       [ 8],\n",
       "       [ 8],\n",
       "       [ 3],\n",
       "       [ 1],\n",
       "       [ 3],\n",
       "       [24],\n",
       "       [ 1],\n",
       "       [ 8],\n",
       "       [ 8],\n",
       "       [ 8],\n",
       "       [ 4],\n",
       "       [ 8],\n",
       "       [ 2],\n",
       "       [ 2],\n",
       "       [ 3],\n",
       "       [ 1],\n",
       "       [ 8],\n",
       "       [ 8],\n",
       "       [ 2],\n",
       "       [ 4],\n",
       "       [ 2],\n",
       "       [ 8],\n",
       "       [ 2],\n",
       "       [32],\n",
       "       [ 1],\n",
       "       [ 3],\n",
       "       [ 1],\n",
       "       [ 3],\n",
       "       [ 3],\n",
       "       [ 4],\n",
       "       [ 8],\n",
       "       [16],\n",
       "       [ 2],\n",
       "       [ 3],\n",
       "       [ 2],\n",
       "       [24],\n",
       "       [16],\n",
       "       [ 3],\n",
       "       [ 2],\n",
       "       [ 2],\n",
       "       [ 3],\n",
       "       [ 8],\n",
       "       [ 3],\n",
       "       [ 2],\n",
       "       [ 8],\n",
       "       [ 3],\n",
       "       [ 8],\n",
       "       [ 2],\n",
       "       [ 3],\n",
       "       [ 2],\n",
       "       [ 2],\n",
       "       [ 2],\n",
       "       [ 2],\n",
       "       [ 8],\n",
       "       [ 3],\n",
       "       [ 3],\n",
       "       [ 3],\n",
       "       [ 2],\n",
       "       [ 3],\n",
       "       [ 2],\n",
       "       [ 2],\n",
       "       [ 8],\n",
       "       [ 2],\n",
       "       [ 3],\n",
       "       [ 2],\n",
       "       [ 2],\n",
       "       [ 2],\n",
       "       [ 2],\n",
       "       [ 2],\n",
       "       [ 2],\n",
       "       [ 2],\n",
       "       [ 2],\n",
       "       [ 2],\n",
       "       [ 2],\n",
       "       [ 3],\n",
       "       [ 2],\n",
       "       [ 2],\n",
       "       [ 3],\n",
       "       [ 2],\n",
       "       [ 3],\n",
       "       [ 3],\n",
       "       [ 8],\n",
       "       [ 8],\n",
       "       [ 2],\n",
       "       [ 3],\n",
       "       [ 2],\n",
       "       [ 4],\n",
       "       [ 2],\n",
       "       [ 3],\n",
       "       [ 8],\n",
       "       [ 2],\n",
       "       [ 8],\n",
       "       [ 2],\n",
       "       [ 3],\n",
       "       [ 3],\n",
       "       [ 2],\n",
       "       [ 3],\n",
       "       [ 3],\n",
       "       [ 3],\n",
       "       [ 3],\n",
       "       [ 2],\n",
       "       [ 8],\n",
       "       [ 8],\n",
       "       [ 8],\n",
       "       [ 8],\n",
       "       [ 8],\n",
       "       [ 8],\n",
       "       [ 2],\n",
       "       [24],\n",
       "       [ 3],\n",
       "       [ 2],\n",
       "       [ 2],\n",
       "       [ 8],\n",
       "       [ 2],\n",
       "       [ 8],\n",
       "       [ 3],\n",
       "       [ 2],\n",
       "       [ 8],\n",
       "       [ 2],\n",
       "       [ 2],\n",
       "       [ 8],\n",
       "       [ 2],\n",
       "       [ 3],\n",
       "       [ 8],\n",
       "       [ 1],\n",
       "       [ 2],\n",
       "       [ 2],\n",
       "       [ 2],\n",
       "       [ 3],\n",
       "       [ 1],\n",
       "       [ 2],\n",
       "       [ 8],\n",
       "       [ 8],\n",
       "       [ 3],\n",
       "       [ 8],\n",
       "       [ 2],\n",
       "       [ 2],\n",
       "       [ 2],\n",
       "       [ 8],\n",
       "       [ 1],\n",
       "       [ 3],\n",
       "       [ 8],\n",
       "       [ 8],\n",
       "       [24],\n",
       "       [ 2],\n",
       "       [ 3],\n",
       "       [ 2],\n",
       "       [ 2],\n",
       "       [ 3],\n",
       "       [ 3],\n",
       "       [ 2],\n",
       "       [ 3],\n",
       "       [ 4],\n",
       "       [ 4],\n",
       "       [16],\n",
       "       [ 2],\n",
       "       [ 8],\n",
       "       [ 8],\n",
       "       [ 8],\n",
       "       [ 4],\n",
       "       [ 0],\n",
       "       [ 0]], dtype=int64)"
      ]
     },
     "execution_count": 57,
     "metadata": {},
     "output_type": "execute_result"
    }
   ],
   "source": [
    "y=Data_new.iloc[:,-1].values.reshape(-1,1)\n",
    "y"
   ]
  },
  {
   "cell_type": "code",
   "execution_count": 58,
   "metadata": {},
   "outputs": [
    {
     "data": {
      "text/html": [
       "<div>\n",
       "<style scoped>\n",
       "    .dataframe tbody tr th:only-of-type {\n",
       "        vertical-align: middle;\n",
       "    }\n",
       "\n",
       "    .dataframe tbody tr th {\n",
       "        vertical-align: top;\n",
       "    }\n",
       "\n",
       "    .dataframe thead th {\n",
       "        text-align: right;\n",
       "    }\n",
       "</style>\n",
       "<table border=\"1\" class=\"dataframe\">\n",
       "  <thead>\n",
       "    <tr style=\"text-align: right;\">\n",
       "      <th></th>\n",
       "      <th>Reason for absence</th>\n",
       "      <th>Month of absence</th>\n",
       "      <th>Day of the week</th>\n",
       "      <th>Seasons</th>\n",
       "      <th>Transportation expense</th>\n",
       "      <th>Distance from Residence to Work</th>\n",
       "      <th>Service time</th>\n",
       "      <th>Age</th>\n",
       "      <th>Work load Average/day</th>\n",
       "      <th>Hit target</th>\n",
       "      <th>Disciplinary failure</th>\n",
       "      <th>Education</th>\n",
       "      <th>Son</th>\n",
       "      <th>Social drinker</th>\n",
       "      <th>Social smoker</th>\n",
       "      <th>Pet</th>\n",
       "      <th>Weight</th>\n",
       "      <th>Height</th>\n",
       "      <th>Body mass index</th>\n",
       "    </tr>\n",
       "  </thead>\n",
       "  <tbody>\n",
       "    <tr>\n",
       "      <td>0</td>\n",
       "      <td>26</td>\n",
       "      <td>7</td>\n",
       "      <td>3</td>\n",
       "      <td>1</td>\n",
       "      <td>289</td>\n",
       "      <td>36</td>\n",
       "      <td>13</td>\n",
       "      <td>33</td>\n",
       "      <td>239554</td>\n",
       "      <td>97</td>\n",
       "      <td>0</td>\n",
       "      <td>1</td>\n",
       "      <td>2</td>\n",
       "      <td>1</td>\n",
       "      <td>0</td>\n",
       "      <td>1</td>\n",
       "      <td>90</td>\n",
       "      <td>172</td>\n",
       "      <td>30</td>\n",
       "    </tr>\n",
       "    <tr>\n",
       "      <td>2</td>\n",
       "      <td>23</td>\n",
       "      <td>7</td>\n",
       "      <td>4</td>\n",
       "      <td>1</td>\n",
       "      <td>179</td>\n",
       "      <td>51</td>\n",
       "      <td>18</td>\n",
       "      <td>38</td>\n",
       "      <td>239554</td>\n",
       "      <td>97</td>\n",
       "      <td>0</td>\n",
       "      <td>1</td>\n",
       "      <td>0</td>\n",
       "      <td>1</td>\n",
       "      <td>0</td>\n",
       "      <td>0</td>\n",
       "      <td>89</td>\n",
       "      <td>170</td>\n",
       "      <td>31</td>\n",
       "    </tr>\n",
       "    <tr>\n",
       "      <td>4</td>\n",
       "      <td>23</td>\n",
       "      <td>7</td>\n",
       "      <td>5</td>\n",
       "      <td>1</td>\n",
       "      <td>289</td>\n",
       "      <td>36</td>\n",
       "      <td>13</td>\n",
       "      <td>33</td>\n",
       "      <td>239554</td>\n",
       "      <td>97</td>\n",
       "      <td>0</td>\n",
       "      <td>1</td>\n",
       "      <td>2</td>\n",
       "      <td>1</td>\n",
       "      <td>0</td>\n",
       "      <td>1</td>\n",
       "      <td>90</td>\n",
       "      <td>172</td>\n",
       "      <td>30</td>\n",
       "    </tr>\n",
       "    <tr>\n",
       "      <td>5</td>\n",
       "      <td>23</td>\n",
       "      <td>7</td>\n",
       "      <td>6</td>\n",
       "      <td>1</td>\n",
       "      <td>179</td>\n",
       "      <td>51</td>\n",
       "      <td>18</td>\n",
       "      <td>38</td>\n",
       "      <td>239554</td>\n",
       "      <td>97</td>\n",
       "      <td>0</td>\n",
       "      <td>1</td>\n",
       "      <td>0</td>\n",
       "      <td>1</td>\n",
       "      <td>0</td>\n",
       "      <td>0</td>\n",
       "      <td>89</td>\n",
       "      <td>170</td>\n",
       "      <td>31</td>\n",
       "    </tr>\n",
       "    <tr>\n",
       "      <td>6</td>\n",
       "      <td>22</td>\n",
       "      <td>7</td>\n",
       "      <td>6</td>\n",
       "      <td>1</td>\n",
       "      <td>361</td>\n",
       "      <td>52</td>\n",
       "      <td>3</td>\n",
       "      <td>28</td>\n",
       "      <td>239554</td>\n",
       "      <td>97</td>\n",
       "      <td>0</td>\n",
       "      <td>1</td>\n",
       "      <td>1</td>\n",
       "      <td>1</td>\n",
       "      <td>0</td>\n",
       "      <td>4</td>\n",
       "      <td>80</td>\n",
       "      <td>172</td>\n",
       "      <td>27</td>\n",
       "    </tr>\n",
       "    <tr>\n",
       "      <td>...</td>\n",
       "      <td>...</td>\n",
       "      <td>...</td>\n",
       "      <td>...</td>\n",
       "      <td>...</td>\n",
       "      <td>...</td>\n",
       "      <td>...</td>\n",
       "      <td>...</td>\n",
       "      <td>...</td>\n",
       "      <td>...</td>\n",
       "      <td>...</td>\n",
       "      <td>...</td>\n",
       "      <td>...</td>\n",
       "      <td>...</td>\n",
       "      <td>...</td>\n",
       "      <td>...</td>\n",
       "      <td>...</td>\n",
       "      <td>...</td>\n",
       "      <td>...</td>\n",
       "      <td>...</td>\n",
       "    </tr>\n",
       "    <tr>\n",
       "      <td>733</td>\n",
       "      <td>22</td>\n",
       "      <td>7</td>\n",
       "      <td>4</td>\n",
       "      <td>1</td>\n",
       "      <td>225</td>\n",
       "      <td>26</td>\n",
       "      <td>9</td>\n",
       "      <td>28</td>\n",
       "      <td>264604</td>\n",
       "      <td>93</td>\n",
       "      <td>0</td>\n",
       "      <td>1</td>\n",
       "      <td>1</td>\n",
       "      <td>0</td>\n",
       "      <td>0</td>\n",
       "      <td>2</td>\n",
       "      <td>69</td>\n",
       "      <td>169</td>\n",
       "      <td>24</td>\n",
       "    </tr>\n",
       "    <tr>\n",
       "      <td>735</td>\n",
       "      <td>14</td>\n",
       "      <td>7</td>\n",
       "      <td>3</td>\n",
       "      <td>1</td>\n",
       "      <td>289</td>\n",
       "      <td>36</td>\n",
       "      <td>13</td>\n",
       "      <td>33</td>\n",
       "      <td>264604</td>\n",
       "      <td>93</td>\n",
       "      <td>0</td>\n",
       "      <td>1</td>\n",
       "      <td>2</td>\n",
       "      <td>1</td>\n",
       "      <td>0</td>\n",
       "      <td>1</td>\n",
       "      <td>90</td>\n",
       "      <td>172</td>\n",
       "      <td>30</td>\n",
       "    </tr>\n",
       "    <tr>\n",
       "      <td>736</td>\n",
       "      <td>11</td>\n",
       "      <td>7</td>\n",
       "      <td>3</td>\n",
       "      <td>1</td>\n",
       "      <td>235</td>\n",
       "      <td>11</td>\n",
       "      <td>14</td>\n",
       "      <td>37</td>\n",
       "      <td>264604</td>\n",
       "      <td>93</td>\n",
       "      <td>0</td>\n",
       "      <td>3</td>\n",
       "      <td>1</td>\n",
       "      <td>0</td>\n",
       "      <td>0</td>\n",
       "      <td>1</td>\n",
       "      <td>88</td>\n",
       "      <td>172</td>\n",
       "      <td>29</td>\n",
       "    </tr>\n",
       "    <tr>\n",
       "      <td>738</td>\n",
       "      <td>0</td>\n",
       "      <td>0</td>\n",
       "      <td>4</td>\n",
       "      <td>2</td>\n",
       "      <td>231</td>\n",
       "      <td>35</td>\n",
       "      <td>14</td>\n",
       "      <td>39</td>\n",
       "      <td>271219</td>\n",
       "      <td>95</td>\n",
       "      <td>0</td>\n",
       "      <td>1</td>\n",
       "      <td>2</td>\n",
       "      <td>1</td>\n",
       "      <td>0</td>\n",
       "      <td>2</td>\n",
       "      <td>100</td>\n",
       "      <td>170</td>\n",
       "      <td>35</td>\n",
       "    </tr>\n",
       "    <tr>\n",
       "      <td>739</td>\n",
       "      <td>0</td>\n",
       "      <td>0</td>\n",
       "      <td>6</td>\n",
       "      <td>3</td>\n",
       "      <td>179</td>\n",
       "      <td>45</td>\n",
       "      <td>14</td>\n",
       "      <td>53</td>\n",
       "      <td>271219</td>\n",
       "      <td>95</td>\n",
       "      <td>0</td>\n",
       "      <td>1</td>\n",
       "      <td>1</td>\n",
       "      <td>0</td>\n",
       "      <td>0</td>\n",
       "      <td>1</td>\n",
       "      <td>77</td>\n",
       "      <td>175</td>\n",
       "      <td>25</td>\n",
       "    </tr>\n",
       "  </tbody>\n",
       "</table>\n",
       "<p>576 rows × 19 columns</p>\n",
       "</div>"
      ],
      "text/plain": [
       "     Reason for absence  Month of absence  Day of the week  Seasons  \\\n",
       "0                    26                 7                3        1   \n",
       "2                    23                 7                4        1   \n",
       "4                    23                 7                5        1   \n",
       "5                    23                 7                6        1   \n",
       "6                    22                 7                6        1   \n",
       "..                  ...               ...              ...      ...   \n",
       "733                  22                 7                4        1   \n",
       "735                  14                 7                3        1   \n",
       "736                  11                 7                3        1   \n",
       "738                   0                 0                4        2   \n",
       "739                   0                 0                6        3   \n",
       "\n",
       "     Transportation expense  Distance from Residence to Work  Service time  \\\n",
       "0                       289                               36            13   \n",
       "2                       179                               51            18   \n",
       "4                       289                               36            13   \n",
       "5                       179                               51            18   \n",
       "6                       361                               52             3   \n",
       "..                      ...                              ...           ...   \n",
       "733                     225                               26             9   \n",
       "735                     289                               36            13   \n",
       "736                     235                               11            14   \n",
       "738                     231                               35            14   \n",
       "739                     179                               45            14   \n",
       "\n",
       "     Age  Work load Average/day   Hit target  Disciplinary failure  Education  \\\n",
       "0     33                  239554          97                     0          1   \n",
       "2     38                  239554          97                     0          1   \n",
       "4     33                  239554          97                     0          1   \n",
       "5     38                  239554          97                     0          1   \n",
       "6     28                  239554          97                     0          1   \n",
       "..   ...                     ...         ...                   ...        ...   \n",
       "733   28                  264604          93                     0          1   \n",
       "735   33                  264604          93                     0          1   \n",
       "736   37                  264604          93                     0          3   \n",
       "738   39                  271219          95                     0          1   \n",
       "739   53                  271219          95                     0          1   \n",
       "\n",
       "     Son  Social drinker  Social smoker  Pet  Weight  Height  Body mass index  \n",
       "0      2               1              0    1      90     172               30  \n",
       "2      0               1              0    0      89     170               31  \n",
       "4      2               1              0    1      90     172               30  \n",
       "5      0               1              0    0      89     170               31  \n",
       "6      1               1              0    4      80     172               27  \n",
       "..   ...             ...            ...  ...     ...     ...              ...  \n",
       "733    1               0              0    2      69     169               24  \n",
       "735    2               1              0    1      90     172               30  \n",
       "736    1               0              0    1      88     172               29  \n",
       "738    2               1              0    2     100     170               35  \n",
       "739    1               0              0    1      77     175               25  \n",
       "\n",
       "[576 rows x 19 columns]"
      ]
     },
     "execution_count": 58,
     "metadata": {},
     "output_type": "execute_result"
    }
   ],
   "source": [
    "#Scalling the training Dataset\n",
    "from sklearn.preprocessing import StandardScaler\n",
    "sc=StandardScaler()\n",
    "x=sc.fit_transform(df_x)\n",
    "x=pd.DataFrame(df_x,columns=df_x.columns)\n",
    "x"
   ]
  },
  {
   "cell_type": "markdown",
   "metadata": {},
   "source": [
    "# Machine Leaning to find the Absenteeism time in hours"
   ]
  },
  {
   "cell_type": "code",
   "execution_count": 59,
   "metadata": {},
   "outputs": [
    {
     "data": {
      "text/plain": [
       "-0.9395392013975981"
      ]
     },
     "execution_count": 59,
     "metadata": {},
     "output_type": "execute_result"
    }
   ],
   "source": [
    "from sklearn.linear_model import LinearRegression\n",
    "from sklearn.model_selection import train_test_split,GridSearchCV,cross_val_score\n",
    "from sklearn.metrics import r2_score,mean_absolute_error,mean_squared_error\n",
    "train_x,test_x,train_y,test_y=train_test_split(x,y,random_state=42,test_size=0.25)\n",
    "Lr=LinearRegression()\n",
    "Lr.fit(train_x,train_y)\n",
    "pred=Lr.predict(test_x)\n",
    "r2_scr=r2_score(pred,test_y)\n",
    "r2_scr"
   ]
  },
  {
   "cell_type": "code",
   "execution_count": 60,
   "metadata": {},
   "outputs": [
    {
     "name": "stdout",
     "output_type": "stream",
     "text": [
      "Mean absolute Error 2.829902851094686\n",
      "Mean Squared Error 17.28991239271503\n"
     ]
    }
   ],
   "source": [
    "print(\"Mean absolute Error\",mean_absolute_error(pred,test_y))\n",
    "print(\"Mean Squared Error\",mean_squared_error(pred,test_y))"
   ]
  },
  {
   "cell_type": "code",
   "execution_count": 61,
   "metadata": {},
   "outputs": [
    {
     "name": "stdout",
     "output_type": "stream",
     "text": [
      "[ 0.20562757  0.14101238  0.06846176  0.07646834 -0.06752096]\n",
      "0.0848098202831595\n"
     ]
    }
   ],
   "source": [
    "#Checking if the model is under or Overfitting\n",
    "a_score=cross_val_score(Lr,x,y,cv=5,scoring='r2')\n",
    "print(a_score)\n",
    "print(np.mean(a_score))"
   ]
  },
  {
   "cell_type": "markdown",
   "metadata": {},
   "source": [
    "As the r2 score is -0.9395392013975981 means the model predicts negatively. Also the cross_val_score is very bad.\n",
    "\n",
    "The model learns not good with Linear Regression So we convert the problem into to classification problem Taking the Absenteeism time in hours as categorical values."
   ]
  },
  {
   "cell_type": "markdown",
   "metadata": {},
   "source": [
    "# Machine Learning"
   ]
  },
  {
   "cell_type": "code",
   "execution_count": 62,
   "metadata": {},
   "outputs": [
    {
     "name": "stdout",
     "output_type": "stream",
     "text": [
      "Max accuracy score corresponding to  42  is  0.4027777777777778\n",
      "Max accuracy score corresponding to  43  is  0.4375\n",
      "Max accuracy score corresponding to  43  is  0.4375\n",
      "Max accuracy score corresponding to  45  is  0.4652777777777778\n",
      "Max accuracy score corresponding to  45  is  0.4652777777777778\n",
      "Max accuracy score corresponding to  45  is  0.4652777777777778\n",
      "Max accuracy score corresponding to  45  is  0.4652777777777778\n",
      "Max accuracy score corresponding to  45  is  0.4652777777777778\n",
      "Max accuracy score corresponding to  45  is  0.4652777777777778\n",
      "Max accuracy score corresponding to  45  is  0.4652777777777778\n",
      "Max accuracy score corresponding to  45  is  0.4652777777777778\n",
      "Max accuracy score corresponding to  45  is  0.4652777777777778\n",
      "Max accuracy score corresponding to  45  is  0.4652777777777778\n",
      "Max accuracy score corresponding to  45  is  0.4652777777777778\n",
      "Max accuracy score corresponding to  45  is  0.4652777777777778\n",
      "Max accuracy score corresponding to  57  is  0.4722222222222222\n",
      "Max accuracy score corresponding to  57  is  0.4722222222222222\n",
      "Max accuracy score corresponding to  57  is  0.4722222222222222\n",
      "Max accuracy score corresponding to  57  is  0.4722222222222222\n",
      "Max accuracy score corresponding to  57  is  0.4722222222222222\n",
      "Max accuracy score corresponding to  57  is  0.4722222222222222\n",
      "Max accuracy score corresponding to  57  is  0.4722222222222222\n",
      "Max accuracy score corresponding to  57  is  0.4722222222222222\n",
      "Max accuracy score corresponding to  57  is  0.4722222222222222\n",
      "Max accuracy score corresponding to  57  is  0.4722222222222222\n",
      "Max accuracy score corresponding to  57  is  0.4722222222222222\n",
      "Max accuracy score corresponding to  68  is  0.5277777777777778\n",
      "Max accuracy score corresponding to  68  is  0.5277777777777778\n",
      "Max accuracy score corresponding to  68  is  0.5277777777777778\n",
      "Max accuracy score corresponding to  68  is  0.5277777777777778\n",
      "Max accuracy score corresponding to  68  is  0.5277777777777778\n",
      "Max accuracy score corresponding to  68  is  0.5277777777777778\n",
      "Max accuracy score corresponding to  68  is  0.5277777777777778\n",
      "Max accuracy score corresponding to  68  is  0.5277777777777778\n",
      "Max accuracy score corresponding to  68  is  0.5277777777777778\n",
      "Max accuracy score corresponding to  68  is  0.5277777777777778\n",
      "Max accuracy score corresponding to  68  is  0.5277777777777778\n",
      "Max accuracy score corresponding to  68  is  0.5277777777777778\n",
      "Max accuracy score corresponding to  68  is  0.5277777777777778\n",
      "Max accuracy score corresponding to  68  is  0.5277777777777778\n",
      "Max accuracy score corresponding to  68  is  0.5277777777777778\n",
      "Max accuracy score corresponding to  68  is  0.5277777777777778\n",
      "Max accuracy score corresponding to  68  is  0.5277777777777778\n",
      "Max accuracy score corresponding to  68  is  0.5277777777777778\n",
      "Max accuracy score corresponding to  68  is  0.5277777777777778\n",
      "Max accuracy score corresponding to  68  is  0.5277777777777778\n",
      "Max accuracy score corresponding to  68  is  0.5277777777777778\n",
      "Max accuracy score corresponding to  68  is  0.5277777777777778\n",
      "Max accuracy score corresponding to  68  is  0.5277777777777778\n",
      "Max accuracy score corresponding to  68  is  0.5277777777777778\n",
      "Max accuracy score corresponding to  68  is  0.5277777777777778\n",
      "Max accuracy score corresponding to  68  is  0.5277777777777778\n",
      "Max accuracy score corresponding to  68  is  0.5277777777777778\n",
      "Max accuracy score corresponding to  68  is  0.5277777777777778\n",
      "Max accuracy score corresponding to  68  is  0.5277777777777778\n",
      "Max accuracy score corresponding to  68  is  0.5277777777777778\n",
      "Max accuracy score corresponding to  68  is  0.5277777777777778\n",
      "Max accuracy score corresponding to  68  is  0.5277777777777778\n",
      "Max accuracy score corresponding to  68  is  0.5277777777777778\n"
     ]
    }
   ],
   "source": [
    "from sklearn.svm import SVC\n",
    "from sklearn.metrics import accuracy_score,confusion_matrix,classification_report\n",
    "max_acc_scr=0\n",
    "for r_state in range(42,101):\n",
    "    train_x,test_x,train_y,test_y=train_test_split(x,y,random_state=r_state,test_size=0.25)\n",
    "    sv=SVC()\n",
    "    sv.fit(train_x,train_y)\n",
    "    pred=sv.predict(test_x)\n",
    "    acc_scr=accuracy_score(pred,test_y)\n",
    "    if acc_scr>max_acc_scr:\n",
    "        max_acc_scr=acc_scr\n",
    "        final_r_state=r_state\n",
    "    print('Max accuracy score corresponding to ',final_r_state,' is ',max_acc_scr)    "
   ]
  },
  {
   "cell_type": "code",
   "execution_count": 63,
   "metadata": {},
   "outputs": [
    {
     "name": "stdout",
     "output_type": "stream",
     "text": [
      "[0.33333333 0.36440678 0.32478632 0.30088496 0.31481481]\n",
      "0.32764524166954045\n"
     ]
    }
   ],
   "source": [
    "#Checking if the model is under or overfitting\n",
    "a_score=cross_val_score(sv,x,y,cv=5)\n",
    "print(a_score)\n",
    "print(np.mean(a_score))"
   ]
  },
  {
   "cell_type": "code",
   "execution_count": 64,
   "metadata": {},
   "outputs": [],
   "source": [
    "train_x,test_x,train_y,test_y=train_test_split(x,y,random_state=68,test_size=0.25)"
   ]
  },
  {
   "cell_type": "code",
   "execution_count": 72,
   "metadata": {},
   "outputs": [
    {
     "name": "stdout",
     "output_type": "stream",
     "text": [
      "Predicted Absenteeism time in hours [8 8 8 8 8 8 8 8 8 8 2 8 8 8 8 3 8 8 8 8 8 8 8 8 8 8 8 3 1 8 2 3 8 3 2 8 2\n",
      " 8 8 2 8 3 3 2 2 2 2 8 3 8 8 8 8 8 8 3 8 8 1 8 8 8 8 8 8 2 3 8 8 3 8 3 3 8\n",
      " 8 8 8 3 8 8 8 8 8 8 8 8 3 8 8 8 2 8 8 3 8 8 8 8 2 8 8 1 8 8 8 2 8 2 4 8 8\n",
      " 8 4 8 8 2 2 3 8 8 8 8 4 8 8 8 8 2 2 8 2 8 8 8 8 8 8 8 3 2 1 8 8 8]\n"
     ]
    }
   ],
   "source": [
    "sv=SVC()\n",
    "sv.fit(train_x,train_y)\n",
    "svpred=sv.predict(test_x)\n",
    "print('Predicted Absenteeism time in hours',svpred)"
   ]
  },
  {
   "cell_type": "code",
   "execution_count": 77,
   "metadata": {},
   "outputs": [
    {
     "name": "stdout",
     "output_type": "stream",
     "text": [
      "Accuracy Score  0.5277777777777778\n",
      "Confusion Matrix \n",
      " [[ 0  0  0  0  0  0  0  0  0  0  0]\n",
      " [ 0  3  0  1  0  0  0  0  0  0  0]\n",
      " [ 0  0 16  3  1  0  0  0  0  0  0]\n",
      " [ 0  1  4 10  0  0  2  0  0  0  0]\n",
      " [ 0  1  2  0  0  0  0  0  0  0  0]\n",
      " [ 0  0  0  0  0  0  0  0  0  0  0]\n",
      " [ 1 16 14  6  8  1 47  2  3  1  1]\n",
      " [ 0  0  0  0  0  0  0  0  0  0  0]\n",
      " [ 0  0  0  0  0  0  0  0  0  0  0]\n",
      " [ 0  0  0  0  0  0  0  0  0  0  0]\n",
      " [ 0  0  0  0  0  0  0  0  0  0  0]]\n",
      "Classification Report \n",
      "               precision    recall  f1-score   support\n",
      "\n",
      "           0       0.00      0.00      0.00         0\n",
      "           1       0.14      0.75      0.24         4\n",
      "           2       0.44      0.80      0.57        20\n",
      "           3       0.50      0.59      0.54        17\n",
      "           4       0.00      0.00      0.00         3\n",
      "           5       0.00      0.00      0.00         0\n",
      "           8       0.96      0.47      0.63       100\n",
      "          16       0.00      0.00      0.00         0\n",
      "          24       0.00      0.00      0.00         0\n",
      "          32       0.00      0.00      0.00         0\n",
      "          40       0.00      0.00      0.00         0\n",
      "\n",
      "    accuracy                           0.53       144\n",
      "   macro avg       0.19      0.24      0.18       144\n",
      "weighted avg       0.79      0.53      0.59       144\n",
      "\n"
     ]
    }
   ],
   "source": [
    "print('Accuracy Score ',accuracy_score(svpred,test_y))\n",
    "print('Confusion Matrix \\n',confusion_matrix(svpred,test_y))\n",
    "print('Classification Report \\n',classification_report(svpred,test_y))"
   ]
  },
  {
   "cell_type": "code",
   "execution_count": 66,
   "metadata": {},
   "outputs": [
    {
     "name": "stdout",
     "output_type": "stream",
     "text": [
      "{'criterion': 'gini'}\n",
      "0.3611111111111111\n"
     ]
    },
    {
     "name": "stderr",
     "output_type": "stream",
     "text": [
      "C:\\Users\\Biranchi\\Anaconda3\\lib\\site-packages\\sklearn\\model_selection\\_search.py:814: DeprecationWarning: The default of the `iid` parameter will change from True to False in version 0.22 and will be removed in 0.24. This will change numeric results when test-set sizes are unequal.\n",
      "  DeprecationWarning)\n"
     ]
    }
   ],
   "source": [
    "from sklearn.tree import DecisionTreeClassifier\n",
    "dt=DecisionTreeClassifier()\n",
    "param={'criterion':['gini','entropy']}\n",
    "gd_sr=GridSearchCV(dt,param_grid=param,cv=5,scoring='accuracy')\n",
    "gd_sr.fit(train_x,train_y)\n",
    "print(gd_sr.best_params_)\n",
    "print(gd_sr.best_score_)"
   ]
  },
  {
   "cell_type": "code",
   "execution_count": 67,
   "metadata": {},
   "outputs": [
    {
     "name": "stdout",
     "output_type": "stream",
     "text": [
      "{'n_neighbors': 200}\n",
      "0.2824074074074074\n"
     ]
    },
    {
     "name": "stderr",
     "output_type": "stream",
     "text": [
      "C:\\Users\\Biranchi\\Anaconda3\\lib\\site-packages\\sklearn\\model_selection\\_search.py:814: DeprecationWarning: The default of the `iid` parameter will change from True to False in version 0.22 and will be removed in 0.24. This will change numeric results when test-set sizes are unequal.\n",
      "  DeprecationWarning)\n"
     ]
    }
   ],
   "source": [
    "from sklearn.neighbors import KNeighborsClassifier\n",
    "knn=KNeighborsClassifier()\n",
    "param={'n_neighbors':[50,100,150,200,250,300]}\n",
    "gd_sr=GridSearchCV(knn,param_grid=param,cv=5,scoring='accuracy')\n",
    "gd_sr.fit(train_x,train_y)\n",
    "print(gd_sr.best_params_)\n",
    "print(gd_sr.best_score_)"
   ]
  },
  {
   "cell_type": "code",
   "execution_count": 76,
   "metadata": {},
   "outputs": [
    {
     "name": "stdout",
     "output_type": "stream",
     "text": [
      "Accuracy Score 0.24305555555555555\n"
     ]
    }
   ],
   "source": [
    "from sklearn.naive_bayes import MultinomialNB\n",
    "mnb=MultinomialNB()\n",
    "mnb.fit(train_x,train_y)\n",
    "mnpred=mnb.predict(test_x)\n",
    "print('Accuracy Score',accuracy_score(mnpred,test_y))"
   ]
  },
  {
   "cell_type": "code",
   "execution_count": 69,
   "metadata": {},
   "outputs": [
    {
     "name": "stdout",
     "output_type": "stream",
     "text": [
      "{'n_estimators': 50}\n",
      "0.41898148148148145\n"
     ]
    },
    {
     "name": "stderr",
     "output_type": "stream",
     "text": [
      "C:\\Users\\Biranchi\\Anaconda3\\lib\\site-packages\\sklearn\\model_selection\\_search.py:814: DeprecationWarning: The default of the `iid` parameter will change from True to False in version 0.22 and will be removed in 0.24. This will change numeric results when test-set sizes are unequal.\n",
      "  DeprecationWarning)\n"
     ]
    }
   ],
   "source": [
    "from sklearn.ensemble import RandomForestClassifier\n",
    "rf=RandomForestClassifier()\n",
    "param={'n_estimators':[50,100,150,200,250,300,350,400]}\n",
    "gd_sr=GridSearchCV(rf,param_grid=param,cv=5,scoring='accuracy')\n",
    "gd_sr.fit(train_x,train_y)\n",
    "print(gd_sr.best_params_)\n",
    "print(gd_sr.best_score_)"
   ]
  },
  {
   "cell_type": "code",
   "execution_count": 70,
   "metadata": {},
   "outputs": [
    {
     "name": "stderr",
     "output_type": "stream",
     "text": [
      "C:\\Users\\Biranchi\\Anaconda3\\lib\\site-packages\\sklearn\\model_selection\\_search.py:814: DeprecationWarning: The default of the `iid` parameter will change from True to False in version 0.22 and will be removed in 0.24. This will change numeric results when test-set sizes are unequal.\n",
      "  DeprecationWarning)\n"
     ]
    },
    {
     "name": "stdout",
     "output_type": "stream",
     "text": [
      "{'n_estimators': 50}\n",
      "0.4050925925925926\n"
     ]
    }
   ],
   "source": [
    "from sklearn.ensemble import GradientBoostingClassifier\n",
    "gnb=GradientBoostingClassifier()\n",
    "param={'n_estimators':[50,100,150,200,250,300,350,400]}\n",
    "gd_sr=GridSearchCV(gnb,param_grid=param,cv=5,scoring='accuracy')\n",
    "gd_sr.fit(train_x,train_y)\n",
    "print(gd_sr.best_params_)\n",
    "print(gd_sr.best_score_)"
   ]
  },
  {
   "cell_type": "code",
   "execution_count": 71,
   "metadata": {},
   "outputs": [
    {
     "name": "stdout",
     "output_type": "stream",
     "text": [
      "{'n_estimators': 50}\n",
      "0.4050925925925926\n"
     ]
    },
    {
     "name": "stderr",
     "output_type": "stream",
     "text": [
      "C:\\Users\\Biranchi\\Anaconda3\\lib\\site-packages\\sklearn\\model_selection\\_search.py:814: DeprecationWarning: The default of the `iid` parameter will change from True to False in version 0.22 and will be removed in 0.24. This will change numeric results when test-set sizes are unequal.\n",
      "  DeprecationWarning)\n"
     ]
    }
   ],
   "source": [
    "from sklearn.ensemble import AdaBoostClassifier\n",
    "Ad=AdaBoostClassifier()\n",
    "param={'n_estimators':[50,100,150,200,250,300,350,400]}\n",
    "gd_sr=GridSearchCV(Ad,param_grid=param,cv=5,scoring='accuracy')\n",
    "gd_sr.fit(train_x,train_y)\n",
    "print(gd_sr.best_params_)\n",
    "print(gd_sr.best_score_)"
   ]
  },
  {
   "cell_type": "markdown",
   "metadata": {},
   "source": [
    "From all the Machine Learning models Support vector Machine Classifier has the highest accuracy score of 0.5277777777777778 (52.77%).So we save the prediction of it and save the model for Production."
   ]
  },
  {
   "cell_type": "code",
   "execution_count": 79,
   "metadata": {},
   "outputs": [
    {
     "data": {
      "text/plain": [
       "array([8], dtype=int64)"
      ]
     },
     "execution_count": 79,
     "metadata": {},
     "output_type": "execute_result"
    }
   ],
   "source": [
    "Test1=np.array([2,6,3,2,179,12,19,39,265536,92,0,3,2,0,1,2,79,153,45]).reshape(1,-1)\n",
    "sv.predict(Test1)"
   ]
  },
  {
   "cell_type": "code",
   "execution_count": 82,
   "metadata": {},
   "outputs": [
    {
     "data": {
      "text/plain": [
       "array([8], dtype=int64)"
      ]
     },
     "execution_count": 82,
     "metadata": {},
     "output_type": "execute_result"
    }
   ],
   "source": [
    "Test2=np.array([8,6,3,4,156,2,29,19,146536,52,1,3,2,0,0,2,56,180,26]).reshape(1,-1)\n",
    "sv.predict(Test2)"
   ]
  },
  {
   "cell_type": "code",
   "execution_count": 83,
   "metadata": {},
   "outputs": [],
   "source": [
    "#Saving the Prediction\n",
    "df=pd.DataFrame(svpred)\n",
    "df.to_csv('pred_Absenteeism_time_in_hours.csv')"
   ]
  },
  {
   "cell_type": "code",
   "execution_count": 84,
   "metadata": {},
   "outputs": [
    {
     "name": "stderr",
     "output_type": "stream",
     "text": [
      "C:\\Users\\Biranchi\\Anaconda3\\lib\\site-packages\\sklearn\\externals\\joblib\\__init__.py:15: DeprecationWarning: sklearn.externals.joblib is deprecated in 0.21 and will be removed in 0.23. Please import this functionality directly from joblib, which can be installed with: pip install joblib. If this warning is raised when loading pickled models, you may need to re-serialize those models with scikit-learn 0.21+.\n",
      "  warnings.warn(msg, category=DeprecationWarning)\n"
     ]
    },
    {
     "data": {
      "text/plain": [
       "['pred_Absenteeism_time_in_hours.obj']"
      ]
     },
     "execution_count": 84,
     "metadata": {},
     "output_type": "execute_result"
    }
   ],
   "source": [
    "#Saving the model\n",
    "from sklearn.externals import joblib\n",
    "joblib.dump(sv,'pred_Absenteeism_time_in_hours.obj')"
   ]
  },
  {
   "cell_type": "code",
   "execution_count": null,
   "metadata": {},
   "outputs": [],
   "source": []
  }
 ],
 "metadata": {
  "kernelspec": {
   "display_name": "Python 3",
   "language": "python",
   "name": "python3"
  },
  "language_info": {
   "codemirror_mode": {
    "name": "ipython",
    "version": 3
   },
   "file_extension": ".py",
   "mimetype": "text/x-python",
   "name": "python",
   "nbconvert_exporter": "python",
   "pygments_lexer": "ipython3",
   "version": "3.7.4"
  }
 },
 "nbformat": 4,
 "nbformat_minor": 2
}
