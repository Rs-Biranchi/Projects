{
 "cells": [
  {
   "cell_type": "code",
   "execution_count": 1,
   "metadata": {},
   "outputs": [],
   "source": [
    "import pandas as pd\n",
    "import numpy as np\n",
    "import matplotlib.pyplot as plt\n",
    "import seaborn as sns"
   ]
  },
  {
   "cell_type": "code",
   "execution_count": 31,
   "metadata": {},
   "outputs": [
    {
     "data": {
      "text/html": [
       "<div>\n",
       "<style scoped>\n",
       "    .dataframe tbody tr th:only-of-type {\n",
       "        vertical-align: middle;\n",
       "    }\n",
       "\n",
       "    .dataframe tbody tr th {\n",
       "        vertical-align: top;\n",
       "    }\n",
       "\n",
       "    .dataframe thead th {\n",
       "        text-align: right;\n",
       "    }\n",
       "</style>\n",
       "<table border=\"1\" class=\"dataframe\">\n",
       "  <thead>\n",
       "    <tr style=\"text-align: right;\">\n",
       "      <th></th>\n",
       "      <th>NAME</th>\n",
       "      <th>JOB TITLE</th>\n",
       "      <th>DEPARTMENT</th>\n",
       "      <th>EMPLOYEE ANNUAL SALARY</th>\n",
       "      <th>ESTIMATED ANNUAL SALARY MINUS FURLOUGHS</th>\n",
       "    </tr>\n",
       "  </thead>\n",
       "  <tbody>\n",
       "    <tr>\n",
       "      <td>0</td>\n",
       "      <td>AARON,  ELVIA J</td>\n",
       "      <td>WATER RATE TAKER</td>\n",
       "      <td>WATER MGMNT</td>\n",
       "      <td>$81000.00</td>\n",
       "      <td>$73862.00</td>\n",
       "    </tr>\n",
       "    <tr>\n",
       "      <td>1</td>\n",
       "      <td>AARON,  JEFFERY M</td>\n",
       "      <td>POLICE OFFICER</td>\n",
       "      <td>POLICE</td>\n",
       "      <td>$74628.00</td>\n",
       "      <td>$74628.00</td>\n",
       "    </tr>\n",
       "    <tr>\n",
       "      <td>2</td>\n",
       "      <td>AARON,  KIMBERLEI R</td>\n",
       "      <td>CHIEF CONTRACT EXPEDITER</td>\n",
       "      <td>FLEET MANAGEMNT</td>\n",
       "      <td>$77280.00</td>\n",
       "      <td>$70174.00</td>\n",
       "    </tr>\n",
       "    <tr>\n",
       "      <td>3</td>\n",
       "      <td>ABAD JR,  VICENTE M</td>\n",
       "      <td>CIVIL ENGINEER IV</td>\n",
       "      <td>WATER MGMNT</td>\n",
       "      <td>$96276.00</td>\n",
       "      <td>$96276.00</td>\n",
       "    </tr>\n",
       "    <tr>\n",
       "      <td>4</td>\n",
       "      <td>ABBATACOLA,  ROBERT J</td>\n",
       "      <td>ELECTRICAL MECHANIC</td>\n",
       "      <td>WATER MGMNT</td>\n",
       "      <td>$84032.00</td>\n",
       "      <td>$76627.00</td>\n",
       "    </tr>\n",
       "    <tr>\n",
       "      <td>...</td>\n",
       "      <td>...</td>\n",
       "      <td>...</td>\n",
       "      <td>...</td>\n",
       "      <td>...</td>\n",
       "      <td>...</td>\n",
       "    </tr>\n",
       "    <tr>\n",
       "      <td>34213</td>\n",
       "      <td>ZYMANTAS,  MARK E</td>\n",
       "      <td>POLICE OFFICER</td>\n",
       "      <td>POLICE</td>\n",
       "      <td>$74628.00</td>\n",
       "      <td>$74628.00</td>\n",
       "    </tr>\n",
       "    <tr>\n",
       "      <td>34214</td>\n",
       "      <td>ZYNIEWICZ,  ROBERT J</td>\n",
       "      <td>CONSTRUCTION LABORER</td>\n",
       "      <td>WATER MGMNT</td>\n",
       "      <td>$73216.00</td>\n",
       "      <td>$66764.00</td>\n",
       "    </tr>\n",
       "    <tr>\n",
       "      <td>34215</td>\n",
       "      <td>ZYRKOWSKI,  CARLO E</td>\n",
       "      <td>POLICE OFFICER</td>\n",
       "      <td>POLICE</td>\n",
       "      <td>$77238.00</td>\n",
       "      <td>$77238.00</td>\n",
       "    </tr>\n",
       "    <tr>\n",
       "      <td>34216</td>\n",
       "      <td>ZYSKO,  RICHARD</td>\n",
       "      <td>LIEUTENANT</td>\n",
       "      <td>FIRE</td>\n",
       "      <td>$101958.00</td>\n",
       "      <td>$101958.00</td>\n",
       "    </tr>\n",
       "    <tr>\n",
       "      <td>34217</td>\n",
       "      <td>ZYSKOWSKI,  DARIUSZ</td>\n",
       "      <td>CHIEF DATA BASE ANALYST</td>\n",
       "      <td>DoIT</td>\n",
       "      <td>$110352.00</td>\n",
       "      <td>$100205.00</td>\n",
       "    </tr>\n",
       "  </tbody>\n",
       "</table>\n",
       "<p>34218 rows × 5 columns</p>\n",
       "</div>"
      ],
      "text/plain": [
       "                        NAME                 JOB TITLE       DEPARTMENT  \\\n",
       "0            AARON,  ELVIA J          WATER RATE TAKER      WATER MGMNT   \n",
       "1          AARON,  JEFFERY M            POLICE OFFICER           POLICE   \n",
       "2        AARON,  KIMBERLEI R  CHIEF CONTRACT EXPEDITER  FLEET MANAGEMNT   \n",
       "3        ABAD JR,  VICENTE M         CIVIL ENGINEER IV      WATER MGMNT   \n",
       "4      ABBATACOLA,  ROBERT J       ELECTRICAL MECHANIC      WATER MGMNT   \n",
       "...                      ...                       ...              ...   \n",
       "34213      ZYMANTAS,  MARK E            POLICE OFFICER           POLICE   \n",
       "34214   ZYNIEWICZ,  ROBERT J      CONSTRUCTION LABORER      WATER MGMNT   \n",
       "34215    ZYRKOWSKI,  CARLO E            POLICE OFFICER           POLICE   \n",
       "34216        ZYSKO,  RICHARD                LIEUTENANT             FIRE   \n",
       "34217    ZYSKOWSKI,  DARIUSZ   CHIEF DATA BASE ANALYST             DoIT   \n",
       "\n",
       "      EMPLOYEE ANNUAL SALARY ESTIMATED ANNUAL SALARY MINUS FURLOUGHS  \n",
       "0                  $81000.00                               $73862.00  \n",
       "1                  $74628.00                               $74628.00  \n",
       "2                  $77280.00                               $70174.00  \n",
       "3                  $96276.00                               $96276.00  \n",
       "4                  $84032.00                               $76627.00  \n",
       "...                      ...                                     ...  \n",
       "34213              $74628.00                               $74628.00  \n",
       "34214              $73216.00                               $66764.00  \n",
       "34215              $77238.00                               $77238.00  \n",
       "34216             $101958.00                              $101958.00  \n",
       "34217             $110352.00                              $100205.00  \n",
       "\n",
       "[34218 rows x 5 columns]"
      ]
     },
     "execution_count": 31,
     "metadata": {},
     "output_type": "execute_result"
    }
   ],
   "source": [
    "data=pd.read_csv('Salary_Data.csv')\n",
    "data"
   ]
  },
  {
   "cell_type": "code",
   "execution_count": 32,
   "metadata": {},
   "outputs": [],
   "source": [
    "data=pd.DataFrame(data=data)"
   ]
  },
  {
   "cell_type": "code",
   "execution_count": 33,
   "metadata": {},
   "outputs": [
    {
     "data": {
      "text/html": [
       "<div>\n",
       "<style scoped>\n",
       "    .dataframe tbody tr th:only-of-type {\n",
       "        vertical-align: middle;\n",
       "    }\n",
       "\n",
       "    .dataframe tbody tr th {\n",
       "        vertical-align: top;\n",
       "    }\n",
       "\n",
       "    .dataframe thead th {\n",
       "        text-align: right;\n",
       "    }\n",
       "</style>\n",
       "<table border=\"1\" class=\"dataframe\">\n",
       "  <thead>\n",
       "    <tr style=\"text-align: right;\">\n",
       "      <th></th>\n",
       "      <th>NAME</th>\n",
       "      <th>JOB TITLE</th>\n",
       "      <th>DEPARTMENT</th>\n",
       "      <th>EMPLOYEE ANNUAL SALARY</th>\n",
       "      <th>ESTIMATED ANNUAL SALARY MINUS FURLOUGHS</th>\n",
       "    </tr>\n",
       "  </thead>\n",
       "  <tbody>\n",
       "    <tr>\n",
       "      <td>0</td>\n",
       "      <td>AARON,  ELVIA J</td>\n",
       "      <td>WATER RATE TAKER</td>\n",
       "      <td>WATER MGMNT</td>\n",
       "      <td>$81000.00</td>\n",
       "      <td>$73862.00</td>\n",
       "    </tr>\n",
       "    <tr>\n",
       "      <td>1</td>\n",
       "      <td>AARON,  JEFFERY M</td>\n",
       "      <td>POLICE OFFICER</td>\n",
       "      <td>POLICE</td>\n",
       "      <td>$74628.00</td>\n",
       "      <td>$74628.00</td>\n",
       "    </tr>\n",
       "    <tr>\n",
       "      <td>2</td>\n",
       "      <td>AARON,  KIMBERLEI R</td>\n",
       "      <td>CHIEF CONTRACT EXPEDITER</td>\n",
       "      <td>FLEET MANAGEMNT</td>\n",
       "      <td>$77280.00</td>\n",
       "      <td>$70174.00</td>\n",
       "    </tr>\n",
       "    <tr>\n",
       "      <td>3</td>\n",
       "      <td>ABAD JR,  VICENTE M</td>\n",
       "      <td>CIVIL ENGINEER IV</td>\n",
       "      <td>WATER MGMNT</td>\n",
       "      <td>$96276.00</td>\n",
       "      <td>$96276.00</td>\n",
       "    </tr>\n",
       "    <tr>\n",
       "      <td>4</td>\n",
       "      <td>ABBATACOLA,  ROBERT J</td>\n",
       "      <td>ELECTRICAL MECHANIC</td>\n",
       "      <td>WATER MGMNT</td>\n",
       "      <td>$84032.00</td>\n",
       "      <td>$76627.00</td>\n",
       "    </tr>\n",
       "    <tr>\n",
       "      <td>...</td>\n",
       "      <td>...</td>\n",
       "      <td>...</td>\n",
       "      <td>...</td>\n",
       "      <td>...</td>\n",
       "      <td>...</td>\n",
       "    </tr>\n",
       "    <tr>\n",
       "      <td>34213</td>\n",
       "      <td>ZYMANTAS,  MARK E</td>\n",
       "      <td>POLICE OFFICER</td>\n",
       "      <td>POLICE</td>\n",
       "      <td>$74628.00</td>\n",
       "      <td>$74628.00</td>\n",
       "    </tr>\n",
       "    <tr>\n",
       "      <td>34214</td>\n",
       "      <td>ZYNIEWICZ,  ROBERT J</td>\n",
       "      <td>CONSTRUCTION LABORER</td>\n",
       "      <td>WATER MGMNT</td>\n",
       "      <td>$73216.00</td>\n",
       "      <td>$66764.00</td>\n",
       "    </tr>\n",
       "    <tr>\n",
       "      <td>34215</td>\n",
       "      <td>ZYRKOWSKI,  CARLO E</td>\n",
       "      <td>POLICE OFFICER</td>\n",
       "      <td>POLICE</td>\n",
       "      <td>$77238.00</td>\n",
       "      <td>$77238.00</td>\n",
       "    </tr>\n",
       "    <tr>\n",
       "      <td>34216</td>\n",
       "      <td>ZYSKO,  RICHARD</td>\n",
       "      <td>LIEUTENANT</td>\n",
       "      <td>FIRE</td>\n",
       "      <td>$101958.00</td>\n",
       "      <td>$101958.00</td>\n",
       "    </tr>\n",
       "    <tr>\n",
       "      <td>34217</td>\n",
       "      <td>ZYSKOWSKI,  DARIUSZ</td>\n",
       "      <td>CHIEF DATA BASE ANALYST</td>\n",
       "      <td>DoIT</td>\n",
       "      <td>$110352.00</td>\n",
       "      <td>$100205.00</td>\n",
       "    </tr>\n",
       "  </tbody>\n",
       "</table>\n",
       "<p>34218 rows × 5 columns</p>\n",
       "</div>"
      ],
      "text/plain": [
       "                        NAME                 JOB TITLE       DEPARTMENT  \\\n",
       "0            AARON,  ELVIA J          WATER RATE TAKER      WATER MGMNT   \n",
       "1          AARON,  JEFFERY M            POLICE OFFICER           POLICE   \n",
       "2        AARON,  KIMBERLEI R  CHIEF CONTRACT EXPEDITER  FLEET MANAGEMNT   \n",
       "3        ABAD JR,  VICENTE M         CIVIL ENGINEER IV      WATER MGMNT   \n",
       "4      ABBATACOLA,  ROBERT J       ELECTRICAL MECHANIC      WATER MGMNT   \n",
       "...                      ...                       ...              ...   \n",
       "34213      ZYMANTAS,  MARK E            POLICE OFFICER           POLICE   \n",
       "34214   ZYNIEWICZ,  ROBERT J      CONSTRUCTION LABORER      WATER MGMNT   \n",
       "34215    ZYRKOWSKI,  CARLO E            POLICE OFFICER           POLICE   \n",
       "34216        ZYSKO,  RICHARD                LIEUTENANT             FIRE   \n",
       "34217    ZYSKOWSKI,  DARIUSZ   CHIEF DATA BASE ANALYST             DoIT   \n",
       "\n",
       "      EMPLOYEE ANNUAL SALARY ESTIMATED ANNUAL SALARY MINUS FURLOUGHS  \n",
       "0                  $81000.00                               $73862.00  \n",
       "1                  $74628.00                               $74628.00  \n",
       "2                  $77280.00                               $70174.00  \n",
       "3                  $96276.00                               $96276.00  \n",
       "4                  $84032.00                               $76627.00  \n",
       "...                      ...                                     ...  \n",
       "34213              $74628.00                               $74628.00  \n",
       "34214              $73216.00                               $66764.00  \n",
       "34215              $77238.00                               $77238.00  \n",
       "34216             $101958.00                              $101958.00  \n",
       "34217             $110352.00                              $100205.00  \n",
       "\n",
       "[34218 rows x 5 columns]"
      ]
     },
     "execution_count": 33,
     "metadata": {},
     "output_type": "execute_result"
    }
   ],
   "source": [
    "data"
   ]
  },
  {
   "cell_type": "code",
   "execution_count": 34,
   "metadata": {},
   "outputs": [
    {
     "name": "stdout",
     "output_type": "stream",
     "text": [
      "<class 'pandas.core.frame.DataFrame'>\n",
      "RangeIndex: 34218 entries, 0 to 34217\n",
      "Data columns (total 5 columns):\n",
      "NAME                                       34218 non-null object\n",
      "JOB TITLE                                  34218 non-null object\n",
      "DEPARTMENT                                 34218 non-null object\n",
      "EMPLOYEE ANNUAL SALARY                     34218 non-null object\n",
      "ESTIMATED ANNUAL SALARY MINUS FURLOUGHS    34218 non-null object\n",
      "dtypes: object(5)\n",
      "memory usage: 1.3+ MB\n"
     ]
    }
   ],
   "source": [
    "data.info()"
   ]
  },
  {
   "cell_type": "code",
   "execution_count": 38,
   "metadata": {},
   "outputs": [],
   "source": [
    "data['EMPLOYEE ANNUAL SALARY']=data['EMPLOYEE ANNUAL SALARY'].str.replace('$','')\n",
    "data['ESTIMATED ANNUAL SALARY MINUS FURLOUGHS']=data['ESTIMATED ANNUAL SALARY MINUS FURLOUGHS'].str.replace('$','')"
   ]
  },
  {
   "cell_type": "code",
   "execution_count": 40,
   "metadata": {},
   "outputs": [],
   "source": [
    "data['EMPLOYEE ANNUAL SALARY']=data['EMPLOYEE ANNUAL SALARY'].astype(float)\n",
    "data['ESTIMATED ANNUAL SALARY MINUS FURLOUGHS']=data['ESTIMATED ANNUAL SALARY MINUS FURLOUGHS'].astype(float)"
   ]
  },
  {
   "cell_type": "code",
   "execution_count": 20,
   "metadata": {},
   "outputs": [
    {
     "data": {
      "text/html": [
       "<div>\n",
       "<style scoped>\n",
       "    .dataframe tbody tr th:only-of-type {\n",
       "        vertical-align: middle;\n",
       "    }\n",
       "\n",
       "    .dataframe tbody tr th {\n",
       "        vertical-align: top;\n",
       "    }\n",
       "\n",
       "    .dataframe thead th {\n",
       "        text-align: right;\n",
       "    }\n",
       "</style>\n",
       "<table border=\"1\" class=\"dataframe\">\n",
       "  <thead>\n",
       "    <tr style=\"text-align: right;\">\n",
       "      <th></th>\n",
       "      <th>NAME</th>\n",
       "      <th>JOB TITLE</th>\n",
       "      <th>DEPARTMENT</th>\n",
       "      <th>EMPLOYEE ANNUAL SALARY</th>\n",
       "      <th>ESTIMATED ANNUAL SALARY MINUS FURLOUGHS</th>\n",
       "    </tr>\n",
       "  </thead>\n",
       "  <tbody>\n",
       "    <tr>\n",
       "      <td>0</td>\n",
       "      <td>AARON,  ELVIA J</td>\n",
       "      <td>WATER RATE TAKER</td>\n",
       "      <td>WATER MGMNT</td>\n",
       "      <td>81000.00</td>\n",
       "      <td>73862.00</td>\n",
       "    </tr>\n",
       "    <tr>\n",
       "      <td>1</td>\n",
       "      <td>AARON,  JEFFERY M</td>\n",
       "      <td>POLICE OFFICER</td>\n",
       "      <td>POLICE</td>\n",
       "      <td>74628.00</td>\n",
       "      <td>74628.00</td>\n",
       "    </tr>\n",
       "    <tr>\n",
       "      <td>2</td>\n",
       "      <td>AARON,  KIMBERLEI R</td>\n",
       "      <td>CHIEF CONTRACT EXPEDITER</td>\n",
       "      <td>FLEET MANAGEMNT</td>\n",
       "      <td>77280.00</td>\n",
       "      <td>70174.00</td>\n",
       "    </tr>\n",
       "    <tr>\n",
       "      <td>3</td>\n",
       "      <td>ABAD JR,  VICENTE M</td>\n",
       "      <td>CIVIL ENGINEER IV</td>\n",
       "      <td>WATER MGMNT</td>\n",
       "      <td>96276.00</td>\n",
       "      <td>96276.00</td>\n",
       "    </tr>\n",
       "    <tr>\n",
       "      <td>4</td>\n",
       "      <td>ABBATACOLA,  ROBERT J</td>\n",
       "      <td>ELECTRICAL MECHANIC</td>\n",
       "      <td>WATER MGMNT</td>\n",
       "      <td>84032.00</td>\n",
       "      <td>76627.00</td>\n",
       "    </tr>\n",
       "    <tr>\n",
       "      <td>...</td>\n",
       "      <td>...</td>\n",
       "      <td>...</td>\n",
       "      <td>...</td>\n",
       "      <td>...</td>\n",
       "      <td>...</td>\n",
       "    </tr>\n",
       "    <tr>\n",
       "      <td>34213</td>\n",
       "      <td>ZYMANTAS,  MARK E</td>\n",
       "      <td>POLICE OFFICER</td>\n",
       "      <td>POLICE</td>\n",
       "      <td>74628.00</td>\n",
       "      <td>74628.00</td>\n",
       "    </tr>\n",
       "    <tr>\n",
       "      <td>34214</td>\n",
       "      <td>ZYNIEWICZ,  ROBERT J</td>\n",
       "      <td>CONSTRUCTION LABORER</td>\n",
       "      <td>WATER MGMNT</td>\n",
       "      <td>73216.00</td>\n",
       "      <td>66764.00</td>\n",
       "    </tr>\n",
       "    <tr>\n",
       "      <td>34215</td>\n",
       "      <td>ZYRKOWSKI,  CARLO E</td>\n",
       "      <td>POLICE OFFICER</td>\n",
       "      <td>POLICE</td>\n",
       "      <td>77238.00</td>\n",
       "      <td>77238.00</td>\n",
       "    </tr>\n",
       "    <tr>\n",
       "      <td>34216</td>\n",
       "      <td>ZYSKO,  RICHARD</td>\n",
       "      <td>LIEUTENANT</td>\n",
       "      <td>FIRE</td>\n",
       "      <td>101958.00</td>\n",
       "      <td>101958.00</td>\n",
       "    </tr>\n",
       "    <tr>\n",
       "      <td>34217</td>\n",
       "      <td>ZYSKOWSKI,  DARIUSZ</td>\n",
       "      <td>CHIEF DATA BASE ANALYST</td>\n",
       "      <td>DoIT</td>\n",
       "      <td>110352.00</td>\n",
       "      <td>100205.00</td>\n",
       "    </tr>\n",
       "  </tbody>\n",
       "</table>\n",
       "<p>34218 rows × 5 columns</p>\n",
       "</div>"
      ],
      "text/plain": [
       "                        NAME                 JOB TITLE       DEPARTMENT  \\\n",
       "0            AARON,  ELVIA J          WATER RATE TAKER      WATER MGMNT   \n",
       "1          AARON,  JEFFERY M            POLICE OFFICER           POLICE   \n",
       "2        AARON,  KIMBERLEI R  CHIEF CONTRACT EXPEDITER  FLEET MANAGEMNT   \n",
       "3        ABAD JR,  VICENTE M         CIVIL ENGINEER IV      WATER MGMNT   \n",
       "4      ABBATACOLA,  ROBERT J       ELECTRICAL MECHANIC      WATER MGMNT   \n",
       "...                      ...                       ...              ...   \n",
       "34213      ZYMANTAS,  MARK E            POLICE OFFICER           POLICE   \n",
       "34214   ZYNIEWICZ,  ROBERT J      CONSTRUCTION LABORER      WATER MGMNT   \n",
       "34215    ZYRKOWSKI,  CARLO E            POLICE OFFICER           POLICE   \n",
       "34216        ZYSKO,  RICHARD                LIEUTENANT             FIRE   \n",
       "34217    ZYSKOWSKI,  DARIUSZ   CHIEF DATA BASE ANALYST             DoIT   \n",
       "\n",
       "      EMPLOYEE ANNUAL SALARY ESTIMATED ANNUAL SALARY MINUS FURLOUGHS  \n",
       "0                   81000.00                                73862.00  \n",
       "1                   74628.00                                74628.00  \n",
       "2                   77280.00                                70174.00  \n",
       "3                   96276.00                                96276.00  \n",
       "4                   84032.00                                76627.00  \n",
       "...                      ...                                     ...  \n",
       "34213               74628.00                                74628.00  \n",
       "34214               73216.00                                66764.00  \n",
       "34215               77238.00                                77238.00  \n",
       "34216              101958.00                               101958.00  \n",
       "34217              110352.00                               100205.00  \n",
       "\n",
       "[34218 rows x 5 columns]"
      ]
     },
     "execution_count": 20,
     "metadata": {},
     "output_type": "execute_result"
    }
   ],
   "source": [
    "data"
   ]
  },
  {
   "cell_type": "code",
   "execution_count": 41,
   "metadata": {},
   "outputs": [
    {
     "name": "stdout",
     "output_type": "stream",
     "text": [
      "<class 'pandas.core.frame.DataFrame'>\n",
      "RangeIndex: 34218 entries, 0 to 34217\n",
      "Data columns (total 5 columns):\n",
      "NAME                                       34218 non-null object\n",
      "JOB TITLE                                  34218 non-null object\n",
      "DEPARTMENT                                 34218 non-null object\n",
      "EMPLOYEE ANNUAL SALARY                     34218 non-null float64\n",
      "ESTIMATED ANNUAL SALARY MINUS FURLOUGHS    34218 non-null float64\n",
      "dtypes: float64(2), object(3)\n",
      "memory usage: 1.3+ MB\n"
     ]
    }
   ],
   "source": [
    "data.info()"
   ]
  },
  {
   "cell_type": "code",
   "execution_count": 42,
   "metadata": {},
   "outputs": [
    {
     "data": {
      "text/plain": [
       "NAME                                       0\n",
       "JOB TITLE                                  0\n",
       "DEPARTMENT                                 0\n",
       "EMPLOYEE ANNUAL SALARY                     0\n",
       "ESTIMATED ANNUAL SALARY MINUS FURLOUGHS    0\n",
       "dtype: int64"
      ]
     },
     "execution_count": 42,
     "metadata": {},
     "output_type": "execute_result"
    }
   ],
   "source": [
    "data.isnull().sum()"
   ]
  },
  {
   "cell_type": "code",
   "execution_count": null,
   "metadata": {},
   "outputs": [],
   "source": [
    "data=data.drop(['NAME'],axis=1)"
   ]
  },
  {
   "cell_type": "code",
   "execution_count": 51,
   "metadata": {},
   "outputs": [
    {
     "data": {
      "text/html": [
       "<div>\n",
       "<style scoped>\n",
       "    .dataframe tbody tr th:only-of-type {\n",
       "        vertical-align: middle;\n",
       "    }\n",
       "\n",
       "    .dataframe tbody tr th {\n",
       "        vertical-align: top;\n",
       "    }\n",
       "\n",
       "    .dataframe thead th {\n",
       "        text-align: right;\n",
       "    }\n",
       "</style>\n",
       "<table border=\"1\" class=\"dataframe\">\n",
       "  <thead>\n",
       "    <tr style=\"text-align: right;\">\n",
       "      <th></th>\n",
       "      <th>JOB TITLE</th>\n",
       "      <th>DEPARTMENT</th>\n",
       "      <th>EMPLOYEE ANNUAL SALARY</th>\n",
       "      <th>ESTIMATED ANNUAL SALARY MINUS FURLOUGHS</th>\n",
       "    </tr>\n",
       "  </thead>\n",
       "  <tbody>\n",
       "    <tr>\n",
       "      <td>0</td>\n",
       "      <td>WATER RATE TAKER</td>\n",
       "      <td>WATER MGMNT</td>\n",
       "      <td>81000.0</td>\n",
       "      <td>73862.0</td>\n",
       "    </tr>\n",
       "    <tr>\n",
       "      <td>1</td>\n",
       "      <td>POLICE OFFICER</td>\n",
       "      <td>POLICE</td>\n",
       "      <td>74628.0</td>\n",
       "      <td>74628.0</td>\n",
       "    </tr>\n",
       "    <tr>\n",
       "      <td>2</td>\n",
       "      <td>CHIEF CONTRACT EXPEDITER</td>\n",
       "      <td>FLEET MANAGEMNT</td>\n",
       "      <td>77280.0</td>\n",
       "      <td>70174.0</td>\n",
       "    </tr>\n",
       "    <tr>\n",
       "      <td>3</td>\n",
       "      <td>CIVIL ENGINEER IV</td>\n",
       "      <td>WATER MGMNT</td>\n",
       "      <td>96276.0</td>\n",
       "      <td>96276.0</td>\n",
       "    </tr>\n",
       "    <tr>\n",
       "      <td>4</td>\n",
       "      <td>ELECTRICAL MECHANIC</td>\n",
       "      <td>WATER MGMNT</td>\n",
       "      <td>84032.0</td>\n",
       "      <td>76627.0</td>\n",
       "    </tr>\n",
       "    <tr>\n",
       "      <td>5</td>\n",
       "      <td>POLICE OFFICER</td>\n",
       "      <td>POLICE</td>\n",
       "      <td>79926.0</td>\n",
       "      <td>79926.0</td>\n",
       "    </tr>\n",
       "    <tr>\n",
       "      <td>6</td>\n",
       "      <td>FIREFIGHTER</td>\n",
       "      <td>FIRE</td>\n",
       "      <td>77238.0</td>\n",
       "      <td>77238.0</td>\n",
       "    </tr>\n",
       "    <tr>\n",
       "      <td>7</td>\n",
       "      <td>FOSTER GRANDPARENT</td>\n",
       "      <td>FAMILY &amp; SUPPORT</td>\n",
       "      <td>2756.0</td>\n",
       "      <td>2756.0</td>\n",
       "    </tr>\n",
       "    <tr>\n",
       "      <td>8</td>\n",
       "      <td>CLERK III</td>\n",
       "      <td>FAMILY &amp; SUPPORT</td>\n",
       "      <td>38568.0</td>\n",
       "      <td>38568.0</td>\n",
       "    </tr>\n",
       "    <tr>\n",
       "      <td>9</td>\n",
       "      <td>ELECTRICAL MECHANIC</td>\n",
       "      <td>TRANSPORTN</td>\n",
       "      <td>84032.0</td>\n",
       "      <td>76627.0</td>\n",
       "    </tr>\n",
       "    <tr>\n",
       "      <td>10</td>\n",
       "      <td>POLICE OFFICER</td>\n",
       "      <td>POLICE</td>\n",
       "      <td>71040.0</td>\n",
       "      <td>71040.0</td>\n",
       "    </tr>\n",
       "    <tr>\n",
       "      <td>11</td>\n",
       "      <td>FIREFIGHTER (PER ARBITRATORS AWARD)-PARAMEDIC</td>\n",
       "      <td>FIRE</td>\n",
       "      <td>86922.0</td>\n",
       "      <td>86922.0</td>\n",
       "    </tr>\n",
       "    <tr>\n",
       "      <td>12</td>\n",
       "      <td>POLICE OFFICER</td>\n",
       "      <td>POLICE</td>\n",
       "      <td>67704.0</td>\n",
       "      <td>67704.0</td>\n",
       "    </tr>\n",
       "    <tr>\n",
       "      <td>13</td>\n",
       "      <td>PARAMEDIC</td>\n",
       "      <td>FIRE</td>\n",
       "      <td>64374.0</td>\n",
       "      <td>64374.0</td>\n",
       "    </tr>\n",
       "    <tr>\n",
       "      <td>14</td>\n",
       "      <td>ENGINEERING TECHNICIAN V</td>\n",
       "      <td>WATER MGMNT</td>\n",
       "      <td>81000.0</td>\n",
       "      <td>81000.0</td>\n",
       "    </tr>\n",
       "    <tr>\n",
       "      <td>15</td>\n",
       "      <td>FIREFIGHTER</td>\n",
       "      <td>FIRE</td>\n",
       "      <td>83148.0</td>\n",
       "      <td>83148.0</td>\n",
       "    </tr>\n",
       "    <tr>\n",
       "      <td>16</td>\n",
       "      <td>CROSSING GUARD</td>\n",
       "      <td>POLICE</td>\n",
       "      <td>15319.0</td>\n",
       "      <td>15319.0</td>\n",
       "    </tr>\n",
       "    <tr>\n",
       "      <td>17</td>\n",
       "      <td>POLICE OFFICER</td>\n",
       "      <td>POLICE</td>\n",
       "      <td>82878.0</td>\n",
       "      <td>82878.0</td>\n",
       "    </tr>\n",
       "    <tr>\n",
       "      <td>18</td>\n",
       "      <td>ELECTRICAL MECHANIC-AUTO-POLICE MTR MNT</td>\n",
       "      <td>FLEET MANAGEMNT</td>\n",
       "      <td>84032.0</td>\n",
       "      <td>76627.0</td>\n",
       "    </tr>\n",
       "    <tr>\n",
       "      <td>19</td>\n",
       "      <td>POLICE OFFICER</td>\n",
       "      <td>POLICE</td>\n",
       "      <td>77238.0</td>\n",
       "      <td>77238.0</td>\n",
       "    </tr>\n",
       "    <tr>\n",
       "      <td>20</td>\n",
       "      <td>POLICE OFFICER</td>\n",
       "      <td>POLICE</td>\n",
       "      <td>77238.0</td>\n",
       "      <td>77238.0</td>\n",
       "    </tr>\n",
       "    <tr>\n",
       "      <td>21</td>\n",
       "      <td>SERGEANT</td>\n",
       "      <td>POLICE</td>\n",
       "      <td>105018.0</td>\n",
       "      <td>105018.0</td>\n",
       "    </tr>\n",
       "    <tr>\n",
       "      <td>22</td>\n",
       "      <td>MOTOR TRUCK DRIVER</td>\n",
       "      <td>STREETS &amp; SAN</td>\n",
       "      <td>70408.0</td>\n",
       "      <td>70408.0</td>\n",
       "    </tr>\n",
       "    <tr>\n",
       "      <td>23</td>\n",
       "      <td>LABORER (BUREAU OF ELECTRICITY)</td>\n",
       "      <td>REVENUE</td>\n",
       "      <td>73216.0</td>\n",
       "      <td>66764.0</td>\n",
       "    </tr>\n",
       "    <tr>\n",
       "      <td>24</td>\n",
       "      <td>SENIOR PROGRAMMER/ANALYST</td>\n",
       "      <td>FAMILY &amp; SUPPORT</td>\n",
       "      <td>91260.0</td>\n",
       "      <td>91260.0</td>\n",
       "    </tr>\n",
       "    <tr>\n",
       "      <td>25</td>\n",
       "      <td>COORD OF COMMUNITY SERVICES</td>\n",
       "      <td>FAMILY &amp; SUPPORT</td>\n",
       "      <td>69684.0</td>\n",
       "      <td>63276.0</td>\n",
       "    </tr>\n",
       "    <tr>\n",
       "      <td>26</td>\n",
       "      <td>CIVIL ENGINEER IV</td>\n",
       "      <td>WATER MGMNT</td>\n",
       "      <td>96276.0</td>\n",
       "      <td>96276.0</td>\n",
       "    </tr>\n",
       "    <tr>\n",
       "      <td>27</td>\n",
       "      <td>ENGINEERING TECHNICIAN V</td>\n",
       "      <td>BUSINESS AFFAIRS</td>\n",
       "      <td>84888.0</td>\n",
       "      <td>84888.0</td>\n",
       "    </tr>\n",
       "    <tr>\n",
       "      <td>28</td>\n",
       "      <td>PROGRAM DIR</td>\n",
       "      <td>COMMUNITY DEVELOPMENT</td>\n",
       "      <td>102060.0</td>\n",
       "      <td>92675.0</td>\n",
       "    </tr>\n",
       "    <tr>\n",
       "      <td>29</td>\n",
       "      <td>SUPERVISING TRAFFIC CONTROL AIDE</td>\n",
       "      <td>OEMC</td>\n",
       "      <td>51216.0</td>\n",
       "      <td>49057.0</td>\n",
       "    </tr>\n",
       "    <tr>\n",
       "      <td>30</td>\n",
       "      <td>SANITATION LABORER</td>\n",
       "      <td>STREETS &amp; SAN</td>\n",
       "      <td>65894.0</td>\n",
       "      <td>60088.0</td>\n",
       "    </tr>\n",
       "    <tr>\n",
       "      <td>31</td>\n",
       "      <td>POLICE OFFICER</td>\n",
       "      <td>POLICE</td>\n",
       "      <td>82878.0</td>\n",
       "      <td>82878.0</td>\n",
       "    </tr>\n",
       "    <tr>\n",
       "      <td>32</td>\n",
       "      <td>AMBULANCE COMMANDER</td>\n",
       "      <td>FIRE</td>\n",
       "      <td>114498.0</td>\n",
       "      <td>114498.0</td>\n",
       "    </tr>\n",
       "    <tr>\n",
       "      <td>33</td>\n",
       "      <td>FIREFIGHTER-EMT</td>\n",
       "      <td>FIRE</td>\n",
       "      <td>71082.0</td>\n",
       "      <td>71082.0</td>\n",
       "    </tr>\n",
       "    <tr>\n",
       "      <td>34</td>\n",
       "      <td>SEWER BRICKLAYER</td>\n",
       "      <td>WATER MGMNT</td>\n",
       "      <td>81182.0</td>\n",
       "      <td>74028.0</td>\n",
       "    </tr>\n",
       "    <tr>\n",
       "      <td>35</td>\n",
       "      <td>TREE TRIMMER</td>\n",
       "      <td>STREETS &amp; SAN</td>\n",
       "      <td>67808.0</td>\n",
       "      <td>61833.0</td>\n",
       "    </tr>\n",
       "    <tr>\n",
       "      <td>36</td>\n",
       "      <td>WATER RATE TAKER</td>\n",
       "      <td>WATER MGMNT</td>\n",
       "      <td>64248.0</td>\n",
       "      <td>58586.0</td>\n",
       "    </tr>\n",
       "    <tr>\n",
       "      <td>37</td>\n",
       "      <td>TRAFFIC SIGNAL REPAIRMAN</td>\n",
       "      <td>TRANSPORTN</td>\n",
       "      <td>84968.0</td>\n",
       "      <td>77480.0</td>\n",
       "    </tr>\n",
       "    <tr>\n",
       "      <td>38</td>\n",
       "      <td>PERSONAL COMPUTER OPERATOR II</td>\n",
       "      <td>HEALTH</td>\n",
       "      <td>53340.0</td>\n",
       "      <td>53340.0</td>\n",
       "    </tr>\n",
       "    <tr>\n",
       "      <td>39</td>\n",
       "      <td>SENIOR COMPANION</td>\n",
       "      <td>FAMILY &amp; SUPPORT</td>\n",
       "      <td>2756.0</td>\n",
       "      <td>2756.0</td>\n",
       "    </tr>\n",
       "    <tr>\n",
       "      <td>40</td>\n",
       "      <td>FIREFIGHTER</td>\n",
       "      <td>FIRE</td>\n",
       "      <td>79926.0</td>\n",
       "      <td>79926.0</td>\n",
       "    </tr>\n",
       "    <tr>\n",
       "      <td>41</td>\n",
       "      <td>POLICE OFFICER</td>\n",
       "      <td>POLICE</td>\n",
       "      <td>77238.0</td>\n",
       "      <td>77238.0</td>\n",
       "    </tr>\n",
       "    <tr>\n",
       "      <td>42</td>\n",
       "      <td>POLICE OFFICER</td>\n",
       "      <td>POLICE</td>\n",
       "      <td>79926.0</td>\n",
       "      <td>79926.0</td>\n",
       "    </tr>\n",
       "    <tr>\n",
       "      <td>43</td>\n",
       "      <td>SENIOR ENVIRONMENTAL INSPECTOR</td>\n",
       "      <td>ENVIRONMENT</td>\n",
       "      <td>60708.0</td>\n",
       "      <td>60708.0</td>\n",
       "    </tr>\n",
       "    <tr>\n",
       "      <td>44</td>\n",
       "      <td>CIVIL ENGINEER II</td>\n",
       "      <td>WATER MGMNT</td>\n",
       "      <td>80808.0</td>\n",
       "      <td>80808.0</td>\n",
       "    </tr>\n",
       "    <tr>\n",
       "      <td>45</td>\n",
       "      <td>POLICE OFFICER</td>\n",
       "      <td>POLICE</td>\n",
       "      <td>81090.0</td>\n",
       "      <td>81090.0</td>\n",
       "    </tr>\n",
       "    <tr>\n",
       "      <td>46</td>\n",
       "      <td>CONSTRUCTION LABORER</td>\n",
       "      <td>WATER MGMNT</td>\n",
       "      <td>73216.0</td>\n",
       "      <td>66764.0</td>\n",
       "    </tr>\n",
       "    <tr>\n",
       "      <td>47</td>\n",
       "      <td>POLICE OFFICER</td>\n",
       "      <td>POLICE</td>\n",
       "      <td>74628.0</td>\n",
       "      <td>74628.0</td>\n",
       "    </tr>\n",
       "    <tr>\n",
       "      <td>48</td>\n",
       "      <td>POLICE OFFICER</td>\n",
       "      <td>POLICE</td>\n",
       "      <td>82878.0</td>\n",
       "      <td>82878.0</td>\n",
       "    </tr>\n",
       "    <tr>\n",
       "      <td>49</td>\n",
       "      <td>POLICE OFFICER</td>\n",
       "      <td>POLICE</td>\n",
       "      <td>77238.0</td>\n",
       "      <td>77238.0</td>\n",
       "    </tr>\n",
       "  </tbody>\n",
       "</table>\n",
       "</div>"
      ],
      "text/plain": [
       "                                        JOB TITLE             DEPARTMENT  \\\n",
       "0                                WATER RATE TAKER            WATER MGMNT   \n",
       "1                                  POLICE OFFICER                 POLICE   \n",
       "2                        CHIEF CONTRACT EXPEDITER        FLEET MANAGEMNT   \n",
       "3                               CIVIL ENGINEER IV            WATER MGMNT   \n",
       "4                             ELECTRICAL MECHANIC            WATER MGMNT   \n",
       "5                                  POLICE OFFICER                 POLICE   \n",
       "6                                     FIREFIGHTER                   FIRE   \n",
       "7                              FOSTER GRANDPARENT       FAMILY & SUPPORT   \n",
       "8                                       CLERK III       FAMILY & SUPPORT   \n",
       "9                             ELECTRICAL MECHANIC             TRANSPORTN   \n",
       "10                                 POLICE OFFICER                 POLICE   \n",
       "11  FIREFIGHTER (PER ARBITRATORS AWARD)-PARAMEDIC                   FIRE   \n",
       "12                                 POLICE OFFICER                 POLICE   \n",
       "13                                      PARAMEDIC                   FIRE   \n",
       "14                       ENGINEERING TECHNICIAN V            WATER MGMNT   \n",
       "15                                    FIREFIGHTER                   FIRE   \n",
       "16                                 CROSSING GUARD                 POLICE   \n",
       "17                                 POLICE OFFICER                 POLICE   \n",
       "18        ELECTRICAL MECHANIC-AUTO-POLICE MTR MNT        FLEET MANAGEMNT   \n",
       "19                                 POLICE OFFICER                 POLICE   \n",
       "20                                 POLICE OFFICER                 POLICE   \n",
       "21                                       SERGEANT                 POLICE   \n",
       "22                             MOTOR TRUCK DRIVER          STREETS & SAN   \n",
       "23                LABORER (BUREAU OF ELECTRICITY)                REVENUE   \n",
       "24                      SENIOR PROGRAMMER/ANALYST       FAMILY & SUPPORT   \n",
       "25                    COORD OF COMMUNITY SERVICES       FAMILY & SUPPORT   \n",
       "26                              CIVIL ENGINEER IV            WATER MGMNT   \n",
       "27                       ENGINEERING TECHNICIAN V       BUSINESS AFFAIRS   \n",
       "28                                    PROGRAM DIR  COMMUNITY DEVELOPMENT   \n",
       "29               SUPERVISING TRAFFIC CONTROL AIDE                   OEMC   \n",
       "30                             SANITATION LABORER          STREETS & SAN   \n",
       "31                                 POLICE OFFICER                 POLICE   \n",
       "32                            AMBULANCE COMMANDER                   FIRE   \n",
       "33                                FIREFIGHTER-EMT                   FIRE   \n",
       "34                               SEWER BRICKLAYER            WATER MGMNT   \n",
       "35                                   TREE TRIMMER          STREETS & SAN   \n",
       "36                               WATER RATE TAKER            WATER MGMNT   \n",
       "37                       TRAFFIC SIGNAL REPAIRMAN             TRANSPORTN   \n",
       "38                  PERSONAL COMPUTER OPERATOR II                 HEALTH   \n",
       "39                               SENIOR COMPANION       FAMILY & SUPPORT   \n",
       "40                                    FIREFIGHTER                   FIRE   \n",
       "41                                 POLICE OFFICER                 POLICE   \n",
       "42                                 POLICE OFFICER                 POLICE   \n",
       "43                 SENIOR ENVIRONMENTAL INSPECTOR            ENVIRONMENT   \n",
       "44                              CIVIL ENGINEER II            WATER MGMNT   \n",
       "45                                 POLICE OFFICER                 POLICE   \n",
       "46                           CONSTRUCTION LABORER            WATER MGMNT   \n",
       "47                                 POLICE OFFICER                 POLICE   \n",
       "48                                 POLICE OFFICER                 POLICE   \n",
       "49                                 POLICE OFFICER                 POLICE   \n",
       "\n",
       "    EMPLOYEE ANNUAL SALARY  ESTIMATED ANNUAL SALARY MINUS FURLOUGHS  \n",
       "0                  81000.0                                  73862.0  \n",
       "1                  74628.0                                  74628.0  \n",
       "2                  77280.0                                  70174.0  \n",
       "3                  96276.0                                  96276.0  \n",
       "4                  84032.0                                  76627.0  \n",
       "5                  79926.0                                  79926.0  \n",
       "6                  77238.0                                  77238.0  \n",
       "7                   2756.0                                   2756.0  \n",
       "8                  38568.0                                  38568.0  \n",
       "9                  84032.0                                  76627.0  \n",
       "10                 71040.0                                  71040.0  \n",
       "11                 86922.0                                  86922.0  \n",
       "12                 67704.0                                  67704.0  \n",
       "13                 64374.0                                  64374.0  \n",
       "14                 81000.0                                  81000.0  \n",
       "15                 83148.0                                  83148.0  \n",
       "16                 15319.0                                  15319.0  \n",
       "17                 82878.0                                  82878.0  \n",
       "18                 84032.0                                  76627.0  \n",
       "19                 77238.0                                  77238.0  \n",
       "20                 77238.0                                  77238.0  \n",
       "21                105018.0                                 105018.0  \n",
       "22                 70408.0                                  70408.0  \n",
       "23                 73216.0                                  66764.0  \n",
       "24                 91260.0                                  91260.0  \n",
       "25                 69684.0                                  63276.0  \n",
       "26                 96276.0                                  96276.0  \n",
       "27                 84888.0                                  84888.0  \n",
       "28                102060.0                                  92675.0  \n",
       "29                 51216.0                                  49057.0  \n",
       "30                 65894.0                                  60088.0  \n",
       "31                 82878.0                                  82878.0  \n",
       "32                114498.0                                 114498.0  \n",
       "33                 71082.0                                  71082.0  \n",
       "34                 81182.0                                  74028.0  \n",
       "35                 67808.0                                  61833.0  \n",
       "36                 64248.0                                  58586.0  \n",
       "37                 84968.0                                  77480.0  \n",
       "38                 53340.0                                  53340.0  \n",
       "39                  2756.0                                   2756.0  \n",
       "40                 79926.0                                  79926.0  \n",
       "41                 77238.0                                  77238.0  \n",
       "42                 79926.0                                  79926.0  \n",
       "43                 60708.0                                  60708.0  \n",
       "44                 80808.0                                  80808.0  \n",
       "45                 81090.0                                  81090.0  \n",
       "46                 73216.0                                  66764.0  \n",
       "47                 74628.0                                  74628.0  \n",
       "48                 82878.0                                  82878.0  \n",
       "49                 77238.0                                  77238.0  "
      ]
     },
     "execution_count": 51,
     "metadata": {},
     "output_type": "execute_result"
    }
   ],
   "source": [
    "data.head(50)"
   ]
  },
  {
   "cell_type": "code",
   "execution_count": 44,
   "metadata": {},
   "outputs": [],
   "source": [
    "import sklearn\n",
    "from sklearn.preprocessing import LabelEncoder"
   ]
  },
  {
   "cell_type": "code",
   "execution_count": 53,
   "metadata": {},
   "outputs": [
    {
     "data": {
      "text/html": [
       "<div>\n",
       "<style scoped>\n",
       "    .dataframe tbody tr th:only-of-type {\n",
       "        vertical-align: middle;\n",
       "    }\n",
       "\n",
       "    .dataframe tbody tr th {\n",
       "        vertical-align: top;\n",
       "    }\n",
       "\n",
       "    .dataframe thead th {\n",
       "        text-align: right;\n",
       "    }\n",
       "</style>\n",
       "<table border=\"1\" class=\"dataframe\">\n",
       "  <thead>\n",
       "    <tr style=\"text-align: right;\">\n",
       "      <th></th>\n",
       "      <th>JOB TITLE</th>\n",
       "      <th>DEPARTMENT</th>\n",
       "      <th>EMPLOYEE ANNUAL SALARY</th>\n",
       "      <th>ESTIMATED ANNUAL SALARY MINUS FURLOUGHS</th>\n",
       "    </tr>\n",
       "  </thead>\n",
       "  <tbody>\n",
       "    <tr>\n",
       "      <td>0</td>\n",
       "      <td>1115</td>\n",
       "      <td>38</td>\n",
       "      <td>81000.0</td>\n",
       "      <td>73862.0</td>\n",
       "    </tr>\n",
       "    <tr>\n",
       "      <td>1</td>\n",
       "      <td>783</td>\n",
       "      <td>30</td>\n",
       "      <td>74628.0</td>\n",
       "      <td>74628.0</td>\n",
       "    </tr>\n",
       "    <tr>\n",
       "      <td>2</td>\n",
       "      <td>193</td>\n",
       "      <td>19</td>\n",
       "      <td>77280.0</td>\n",
       "      <td>70174.0</td>\n",
       "    </tr>\n",
       "    <tr>\n",
       "      <td>3</td>\n",
       "      <td>240</td>\n",
       "      <td>38</td>\n",
       "      <td>96276.0</td>\n",
       "      <td>96276.0</td>\n",
       "    </tr>\n",
       "    <tr>\n",
       "      <td>4</td>\n",
       "      <td>451</td>\n",
       "      <td>38</td>\n",
       "      <td>84032.0</td>\n",
       "      <td>76627.0</td>\n",
       "    </tr>\n",
       "    <tr>\n",
       "      <td>...</td>\n",
       "      <td>...</td>\n",
       "      <td>...</td>\n",
       "      <td>...</td>\n",
       "      <td>...</td>\n",
       "    </tr>\n",
       "    <tr>\n",
       "      <td>34213</td>\n",
       "      <td>783</td>\n",
       "      <td>30</td>\n",
       "      <td>74628.0</td>\n",
       "      <td>74628.0</td>\n",
       "    </tr>\n",
       "    <tr>\n",
       "      <td>34214</td>\n",
       "      <td>284</td>\n",
       "      <td>38</td>\n",
       "      <td>73216.0</td>\n",
       "      <td>66764.0</td>\n",
       "    </tr>\n",
       "    <tr>\n",
       "      <td>34215</td>\n",
       "      <td>783</td>\n",
       "      <td>30</td>\n",
       "      <td>77238.0</td>\n",
       "      <td>77238.0</td>\n",
       "    </tr>\n",
       "    <tr>\n",
       "      <td>34216</td>\n",
       "      <td>673</td>\n",
       "      <td>18</td>\n",
       "      <td>101958.0</td>\n",
       "      <td>101958.0</td>\n",
       "    </tr>\n",
       "    <tr>\n",
       "      <td>34217</td>\n",
       "      <td>194</td>\n",
       "      <td>14</td>\n",
       "      <td>110352.0</td>\n",
       "      <td>100205.0</td>\n",
       "    </tr>\n",
       "  </tbody>\n",
       "</table>\n",
       "<p>34218 rows × 4 columns</p>\n",
       "</div>"
      ],
      "text/plain": [
       "       JOB TITLE  DEPARTMENT  EMPLOYEE ANNUAL SALARY  \\\n",
       "0           1115          38                 81000.0   \n",
       "1            783          30                 74628.0   \n",
       "2            193          19                 77280.0   \n",
       "3            240          38                 96276.0   \n",
       "4            451          38                 84032.0   \n",
       "...          ...         ...                     ...   \n",
       "34213        783          30                 74628.0   \n",
       "34214        284          38                 73216.0   \n",
       "34215        783          30                 77238.0   \n",
       "34216        673          18                101958.0   \n",
       "34217        194          14                110352.0   \n",
       "\n",
       "       ESTIMATED ANNUAL SALARY MINUS FURLOUGHS  \n",
       "0                                      73862.0  \n",
       "1                                      74628.0  \n",
       "2                                      70174.0  \n",
       "3                                      96276.0  \n",
       "4                                      76627.0  \n",
       "...                                        ...  \n",
       "34213                                  74628.0  \n",
       "34214                                  66764.0  \n",
       "34215                                  77238.0  \n",
       "34216                                 101958.0  \n",
       "34217                                 100205.0  \n",
       "\n",
       "[34218 rows x 4 columns]"
      ]
     },
     "execution_count": 53,
     "metadata": {},
     "output_type": "execute_result"
    }
   ],
   "source": [
    "le=LabelEncoder()\n",
    "data['JOB TITLE']=le.fit_transform(data['JOB TITLE'])\n",
    "data['DEPARTMENT']=le.fit_transform(data['DEPARTMENT'])\n",
    "data"
   ]
  },
  {
   "cell_type": "code",
   "execution_count": 54,
   "metadata": {},
   "outputs": [
    {
     "data": {
      "text/html": [
       "<div>\n",
       "<style scoped>\n",
       "    .dataframe tbody tr th:only-of-type {\n",
       "        vertical-align: middle;\n",
       "    }\n",
       "\n",
       "    .dataframe tbody tr th {\n",
       "        vertical-align: top;\n",
       "    }\n",
       "\n",
       "    .dataframe thead th {\n",
       "        text-align: right;\n",
       "    }\n",
       "</style>\n",
       "<table border=\"1\" class=\"dataframe\">\n",
       "  <thead>\n",
       "    <tr style=\"text-align: right;\">\n",
       "      <th></th>\n",
       "      <th>JOB TITLE</th>\n",
       "      <th>DEPARTMENT</th>\n",
       "      <th>EMPLOYEE ANNUAL SALARY</th>\n",
       "      <th>ESTIMATED ANNUAL SALARY MINUS FURLOUGHS</th>\n",
       "    </tr>\n",
       "  </thead>\n",
       "  <tbody>\n",
       "    <tr>\n",
       "      <td>count</td>\n",
       "      <td>34218.000000</td>\n",
       "      <td>34218.000000</td>\n",
       "      <td>34218.000000</td>\n",
       "      <td>34218.000000</td>\n",
       "    </tr>\n",
       "    <tr>\n",
       "      <td>mean</td>\n",
       "      <td>654.629464</td>\n",
       "      <td>26.016921</td>\n",
       "      <td>73828.763341</td>\n",
       "      <td>72032.171518</td>\n",
       "    </tr>\n",
       "    <tr>\n",
       "      <td>std</td>\n",
       "      <td>254.375928</td>\n",
       "      <td>8.912667</td>\n",
       "      <td>22778.636848</td>\n",
       "      <td>22109.779752</td>\n",
       "    </tr>\n",
       "    <tr>\n",
       "      <td>min</td>\n",
       "      <td>0.000000</td>\n",
       "      <td>0.000000</td>\n",
       "      <td>1.000000</td>\n",
       "      <td>1.000000</td>\n",
       "    </tr>\n",
       "    <tr>\n",
       "      <td>25%</td>\n",
       "      <td>526.000000</td>\n",
       "      <td>18.000000</td>\n",
       "      <td>67224.000000</td>\n",
       "      <td>64248.000000</td>\n",
       "    </tr>\n",
       "    <tr>\n",
       "      <td>50%</td>\n",
       "      <td>783.000000</td>\n",
       "      <td>30.000000</td>\n",
       "      <td>77238.000000</td>\n",
       "      <td>76627.000000</td>\n",
       "    </tr>\n",
       "    <tr>\n",
       "      <td>75%</td>\n",
       "      <td>783.000000</td>\n",
       "      <td>30.000000</td>\n",
       "      <td>84032.000000</td>\n",
       "      <td>82878.000000</td>\n",
       "    </tr>\n",
       "    <tr>\n",
       "      <td>max</td>\n",
       "      <td>1123.000000</td>\n",
       "      <td>38.000000</td>\n",
       "      <td>260004.000000</td>\n",
       "      <td>236096.000000</td>\n",
       "    </tr>\n",
       "  </tbody>\n",
       "</table>\n",
       "</div>"
      ],
      "text/plain": [
       "          JOB TITLE    DEPARTMENT  EMPLOYEE ANNUAL SALARY  \\\n",
       "count  34218.000000  34218.000000            34218.000000   \n",
       "mean     654.629464     26.016921            73828.763341   \n",
       "std      254.375928      8.912667            22778.636848   \n",
       "min        0.000000      0.000000                1.000000   \n",
       "25%      526.000000     18.000000            67224.000000   \n",
       "50%      783.000000     30.000000            77238.000000   \n",
       "75%      783.000000     30.000000            84032.000000   \n",
       "max     1123.000000     38.000000           260004.000000   \n",
       "\n",
       "       ESTIMATED ANNUAL SALARY MINUS FURLOUGHS  \n",
       "count                             34218.000000  \n",
       "mean                              72032.171518  \n",
       "std                               22109.779752  \n",
       "min                                   1.000000  \n",
       "25%                               64248.000000  \n",
       "50%                               76627.000000  \n",
       "75%                               82878.000000  \n",
       "max                              236096.000000  "
      ]
     },
     "execution_count": 54,
     "metadata": {},
     "output_type": "execute_result"
    }
   ],
   "source": [
    "data.describe()"
   ]
  },
  {
   "cell_type": "code",
   "execution_count": 59,
   "metadata": {},
   "outputs": [
    {
     "data": {
      "text/html": [
       "<div>\n",
       "<style scoped>\n",
       "    .dataframe tbody tr th:only-of-type {\n",
       "        vertical-align: middle;\n",
       "    }\n",
       "\n",
       "    .dataframe tbody tr th {\n",
       "        vertical-align: top;\n",
       "    }\n",
       "\n",
       "    .dataframe thead th {\n",
       "        text-align: right;\n",
       "    }\n",
       "</style>\n",
       "<table border=\"1\" class=\"dataframe\">\n",
       "  <thead>\n",
       "    <tr style=\"text-align: right;\">\n",
       "      <th></th>\n",
       "      <th>JOB TITLE</th>\n",
       "      <th>DEPARTMENT</th>\n",
       "      <th>EMPLOYEE ANNUAL SALARY</th>\n",
       "      <th>ESTIMATED ANNUAL SALARY MINUS FURLOUGHS</th>\n",
       "    </tr>\n",
       "  </thead>\n",
       "  <tbody>\n",
       "    <tr>\n",
       "      <td>JOB TITLE</td>\n",
       "      <td>1.000000</td>\n",
       "      <td>0.254697</td>\n",
       "      <td>-0.042467</td>\n",
       "      <td>-0.008930</td>\n",
       "    </tr>\n",
       "    <tr>\n",
       "      <td>DEPARTMENT</td>\n",
       "      <td>0.254697</td>\n",
       "      <td>1.000000</td>\n",
       "      <td>-0.020931</td>\n",
       "      <td>-0.012801</td>\n",
       "    </tr>\n",
       "    <tr>\n",
       "      <td>EMPLOYEE ANNUAL SALARY</td>\n",
       "      <td>-0.042467</td>\n",
       "      <td>-0.020931</td>\n",
       "      <td>1.000000</td>\n",
       "      <td>0.990208</td>\n",
       "    </tr>\n",
       "    <tr>\n",
       "      <td>ESTIMATED ANNUAL SALARY MINUS FURLOUGHS</td>\n",
       "      <td>-0.008930</td>\n",
       "      <td>-0.012801</td>\n",
       "      <td>0.990208</td>\n",
       "      <td>1.000000</td>\n",
       "    </tr>\n",
       "  </tbody>\n",
       "</table>\n",
       "</div>"
      ],
      "text/plain": [
       "                                         JOB TITLE  DEPARTMENT  \\\n",
       "JOB TITLE                                 1.000000    0.254697   \n",
       "DEPARTMENT                                0.254697    1.000000   \n",
       "EMPLOYEE ANNUAL SALARY                   -0.042467   -0.020931   \n",
       "ESTIMATED ANNUAL SALARY MINUS FURLOUGHS  -0.008930   -0.012801   \n",
       "\n",
       "                                         EMPLOYEE ANNUAL SALARY  \\\n",
       "JOB TITLE                                             -0.042467   \n",
       "DEPARTMENT                                            -0.020931   \n",
       "EMPLOYEE ANNUAL SALARY                                 1.000000   \n",
       "ESTIMATED ANNUAL SALARY MINUS FURLOUGHS                0.990208   \n",
       "\n",
       "                                         ESTIMATED ANNUAL SALARY MINUS FURLOUGHS  \n",
       "JOB TITLE                                                              -0.008930  \n",
       "DEPARTMENT                                                             -0.012801  \n",
       "EMPLOYEE ANNUAL SALARY                                                  0.990208  \n",
       "ESTIMATED ANNUAL SALARY MINUS FURLOUGHS                                 1.000000  "
      ]
     },
     "execution_count": 59,
     "metadata": {},
     "output_type": "execute_result"
    }
   ],
   "source": [
    "cor=data.corr()\n",
    "cor"
   ]
  },
  {
   "cell_type": "code",
   "execution_count": 62,
   "metadata": {},
   "outputs": [
    {
     "data": {
      "text/plain": [
       "<matplotlib.axes._subplots.AxesSubplot at 0x280ef7e76c8>"
      ]
     },
     "execution_count": 62,
     "metadata": {},
     "output_type": "execute_result"
    },
    {
     "data": {
      "image/png": "[encoded data removed]",
      "text/plain": [
       "<Figure size 720x576 with 2 Axes>"
      ]
     },
     "metadata": {
      "needs_background": "light"
     },
     "output_type": "display_data"
    }
   ],
   "source": [
    "plt.figure(figsize=(10,8))\n",
    "sns.heatmap(cor,cmap='Blues',annot=True)"
   ]
  },
  {
   "cell_type": "code",
   "execution_count": 63,
   "metadata": {},
   "outputs": [
    {
     "data": {
      "text/plain": [
       "<matplotlib.axes._subplots.AxesSubplot at 0x280ef482c88>"
      ]
     },
     "execution_count": 63,
     "metadata": {},
     "output_type": "execute_result"
    },
    {
     "data": {
      "image/png": "[encoded data removed]",
      "text/plain": [
       "<Figure size 432x288 with 1 Axes>"
      ]
     },
     "metadata": {
      "needs_background": "light"
     },
     "output_type": "display_data"
    }
   ],
   "source": [
    "data['JOB TITLE'].plot.box()"
   ]
  },
  {
   "cell_type": "code",
   "execution_count": 64,
   "metadata": {},
   "outputs": [
    {
     "data": {
      "text/plain": [
       "<matplotlib.axes._subplots.AxesSubplot at 0x280ef49b4c8>"
      ]
     },
     "execution_count": 64,
     "metadata": {},
     "output_type": "execute_result"
    },
    {
     "data": {
      "image/png": "[encoded data removed]",
      "text/plain": [
       "<Figure size 432x288 with 1 Axes>"
      ]
     },
     "metadata": {
      "needs_background": "light"
     },
     "output_type": "display_data"
    }
   ],
   "source": [
    "data['DEPARTMENT'].plot.box()"
   ]
  },
  {
   "cell_type": "code",
   "execution_count": 65,
   "metadata": {},
   "outputs": [
    {
     "data": {
      "text/plain": [
       "<matplotlib.axes._subplots.AxesSubplot at 0x280ef662948>"
      ]
     },
     "execution_count": 65,
     "metadata": {},
     "output_type": "execute_result"
    },
    {
     "data": {
      "image/png": "[encoded data removed]",
      "text/plain": [
       "<Figure size 432x288 with 1 Axes>"
      ]
     },
     "metadata": {
      "needs_background": "light"
     },
     "output_type": "display_data"
    }
   ],
   "source": [
    "data['EMPLOYEE ANNUAL SALARY'].plot.box()"
   ]
  },
  {
   "cell_type": "code",
   "execution_count": 66,
   "metadata": {},
   "outputs": [
    {
     "data": {
      "text/plain": [
       "<matplotlib.axes._subplots.AxesSubplot at 0x280ef5a94c8>"
      ]
     },
     "execution_count": 66,
     "metadata": {},
     "output_type": "execute_result"
    },
    {
     "data": {
      "image/png": "[encoded data removed]",
      "text/plain": [
       "<Figure size 432x288 with 1 Axes>"
      ]
     },
     "metadata": {
      "needs_background": "light"
     },
     "output_type": "display_data"
    }
   ],
   "source": [
    "data['ESTIMATED ANNUAL SALARY MINUS FURLOUGHS'].plot.box()"
   ]
  },
  {
   "cell_type": "code",
   "execution_count": 67,
   "metadata": {},
   "outputs": [
    {
     "data": {
      "text/plain": [
       "array([[1.80983031, 1.34451942, 0.31482751, 0.08276225],\n",
       "       [0.50465629, 0.44690744, 0.03508763, 0.11740806],\n",
       "       [1.81477946, 0.78730904, 0.15151421, 0.0840442 ],\n",
       "       ...,\n",
       "       [0.50465629, 0.44690744, 0.14967035, 0.2354571 ],\n",
       "       [0.07221912, 0.89951053, 1.23491357, 1.3535307 ],\n",
       "       [1.81084822, 1.34831652, 1.60342213, 1.27424337]])"
      ]
     },
     "execution_count": 67,
     "metadata": {},
     "output_type": "execute_result"
    }
   ],
   "source": [
    "from scipy.stats import zscore\n",
    "z=np.abs(zscore(data))\n",
    "z"
   ]
  },
  {
   "cell_type": "code",
   "execution_count": 68,
   "metadata": {},
   "outputs": [
    {
     "data": {
      "text/html": [
       "<div>\n",
       "<style scoped>\n",
       "    .dataframe tbody tr th:only-of-type {\n",
       "        vertical-align: middle;\n",
       "    }\n",
       "\n",
       "    .dataframe tbody tr th {\n",
       "        vertical-align: top;\n",
       "    }\n",
       "\n",
       "    .dataframe thead th {\n",
       "        text-align: right;\n",
       "    }\n",
       "</style>\n",
       "<table border=\"1\" class=\"dataframe\">\n",
       "  <thead>\n",
       "    <tr style=\"text-align: right;\">\n",
       "      <th></th>\n",
       "      <th>JOB TITLE</th>\n",
       "      <th>DEPARTMENT</th>\n",
       "      <th>EMPLOYEE ANNUAL SALARY</th>\n",
       "      <th>ESTIMATED ANNUAL SALARY MINUS FURLOUGHS</th>\n",
       "    </tr>\n",
       "  </thead>\n",
       "  <tbody>\n",
       "    <tr>\n",
       "      <td>0</td>\n",
       "      <td>1115</td>\n",
       "      <td>38</td>\n",
       "      <td>81000.0</td>\n",
       "      <td>73862.0</td>\n",
       "    </tr>\n",
       "    <tr>\n",
       "      <td>1</td>\n",
       "      <td>783</td>\n",
       "      <td>30</td>\n",
       "      <td>74628.0</td>\n",
       "      <td>74628.0</td>\n",
       "    </tr>\n",
       "    <tr>\n",
       "      <td>2</td>\n",
       "      <td>193</td>\n",
       "      <td>19</td>\n",
       "      <td>77280.0</td>\n",
       "      <td>70174.0</td>\n",
       "    </tr>\n",
       "    <tr>\n",
       "      <td>3</td>\n",
       "      <td>240</td>\n",
       "      <td>38</td>\n",
       "      <td>96276.0</td>\n",
       "      <td>96276.0</td>\n",
       "    </tr>\n",
       "    <tr>\n",
       "      <td>4</td>\n",
       "      <td>451</td>\n",
       "      <td>38</td>\n",
       "      <td>84032.0</td>\n",
       "      <td>76627.0</td>\n",
       "    </tr>\n",
       "    <tr>\n",
       "      <td>...</td>\n",
       "      <td>...</td>\n",
       "      <td>...</td>\n",
       "      <td>...</td>\n",
       "      <td>...</td>\n",
       "    </tr>\n",
       "    <tr>\n",
       "      <td>34213</td>\n",
       "      <td>783</td>\n",
       "      <td>30</td>\n",
       "      <td>74628.0</td>\n",
       "      <td>74628.0</td>\n",
       "    </tr>\n",
       "    <tr>\n",
       "      <td>34214</td>\n",
       "      <td>284</td>\n",
       "      <td>38</td>\n",
       "      <td>73216.0</td>\n",
       "      <td>66764.0</td>\n",
       "    </tr>\n",
       "    <tr>\n",
       "      <td>34215</td>\n",
       "      <td>783</td>\n",
       "      <td>30</td>\n",
       "      <td>77238.0</td>\n",
       "      <td>77238.0</td>\n",
       "    </tr>\n",
       "    <tr>\n",
       "      <td>34216</td>\n",
       "      <td>673</td>\n",
       "      <td>18</td>\n",
       "      <td>101958.0</td>\n",
       "      <td>101958.0</td>\n",
       "    </tr>\n",
       "    <tr>\n",
       "      <td>34217</td>\n",
       "      <td>194</td>\n",
       "      <td>14</td>\n",
       "      <td>110352.0</td>\n",
       "      <td>100205.0</td>\n",
       "    </tr>\n",
       "  </tbody>\n",
       "</table>\n",
       "<p>33805 rows × 4 columns</p>\n",
       "</div>"
      ],
      "text/plain": [
       "       JOB TITLE  DEPARTMENT  EMPLOYEE ANNUAL SALARY  \\\n",
       "0           1115          38                 81000.0   \n",
       "1            783          30                 74628.0   \n",
       "2            193          19                 77280.0   \n",
       "3            240          38                 96276.0   \n",
       "4            451          38                 84032.0   \n",
       "...          ...         ...                     ...   \n",
       "34213        783          30                 74628.0   \n",
       "34214        284          38                 73216.0   \n",
       "34215        783          30                 77238.0   \n",
       "34216        673          18                101958.0   \n",
       "34217        194          14                110352.0   \n",
       "\n",
       "       ESTIMATED ANNUAL SALARY MINUS FURLOUGHS  \n",
       "0                                      73862.0  \n",
       "1                                      74628.0  \n",
       "2                                      70174.0  \n",
       "3                                      96276.0  \n",
       "4                                      76627.0  \n",
       "...                                        ...  \n",
       "34213                                  74628.0  \n",
       "34214                                  66764.0  \n",
       "34215                                  77238.0  \n",
       "34216                                 101958.0  \n",
       "34217                                 100205.0  \n",
       "\n",
       "[33805 rows x 4 columns]"
      ]
     },
     "execution_count": 68,
     "metadata": {},
     "output_type": "execute_result"
    }
   ],
   "source": [
    "data_new=data[(z<3).all(axis=1)]\n",
    "data_new"
   ]
  },
  {
   "cell_type": "code",
   "execution_count": 69,
   "metadata": {},
   "outputs": [
    {
     "data": {
      "text/plain": [
       "(34218, 4)"
      ]
     },
     "execution_count": 69,
     "metadata": {},
     "output_type": "execute_result"
    }
   ],
   "source": [
    "data.shape"
   ]
  },
  {
   "cell_type": "code",
   "execution_count": 70,
   "metadata": {},
   "outputs": [
    {
     "data": {
      "text/plain": [
       "(33805, 4)"
      ]
     },
     "execution_count": 70,
     "metadata": {},
     "output_type": "execute_result"
    }
   ],
   "source": [
    "data_new.shape"
   ]
  },
  {
   "cell_type": "code",
   "execution_count": 71,
   "metadata": {},
   "outputs": [
    {
     "data": {
      "text/plain": [
       "JOB TITLE                                 -0.885007\n",
       "DEPARTMENT                                -1.089364\n",
       "EMPLOYEE ANNUAL SALARY                    -0.889056\n",
       "ESTIMATED ANNUAL SALARY MINUS FURLOUGHS   -0.876511\n",
       "dtype: float64"
      ]
     },
     "execution_count": 71,
     "metadata": {},
     "output_type": "execute_result"
    }
   ],
   "source": [
    "data_new.skew()"
   ]
  },
  {
   "cell_type": "code",
   "execution_count": 72,
   "metadata": {},
   "outputs": [
    {
     "data": {
      "text/plain": [
       "<matplotlib.axes._subplots.AxesSubplot at 0x280ef6a09c8>"
      ]
     },
     "execution_count": 72,
     "metadata": {},
     "output_type": "execute_result"
    },
    {
     "data": {
      "image/png": "[encoded data removed]",
      "text/plain": [
       "<Figure size 432x288 with 1 Axes>"
      ]
     },
     "metadata": {
      "needs_background": "light"
     },
     "output_type": "display_data"
    }
   ],
   "source": [
    "data_new.plot.hist()"
   ]
  },
  {
   "cell_type": "code",
   "execution_count": 76,
   "metadata": {},
   "outputs": [
    {
     "data": {
      "text/plain": [
       "<matplotlib.axes._subplots.AxesSubplot at 0x280f0e519c8>"
      ]
     },
     "execution_count": 76,
     "metadata": {},
     "output_type": "execute_result"
    },
    {
     "data": {
      "image/png": "[encoded data removed]",
      "text/plain": [
       "<Figure size 432x288 with 1 Axes>"
      ]
     },
     "metadata": {
      "needs_background": "light"
     },
     "output_type": "display_data"
    }
   ],
   "source": [
    "data_new['DEPARTMENT'].plot.hist()"
   ]
  },
  {
   "cell_type": "raw",
   "metadata": {},
   "source": [
    "from scipy.stats import boxcox\n",
    "data_new['DEPARTMENT']=boxcox(data_new['DEPARTMENT'],0)#doubt"
   ]
  },
  {
   "cell_type": "code",
   "execution_count": 81,
   "metadata": {},
   "outputs": [
    {
     "data": {
      "text/html": [
       "<div>\n",
       "<style scoped>\n",
       "    .dataframe tbody tr th:only-of-type {\n",
       "        vertical-align: middle;\n",
       "    }\n",
       "\n",
       "    .dataframe tbody tr th {\n",
       "        vertical-align: top;\n",
       "    }\n",
       "\n",
       "    .dataframe thead th {\n",
       "        text-align: right;\n",
       "    }\n",
       "</style>\n",
       "<table border=\"1\" class=\"dataframe\">\n",
       "  <thead>\n",
       "    <tr style=\"text-align: right;\">\n",
       "      <th></th>\n",
       "      <th>JOB TITLE</th>\n",
       "      <th>DEPARTMENT</th>\n",
       "      <th>EMPLOYEE ANNUAL SALARY</th>\n",
       "    </tr>\n",
       "  </thead>\n",
       "  <tbody>\n",
       "    <tr>\n",
       "      <td>0</td>\n",
       "      <td>1115</td>\n",
       "      <td>38</td>\n",
       "      <td>81000.0</td>\n",
       "    </tr>\n",
       "    <tr>\n",
       "      <td>1</td>\n",
       "      <td>783</td>\n",
       "      <td>30</td>\n",
       "      <td>74628.0</td>\n",
       "    </tr>\n",
       "    <tr>\n",
       "      <td>2</td>\n",
       "      <td>193</td>\n",
       "      <td>19</td>\n",
       "      <td>77280.0</td>\n",
       "    </tr>\n",
       "    <tr>\n",
       "      <td>3</td>\n",
       "      <td>240</td>\n",
       "      <td>38</td>\n",
       "      <td>96276.0</td>\n",
       "    </tr>\n",
       "    <tr>\n",
       "      <td>4</td>\n",
       "      <td>451</td>\n",
       "      <td>38</td>\n",
       "      <td>84032.0</td>\n",
       "    </tr>\n",
       "    <tr>\n",
       "      <td>...</td>\n",
       "      <td>...</td>\n",
       "      <td>...</td>\n",
       "      <td>...</td>\n",
       "    </tr>\n",
       "    <tr>\n",
       "      <td>34213</td>\n",
       "      <td>783</td>\n",
       "      <td>30</td>\n",
       "      <td>74628.0</td>\n",
       "    </tr>\n",
       "    <tr>\n",
       "      <td>34214</td>\n",
       "      <td>284</td>\n",
       "      <td>38</td>\n",
       "      <td>73216.0</td>\n",
       "    </tr>\n",
       "    <tr>\n",
       "      <td>34215</td>\n",
       "      <td>783</td>\n",
       "      <td>30</td>\n",
       "      <td>77238.0</td>\n",
       "    </tr>\n",
       "    <tr>\n",
       "      <td>34216</td>\n",
       "      <td>673</td>\n",
       "      <td>18</td>\n",
       "      <td>101958.0</td>\n",
       "    </tr>\n",
       "    <tr>\n",
       "      <td>34217</td>\n",
       "      <td>194</td>\n",
       "      <td>14</td>\n",
       "      <td>110352.0</td>\n",
       "    </tr>\n",
       "  </tbody>\n",
       "</table>\n",
       "<p>33805 rows × 3 columns</p>\n",
       "</div>"
      ],
      "text/plain": [
       "       JOB TITLE  DEPARTMENT  EMPLOYEE ANNUAL SALARY\n",
       "0           1115          38                 81000.0\n",
       "1            783          30                 74628.0\n",
       "2            193          19                 77280.0\n",
       "3            240          38                 96276.0\n",
       "4            451          38                 84032.0\n",
       "...          ...         ...                     ...\n",
       "34213        783          30                 74628.0\n",
       "34214        284          38                 73216.0\n",
       "34215        783          30                 77238.0\n",
       "34216        673          18                101958.0\n",
       "34217        194          14                110352.0\n",
       "\n",
       "[33805 rows x 3 columns]"
      ]
     },
     "execution_count": 81,
     "metadata": {},
     "output_type": "execute_result"
    }
   ],
   "source": [
    "x=data_new.iloc[:,0:3]\n",
    "x"
   ]
  },
  {
   "cell_type": "code",
   "execution_count": 89,
   "metadata": {},
   "outputs": [
    {
     "data": {
      "text/plain": [
       "array([[ 73862.],\n",
       "       [ 74628.],\n",
       "       [ 70174.],\n",
       "       ...,\n",
       "       [ 77238.],\n",
       "       [101958.],\n",
       "       [100205.]])"
      ]
     },
     "execution_count": 89,
     "metadata": {},
     "output_type": "execute_result"
    }
   ],
   "source": [
    "y=data_new.iloc[:,-1].values\n",
    "y=y.reshape(-1,1)\n",
    "y"
   ]
  },
  {
   "cell_type": "code",
   "execution_count": 90,
   "metadata": {},
   "outputs": [
    {
     "name": "stdout",
     "output_type": "stream",
     "text": [
      "(33805, 3)\n",
      "(33805, 1)\n"
     ]
    }
   ],
   "source": [
    "print(x.shape)\n",
    "print(y.shape)"
   ]
  },
  {
   "cell_type": "code",
   "execution_count": 91,
   "metadata": {},
   "outputs": [],
   "source": [
    "from sklearn.model_selection import train_test_split\n",
    "from sklearn.linear_model import LinearRegression\n",
    "from sklearn.metrics import mean_squared_error,mean_absolute_error,r2_score"
   ]
  },
  {
   "cell_type": "code",
   "execution_count": 92,
   "metadata": {},
   "outputs": [],
   "source": [
    "train_x,test_x,train_y,test_y=train_test_split(x,y,test_size=0.22,random_state=42)"
   ]
  },
  {
   "cell_type": "code",
   "execution_count": 93,
   "metadata": {},
   "outputs": [
    {
     "data": {
      "text/plain": [
       "(26367, 3)"
      ]
     },
     "execution_count": 93,
     "metadata": {},
     "output_type": "execute_result"
    }
   ],
   "source": [
    "train_x.shape"
   ]
  },
  {
   "cell_type": "code",
   "execution_count": 94,
   "metadata": {},
   "outputs": [
    {
     "data": {
      "text/plain": [
       "(7438, 3)"
      ]
     },
     "execution_count": 94,
     "metadata": {},
     "output_type": "execute_result"
    }
   ],
   "source": [
    "test_x.shape"
   ]
  },
  {
   "cell_type": "code",
   "execution_count": 95,
   "metadata": {},
   "outputs": [
    {
     "data": {
      "text/plain": [
       "LinearRegression(copy_X=True, fit_intercept=True, n_jobs=None, normalize=False)"
      ]
     },
     "execution_count": 95,
     "metadata": {},
     "output_type": "execute_result"
    }
   ],
   "source": [
    "lr=LinearRegression()\n",
    "lr.fit(train_x,train_y)"
   ]
  },
  {
   "cell_type": "code",
   "execution_count": 96,
   "metadata": {},
   "outputs": [
    {
     "data": {
      "text/plain": [
       "array([[ 2.61266423, -0.2622439 ,  0.97141957]])"
      ]
     },
     "execution_count": 96,
     "metadata": {},
     "output_type": "execute_result"
    }
   ],
   "source": [
    "lr.coef_"
   ]
  },
  {
   "cell_type": "code",
   "execution_count": 97,
   "metadata": {},
   "outputs": [
    {
     "data": {
      "text/plain": [
       "array([-1325.06821621])"
      ]
     },
     "execution_count": 97,
     "metadata": {},
     "output_type": "execute_result"
    }
   ],
   "source": [
    "lr.intercept_"
   ]
  },
  {
   "cell_type": "code",
   "execution_count": 98,
   "metadata": {},
   "outputs": [
    {
     "data": {
      "text/plain": [
       "0.980199197211639"
      ]
     },
     "execution_count": 98,
     "metadata": {},
     "output_type": "execute_result"
    }
   ],
   "source": [
    "lr.score(train_x,train_y)"
   ]
  },
  {
   "cell_type": "code",
   "execution_count": 99,
   "metadata": {},
   "outputs": [
    {
     "name": "stdout",
     "output_type": "stream",
     "text": [
      "Predicted-ESTIMATED ANNUAL SALARY MINUS FURLOUGHS  [[ 75074.97746995]\n",
      " [ 69114.75412168]\n",
      " [ 73207.88017468]\n",
      " ...\n",
      " [ 84033.40873772]\n",
      " [ 75743.28525046]\n",
      " [100151.28930156]]\n",
      "Actual_Salary  [[ 77238.]\n",
      " [ 70408.]\n",
      " [ 74628.]\n",
      " ...\n",
      " [ 86460.]\n",
      " [ 77238.]\n",
      " [101958.]]\n"
     ]
    }
   ],
   "source": [
    "pred=lr.predict(test_x)\n",
    "print('Predicted-ESTIMATED ANNUAL SALARY MINUS FURLOUGHS ',pred)\n",
    "print('Actual_Salary ',test_y)"
   ]
  },
  {
   "cell_type": "code",
   "execution_count": 101,
   "metadata": {},
   "outputs": [
    {
     "name": "stdout",
     "output_type": "stream",
     "text": [
      "ERRORS\n",
      "\n",
      "\n",
      "Mean Absolute Error:  2438.110098575281\n",
      "Mean Squared Error:  8628059.480822615\n",
      "Root Mean Squared Error 2937.3558655400634\n"
     ]
    }
   ],
   "source": [
    "print('ERRORS')\n",
    "print('\\n')\n",
    "print('Mean Absolute Error: ',mean_absolute_error(test_y,pred))\n",
    "print('Mean Squared Error: ',mean_squared_error(test_y,pred))\n",
    "print('Root Mean Squared Error',np.sqrt(mean_squared_error(test_y,pred)))"
   ]
  },
  {
   "cell_type": "code",
   "execution_count": 102,
   "metadata": {},
   "outputs": [
    {
     "name": "stdout",
     "output_type": "stream",
     "text": [
      "0.9800715057008859\n"
     ]
    }
   ],
   "source": [
    "print(r2_score(test_y,pred))"
   ]
  },
  {
   "cell_type": "code",
   "execution_count": 103,
   "metadata": {},
   "outputs": [
    {
     "name": "stderr",
     "output_type": "stream",
     "text": [
      "C:\\Users\\Biranchi\\Anaconda3\\lib\\site-packages\\sklearn\\externals\\joblib\\__init__.py:15: DeprecationWarning: sklearn.externals.joblib is deprecated in 0.21 and will be removed in 0.23. Please import this functionality directly from joblib, which can be installed with: pip install joblib. If this warning is raised when loading pickled models, you may need to re-serialize those models with scikit-learn 0.21+.\n",
      "  warnings.warn(msg, category=DeprecationWarning)\n"
     ]
    },
    {
     "data": {
      "text/plain": [
       "['lrSalary.obj']"
      ]
     },
     "execution_count": 103,
     "metadata": {},
     "output_type": "execute_result"
    }
   ],
   "source": [
    "from sklearn.externals import joblib\n",
    "joblib.dump(lr,'lrSalary.obj')"
   ]
  },
  {
   "cell_type": "code",
   "execution_count": 106,
   "metadata": {},
   "outputs": [],
   "source": [
    "Pred_Sal=pd.DataFrame(pred)\n",
    "Pred_Sal.to_csv('Salary_prediction.csv')"
   ]
  },
  {
   "cell_type": "code",
   "execution_count": null,
   "metadata": {},
   "outputs": [],
   "source": []
  }
 ],
 "metadata": {
  "kernelspec": {
   "display_name": "Python 3",
   "language": "python",
   "name": "python3"
  },
  "language_info": {
   "codemirror_mode": {
    "name": "ipython",
    "version": 3
   },
   "file_extension": ".py",
   "mimetype": "text/x-python",
   "name": "python",
   "nbconvert_exporter": "python",
   "pygments_lexer": "ipython3",
   "version": "3.7.4"
  }
 },
 "nbformat": 4,
 "nbformat_minor": 2
}
