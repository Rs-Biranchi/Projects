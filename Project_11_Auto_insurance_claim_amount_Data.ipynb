{
 "cells": [
  {
   "cell_type": "markdown",
   "metadata": {},
   "source": [
    "# Rs"
   ]
  },
  {
   "cell_type": "code",
   "execution_count": 1,
   "metadata": {},
   "outputs": [],
   "source": [
    "import pandas as pd\n",
    "import numpy as np\n",
    "import matplotlib.pyplot as plt\n",
    "import seaborn as sns\n",
    "import warnings\n",
    "warnings.filterwarnings('ignore')"
   ]
  },
  {
   "cell_type": "code",
   "execution_count": 2,
   "metadata": {},
   "outputs": [
    {
     "data": {
      "text/html": [
       "<div>\n",
       "<style scoped>\n",
       "    .dataframe tbody tr th:only-of-type {\n",
       "        vertical-align: middle;\n",
       "    }\n",
       "\n",
       "    .dataframe tbody tr th {\n",
       "        vertical-align: top;\n",
       "    }\n",
       "\n",
       "    .dataframe thead th {\n",
       "        text-align: right;\n",
       "    }\n",
       "</style>\n",
       "<table border=\"1\" class=\"dataframe\">\n",
       "  <thead>\n",
       "    <tr style=\"text-align: right;\">\n",
       "      <th></th>\n",
       "      <th>Customer</th>\n",
       "      <th>Country</th>\n",
       "      <th>State Code</th>\n",
       "      <th>State</th>\n",
       "      <th>Claim Amount</th>\n",
       "      <th>Response</th>\n",
       "      <th>Coverage</th>\n",
       "      <th>Education</th>\n",
       "      <th>Effective To Date</th>\n",
       "      <th>EmploymentStatus</th>\n",
       "      <th>...</th>\n",
       "      <th>Months Since Policy Inception</th>\n",
       "      <th>Number of Open Complaints</th>\n",
       "      <th>Number of Policies</th>\n",
       "      <th>Policy Type</th>\n",
       "      <th>Policy</th>\n",
       "      <th>Claim Reason</th>\n",
       "      <th>Sales Channel</th>\n",
       "      <th>Total Claim Amount</th>\n",
       "      <th>Vehicle Class</th>\n",
       "      <th>Vehicle Size</th>\n",
       "    </tr>\n",
       "  </thead>\n",
       "  <tbody>\n",
       "    <tr>\n",
       "      <td>0</td>\n",
       "      <td>BU79786</td>\n",
       "      <td>US</td>\n",
       "      <td>KS</td>\n",
       "      <td>Kansas</td>\n",
       "      <td>276.351928</td>\n",
       "      <td>No</td>\n",
       "      <td>Basic</td>\n",
       "      <td>Bachelor</td>\n",
       "      <td>2011-02-24</td>\n",
       "      <td>Employed</td>\n",
       "      <td>...</td>\n",
       "      <td>5</td>\n",
       "      <td>0</td>\n",
       "      <td>1</td>\n",
       "      <td>Corporate Auto</td>\n",
       "      <td>Corporate L3</td>\n",
       "      <td>Collision</td>\n",
       "      <td>Agent</td>\n",
       "      <td>384.811147</td>\n",
       "      <td>Two-Door Car</td>\n",
       "      <td>Medsize</td>\n",
       "    </tr>\n",
       "    <tr>\n",
       "      <td>1</td>\n",
       "      <td>QZ44356</td>\n",
       "      <td>US</td>\n",
       "      <td>NE</td>\n",
       "      <td>Nebraska</td>\n",
       "      <td>697.953590</td>\n",
       "      <td>No</td>\n",
       "      <td>Extended</td>\n",
       "      <td>Bachelor</td>\n",
       "      <td>2011-01-31</td>\n",
       "      <td>Unemployed</td>\n",
       "      <td>...</td>\n",
       "      <td>42</td>\n",
       "      <td>0</td>\n",
       "      <td>8</td>\n",
       "      <td>Personal Auto</td>\n",
       "      <td>Personal L3</td>\n",
       "      <td>Scratch/Dent</td>\n",
       "      <td>Agent</td>\n",
       "      <td>1131.464935</td>\n",
       "      <td>Four-Door Car</td>\n",
       "      <td>Medsize</td>\n",
       "    </tr>\n",
       "    <tr>\n",
       "      <td>2</td>\n",
       "      <td>AI49188</td>\n",
       "      <td>US</td>\n",
       "      <td>OK</td>\n",
       "      <td>Oklahoma</td>\n",
       "      <td>1288.743165</td>\n",
       "      <td>No</td>\n",
       "      <td>Premium</td>\n",
       "      <td>Bachelor</td>\n",
       "      <td>2011-02-19</td>\n",
       "      <td>Employed</td>\n",
       "      <td>...</td>\n",
       "      <td>38</td>\n",
       "      <td>0</td>\n",
       "      <td>2</td>\n",
       "      <td>Personal Auto</td>\n",
       "      <td>Personal L3</td>\n",
       "      <td>Collision</td>\n",
       "      <td>Agent</td>\n",
       "      <td>566.472247</td>\n",
       "      <td>Two-Door Car</td>\n",
       "      <td>Medsize</td>\n",
       "    </tr>\n",
       "    <tr>\n",
       "      <td>3</td>\n",
       "      <td>WW63253</td>\n",
       "      <td>US</td>\n",
       "      <td>MO</td>\n",
       "      <td>Missouri</td>\n",
       "      <td>764.586183</td>\n",
       "      <td>No</td>\n",
       "      <td>Basic</td>\n",
       "      <td>Bachelor</td>\n",
       "      <td>2011-01-20</td>\n",
       "      <td>Unemployed</td>\n",
       "      <td>...</td>\n",
       "      <td>65</td>\n",
       "      <td>0</td>\n",
       "      <td>7</td>\n",
       "      <td>Corporate Auto</td>\n",
       "      <td>Corporate L2</td>\n",
       "      <td>Collision</td>\n",
       "      <td>Call Center</td>\n",
       "      <td>529.881344</td>\n",
       "      <td>SUV</td>\n",
       "      <td>Medsize</td>\n",
       "    </tr>\n",
       "    <tr>\n",
       "      <td>4</td>\n",
       "      <td>HB64268</td>\n",
       "      <td>US</td>\n",
       "      <td>KS</td>\n",
       "      <td>Kansas</td>\n",
       "      <td>281.369258</td>\n",
       "      <td>No</td>\n",
       "      <td>Basic</td>\n",
       "      <td>Bachelor</td>\n",
       "      <td>2011-02-03</td>\n",
       "      <td>Employed</td>\n",
       "      <td>...</td>\n",
       "      <td>44</td>\n",
       "      <td>0</td>\n",
       "      <td>1</td>\n",
       "      <td>Personal Auto</td>\n",
       "      <td>Personal L1</td>\n",
       "      <td>Collision</td>\n",
       "      <td>Agent</td>\n",
       "      <td>138.130879</td>\n",
       "      <td>Four-Door Car</td>\n",
       "      <td>Medsize</td>\n",
       "    </tr>\n",
       "    <tr>\n",
       "      <td>...</td>\n",
       "      <td>...</td>\n",
       "      <td>...</td>\n",
       "      <td>...</td>\n",
       "      <td>...</td>\n",
       "      <td>...</td>\n",
       "      <td>...</td>\n",
       "      <td>...</td>\n",
       "      <td>...</td>\n",
       "      <td>...</td>\n",
       "      <td>...</td>\n",
       "      <td>...</td>\n",
       "      <td>...</td>\n",
       "      <td>...</td>\n",
       "      <td>...</td>\n",
       "      <td>...</td>\n",
       "      <td>...</td>\n",
       "      <td>...</td>\n",
       "      <td>...</td>\n",
       "      <td>...</td>\n",
       "      <td>...</td>\n",
       "      <td>...</td>\n",
       "    </tr>\n",
       "    <tr>\n",
       "      <td>9129</td>\n",
       "      <td>LA72316</td>\n",
       "      <td>US</td>\n",
       "      <td>MO</td>\n",
       "      <td>Missouri</td>\n",
       "      <td>2340.598798</td>\n",
       "      <td>No</td>\n",
       "      <td>Basic</td>\n",
       "      <td>Bachelor</td>\n",
       "      <td>2011-02-10</td>\n",
       "      <td>Employed</td>\n",
       "      <td>...</td>\n",
       "      <td>89</td>\n",
       "      <td>0</td>\n",
       "      <td>2</td>\n",
       "      <td>Personal Auto</td>\n",
       "      <td>Personal L1</td>\n",
       "      <td>Hail</td>\n",
       "      <td>Web</td>\n",
       "      <td>198.234764</td>\n",
       "      <td>Four-Door Car</td>\n",
       "      <td>Medsize</td>\n",
       "    </tr>\n",
       "    <tr>\n",
       "      <td>9130</td>\n",
       "      <td>PK87824</td>\n",
       "      <td>US</td>\n",
       "      <td>MO</td>\n",
       "      <td>Missouri</td>\n",
       "      <td>309.651122</td>\n",
       "      <td>Yes</td>\n",
       "      <td>Extended</td>\n",
       "      <td>College</td>\n",
       "      <td>2011-02-12</td>\n",
       "      <td>Employed</td>\n",
       "      <td>...</td>\n",
       "      <td>28</td>\n",
       "      <td>0</td>\n",
       "      <td>1</td>\n",
       "      <td>Corporate Auto</td>\n",
       "      <td>Corporate L3</td>\n",
       "      <td>Collision</td>\n",
       "      <td>Branch</td>\n",
       "      <td>379.200000</td>\n",
       "      <td>Four-Door Car</td>\n",
       "      <td>Medsize</td>\n",
       "    </tr>\n",
       "    <tr>\n",
       "      <td>9131</td>\n",
       "      <td>TD14365</td>\n",
       "      <td>US</td>\n",
       "      <td>MO</td>\n",
       "      <td>Missouri</td>\n",
       "      <td>816.389043</td>\n",
       "      <td>No</td>\n",
       "      <td>Extended</td>\n",
       "      <td>Bachelor</td>\n",
       "      <td>2011-02-06</td>\n",
       "      <td>Unemployed</td>\n",
       "      <td>...</td>\n",
       "      <td>37</td>\n",
       "      <td>3</td>\n",
       "      <td>2</td>\n",
       "      <td>Corporate Auto</td>\n",
       "      <td>Corporate L2</td>\n",
       "      <td>Collision</td>\n",
       "      <td>Branch</td>\n",
       "      <td>790.784983</td>\n",
       "      <td>Four-Door Car</td>\n",
       "      <td>Medsize</td>\n",
       "    </tr>\n",
       "    <tr>\n",
       "      <td>9132</td>\n",
       "      <td>UP19263</td>\n",
       "      <td>US</td>\n",
       "      <td>MO</td>\n",
       "      <td>Missouri</td>\n",
       "      <td>752.444244</td>\n",
       "      <td>No</td>\n",
       "      <td>Extended</td>\n",
       "      <td>College</td>\n",
       "      <td>2011-02-03</td>\n",
       "      <td>Employed</td>\n",
       "      <td>...</td>\n",
       "      <td>3</td>\n",
       "      <td>0</td>\n",
       "      <td>3</td>\n",
       "      <td>Personal Auto</td>\n",
       "      <td>Personal L2</td>\n",
       "      <td>Scratch/Dent</td>\n",
       "      <td>Branch</td>\n",
       "      <td>691.200000</td>\n",
       "      <td>Four-Door Car</td>\n",
       "      <td>Large</td>\n",
       "    </tr>\n",
       "    <tr>\n",
       "      <td>9133</td>\n",
       "      <td>Y167826</td>\n",
       "      <td>US</td>\n",
       "      <td>MO</td>\n",
       "      <td>Missouri</td>\n",
       "      <td>261.183687</td>\n",
       "      <td>No</td>\n",
       "      <td>Extended</td>\n",
       "      <td>College</td>\n",
       "      <td>2011-02-14</td>\n",
       "      <td>Unemployed</td>\n",
       "      <td>...</td>\n",
       "      <td>90</td>\n",
       "      <td>0</td>\n",
       "      <td>1</td>\n",
       "      <td>Corporate Auto</td>\n",
       "      <td>Corporate L3</td>\n",
       "      <td>Other</td>\n",
       "      <td>Call Center</td>\n",
       "      <td>369.600000</td>\n",
       "      <td>Two-Door Car</td>\n",
       "      <td>Medsize</td>\n",
       "    </tr>\n",
       "  </tbody>\n",
       "</table>\n",
       "<p>9134 rows × 26 columns</p>\n",
       "</div>"
      ],
      "text/plain": [
       "     Customer Country State Code     State  Claim Amount Response  Coverage  \\\n",
       "0     BU79786      US         KS    Kansas    276.351928       No     Basic   \n",
       "1     QZ44356      US         NE  Nebraska    697.953590       No  Extended   \n",
       "2     AI49188      US         OK  Oklahoma   1288.743165       No   Premium   \n",
       "3     WW63253      US         MO  Missouri    764.586183       No     Basic   \n",
       "4     HB64268      US         KS    Kansas    281.369258       No     Basic   \n",
       "...       ...     ...        ...       ...           ...      ...       ...   \n",
       "9129  LA72316      US         MO  Missouri   2340.598798       No     Basic   \n",
       "9130  PK87824      US         MO  Missouri    309.651122      Yes  Extended   \n",
       "9131  TD14365      US         MO  Missouri    816.389043       No  Extended   \n",
       "9132  UP19263      US         MO  Missouri    752.444244       No  Extended   \n",
       "9133  Y167826      US         MO  Missouri    261.183687       No  Extended   \n",
       "\n",
       "     Education Effective To Date EmploymentStatus  ...  \\\n",
       "0     Bachelor        2011-02-24         Employed  ...   \n",
       "1     Bachelor        2011-01-31       Unemployed  ...   \n",
       "2     Bachelor        2011-02-19         Employed  ...   \n",
       "3     Bachelor        2011-01-20       Unemployed  ...   \n",
       "4     Bachelor        2011-02-03         Employed  ...   \n",
       "...        ...               ...              ...  ...   \n",
       "9129  Bachelor        2011-02-10         Employed  ...   \n",
       "9130   College        2011-02-12         Employed  ...   \n",
       "9131  Bachelor        2011-02-06       Unemployed  ...   \n",
       "9132   College        2011-02-03         Employed  ...   \n",
       "9133   College        2011-02-14       Unemployed  ...   \n",
       "\n",
       "     Months Since Policy Inception  Number of Open Complaints  \\\n",
       "0                                5                          0   \n",
       "1                               42                          0   \n",
       "2                               38                          0   \n",
       "3                               65                          0   \n",
       "4                               44                          0   \n",
       "...                            ...                        ...   \n",
       "9129                            89                          0   \n",
       "9130                            28                          0   \n",
       "9131                            37                          3   \n",
       "9132                             3                          0   \n",
       "9133                            90                          0   \n",
       "\n",
       "     Number of Policies     Policy Type        Policy  Claim Reason  \\\n",
       "0                     1  Corporate Auto  Corporate L3     Collision   \n",
       "1                     8   Personal Auto   Personal L3  Scratch/Dent   \n",
       "2                     2   Personal Auto   Personal L3     Collision   \n",
       "3                     7  Corporate Auto  Corporate L2     Collision   \n",
       "4                     1   Personal Auto   Personal L1     Collision   \n",
       "...                 ...             ...           ...           ...   \n",
       "9129                  2   Personal Auto   Personal L1          Hail   \n",
       "9130                  1  Corporate Auto  Corporate L3     Collision   \n",
       "9131                  2  Corporate Auto  Corporate L2     Collision   \n",
       "9132                  3   Personal Auto   Personal L2  Scratch/Dent   \n",
       "9133                  1  Corporate Auto  Corporate L3         Other   \n",
       "\n",
       "      Sales Channel  Total Claim Amount  Vehicle Class Vehicle Size  \n",
       "0             Agent          384.811147   Two-Door Car      Medsize  \n",
       "1             Agent         1131.464935  Four-Door Car      Medsize  \n",
       "2             Agent          566.472247   Two-Door Car      Medsize  \n",
       "3       Call Center          529.881344            SUV      Medsize  \n",
       "4             Agent          138.130879  Four-Door Car      Medsize  \n",
       "...             ...                 ...            ...          ...  \n",
       "9129            Web          198.234764  Four-Door Car      Medsize  \n",
       "9130         Branch          379.200000  Four-Door Car      Medsize  \n",
       "9131         Branch          790.784983  Four-Door Car      Medsize  \n",
       "9132         Branch          691.200000  Four-Door Car        Large  \n",
       "9133    Call Center          369.600000   Two-Door Car      Medsize  \n",
       "\n",
       "[9134 rows x 26 columns]"
      ]
     },
     "execution_count": 2,
     "metadata": {},
     "output_type": "execute_result"
    }
   ],
   "source": [
    "Data=pd.read_csv('Auto_insurance_Claims_amount.csv',parse_dates=['Effective To Date'])\n",
    "Data"
   ]
  },
  {
   "cell_type": "markdown",
   "metadata": {},
   "source": [
    "# Exploratory Data Analysis"
   ]
  },
  {
   "cell_type": "code",
   "execution_count": 3,
   "metadata": {},
   "outputs": [
    {
     "data": {
      "text/plain": [
       "(9134, 26)"
      ]
     },
     "execution_count": 3,
     "metadata": {},
     "output_type": "execute_result"
    }
   ],
   "source": [
    "Data.shape"
   ]
  },
  {
   "cell_type": "code",
   "execution_count": 4,
   "metadata": {},
   "outputs": [
    {
     "name": "stdout",
     "output_type": "stream",
     "text": [
      "<class 'pandas.core.frame.DataFrame'>\n",
      "RangeIndex: 9134 entries, 0 to 9133\n",
      "Data columns (total 26 columns):\n",
      "Customer                         9134 non-null object\n",
      "Country                          9134 non-null object\n",
      "State Code                       9134 non-null object\n",
      "State                            9134 non-null object\n",
      "Claim Amount                     9134 non-null float64\n",
      "Response                         9134 non-null object\n",
      "Coverage                         9134 non-null object\n",
      "Education                        9134 non-null object\n",
      "Effective To Date                9134 non-null datetime64[ns]\n",
      "EmploymentStatus                 9134 non-null object\n",
      "Gender                           9134 non-null object\n",
      "Income                           9134 non-null int64\n",
      "Location Code                    9134 non-null object\n",
      "Marital Status                   9134 non-null object\n",
      "Monthly Premium Auto             9134 non-null int64\n",
      "Months Since Last Claim          9134 non-null int64\n",
      "Months Since Policy Inception    9134 non-null int64\n",
      "Number of Open Complaints        9134 non-null int64\n",
      "Number of Policies               9134 non-null int64\n",
      "Policy Type                      9134 non-null object\n",
      "Policy                           9134 non-null object\n",
      "Claim Reason                     9134 non-null object\n",
      "Sales Channel                    9134 non-null object\n",
      "Total Claim Amount               9134 non-null float64\n",
      "Vehicle Class                    9134 non-null object\n",
      "Vehicle Size                     9134 non-null object\n",
      "dtypes: datetime64[ns](1), float64(2), int64(6), object(17)\n",
      "memory usage: 1.8+ MB\n"
     ]
    }
   ],
   "source": [
    "Data.info()"
   ]
  },
  {
   "cell_type": "markdown",
   "metadata": {},
   "source": [
    "Statistical Summury"
   ]
  },
  {
   "cell_type": "code",
   "execution_count": 5,
   "metadata": {},
   "outputs": [
    {
     "data": {
      "text/html": [
       "<div>\n",
       "<style scoped>\n",
       "    .dataframe tbody tr th:only-of-type {\n",
       "        vertical-align: middle;\n",
       "    }\n",
       "\n",
       "    .dataframe tbody tr th {\n",
       "        vertical-align: top;\n",
       "    }\n",
       "\n",
       "    .dataframe thead th {\n",
       "        text-align: right;\n",
       "    }\n",
       "</style>\n",
       "<table border=\"1\" class=\"dataframe\">\n",
       "  <thead>\n",
       "    <tr style=\"text-align: right;\">\n",
       "      <th></th>\n",
       "      <th>Claim Amount</th>\n",
       "      <th>Income</th>\n",
       "      <th>Monthly Premium Auto</th>\n",
       "      <th>Months Since Last Claim</th>\n",
       "      <th>Months Since Policy Inception</th>\n",
       "      <th>Number of Open Complaints</th>\n",
       "      <th>Number of Policies</th>\n",
       "      <th>Total Claim Amount</th>\n",
       "    </tr>\n",
       "  </thead>\n",
       "  <tbody>\n",
       "    <tr>\n",
       "      <td>count</td>\n",
       "      <td>9134.000000</td>\n",
       "      <td>9134.000000</td>\n",
       "      <td>9134.000000</td>\n",
       "      <td>9134.000000</td>\n",
       "      <td>9134.000000</td>\n",
       "      <td>9134.000000</td>\n",
       "      <td>9134.000000</td>\n",
       "      <td>9134.000000</td>\n",
       "    </tr>\n",
       "    <tr>\n",
       "      <td>mean</td>\n",
       "      <td>800.494047</td>\n",
       "      <td>37657.380009</td>\n",
       "      <td>93.219291</td>\n",
       "      <td>15.097000</td>\n",
       "      <td>48.064594</td>\n",
       "      <td>0.384388</td>\n",
       "      <td>2.966170</td>\n",
       "      <td>434.088794</td>\n",
       "    </tr>\n",
       "    <tr>\n",
       "      <td>std</td>\n",
       "      <td>687.096761</td>\n",
       "      <td>30379.904734</td>\n",
       "      <td>34.407967</td>\n",
       "      <td>10.073257</td>\n",
       "      <td>27.905991</td>\n",
       "      <td>0.910384</td>\n",
       "      <td>2.390182</td>\n",
       "      <td>290.500092</td>\n",
       "    </tr>\n",
       "    <tr>\n",
       "      <td>min</td>\n",
       "      <td>189.800768</td>\n",
       "      <td>0.000000</td>\n",
       "      <td>61.000000</td>\n",
       "      <td>0.000000</td>\n",
       "      <td>0.000000</td>\n",
       "      <td>0.000000</td>\n",
       "      <td>1.000000</td>\n",
       "      <td>0.099007</td>\n",
       "    </tr>\n",
       "    <tr>\n",
       "      <td>25%</td>\n",
       "      <td>399.425179</td>\n",
       "      <td>0.000000</td>\n",
       "      <td>68.000000</td>\n",
       "      <td>6.000000</td>\n",
       "      <td>24.000000</td>\n",
       "      <td>0.000000</td>\n",
       "      <td>1.000000</td>\n",
       "      <td>272.258244</td>\n",
       "    </tr>\n",
       "    <tr>\n",
       "      <td>50%</td>\n",
       "      <td>578.018220</td>\n",
       "      <td>33889.500000</td>\n",
       "      <td>83.000000</td>\n",
       "      <td>14.000000</td>\n",
       "      <td>48.000000</td>\n",
       "      <td>0.000000</td>\n",
       "      <td>2.000000</td>\n",
       "      <td>383.945434</td>\n",
       "    </tr>\n",
       "    <tr>\n",
       "      <td>75%</td>\n",
       "      <td>896.216704</td>\n",
       "      <td>62320.000000</td>\n",
       "      <td>109.000000</td>\n",
       "      <td>23.000000</td>\n",
       "      <td>71.000000</td>\n",
       "      <td>0.000000</td>\n",
       "      <td>4.000000</td>\n",
       "      <td>547.514839</td>\n",
       "    </tr>\n",
       "    <tr>\n",
       "      <td>max</td>\n",
       "      <td>8332.538119</td>\n",
       "      <td>99981.000000</td>\n",
       "      <td>298.000000</td>\n",
       "      <td>35.000000</td>\n",
       "      <td>99.000000</td>\n",
       "      <td>5.000000</td>\n",
       "      <td>9.000000</td>\n",
       "      <td>2893.239678</td>\n",
       "    </tr>\n",
       "  </tbody>\n",
       "</table>\n",
       "</div>"
      ],
      "text/plain": [
       "       Claim Amount        Income  Monthly Premium Auto  \\\n",
       "count   9134.000000   9134.000000           9134.000000   \n",
       "mean     800.494047  37657.380009             93.219291   \n",
       "std      687.096761  30379.904734             34.407967   \n",
       "min      189.800768      0.000000             61.000000   \n",
       "25%      399.425179      0.000000             68.000000   \n",
       "50%      578.018220  33889.500000             83.000000   \n",
       "75%      896.216704  62320.000000            109.000000   \n",
       "max     8332.538119  99981.000000            298.000000   \n",
       "\n",
       "       Months Since Last Claim  Months Since Policy Inception  \\\n",
       "count              9134.000000                    9134.000000   \n",
       "mean                 15.097000                      48.064594   \n",
       "std                  10.073257                      27.905991   \n",
       "min                   0.000000                       0.000000   \n",
       "25%                   6.000000                      24.000000   \n",
       "50%                  14.000000                      48.000000   \n",
       "75%                  23.000000                      71.000000   \n",
       "max                  35.000000                      99.000000   \n",
       "\n",
       "       Number of Open Complaints  Number of Policies  Total Claim Amount  \n",
       "count                9134.000000         9134.000000         9134.000000  \n",
       "mean                    0.384388            2.966170          434.088794  \n",
       "std                     0.910384            2.390182          290.500092  \n",
       "min                     0.000000            1.000000            0.099007  \n",
       "25%                     0.000000            1.000000          272.258244  \n",
       "50%                     0.000000            2.000000          383.945434  \n",
       "75%                     0.000000            4.000000          547.514839  \n",
       "max                     5.000000            9.000000         2893.239678  "
      ]
     },
     "execution_count": 5,
     "metadata": {},
     "output_type": "execute_result"
    }
   ],
   "source": [
    "Data.describe()"
   ]
  },
  {
   "cell_type": "code",
   "execution_count": 6,
   "metadata": {},
   "outputs": [
    {
     "data": {
      "text/plain": [
       "US    9134\n",
       "Name: Country, dtype: int64"
      ]
     },
     "execution_count": 6,
     "metadata": {},
     "output_type": "execute_result"
    }
   ],
   "source": [
    "Data.Country.value_counts()"
   ]
  },
  {
   "cell_type": "markdown",
   "metadata": {},
   "source": [
    "This is the Auto_insurance data of USA only.As it is the dataset of only one country so we can drop the Country column."
   ]
  },
  {
   "cell_type": "code",
   "execution_count": 7,
   "metadata": {},
   "outputs": [
    {
     "data": {
      "text/plain": [
       "MO    3150\n",
       "IA    2601\n",
       "NE    1703\n",
       "OK     882\n",
       "KS     798\n",
       "Name: State Code, dtype: int64"
      ]
     },
     "execution_count": 7,
     "metadata": {},
     "output_type": "execute_result"
    }
   ],
   "source": [
    "Data['State Code'].value_counts()"
   ]
  },
  {
   "cell_type": "code",
   "execution_count": 8,
   "metadata": {},
   "outputs": [
    {
     "data": {
      "text/plain": [
       "Missouri    3150\n",
       "Iowa        2601\n",
       "Nebraska    1703\n",
       "Oklahoma     882\n",
       "Kansas       798\n",
       "Name: State, dtype: int64"
      ]
     },
     "execution_count": 8,
     "metadata": {},
     "output_type": "execute_result"
    }
   ],
   "source": [
    "Data.State.value_counts()"
   ]
  },
  {
   "cell_type": "code",
   "execution_count": 9,
   "metadata": {},
   "outputs": [
    {
     "data": {
      "text/html": [
       "<div>\n",
       "<style scoped>\n",
       "    .dataframe tbody tr th:only-of-type {\n",
       "        vertical-align: middle;\n",
       "    }\n",
       "\n",
       "    .dataframe tbody tr th {\n",
       "        vertical-align: top;\n",
       "    }\n",
       "\n",
       "    .dataframe thead th {\n",
       "        text-align: right;\n",
       "    }\n",
       "</style>\n",
       "<table border=\"1\" class=\"dataframe\">\n",
       "  <thead>\n",
       "    <tr style=\"text-align: right;\">\n",
       "      <th></th>\n",
       "      <th>Customer</th>\n",
       "      <th>Country</th>\n",
       "      <th>State Code</th>\n",
       "      <th>State</th>\n",
       "      <th>Claim Amount</th>\n",
       "      <th>Response</th>\n",
       "      <th>Coverage</th>\n",
       "      <th>Education</th>\n",
       "      <th>Effective To Date</th>\n",
       "      <th>EmploymentStatus</th>\n",
       "      <th>...</th>\n",
       "      <th>Months Since Policy Inception</th>\n",
       "      <th>Number of Open Complaints</th>\n",
       "      <th>Number of Policies</th>\n",
       "      <th>Policy Type</th>\n",
       "      <th>Policy</th>\n",
       "      <th>Claim Reason</th>\n",
       "      <th>Sales Channel</th>\n",
       "      <th>Total Claim Amount</th>\n",
       "      <th>Vehicle Class</th>\n",
       "      <th>Vehicle Size</th>\n",
       "    </tr>\n",
       "  </thead>\n",
       "  <tbody>\n",
       "    <tr>\n",
       "      <td>3</td>\n",
       "      <td>WW63253</td>\n",
       "      <td>US</td>\n",
       "      <td>MO</td>\n",
       "      <td>Missouri</td>\n",
       "      <td>764.586183</td>\n",
       "      <td>No</td>\n",
       "      <td>Basic</td>\n",
       "      <td>Bachelor</td>\n",
       "      <td>2011-01-20</td>\n",
       "      <td>Unemployed</td>\n",
       "      <td>...</td>\n",
       "      <td>65</td>\n",
       "      <td>0</td>\n",
       "      <td>7</td>\n",
       "      <td>Corporate Auto</td>\n",
       "      <td>Corporate L2</td>\n",
       "      <td>Collision</td>\n",
       "      <td>Call Center</td>\n",
       "      <td>529.881344</td>\n",
       "      <td>SUV</td>\n",
       "      <td>Medsize</td>\n",
       "    </tr>\n",
       "    <tr>\n",
       "      <td>10</td>\n",
       "      <td>SX51350</td>\n",
       "      <td>US</td>\n",
       "      <td>MO</td>\n",
       "      <td>Missouri</td>\n",
       "      <td>473.899202</td>\n",
       "      <td>No</td>\n",
       "      <td>Basic</td>\n",
       "      <td>College</td>\n",
       "      <td>2011-02-21</td>\n",
       "      <td>Unemployed</td>\n",
       "      <td>...</td>\n",
       "      <td>5</td>\n",
       "      <td>0</td>\n",
       "      <td>3</td>\n",
       "      <td>Personal Auto</td>\n",
       "      <td>Personal L3</td>\n",
       "      <td>Collision</td>\n",
       "      <td>Agent</td>\n",
       "      <td>482.400000</td>\n",
       "      <td>Four-Door Car</td>\n",
       "      <td>Small</td>\n",
       "    </tr>\n",
       "    <tr>\n",
       "      <td>11</td>\n",
       "      <td>VQ65197</td>\n",
       "      <td>US</td>\n",
       "      <td>MO</td>\n",
       "      <td>Missouri</td>\n",
       "      <td>819.719708</td>\n",
       "      <td>No</td>\n",
       "      <td>Basic</td>\n",
       "      <td>College</td>\n",
       "      <td>2011-01-06</td>\n",
       "      <td>Unemployed</td>\n",
       "      <td>...</td>\n",
       "      <td>87</td>\n",
       "      <td>0</td>\n",
       "      <td>3</td>\n",
       "      <td>Personal Auto</td>\n",
       "      <td>Personal L3</td>\n",
       "      <td>Hail</td>\n",
       "      <td>Agent</td>\n",
       "      <td>528.000000</td>\n",
       "      <td>SUV</td>\n",
       "      <td>Medsize</td>\n",
       "    </tr>\n",
       "    <tr>\n",
       "      <td>12</td>\n",
       "      <td>DP39365</td>\n",
       "      <td>US</td>\n",
       "      <td>MO</td>\n",
       "      <td>Missouri</td>\n",
       "      <td>879.879700</td>\n",
       "      <td>No</td>\n",
       "      <td>Premium</td>\n",
       "      <td>Master</td>\n",
       "      <td>2011-02-06</td>\n",
       "      <td>Employed</td>\n",
       "      <td>...</td>\n",
       "      <td>82</td>\n",
       "      <td>2</td>\n",
       "      <td>3</td>\n",
       "      <td>Corporate Auto</td>\n",
       "      <td>Corporate L1</td>\n",
       "      <td>Hail</td>\n",
       "      <td>Agent</td>\n",
       "      <td>472.029737</td>\n",
       "      <td>Four-Door Car</td>\n",
       "      <td>Medsize</td>\n",
       "    </tr>\n",
       "    <tr>\n",
       "      <td>14</td>\n",
       "      <td>IL66569</td>\n",
       "      <td>US</td>\n",
       "      <td>MO</td>\n",
       "      <td>Missouri</td>\n",
       "      <td>538.443166</td>\n",
       "      <td>No</td>\n",
       "      <td>Basic</td>\n",
       "      <td>College</td>\n",
       "      <td>2011-01-18</td>\n",
       "      <td>Employed</td>\n",
       "      <td>...</td>\n",
       "      <td>10</td>\n",
       "      <td>2</td>\n",
       "      <td>8</td>\n",
       "      <td>Corporate Auto</td>\n",
       "      <td>Corporate L3</td>\n",
       "      <td>Other</td>\n",
       "      <td>Call Center</td>\n",
       "      <td>307.139132</td>\n",
       "      <td>Four-Door Car</td>\n",
       "      <td>Medsize</td>\n",
       "    </tr>\n",
       "    <tr>\n",
       "      <td>...</td>\n",
       "      <td>...</td>\n",
       "      <td>...</td>\n",
       "      <td>...</td>\n",
       "      <td>...</td>\n",
       "      <td>...</td>\n",
       "      <td>...</td>\n",
       "      <td>...</td>\n",
       "      <td>...</td>\n",
       "      <td>...</td>\n",
       "      <td>...</td>\n",
       "      <td>...</td>\n",
       "      <td>...</td>\n",
       "      <td>...</td>\n",
       "      <td>...</td>\n",
       "      <td>...</td>\n",
       "      <td>...</td>\n",
       "      <td>...</td>\n",
       "      <td>...</td>\n",
       "      <td>...</td>\n",
       "      <td>...</td>\n",
       "      <td>...</td>\n",
       "    </tr>\n",
       "    <tr>\n",
       "      <td>9129</td>\n",
       "      <td>LA72316</td>\n",
       "      <td>US</td>\n",
       "      <td>MO</td>\n",
       "      <td>Missouri</td>\n",
       "      <td>2340.598798</td>\n",
       "      <td>No</td>\n",
       "      <td>Basic</td>\n",
       "      <td>Bachelor</td>\n",
       "      <td>2011-02-10</td>\n",
       "      <td>Employed</td>\n",
       "      <td>...</td>\n",
       "      <td>89</td>\n",
       "      <td>0</td>\n",
       "      <td>2</td>\n",
       "      <td>Personal Auto</td>\n",
       "      <td>Personal L1</td>\n",
       "      <td>Hail</td>\n",
       "      <td>Web</td>\n",
       "      <td>198.234764</td>\n",
       "      <td>Four-Door Car</td>\n",
       "      <td>Medsize</td>\n",
       "    </tr>\n",
       "    <tr>\n",
       "      <td>9130</td>\n",
       "      <td>PK87824</td>\n",
       "      <td>US</td>\n",
       "      <td>MO</td>\n",
       "      <td>Missouri</td>\n",
       "      <td>309.651122</td>\n",
       "      <td>Yes</td>\n",
       "      <td>Extended</td>\n",
       "      <td>College</td>\n",
       "      <td>2011-02-12</td>\n",
       "      <td>Employed</td>\n",
       "      <td>...</td>\n",
       "      <td>28</td>\n",
       "      <td>0</td>\n",
       "      <td>1</td>\n",
       "      <td>Corporate Auto</td>\n",
       "      <td>Corporate L3</td>\n",
       "      <td>Collision</td>\n",
       "      <td>Branch</td>\n",
       "      <td>379.200000</td>\n",
       "      <td>Four-Door Car</td>\n",
       "      <td>Medsize</td>\n",
       "    </tr>\n",
       "    <tr>\n",
       "      <td>9131</td>\n",
       "      <td>TD14365</td>\n",
       "      <td>US</td>\n",
       "      <td>MO</td>\n",
       "      <td>Missouri</td>\n",
       "      <td>816.389043</td>\n",
       "      <td>No</td>\n",
       "      <td>Extended</td>\n",
       "      <td>Bachelor</td>\n",
       "      <td>2011-02-06</td>\n",
       "      <td>Unemployed</td>\n",
       "      <td>...</td>\n",
       "      <td>37</td>\n",
       "      <td>3</td>\n",
       "      <td>2</td>\n",
       "      <td>Corporate Auto</td>\n",
       "      <td>Corporate L2</td>\n",
       "      <td>Collision</td>\n",
       "      <td>Branch</td>\n",
       "      <td>790.784983</td>\n",
       "      <td>Four-Door Car</td>\n",
       "      <td>Medsize</td>\n",
       "    </tr>\n",
       "    <tr>\n",
       "      <td>9132</td>\n",
       "      <td>UP19263</td>\n",
       "      <td>US</td>\n",
       "      <td>MO</td>\n",
       "      <td>Missouri</td>\n",
       "      <td>752.444244</td>\n",
       "      <td>No</td>\n",
       "      <td>Extended</td>\n",
       "      <td>College</td>\n",
       "      <td>2011-02-03</td>\n",
       "      <td>Employed</td>\n",
       "      <td>...</td>\n",
       "      <td>3</td>\n",
       "      <td>0</td>\n",
       "      <td>3</td>\n",
       "      <td>Personal Auto</td>\n",
       "      <td>Personal L2</td>\n",
       "      <td>Scratch/Dent</td>\n",
       "      <td>Branch</td>\n",
       "      <td>691.200000</td>\n",
       "      <td>Four-Door Car</td>\n",
       "      <td>Large</td>\n",
       "    </tr>\n",
       "    <tr>\n",
       "      <td>9133</td>\n",
       "      <td>Y167826</td>\n",
       "      <td>US</td>\n",
       "      <td>MO</td>\n",
       "      <td>Missouri</td>\n",
       "      <td>261.183687</td>\n",
       "      <td>No</td>\n",
       "      <td>Extended</td>\n",
       "      <td>College</td>\n",
       "      <td>2011-02-14</td>\n",
       "      <td>Unemployed</td>\n",
       "      <td>...</td>\n",
       "      <td>90</td>\n",
       "      <td>0</td>\n",
       "      <td>1</td>\n",
       "      <td>Corporate Auto</td>\n",
       "      <td>Corporate L3</td>\n",
       "      <td>Other</td>\n",
       "      <td>Call Center</td>\n",
       "      <td>369.600000</td>\n",
       "      <td>Two-Door Car</td>\n",
       "      <td>Medsize</td>\n",
       "    </tr>\n",
       "  </tbody>\n",
       "</table>\n",
       "<p>3150 rows × 26 columns</p>\n",
       "</div>"
      ],
      "text/plain": [
       "     Customer Country State Code     State  Claim Amount Response  Coverage  \\\n",
       "3     WW63253      US         MO  Missouri    764.586183       No     Basic   \n",
       "10    SX51350      US         MO  Missouri    473.899202       No     Basic   \n",
       "11    VQ65197      US         MO  Missouri    819.719708       No     Basic   \n",
       "12    DP39365      US         MO  Missouri    879.879700       No   Premium   \n",
       "14    IL66569      US         MO  Missouri    538.443166       No     Basic   \n",
       "...       ...     ...        ...       ...           ...      ...       ...   \n",
       "9129  LA72316      US         MO  Missouri   2340.598798       No     Basic   \n",
       "9130  PK87824      US         MO  Missouri    309.651122      Yes  Extended   \n",
       "9131  TD14365      US         MO  Missouri    816.389043       No  Extended   \n",
       "9132  UP19263      US         MO  Missouri    752.444244       No  Extended   \n",
       "9133  Y167826      US         MO  Missouri    261.183687       No  Extended   \n",
       "\n",
       "     Education Effective To Date EmploymentStatus  ...  \\\n",
       "3     Bachelor        2011-01-20       Unemployed  ...   \n",
       "10     College        2011-02-21       Unemployed  ...   \n",
       "11     College        2011-01-06       Unemployed  ...   \n",
       "12      Master        2011-02-06         Employed  ...   \n",
       "14     College        2011-01-18         Employed  ...   \n",
       "...        ...               ...              ...  ...   \n",
       "9129  Bachelor        2011-02-10         Employed  ...   \n",
       "9130   College        2011-02-12         Employed  ...   \n",
       "9131  Bachelor        2011-02-06       Unemployed  ...   \n",
       "9132   College        2011-02-03         Employed  ...   \n",
       "9133   College        2011-02-14       Unemployed  ...   \n",
       "\n",
       "     Months Since Policy Inception  Number of Open Complaints  \\\n",
       "3                               65                          0   \n",
       "10                               5                          0   \n",
       "11                              87                          0   \n",
       "12                              82                          2   \n",
       "14                              10                          2   \n",
       "...                            ...                        ...   \n",
       "9129                            89                          0   \n",
       "9130                            28                          0   \n",
       "9131                            37                          3   \n",
       "9132                             3                          0   \n",
       "9133                            90                          0   \n",
       "\n",
       "     Number of Policies     Policy Type        Policy  Claim Reason  \\\n",
       "3                     7  Corporate Auto  Corporate L2     Collision   \n",
       "10                    3   Personal Auto   Personal L3     Collision   \n",
       "11                    3   Personal Auto   Personal L3          Hail   \n",
       "12                    3  Corporate Auto  Corporate L1          Hail   \n",
       "14                    8  Corporate Auto  Corporate L3         Other   \n",
       "...                 ...             ...           ...           ...   \n",
       "9129                  2   Personal Auto   Personal L1          Hail   \n",
       "9130                  1  Corporate Auto  Corporate L3     Collision   \n",
       "9131                  2  Corporate Auto  Corporate L2     Collision   \n",
       "9132                  3   Personal Auto   Personal L2  Scratch/Dent   \n",
       "9133                  1  Corporate Auto  Corporate L3         Other   \n",
       "\n",
       "      Sales Channel  Total Claim Amount  Vehicle Class Vehicle Size  \n",
       "3       Call Center          529.881344            SUV      Medsize  \n",
       "10            Agent          482.400000  Four-Door Car        Small  \n",
       "11            Agent          528.000000            SUV      Medsize  \n",
       "12            Agent          472.029737  Four-Door Car      Medsize  \n",
       "14      Call Center          307.139132  Four-Door Car      Medsize  \n",
       "...             ...                 ...            ...          ...  \n",
       "9129            Web          198.234764  Four-Door Car      Medsize  \n",
       "9130         Branch          379.200000  Four-Door Car      Medsize  \n",
       "9131         Branch          790.784983  Four-Door Car      Medsize  \n",
       "9132         Branch          691.200000  Four-Door Car        Large  \n",
       "9133    Call Center          369.600000   Two-Door Car      Medsize  \n",
       "\n",
       "[3150 rows x 26 columns]"
      ]
     },
     "execution_count": 9,
     "metadata": {},
     "output_type": "execute_result"
    }
   ],
   "source": [
    "a=Data.groupby(['State']).get_group('Missouri')\n",
    "a"
   ]
  },
  {
   "cell_type": "code",
   "execution_count": 10,
   "metadata": {},
   "outputs": [
    {
     "data": {
      "text/plain": [
       "MO    3150\n",
       "Name: State Code, dtype: int64"
      ]
     },
     "execution_count": 10,
     "metadata": {},
     "output_type": "execute_result"
    }
   ],
   "source": [
    "a['State Code'].value_counts()"
   ]
  },
  {
   "cell_type": "code",
   "execution_count": 11,
   "metadata": {},
   "outputs": [
    {
     "data": {
      "text/plain": [
       "IA    2601\n",
       "Name: State Code, dtype: int64"
      ]
     },
     "execution_count": 11,
     "metadata": {},
     "output_type": "execute_result"
    }
   ],
   "source": [
    "b=Data.groupby(['State']).get_group('Iowa')\n",
    "b['State Code'].value_counts()"
   ]
  },
  {
   "cell_type": "code",
   "execution_count": 12,
   "metadata": {},
   "outputs": [
    {
     "data": {
      "text/plain": [
       "NE    1703\n",
       "Name: State Code, dtype: int64"
      ]
     },
     "execution_count": 12,
     "metadata": {},
     "output_type": "execute_result"
    }
   ],
   "source": [
    "c=Data.groupby(['State']).get_group('Nebraska')\n",
    "c['State Code'].value_counts()"
   ]
  },
  {
   "cell_type": "code",
   "execution_count": 13,
   "metadata": {},
   "outputs": [
    {
     "data": {
      "text/plain": [
       "OK    882\n",
       "Name: State Code, dtype: int64"
      ]
     },
     "execution_count": 13,
     "metadata": {},
     "output_type": "execute_result"
    }
   ],
   "source": [
    "d=Data.groupby(['State']).get_group('Oklahoma')\n",
    "d['State Code'].value_counts()"
   ]
  },
  {
   "cell_type": "code",
   "execution_count": 14,
   "metadata": {},
   "outputs": [
    {
     "data": {
      "text/plain": [
       "KS    798\n",
       "Name: State Code, dtype: int64"
      ]
     },
     "execution_count": 14,
     "metadata": {},
     "output_type": "execute_result"
    }
   ],
   "source": [
    "e=Data.groupby(['State']).get_group('Kansas')\n",
    "e['State Code'].value_counts()"
   ]
  },
  {
   "cell_type": "markdown",
   "metadata": {},
   "source": [
    "All the 5 states has their State codes.we drop any of them."
   ]
  },
  {
   "cell_type": "code",
   "execution_count": 15,
   "metadata": {},
   "outputs": [
    {
     "data": {
      "text/plain": [
       "<matplotlib.axes._subplots.AxesSubplot at 0x253ac2d7f88>"
      ]
     },
     "execution_count": 15,
     "metadata": {},
     "output_type": "execute_result"
    },
    {
     "data": {
      "image/png": "[encoded data removed]",
      "text/plain": [
       "<Figure size 432x288 with 1 Axes>"
      ]
     },
     "metadata": {
      "needs_background": "light"
     },
     "output_type": "display_data"
    }
   ],
   "source": [
    "sns.barplot(x='State',y='Total Claim Amount',data=Data)"
   ]
  },
  {
   "cell_type": "markdown",
   "metadata": {},
   "source": [
    "Oklahoma has the Highest Total Claim Amount."
   ]
  },
  {
   "cell_type": "code",
   "execution_count": 16,
   "metadata": {},
   "outputs": [
    {
     "data": {
      "text/plain": [
       "No     7826\n",
       "Yes    1308\n",
       "Name: Response, dtype: int64"
      ]
     },
     "execution_count": 16,
     "metadata": {},
     "output_type": "execute_result"
    }
   ],
   "source": [
    "Data.Response.value_counts()"
   ]
  },
  {
   "cell_type": "code",
   "execution_count": 17,
   "metadata": {},
   "outputs": [
    {
     "data": {
      "text/plain": [
       "<matplotlib.axes._subplots.AxesSubplot at 0x253ac347cc8>"
      ]
     },
     "execution_count": 17,
     "metadata": {},
     "output_type": "execute_result"
    },
    {
     "data": {
      "image/png": "[encoded data removed]",
      "text/plain": [
       "<Figure size 432x288 with 1 Axes>"
      ]
     },
     "metadata": {
      "needs_background": "light"
     },
     "output_type": "display_data"
    }
   ],
   "source": [
    "sns.scatterplot(x='Response',y='Total Claim Amount',data=Data)"
   ]
  },
  {
   "cell_type": "code",
   "execution_count": 18,
   "metadata": {},
   "outputs": [
    {
     "data": {
      "text/plain": [
       "Basic       5568\n",
       "Extended    2742\n",
       "Premium      824\n",
       "Name: Coverage, dtype: int64"
      ]
     },
     "execution_count": 18,
     "metadata": {},
     "output_type": "execute_result"
    }
   ],
   "source": [
    "Data.Coverage.value_counts()"
   ]
  },
  {
   "cell_type": "code",
   "execution_count": 19,
   "metadata": {},
   "outputs": [
    {
     "data": {
      "text/plain": [
       "<matplotlib.axes._subplots.AxesSubplot at 0x253ac439448>"
      ]
     },
     "execution_count": 19,
     "metadata": {},
     "output_type": "execute_result"
    },
    {
     "data": {
      "image/png": "[encoded data removed]",
      "text/plain": [
       "<Figure size 432x288 with 1 Axes>"
      ]
     },
     "metadata": {
      "needs_background": "light"
     },
     "output_type": "display_data"
    }
   ],
   "source": [
    "sns.barplot(x='Coverage',y='Total Claim Amount',data=Data)"
   ]
  },
  {
   "cell_type": "markdown",
   "metadata": {},
   "source": [
    "Out of 3 types of Coverages Premium type has highest Total Claim Amount followed by Extended Coverage and Basic typy has lowest Total Claim Amount."
   ]
  },
  {
   "cell_type": "code",
   "execution_count": 20,
   "metadata": {},
   "outputs": [
    {
     "data": {
      "text/plain": [
       "Bachelor                2748\n",
       "College                 2681\n",
       "High School or Below    2622\n",
       "Master                   741\n",
       "Doctor                   342\n",
       "Name: Education, dtype: int64"
      ]
     },
     "execution_count": 20,
     "metadata": {},
     "output_type": "execute_result"
    }
   ],
   "source": [
    "Data.Education.value_counts()"
   ]
  },
  {
   "cell_type": "code",
   "execution_count": 21,
   "metadata": {},
   "outputs": [
    {
     "data": {
      "text/plain": [
       "<matplotlib.axes._subplots.AxesSubplot at 0x253ac4ac6c8>"
      ]
     },
     "execution_count": 21,
     "metadata": {},
     "output_type": "execute_result"
    },
    {
     "data": {
      "image/png": "[encoded data removed]",
      "text/plain": [
       "<Figure size 432x288 with 1 Axes>"
      ]
     },
     "metadata": {
      "needs_background": "light"
     },
     "output_type": "display_data"
    }
   ],
   "source": [
    "sns.barplot(x='Education',y='Total Claim Amount',data=Data)"
   ]
  },
  {
   "cell_type": "markdown",
   "metadata": {},
   "source": [
    "The peoples with low education like School or Below has highest Total Claim Amount."
   ]
  },
  {
   "cell_type": "code",
   "execution_count": 22,
   "metadata": {},
   "outputs": [
    {
     "data": {
      "text/plain": [
       "2011-01-10    195\n",
       "2011-01-27    194\n",
       "2011-02-14    186\n",
       "2011-01-26    181\n",
       "2011-01-17    180\n",
       "2011-01-19    179\n",
       "2011-01-03    178\n",
       "2011-01-31    178\n",
       "2011-01-20    173\n",
       "2011-01-28    169\n",
       "2011-02-26    169\n",
       "2011-02-19    168\n",
       "2011-02-27    167\n",
       "2011-01-05    167\n",
       "2011-01-11    166\n",
       "2011-02-04    164\n",
       "2011-02-28    161\n",
       "2011-02-10    161\n",
       "2011-01-02    160\n",
       "2011-01-21    160\n",
       "2011-01-29    160\n",
       "2011-02-22    158\n",
       "2011-02-05    158\n",
       "2011-02-03    158\n",
       "2011-02-07    157\n",
       "2011-02-12    156\n",
       "2011-01-23    155\n",
       "2011-01-18    154\n",
       "2011-02-01    154\n",
       "2011-01-15    153\n",
       "2011-01-14    152\n",
       "2011-01-07    151\n",
       "2011-01-25    151\n",
       "2011-02-11    151\n",
       "2011-01-08    149\n",
       "2011-02-02    149\n",
       "2011-02-18    149\n",
       "2011-02-25    149\n",
       "2011-01-01    148\n",
       "2011-02-21    148\n",
       "2011-01-24    147\n",
       "2011-01-09    146\n",
       "2011-01-13    145\n",
       "2011-01-30    145\n",
       "2011-02-06    144\n",
       "2011-01-06    143\n",
       "2011-02-23    143\n",
       "2011-01-16    142\n",
       "2011-02-24    139\n",
       "2011-02-16    139\n",
       "2011-02-13    139\n",
       "2011-02-09    137\n",
       "2011-01-22    136\n",
       "2011-02-17    136\n",
       "2011-02-08    134\n",
       "2011-02-20    132\n",
       "2011-02-15    130\n",
       "2011-01-12    126\n",
       "2011-01-04    115\n",
       "Name: Effective To Date, dtype: int64"
      ]
     },
     "execution_count": 22,
     "metadata": {},
     "output_type": "execute_result"
    }
   ],
   "source": [
    "Data['Effective To Date'].value_counts()"
   ]
  },
  {
   "cell_type": "code",
   "execution_count": 23,
   "metadata": {},
   "outputs": [
    {
     "data": {
      "text/html": [
       "<div>\n",
       "<style scoped>\n",
       "    .dataframe tbody tr th:only-of-type {\n",
       "        vertical-align: middle;\n",
       "    }\n",
       "\n",
       "    .dataframe tbody tr th {\n",
       "        vertical-align: top;\n",
       "    }\n",
       "\n",
       "    .dataframe thead th {\n",
       "        text-align: right;\n",
       "    }\n",
       "</style>\n",
       "<table border=\"1\" class=\"dataframe\">\n",
       "  <thead>\n",
       "    <tr style=\"text-align: right;\">\n",
       "      <th></th>\n",
       "      <th>Month</th>\n",
       "      <th>Day</th>\n",
       "      <th>Total Claim Amount</th>\n",
       "    </tr>\n",
       "  </thead>\n",
       "  <tbody>\n",
       "    <tr>\n",
       "      <td>0</td>\n",
       "      <td>February</td>\n",
       "      <td>Thursday</td>\n",
       "      <td>384.811147</td>\n",
       "    </tr>\n",
       "    <tr>\n",
       "      <td>1</td>\n",
       "      <td>January</td>\n",
       "      <td>Monday</td>\n",
       "      <td>1131.464935</td>\n",
       "    </tr>\n",
       "    <tr>\n",
       "      <td>2</td>\n",
       "      <td>February</td>\n",
       "      <td>Saturday</td>\n",
       "      <td>566.472247</td>\n",
       "    </tr>\n",
       "    <tr>\n",
       "      <td>3</td>\n",
       "      <td>January</td>\n",
       "      <td>Thursday</td>\n",
       "      <td>529.881344</td>\n",
       "    </tr>\n",
       "    <tr>\n",
       "      <td>4</td>\n",
       "      <td>February</td>\n",
       "      <td>Thursday</td>\n",
       "      <td>138.130879</td>\n",
       "    </tr>\n",
       "    <tr>\n",
       "      <td>...</td>\n",
       "      <td>...</td>\n",
       "      <td>...</td>\n",
       "      <td>...</td>\n",
       "    </tr>\n",
       "    <tr>\n",
       "      <td>9129</td>\n",
       "      <td>February</td>\n",
       "      <td>Thursday</td>\n",
       "      <td>198.234764</td>\n",
       "    </tr>\n",
       "    <tr>\n",
       "      <td>9130</td>\n",
       "      <td>February</td>\n",
       "      <td>Saturday</td>\n",
       "      <td>379.200000</td>\n",
       "    </tr>\n",
       "    <tr>\n",
       "      <td>9131</td>\n",
       "      <td>February</td>\n",
       "      <td>Sunday</td>\n",
       "      <td>790.784983</td>\n",
       "    </tr>\n",
       "    <tr>\n",
       "      <td>9132</td>\n",
       "      <td>February</td>\n",
       "      <td>Thursday</td>\n",
       "      <td>691.200000</td>\n",
       "    </tr>\n",
       "    <tr>\n",
       "      <td>9133</td>\n",
       "      <td>February</td>\n",
       "      <td>Monday</td>\n",
       "      <td>369.600000</td>\n",
       "    </tr>\n",
       "  </tbody>\n",
       "</table>\n",
       "<p>9134 rows × 3 columns</p>\n",
       "</div>"
      ],
      "text/plain": [
       "         Month       Day  Total Claim Amount\n",
       "0     February  Thursday          384.811147\n",
       "1      January    Monday         1131.464935\n",
       "2     February  Saturday          566.472247\n",
       "3      January  Thursday          529.881344\n",
       "4     February  Thursday          138.130879\n",
       "...        ...       ...                 ...\n",
       "9129  February  Thursday          198.234764\n",
       "9130  February  Saturday          379.200000\n",
       "9131  February    Sunday          790.784983\n",
       "9132  February  Thursday          691.200000\n",
       "9133  February    Monday          369.600000\n",
       "\n",
       "[9134 rows x 3 columns]"
      ]
     },
     "execution_count": 23,
     "metadata": {},
     "output_type": "execute_result"
    }
   ],
   "source": [
    "Date=pd.DataFrame()\n",
    "Date['Month']=Data['Effective To Date'].dt.month_name()\n",
    "Date['Day']=Data['Effective To Date'].dt.day_name()\n",
    "Date['Total Claim Amount']=Data['Total Claim Amount']\n",
    "Date"
   ]
  },
  {
   "cell_type": "code",
   "execution_count": 24,
   "metadata": {},
   "outputs": [
    {
     "data": {
      "image/png": "[encoded data removed]",
      "text/plain": [
       "<Figure size 432x288 with 1 Axes>"
      ]
     },
     "metadata": {
      "needs_background": "light"
     },
     "output_type": "display_data"
    }
   ],
   "source": [
    "sns.barplot(x='Month',y='Total Claim Amount',data=Date)\n",
    "plt.show()"
   ]
  },
  {
   "cell_type": "code",
   "execution_count": 25,
   "metadata": {},
   "outputs": [
    {
     "data": {
      "image/png": "[encoded data removed]",
      "text/plain": [
       "<Figure size 432x288 with 1 Axes>"
      ]
     },
     "metadata": {
      "needs_background": "light"
     },
     "output_type": "display_data"
    }
   ],
   "source": [
    "sns.barplot(x='Day',y='Total Claim Amount',data=Date)\n",
    "plt.show()"
   ]
  },
  {
   "cell_type": "code",
   "execution_count": 26,
   "metadata": {},
   "outputs": [
    {
     "data": {
      "text/plain": [
       "Employed         5698\n",
       "Unemployed       2317\n",
       "Medical Leave     432\n",
       "Disabled          405\n",
       "Retired           282\n",
       "Name: EmploymentStatus, dtype: int64"
      ]
     },
     "execution_count": 26,
     "metadata": {},
     "output_type": "execute_result"
    }
   ],
   "source": [
    "Data.EmploymentStatus.value_counts()"
   ]
  },
  {
   "cell_type": "code",
   "execution_count": 27,
   "metadata": {},
   "outputs": [
    {
     "data": {
      "text/plain": [
       "<matplotlib.axes._subplots.AxesSubplot at 0x253ac749d08>"
      ]
     },
     "execution_count": 27,
     "metadata": {},
     "output_type": "execute_result"
    },
    {
     "data": {
      "image/png": "[encoded data removed]",
      "text/plain": [
       "<Figure size 432x288 with 1 Axes>"
      ]
     },
     "metadata": {
      "needs_background": "light"
     },
     "output_type": "display_data"
    }
   ],
   "source": [
    "sns.barplot(x='EmploymentStatus',y='Total Claim Amount',data=Data)"
   ]
  },
  {
   "cell_type": "markdown",
   "metadata": {},
   "source": [
    "From all the Employement type Unemployment people has highest Total Claim Amount"
   ]
  },
  {
   "cell_type": "code",
   "execution_count": 28,
   "metadata": {},
   "outputs": [
    {
     "name": "stdout",
     "output_type": "stream",
     "text": [
      "Min Salary:  0   Max Salary:  99981\n"
     ]
    }
   ],
   "source": [
    "print('Min Salary: ',Data.Income.min(),'  Max Salary: ',Data.Income.max())"
   ]
  },
  {
   "cell_type": "code",
   "execution_count": 29,
   "metadata": {},
   "outputs": [
    {
     "data": {
      "text/plain": [
       "<matplotlib.axes._subplots.AxesSubplot at 0x253aa105588>"
      ]
     },
     "execution_count": 29,
     "metadata": {},
     "output_type": "execute_result"
    },
    {
     "data": {
      "image/png": "[encoded data removed]",
      "text/plain": [
       "<Figure size 432x288 with 1 Axes>"
      ]
     },
     "metadata": {
      "needs_background": "light"
     },
     "output_type": "display_data"
    }
   ],
   "source": [
    "sns.scatterplot(x='Income',y='Total Claim Amount',data=Data)"
   ]
  },
  {
   "cell_type": "code",
   "execution_count": 30,
   "metadata": {},
   "outputs": [
    {
     "data": {
      "text/plain": [
       "F    4658\n",
       "M    4476\n",
       "Name: Gender, dtype: int64"
      ]
     },
     "execution_count": 30,
     "metadata": {},
     "output_type": "execute_result"
    }
   ],
   "source": [
    "Data.Gender.value_counts()"
   ]
  },
  {
   "cell_type": "code",
   "execution_count": 31,
   "metadata": {},
   "outputs": [
    {
     "data": {
      "text/plain": [
       "<matplotlib.axes._subplots.AxesSubplot at 0x253ac82c248>"
      ]
     },
     "execution_count": 31,
     "metadata": {},
     "output_type": "execute_result"
    },
    {
     "data": {
      "image/png": "[encoded data removed]",
      "text/plain": [
       "<Figure size 432x288 with 1 Axes>"
      ]
     },
     "metadata": {
      "needs_background": "light"
     },
     "output_type": "display_data"
    }
   ],
   "source": [
    "sns.barplot(x='Gender',y='Total Claim Amount',data=Data)"
   ]
  },
  {
   "cell_type": "markdown",
   "metadata": {},
   "source": [
    "Male People has highest Total Claim Amount than Females."
   ]
  },
  {
   "cell_type": "code",
   "execution_count": 32,
   "metadata": {},
   "outputs": [
    {
     "data": {
      "text/plain": [
       "<matplotlib.axes._subplots.AxesSubplot at 0x253ac8881c8>"
      ]
     },
     "execution_count": 32,
     "metadata": {},
     "output_type": "execute_result"
    },
    {
     "data": {
      "image/png": "[encoded data removed]",
      "text/plain": [
       "<Figure size 432x288 with 1 Axes>"
      ]
     },
     "metadata": {
      "needs_background": "light"
     },
     "output_type": "display_data"
    }
   ],
   "source": [
    "sns.barplot(x='Total Claim Amount',y='Location Code',data=Data)"
   ]
  },
  {
   "cell_type": "code",
   "execution_count": 33,
   "metadata": {},
   "outputs": [
    {
     "data": {
      "text/plain": [
       "<matplotlib.axes._subplots.AxesSubplot at 0x253ac7369c8>"
      ]
     },
     "execution_count": 33,
     "metadata": {},
     "output_type": "execute_result"
    },
    {
     "data": {
      "image/png": "[encoded data removed]",
      "text/plain": [
       "<Figure size 2016x576 with 1 Axes>"
      ]
     },
     "metadata": {
      "needs_background": "light"
     },
     "output_type": "display_data"
    }
   ],
   "source": [
    "plt.figure(figsize=(28,8))\n",
    "sns.barplot(x='Monthly Premium Auto',y='Total Claim Amount',data=Data)"
   ]
  },
  {
   "cell_type": "markdown",
   "metadata": {},
   "source": [
    "more the Monthly Premium Auto more is the Total Claim Amount"
   ]
  },
  {
   "cell_type": "code",
   "execution_count": 34,
   "metadata": {},
   "outputs": [
    {
     "data": {
      "text/plain": [
       "<matplotlib.axes._subplots.AxesSubplot at 0x253ace6bd08>"
      ]
     },
     "execution_count": 34,
     "metadata": {},
     "output_type": "execute_result"
    },
    {
     "data": {
      "image/png": "[encoded data removed]",
      "text/plain": [
       "<Figure size 2016x576 with 1 Axes>"
      ]
     },
     "metadata": {
      "needs_background": "light"
     },
     "output_type": "display_data"
    }
   ],
   "source": [
    "plt.figure(figsize=(28,8))\n",
    "sns.barplot(x='Months Since Last Claim',y='Total Claim Amount',data=Data)"
   ]
  },
  {
   "cell_type": "markdown",
   "metadata": {},
   "source": [
    "Total Claim not depends on Months Since last Claim."
   ]
  },
  {
   "cell_type": "code",
   "execution_count": 35,
   "metadata": {},
   "outputs": [
    {
     "data": {
      "text/plain": [
       "<matplotlib.axes._subplots.AxesSubplot at 0x253acea0148>"
      ]
     },
     "execution_count": 35,
     "metadata": {},
     "output_type": "execute_result"
    },
    {
     "data": {
      "image/png": "[encoded data removed]",
      "text/plain": [
       "<Figure size 2016x576 with 1 Axes>"
      ]
     },
     "metadata": {
      "needs_background": "light"
     },
     "output_type": "display_data"
    }
   ],
   "source": [
    "plt.figure(figsize=(28,8))\n",
    "sns.barplot(x='Months Since Policy Inception',y='Total Claim Amount',data=Data)"
   ]
  },
  {
   "cell_type": "markdown",
   "metadata": {},
   "source": [
    " Total Claim not depends on Months Since Policy Inception."
   ]
  },
  {
   "cell_type": "code",
   "execution_count": 36,
   "metadata": {},
   "outputs": [
    {
     "data": {
      "text/plain": [
       "<matplotlib.axes._subplots.AxesSubplot at 0x253af124fc8>"
      ]
     },
     "execution_count": 36,
     "metadata": {},
     "output_type": "execute_result"
    },
    {
     "data": {
      "image/png": "[encoded data removed]",
      "text/plain": [
       "<Figure size 2016x576 with 1 Axes>"
      ]
     },
     "metadata": {
      "needs_background": "light"
     },
     "output_type": "display_data"
    }
   ],
   "source": [
    "plt.figure(figsize=(28,8))\n",
    "sns.barplot(x='Number of Open Complaints',y='Total Claim Amount',data=Data)"
   ]
  },
  {
   "cell_type": "markdown",
   "metadata": {},
   "source": [
    "When the Number of Open Complaints are 5 Total claim Amount is heigest"
   ]
  },
  {
   "cell_type": "code",
   "execution_count": 37,
   "metadata": {},
   "outputs": [
    {
     "data": {
      "text/plain": [
       "<matplotlib.axes._subplots.AxesSubplot at 0x253aec77e88>"
      ]
     },
     "execution_count": 37,
     "metadata": {},
     "output_type": "execute_result"
    },
    {
     "data": {
      "image/png": "[encoded data removed]",
      "text/plain": [
       "<Figure size 2016x576 with 1 Axes>"
      ]
     },
     "metadata": {
      "needs_background": "light"
     },
     "output_type": "display_data"
    }
   ],
   "source": [
    "plt.figure(figsize=(28,8))\n",
    "sns.barplot(x='Number of Policies',y='Total Claim Amount',data=Data)"
   ]
  },
  {
   "cell_type": "code",
   "execution_count": 38,
   "metadata": {},
   "outputs": [
    {
     "data": {
      "text/plain": [
       "Personal Auto     6788\n",
       "Corporate Auto    1968\n",
       "Special Auto       378\n",
       "Name: Policy Type, dtype: int64"
      ]
     },
     "execution_count": 38,
     "metadata": {},
     "output_type": "execute_result"
    }
   ],
   "source": [
    "Data['Policy Type'].value_counts()"
   ]
  },
  {
   "cell_type": "markdown",
   "metadata": {},
   "source": [
    "Most of the peoples have taken Personal Auto Policy,followed by Corporate and very less people have teken Special Auto Policy."
   ]
  },
  {
   "cell_type": "code",
   "execution_count": 39,
   "metadata": {},
   "outputs": [
    {
     "data": {
      "text/plain": [
       "<matplotlib.axes._subplots.AxesSubplot at 0x253af02cc88>"
      ]
     },
     "execution_count": 39,
     "metadata": {},
     "output_type": "execute_result"
    },
    {
     "data": {
      "image/png": "[encoded data removed]",
      "text/plain": [
       "<Figure size 2016x576 with 1 Axes>"
      ]
     },
     "metadata": {
      "needs_background": "light"
     },
     "output_type": "display_data"
    }
   ],
   "source": [
    "plt.figure(figsize=(28,8))\n",
    "sns.barplot(x='Policy Type',y='Total Claim Amount',data=Data)"
   ]
  },
  {
   "cell_type": "markdown",
   "metadata": {},
   "source": [
    "Total Claim Amount is some how more in  the cases of Special Auto "
   ]
  },
  {
   "cell_type": "code",
   "execution_count": 40,
   "metadata": {},
   "outputs": [
    {
     "data": {
      "text/plain": [
       "Personal L3     3426\n",
       "Personal L2     2122\n",
       "Personal L1     1240\n",
       "Corporate L3    1014\n",
       "Corporate L2     595\n",
       "Corporate L1     359\n",
       "Special L2       164\n",
       "Special L3       148\n",
       "Special L1        66\n",
       "Name: Policy, dtype: int64"
      ]
     },
     "execution_count": 40,
     "metadata": {},
     "output_type": "execute_result"
    }
   ],
   "source": [
    "Data.Policy.value_counts()"
   ]
  },
  {
   "cell_type": "code",
   "execution_count": 41,
   "metadata": {},
   "outputs": [
    {
     "data": {
      "text/plain": [
       "<matplotlib.axes._subplots.AxesSubplot at 0x253af000708>"
      ]
     },
     "execution_count": 41,
     "metadata": {},
     "output_type": "execute_result"
    },
    {
     "data": {
      "image/png": "[encoded data removed]",
      "text/plain": [
       "<Figure size 432x288 with 1 Axes>"
      ]
     },
     "metadata": {
      "needs_background": "light"
     },
     "output_type": "display_data"
    }
   ],
   "source": [
    "Pol=Data.sort_values(by='Policy',ascending=False)\n",
    "sns.barplot(x='Total Claim Amount',y='Policy',data=Pol)"
   ]
  },
  {
   "cell_type": "code",
   "execution_count": 42,
   "metadata": {},
   "outputs": [
    {
     "data": {
      "text/plain": [
       "<matplotlib.axes._subplots.AxesSubplot at 0x253af62fb48>"
      ]
     },
     "execution_count": 42,
     "metadata": {},
     "output_type": "execute_result"
    },
    {
     "data": {
      "image/png": "[encoded data removed]",
      "text/plain": [
       "<Figure size 432x288 with 1 Axes>"
      ]
     },
     "metadata": {
      "needs_background": "light"
     },
     "output_type": "display_data"
    }
   ],
   "source": [
    "Pol=Data.sort_values(by='Total Claim Amount',ascending=False)\n",
    "sns.barplot(x='Total Claim Amount',y='Policy',data=Pol)"
   ]
  },
  {
   "cell_type": "markdown",
   "metadata": {},
   "source": [
    "Three types of policy available in every Policy type among them Special L1 has the heighest Total Claim Amount."
   ]
  },
  {
   "cell_type": "code",
   "execution_count": 43,
   "metadata": {},
   "outputs": [
    {
     "data": {
      "text/plain": [
       "<matplotlib.axes._subplots.AxesSubplot at 0x253af50a588>"
      ]
     },
     "execution_count": 43,
     "metadata": {},
     "output_type": "execute_result"
    },
    {
     "data": {
      "image/png": "[encoded data removed]",
      "text/plain": [
       "<Figure size 432x288 with 1 Axes>"
      ]
     },
     "metadata": {
      "needs_background": "light"
     },
     "output_type": "display_data"
    }
   ],
   "source": [
    "sns.barplot(x='Total Claim Amount',y='Claim Reason',data=Data)"
   ]
  },
  {
   "cell_type": "markdown",
   "metadata": {},
   "source": [
    "Collision claim Reason has heighest Total Claim Amount."
   ]
  },
  {
   "cell_type": "code",
   "execution_count": 44,
   "metadata": {},
   "outputs": [
    {
     "data": {
      "image/png": "[encoded data removed]",
      "text/plain": [
       "<Figure size 432x288 with 1 Axes>"
      ]
     },
     "metadata": {
      "needs_background": "light"
     },
     "output_type": "display_data"
    }
   ],
   "source": [
    "sns.barplot(x='Total Claim Amount',y='Sales Channel',data=Data)\n",
    "plt.show()"
   ]
  },
  {
   "cell_type": "markdown",
   "metadata": {},
   "source": [
    "Total Claim amount is heighest in case of Sales Channel is Agent"
   ]
  },
  {
   "cell_type": "code",
   "execution_count": 45,
   "metadata": {},
   "outputs": [
    {
     "data": {
      "text/plain": [
       "Four-Door Car    4621\n",
       "Two-Door Car     1886\n",
       "SUV              1796\n",
       "Sports Car        484\n",
       "Luxury SUV        184\n",
       "Luxury Car        163\n",
       "Name: Vehicle Class, dtype: int64"
      ]
     },
     "execution_count": 45,
     "metadata": {},
     "output_type": "execute_result"
    }
   ],
   "source": [
    "Data['Vehicle Class'].value_counts()"
   ]
  },
  {
   "cell_type": "code",
   "execution_count": 46,
   "metadata": {},
   "outputs": [
    {
     "data": {
      "text/plain": [
       "<matplotlib.axes._subplots.AxesSubplot at 0x253af7a6d88>"
      ]
     },
     "execution_count": 46,
     "metadata": {},
     "output_type": "execute_result"
    },
    {
     "data": {
      "image/png": "[encoded data removed]",
      "text/plain": [
       "<Figure size 432x288 with 1 Axes>"
      ]
     },
     "metadata": {
      "needs_background": "light"
     },
     "output_type": "display_data"
    }
   ],
   "source": [
    "sns.barplot(x='Total Claim Amount',y='Vehicle Class',data=Data)"
   ]
  },
  {
   "cell_type": "markdown",
   "metadata": {},
   "source": [
    "From the all vehicle classes Luxury Car has the heighest Total Claim Amount followed by Luxury SUV,SUV and Sports Car."
   ]
  },
  {
   "cell_type": "code",
   "execution_count": 47,
   "metadata": {},
   "outputs": [
    {
     "data": {
      "text/plain": [
       "Medsize    6424\n",
       "Small      1764\n",
       "Large       946\n",
       "Name: Vehicle Size, dtype: int64"
      ]
     },
     "execution_count": 47,
     "metadata": {},
     "output_type": "execute_result"
    }
   ],
   "source": [
    "Data['Vehicle Size'].value_counts()"
   ]
  },
  {
   "cell_type": "code",
   "execution_count": 48,
   "metadata": {},
   "outputs": [
    {
     "data": {
      "text/plain": [
       "<matplotlib.axes._subplots.AxesSubplot at 0x253af819e08>"
      ]
     },
     "execution_count": 48,
     "metadata": {},
     "output_type": "execute_result"
    },
    {
     "data": {
      "image/png": "[encoded data removed]",
      "text/plain": [
       "<Figure size 432x288 with 1 Axes>"
      ]
     },
     "metadata": {
      "needs_background": "light"
     },
     "output_type": "display_data"
    }
   ],
   "source": [
    "sns.barplot(x='Total Claim Amount',y='Vehicle Size',data=Data)"
   ]
  },
  {
   "cell_type": "markdown",
   "metadata": {},
   "source": [
    "Small Vahicles has heighest Total Claim Amount"
   ]
  },
  {
   "cell_type": "code",
   "execution_count": 49,
   "metadata": {},
   "outputs": [
    {
     "data": {
      "text/html": [
       "<div>\n",
       "<style scoped>\n",
       "    .dataframe tbody tr th:only-of-type {\n",
       "        vertical-align: middle;\n",
       "    }\n",
       "\n",
       "    .dataframe tbody tr th {\n",
       "        vertical-align: top;\n",
       "    }\n",
       "\n",
       "    .dataframe thead th {\n",
       "        text-align: right;\n",
       "    }\n",
       "</style>\n",
       "<table border=\"1\" class=\"dataframe\">\n",
       "  <thead>\n",
       "    <tr style=\"text-align: right;\">\n",
       "      <th></th>\n",
       "      <th>State</th>\n",
       "      <th>Claim Amount</th>\n",
       "      <th>Response</th>\n",
       "      <th>Coverage</th>\n",
       "      <th>Education</th>\n",
       "      <th>EmploymentStatus</th>\n",
       "      <th>Gender</th>\n",
       "      <th>Income</th>\n",
       "      <th>Location Code</th>\n",
       "      <th>Marital Status</th>\n",
       "      <th>...</th>\n",
       "      <th>Months Since Policy Inception</th>\n",
       "      <th>Number of Open Complaints</th>\n",
       "      <th>Number of Policies</th>\n",
       "      <th>Policy Type</th>\n",
       "      <th>Policy</th>\n",
       "      <th>Claim Reason</th>\n",
       "      <th>Sales Channel</th>\n",
       "      <th>Total Claim Amount</th>\n",
       "      <th>Vehicle Class</th>\n",
       "      <th>Vehicle Size</th>\n",
       "    </tr>\n",
       "  </thead>\n",
       "  <tbody>\n",
       "    <tr>\n",
       "      <td>0</td>\n",
       "      <td>Kansas</td>\n",
       "      <td>276.351928</td>\n",
       "      <td>No</td>\n",
       "      <td>Basic</td>\n",
       "      <td>Bachelor</td>\n",
       "      <td>Employed</td>\n",
       "      <td>F</td>\n",
       "      <td>56274</td>\n",
       "      <td>Suburban</td>\n",
       "      <td>Married</td>\n",
       "      <td>...</td>\n",
       "      <td>5</td>\n",
       "      <td>0</td>\n",
       "      <td>1</td>\n",
       "      <td>Corporate Auto</td>\n",
       "      <td>Corporate L3</td>\n",
       "      <td>Collision</td>\n",
       "      <td>Agent</td>\n",
       "      <td>384.811147</td>\n",
       "      <td>Two-Door Car</td>\n",
       "      <td>Medsize</td>\n",
       "    </tr>\n",
       "    <tr>\n",
       "      <td>1</td>\n",
       "      <td>Nebraska</td>\n",
       "      <td>697.953590</td>\n",
       "      <td>No</td>\n",
       "      <td>Extended</td>\n",
       "      <td>Bachelor</td>\n",
       "      <td>Unemployed</td>\n",
       "      <td>F</td>\n",
       "      <td>0</td>\n",
       "      <td>Suburban</td>\n",
       "      <td>Single</td>\n",
       "      <td>...</td>\n",
       "      <td>42</td>\n",
       "      <td>0</td>\n",
       "      <td>8</td>\n",
       "      <td>Personal Auto</td>\n",
       "      <td>Personal L3</td>\n",
       "      <td>Scratch/Dent</td>\n",
       "      <td>Agent</td>\n",
       "      <td>1131.464935</td>\n",
       "      <td>Four-Door Car</td>\n",
       "      <td>Medsize</td>\n",
       "    </tr>\n",
       "    <tr>\n",
       "      <td>2</td>\n",
       "      <td>Oklahoma</td>\n",
       "      <td>1288.743165</td>\n",
       "      <td>No</td>\n",
       "      <td>Premium</td>\n",
       "      <td>Bachelor</td>\n",
       "      <td>Employed</td>\n",
       "      <td>F</td>\n",
       "      <td>48767</td>\n",
       "      <td>Suburban</td>\n",
       "      <td>Married</td>\n",
       "      <td>...</td>\n",
       "      <td>38</td>\n",
       "      <td>0</td>\n",
       "      <td>2</td>\n",
       "      <td>Personal Auto</td>\n",
       "      <td>Personal L3</td>\n",
       "      <td>Collision</td>\n",
       "      <td>Agent</td>\n",
       "      <td>566.472247</td>\n",
       "      <td>Two-Door Car</td>\n",
       "      <td>Medsize</td>\n",
       "    </tr>\n",
       "    <tr>\n",
       "      <td>3</td>\n",
       "      <td>Missouri</td>\n",
       "      <td>764.586183</td>\n",
       "      <td>No</td>\n",
       "      <td>Basic</td>\n",
       "      <td>Bachelor</td>\n",
       "      <td>Unemployed</td>\n",
       "      <td>M</td>\n",
       "      <td>0</td>\n",
       "      <td>Suburban</td>\n",
       "      <td>Married</td>\n",
       "      <td>...</td>\n",
       "      <td>65</td>\n",
       "      <td>0</td>\n",
       "      <td>7</td>\n",
       "      <td>Corporate Auto</td>\n",
       "      <td>Corporate L2</td>\n",
       "      <td>Collision</td>\n",
       "      <td>Call Center</td>\n",
       "      <td>529.881344</td>\n",
       "      <td>SUV</td>\n",
       "      <td>Medsize</td>\n",
       "    </tr>\n",
       "    <tr>\n",
       "      <td>4</td>\n",
       "      <td>Kansas</td>\n",
       "      <td>281.369258</td>\n",
       "      <td>No</td>\n",
       "      <td>Basic</td>\n",
       "      <td>Bachelor</td>\n",
       "      <td>Employed</td>\n",
       "      <td>M</td>\n",
       "      <td>43836</td>\n",
       "      <td>Rural</td>\n",
       "      <td>Single</td>\n",
       "      <td>...</td>\n",
       "      <td>44</td>\n",
       "      <td>0</td>\n",
       "      <td>1</td>\n",
       "      <td>Personal Auto</td>\n",
       "      <td>Personal L1</td>\n",
       "      <td>Collision</td>\n",
       "      <td>Agent</td>\n",
       "      <td>138.130879</td>\n",
       "      <td>Four-Door Car</td>\n",
       "      <td>Medsize</td>\n",
       "    </tr>\n",
       "    <tr>\n",
       "      <td>...</td>\n",
       "      <td>...</td>\n",
       "      <td>...</td>\n",
       "      <td>...</td>\n",
       "      <td>...</td>\n",
       "      <td>...</td>\n",
       "      <td>...</td>\n",
       "      <td>...</td>\n",
       "      <td>...</td>\n",
       "      <td>...</td>\n",
       "      <td>...</td>\n",
       "      <td>...</td>\n",
       "      <td>...</td>\n",
       "      <td>...</td>\n",
       "      <td>...</td>\n",
       "      <td>...</td>\n",
       "      <td>...</td>\n",
       "      <td>...</td>\n",
       "      <td>...</td>\n",
       "      <td>...</td>\n",
       "      <td>...</td>\n",
       "      <td>...</td>\n",
       "    </tr>\n",
       "    <tr>\n",
       "      <td>9129</td>\n",
       "      <td>Missouri</td>\n",
       "      <td>2340.598798</td>\n",
       "      <td>No</td>\n",
       "      <td>Basic</td>\n",
       "      <td>Bachelor</td>\n",
       "      <td>Employed</td>\n",
       "      <td>M</td>\n",
       "      <td>71941</td>\n",
       "      <td>Urban</td>\n",
       "      <td>Married</td>\n",
       "      <td>...</td>\n",
       "      <td>89</td>\n",
       "      <td>0</td>\n",
       "      <td>2</td>\n",
       "      <td>Personal Auto</td>\n",
       "      <td>Personal L1</td>\n",
       "      <td>Hail</td>\n",
       "      <td>Web</td>\n",
       "      <td>198.234764</td>\n",
       "      <td>Four-Door Car</td>\n",
       "      <td>Medsize</td>\n",
       "    </tr>\n",
       "    <tr>\n",
       "      <td>9130</td>\n",
       "      <td>Missouri</td>\n",
       "      <td>309.651122</td>\n",
       "      <td>Yes</td>\n",
       "      <td>Extended</td>\n",
       "      <td>College</td>\n",
       "      <td>Employed</td>\n",
       "      <td>F</td>\n",
       "      <td>21604</td>\n",
       "      <td>Suburban</td>\n",
       "      <td>Divorced</td>\n",
       "      <td>...</td>\n",
       "      <td>28</td>\n",
       "      <td>0</td>\n",
       "      <td>1</td>\n",
       "      <td>Corporate Auto</td>\n",
       "      <td>Corporate L3</td>\n",
       "      <td>Collision</td>\n",
       "      <td>Branch</td>\n",
       "      <td>379.200000</td>\n",
       "      <td>Four-Door Car</td>\n",
       "      <td>Medsize</td>\n",
       "    </tr>\n",
       "    <tr>\n",
       "      <td>9131</td>\n",
       "      <td>Missouri</td>\n",
       "      <td>816.389043</td>\n",
       "      <td>No</td>\n",
       "      <td>Extended</td>\n",
       "      <td>Bachelor</td>\n",
       "      <td>Unemployed</td>\n",
       "      <td>M</td>\n",
       "      <td>0</td>\n",
       "      <td>Suburban</td>\n",
       "      <td>Single</td>\n",
       "      <td>...</td>\n",
       "      <td>37</td>\n",
       "      <td>3</td>\n",
       "      <td>2</td>\n",
       "      <td>Corporate Auto</td>\n",
       "      <td>Corporate L2</td>\n",
       "      <td>Collision</td>\n",
       "      <td>Branch</td>\n",
       "      <td>790.784983</td>\n",
       "      <td>Four-Door Car</td>\n",
       "      <td>Medsize</td>\n",
       "    </tr>\n",
       "    <tr>\n",
       "      <td>9132</td>\n",
       "      <td>Missouri</td>\n",
       "      <td>752.444244</td>\n",
       "      <td>No</td>\n",
       "      <td>Extended</td>\n",
       "      <td>College</td>\n",
       "      <td>Employed</td>\n",
       "      <td>M</td>\n",
       "      <td>21941</td>\n",
       "      <td>Suburban</td>\n",
       "      <td>Married</td>\n",
       "      <td>...</td>\n",
       "      <td>3</td>\n",
       "      <td>0</td>\n",
       "      <td>3</td>\n",
       "      <td>Personal Auto</td>\n",
       "      <td>Personal L2</td>\n",
       "      <td>Scratch/Dent</td>\n",
       "      <td>Branch</td>\n",
       "      <td>691.200000</td>\n",
       "      <td>Four-Door Car</td>\n",
       "      <td>Large</td>\n",
       "    </tr>\n",
       "    <tr>\n",
       "      <td>9133</td>\n",
       "      <td>Missouri</td>\n",
       "      <td>261.183687</td>\n",
       "      <td>No</td>\n",
       "      <td>Extended</td>\n",
       "      <td>College</td>\n",
       "      <td>Unemployed</td>\n",
       "      <td>M</td>\n",
       "      <td>0</td>\n",
       "      <td>Suburban</td>\n",
       "      <td>Single</td>\n",
       "      <td>...</td>\n",
       "      <td>90</td>\n",
       "      <td>0</td>\n",
       "      <td>1</td>\n",
       "      <td>Corporate Auto</td>\n",
       "      <td>Corporate L3</td>\n",
       "      <td>Other</td>\n",
       "      <td>Call Center</td>\n",
       "      <td>369.600000</td>\n",
       "      <td>Two-Door Car</td>\n",
       "      <td>Medsize</td>\n",
       "    </tr>\n",
       "  </tbody>\n",
       "</table>\n",
       "<p>9134 rows × 22 columns</p>\n",
       "</div>"
      ],
      "text/plain": [
       "         State  Claim Amount Response  Coverage Education EmploymentStatus  \\\n",
       "0       Kansas    276.351928       No     Basic  Bachelor         Employed   \n",
       "1     Nebraska    697.953590       No  Extended  Bachelor       Unemployed   \n",
       "2     Oklahoma   1288.743165       No   Premium  Bachelor         Employed   \n",
       "3     Missouri    764.586183       No     Basic  Bachelor       Unemployed   \n",
       "4       Kansas    281.369258       No     Basic  Bachelor         Employed   \n",
       "...        ...           ...      ...       ...       ...              ...   \n",
       "9129  Missouri   2340.598798       No     Basic  Bachelor         Employed   \n",
       "9130  Missouri    309.651122      Yes  Extended   College         Employed   \n",
       "9131  Missouri    816.389043       No  Extended  Bachelor       Unemployed   \n",
       "9132  Missouri    752.444244       No  Extended   College         Employed   \n",
       "9133  Missouri    261.183687       No  Extended   College       Unemployed   \n",
       "\n",
       "     Gender  Income Location Code Marital Status  ...  \\\n",
       "0         F   56274      Suburban        Married  ...   \n",
       "1         F       0      Suburban         Single  ...   \n",
       "2         F   48767      Suburban        Married  ...   \n",
       "3         M       0      Suburban        Married  ...   \n",
       "4         M   43836         Rural         Single  ...   \n",
       "...     ...     ...           ...            ...  ...   \n",
       "9129      M   71941         Urban        Married  ...   \n",
       "9130      F   21604      Suburban       Divorced  ...   \n",
       "9131      M       0      Suburban         Single  ...   \n",
       "9132      M   21941      Suburban        Married  ...   \n",
       "9133      M       0      Suburban         Single  ...   \n",
       "\n",
       "      Months Since Policy Inception  Number of Open Complaints  \\\n",
       "0                                 5                          0   \n",
       "1                                42                          0   \n",
       "2                                38                          0   \n",
       "3                                65                          0   \n",
       "4                                44                          0   \n",
       "...                             ...                        ...   \n",
       "9129                             89                          0   \n",
       "9130                             28                          0   \n",
       "9131                             37                          3   \n",
       "9132                              3                          0   \n",
       "9133                             90                          0   \n",
       "\n",
       "      Number of Policies     Policy Type        Policy  Claim Reason  \\\n",
       "0                      1  Corporate Auto  Corporate L3     Collision   \n",
       "1                      8   Personal Auto   Personal L3  Scratch/Dent   \n",
       "2                      2   Personal Auto   Personal L3     Collision   \n",
       "3                      7  Corporate Auto  Corporate L2     Collision   \n",
       "4                      1   Personal Auto   Personal L1     Collision   \n",
       "...                  ...             ...           ...           ...   \n",
       "9129                   2   Personal Auto   Personal L1          Hail   \n",
       "9130                   1  Corporate Auto  Corporate L3     Collision   \n",
       "9131                   2  Corporate Auto  Corporate L2     Collision   \n",
       "9132                   3   Personal Auto   Personal L2  Scratch/Dent   \n",
       "9133                   1  Corporate Auto  Corporate L3         Other   \n",
       "\n",
       "     Sales Channel Total Claim Amount  Vehicle Class  Vehicle Size  \n",
       "0            Agent         384.811147   Two-Door Car       Medsize  \n",
       "1            Agent        1131.464935  Four-Door Car       Medsize  \n",
       "2            Agent         566.472247   Two-Door Car       Medsize  \n",
       "3      Call Center         529.881344            SUV       Medsize  \n",
       "4            Agent         138.130879  Four-Door Car       Medsize  \n",
       "...            ...                ...            ...           ...  \n",
       "9129           Web         198.234764  Four-Door Car       Medsize  \n",
       "9130        Branch         379.200000  Four-Door Car       Medsize  \n",
       "9131        Branch         790.784983  Four-Door Car       Medsize  \n",
       "9132        Branch         691.200000  Four-Door Car         Large  \n",
       "9133   Call Center         369.600000   Two-Door Car       Medsize  \n",
       "\n",
       "[9134 rows x 22 columns]"
      ]
     },
     "execution_count": 49,
     "metadata": {},
     "output_type": "execute_result"
    }
   ],
   "source": [
    "#Dropping the redundant columns\n",
    "Data=Data.drop(['Customer'],axis=1)\n",
    "Data=Data.drop(['Country'],axis=1)\n",
    "Data=Data.drop(['State Code'],axis=1)\n",
    "Data=Data.drop(['Effective To Date'],axis=1)\n",
    "Data"
   ]
  },
  {
   "cell_type": "code",
   "execution_count": 50,
   "metadata": {},
   "outputs": [
    {
     "data": {
      "text/plain": [
       "<matplotlib.axes._subplots.AxesSubplot at 0x253af899648>"
      ]
     },
     "execution_count": 50,
     "metadata": {},
     "output_type": "execute_result"
    },
    {
     "data": {
      "image/png": "[encoded data removed]",
      "text/plain": [
       "<Figure size 864x720 with 2 Axes>"
      ]
     },
     "metadata": {
      "needs_background": "light"
     },
     "output_type": "display_data"
    }
   ],
   "source": [
    "cor=Data.corr()\n",
    "plt.figure(figsize=(12,10))\n",
    "sns.heatmap(cor,annot=True)"
   ]
  },
  {
   "cell_type": "markdown",
   "metadata": {},
   "source": [
    "Total Claim Amount is Highly positively correlated with Claim amount and Monthly Premium Auto and highly negatively correlated with Income."
   ]
  },
  {
   "cell_type": "code",
   "execution_count": 51,
   "metadata": {},
   "outputs": [],
   "source": [
    "list1=['State','Response','Coverage','Education','EmploymentStatus','Gender','Location Code','Marital Status','Policy Type','Policy','Claim Reason','Sales Channel','Vehicle Class','Vehicle Size']\n",
    "from sklearn.preprocessing import LabelEncoder\n",
    "Le=LabelEncoder()\n",
    "for i in list1:\n",
    "    Data[i]=Le.fit_transform(Data[i])"
   ]
  },
  {
   "cell_type": "code",
   "execution_count": 52,
   "metadata": {},
   "outputs": [
    {
     "name": "stdout",
     "output_type": "stream",
     "text": [
      "<class 'pandas.core.frame.DataFrame'>\n",
      "RangeIndex: 9134 entries, 0 to 9133\n",
      "Data columns (total 22 columns):\n",
      "State                            9134 non-null int32\n",
      "Claim Amount                     9134 non-null float64\n",
      "Response                         9134 non-null int32\n",
      "Coverage                         9134 non-null int32\n",
      "Education                        9134 non-null int32\n",
      "EmploymentStatus                 9134 non-null int32\n",
      "Gender                           9134 non-null int32\n",
      "Income                           9134 non-null int64\n",
      "Location Code                    9134 non-null int32\n",
      "Marital Status                   9134 non-null int32\n",
      "Monthly Premium Auto             9134 non-null int64\n",
      "Months Since Last Claim          9134 non-null int64\n",
      "Months Since Policy Inception    9134 non-null int64\n",
      "Number of Open Complaints        9134 non-null int64\n",
      "Number of Policies               9134 non-null int64\n",
      "Policy Type                      9134 non-null int32\n",
      "Policy                           9134 non-null int32\n",
      "Claim Reason                     9134 non-null int32\n",
      "Sales Channel                    9134 non-null int32\n",
      "Total Claim Amount               9134 non-null float64\n",
      "Vehicle Class                    9134 non-null int32\n",
      "Vehicle Size                     9134 non-null int32\n",
      "dtypes: float64(2), int32(14), int64(6)\n",
      "memory usage: 1.0 MB\n"
     ]
    }
   ],
   "source": [
    "Data.info()"
   ]
  },
  {
   "cell_type": "markdown",
   "metadata": {},
   "source": [
    "# Checking For Outliers"
   ]
  },
  {
   "cell_type": "code",
   "execution_count": 53,
   "metadata": {},
   "outputs": [
    {
     "data": {
      "image/png": "[encoded data removed]",
      "text/plain": [
       "<Figure size 1008x5040 with 22 Axes>"
      ]
     },
     "metadata": {
      "needs_background": "light"
     },
     "output_type": "display_data"
    }
   ],
   "source": [
    "collist=Data.columns\n",
    "col=14\n",
    "row=11\n",
    "plt.figure(figsize=(col,5*col))\n",
    "for i in range(0,len(collist)):\n",
    "    plt.subplot(col,row,i+1)\n",
    "    sns.boxplot(Data[collist[i]],orient='v',color='green')\n",
    "    plt.tight_layout"
   ]
  },
  {
   "cell_type": "markdown",
   "metadata": {},
   "source": [
    "Outliers present in Response,Monthly Premium Auto,Total Claim amount"
   ]
  },
  {
   "cell_type": "code",
   "execution_count": 54,
   "metadata": {},
   "outputs": [
    {
     "data": {
      "text/plain": [
       "array([[0.55068994, 0.76287773, 0.40882171, ..., 0.16963969, 1.49918077,\n",
       "        0.16668206],\n",
       "       [0.97332215, 0.14924546, 0.40882171, ..., 2.400737  , 0.91292371,\n",
       "        0.16668206],\n",
       "       [1.73532819, 0.71063622, 0.40882171, ..., 0.45573376, 1.49918077,\n",
       "        0.16668206],\n",
       "       ...,\n",
       "       [0.21131611, 0.02313483, 0.40882171, ..., 1.22793667, 0.91292371,\n",
       "        0.16668206],\n",
       "       [0.21131611, 0.06993547, 0.40882171, ..., 0.88511256, 0.91292371,\n",
       "        2.0278971 ],\n",
       "       [0.21131611, 0.78495478, 0.40882171, ..., 0.22200449, 1.49918077,\n",
       "        0.16668206]])"
      ]
     },
     "execution_count": 54,
     "metadata": {},
     "output_type": "execute_result"
    }
   ],
   "source": [
    "from scipy.stats import zscore\n",
    "z=np.abs(zscore(Data))\n",
    "z"
   ]
  },
  {
   "cell_type": "code",
   "execution_count": 55,
   "metadata": {},
   "outputs": [
    {
     "data": {
      "text/html": [
       "<div>\n",
       "<style scoped>\n",
       "    .dataframe tbody tr th:only-of-type {\n",
       "        vertical-align: middle;\n",
       "    }\n",
       "\n",
       "    .dataframe tbody tr th {\n",
       "        vertical-align: top;\n",
       "    }\n",
       "\n",
       "    .dataframe thead th {\n",
       "        text-align: right;\n",
       "    }\n",
       "</style>\n",
       "<table border=\"1\" class=\"dataframe\">\n",
       "  <thead>\n",
       "    <tr style=\"text-align: right;\">\n",
       "      <th></th>\n",
       "      <th>State</th>\n",
       "      <th>Claim Amount</th>\n",
       "      <th>Response</th>\n",
       "      <th>Coverage</th>\n",
       "      <th>Education</th>\n",
       "      <th>EmploymentStatus</th>\n",
       "      <th>Gender</th>\n",
       "      <th>Income</th>\n",
       "      <th>Location Code</th>\n",
       "      <th>Marital Status</th>\n",
       "      <th>...</th>\n",
       "      <th>Months Since Policy Inception</th>\n",
       "      <th>Number of Open Complaints</th>\n",
       "      <th>Number of Policies</th>\n",
       "      <th>Policy Type</th>\n",
       "      <th>Policy</th>\n",
       "      <th>Claim Reason</th>\n",
       "      <th>Sales Channel</th>\n",
       "      <th>Total Claim Amount</th>\n",
       "      <th>Vehicle Class</th>\n",
       "      <th>Vehicle Size</th>\n",
       "    </tr>\n",
       "  </thead>\n",
       "  <tbody>\n",
       "    <tr>\n",
       "      <td>0</td>\n",
       "      <td>1</td>\n",
       "      <td>276.351928</td>\n",
       "      <td>0</td>\n",
       "      <td>0</td>\n",
       "      <td>0</td>\n",
       "      <td>1</td>\n",
       "      <td>0</td>\n",
       "      <td>56274</td>\n",
       "      <td>1</td>\n",
       "      <td>1</td>\n",
       "      <td>...</td>\n",
       "      <td>5</td>\n",
       "      <td>0</td>\n",
       "      <td>1</td>\n",
       "      <td>0</td>\n",
       "      <td>2</td>\n",
       "      <td>0</td>\n",
       "      <td>0</td>\n",
       "      <td>384.811147</td>\n",
       "      <td>5</td>\n",
       "      <td>1</td>\n",
       "    </tr>\n",
       "    <tr>\n",
       "      <td>1</td>\n",
       "      <td>3</td>\n",
       "      <td>697.953590</td>\n",
       "      <td>0</td>\n",
       "      <td>1</td>\n",
       "      <td>0</td>\n",
       "      <td>4</td>\n",
       "      <td>0</td>\n",
       "      <td>0</td>\n",
       "      <td>1</td>\n",
       "      <td>2</td>\n",
       "      <td>...</td>\n",
       "      <td>42</td>\n",
       "      <td>0</td>\n",
       "      <td>8</td>\n",
       "      <td>1</td>\n",
       "      <td>5</td>\n",
       "      <td>3</td>\n",
       "      <td>0</td>\n",
       "      <td>1131.464935</td>\n",
       "      <td>0</td>\n",
       "      <td>1</td>\n",
       "    </tr>\n",
       "    <tr>\n",
       "      <td>2</td>\n",
       "      <td>4</td>\n",
       "      <td>1288.743165</td>\n",
       "      <td>0</td>\n",
       "      <td>2</td>\n",
       "      <td>0</td>\n",
       "      <td>1</td>\n",
       "      <td>0</td>\n",
       "      <td>48767</td>\n",
       "      <td>1</td>\n",
       "      <td>1</td>\n",
       "      <td>...</td>\n",
       "      <td>38</td>\n",
       "      <td>0</td>\n",
       "      <td>2</td>\n",
       "      <td>1</td>\n",
       "      <td>5</td>\n",
       "      <td>0</td>\n",
       "      <td>0</td>\n",
       "      <td>566.472247</td>\n",
       "      <td>5</td>\n",
       "      <td>1</td>\n",
       "    </tr>\n",
       "    <tr>\n",
       "      <td>3</td>\n",
       "      <td>2</td>\n",
       "      <td>764.586183</td>\n",
       "      <td>0</td>\n",
       "      <td>0</td>\n",
       "      <td>0</td>\n",
       "      <td>4</td>\n",
       "      <td>1</td>\n",
       "      <td>0</td>\n",
       "      <td>1</td>\n",
       "      <td>1</td>\n",
       "      <td>...</td>\n",
       "      <td>65</td>\n",
       "      <td>0</td>\n",
       "      <td>7</td>\n",
       "      <td>0</td>\n",
       "      <td>1</td>\n",
       "      <td>0</td>\n",
       "      <td>2</td>\n",
       "      <td>529.881344</td>\n",
       "      <td>3</td>\n",
       "      <td>1</td>\n",
       "    </tr>\n",
       "    <tr>\n",
       "      <td>4</td>\n",
       "      <td>1</td>\n",
       "      <td>281.369258</td>\n",
       "      <td>0</td>\n",
       "      <td>0</td>\n",
       "      <td>0</td>\n",
       "      <td>1</td>\n",
       "      <td>1</td>\n",
       "      <td>43836</td>\n",
       "      <td>0</td>\n",
       "      <td>2</td>\n",
       "      <td>...</td>\n",
       "      <td>44</td>\n",
       "      <td>0</td>\n",
       "      <td>1</td>\n",
       "      <td>1</td>\n",
       "      <td>3</td>\n",
       "      <td>0</td>\n",
       "      <td>0</td>\n",
       "      <td>138.130879</td>\n",
       "      <td>0</td>\n",
       "      <td>1</td>\n",
       "    </tr>\n",
       "    <tr>\n",
       "      <td>...</td>\n",
       "      <td>...</td>\n",
       "      <td>...</td>\n",
       "      <td>...</td>\n",
       "      <td>...</td>\n",
       "      <td>...</td>\n",
       "      <td>...</td>\n",
       "      <td>...</td>\n",
       "      <td>...</td>\n",
       "      <td>...</td>\n",
       "      <td>...</td>\n",
       "      <td>...</td>\n",
       "      <td>...</td>\n",
       "      <td>...</td>\n",
       "      <td>...</td>\n",
       "      <td>...</td>\n",
       "      <td>...</td>\n",
       "      <td>...</td>\n",
       "      <td>...</td>\n",
       "      <td>...</td>\n",
       "      <td>...</td>\n",
       "      <td>...</td>\n",
       "    </tr>\n",
       "    <tr>\n",
       "      <td>9129</td>\n",
       "      <td>2</td>\n",
       "      <td>2340.598798</td>\n",
       "      <td>0</td>\n",
       "      <td>0</td>\n",
       "      <td>0</td>\n",
       "      <td>1</td>\n",
       "      <td>1</td>\n",
       "      <td>71941</td>\n",
       "      <td>2</td>\n",
       "      <td>1</td>\n",
       "      <td>...</td>\n",
       "      <td>89</td>\n",
       "      <td>0</td>\n",
       "      <td>2</td>\n",
       "      <td>1</td>\n",
       "      <td>3</td>\n",
       "      <td>1</td>\n",
       "      <td>3</td>\n",
       "      <td>198.234764</td>\n",
       "      <td>0</td>\n",
       "      <td>1</td>\n",
       "    </tr>\n",
       "    <tr>\n",
       "      <td>9130</td>\n",
       "      <td>2</td>\n",
       "      <td>309.651122</td>\n",
       "      <td>1</td>\n",
       "      <td>1</td>\n",
       "      <td>1</td>\n",
       "      <td>1</td>\n",
       "      <td>0</td>\n",
       "      <td>21604</td>\n",
       "      <td>1</td>\n",
       "      <td>0</td>\n",
       "      <td>...</td>\n",
       "      <td>28</td>\n",
       "      <td>0</td>\n",
       "      <td>1</td>\n",
       "      <td>0</td>\n",
       "      <td>2</td>\n",
       "      <td>0</td>\n",
       "      <td>1</td>\n",
       "      <td>379.200000</td>\n",
       "      <td>0</td>\n",
       "      <td>1</td>\n",
       "    </tr>\n",
       "    <tr>\n",
       "      <td>9131</td>\n",
       "      <td>2</td>\n",
       "      <td>816.389043</td>\n",
       "      <td>0</td>\n",
       "      <td>1</td>\n",
       "      <td>0</td>\n",
       "      <td>4</td>\n",
       "      <td>1</td>\n",
       "      <td>0</td>\n",
       "      <td>1</td>\n",
       "      <td>2</td>\n",
       "      <td>...</td>\n",
       "      <td>37</td>\n",
       "      <td>3</td>\n",
       "      <td>2</td>\n",
       "      <td>0</td>\n",
       "      <td>1</td>\n",
       "      <td>0</td>\n",
       "      <td>1</td>\n",
       "      <td>790.784983</td>\n",
       "      <td>0</td>\n",
       "      <td>1</td>\n",
       "    </tr>\n",
       "    <tr>\n",
       "      <td>9132</td>\n",
       "      <td>2</td>\n",
       "      <td>752.444244</td>\n",
       "      <td>0</td>\n",
       "      <td>1</td>\n",
       "      <td>1</td>\n",
       "      <td>1</td>\n",
       "      <td>1</td>\n",
       "      <td>21941</td>\n",
       "      <td>1</td>\n",
       "      <td>1</td>\n",
       "      <td>...</td>\n",
       "      <td>3</td>\n",
       "      <td>0</td>\n",
       "      <td>3</td>\n",
       "      <td>1</td>\n",
       "      <td>4</td>\n",
       "      <td>3</td>\n",
       "      <td>1</td>\n",
       "      <td>691.200000</td>\n",
       "      <td>0</td>\n",
       "      <td>0</td>\n",
       "    </tr>\n",
       "    <tr>\n",
       "      <td>9133</td>\n",
       "      <td>2</td>\n",
       "      <td>261.183687</td>\n",
       "      <td>0</td>\n",
       "      <td>1</td>\n",
       "      <td>1</td>\n",
       "      <td>4</td>\n",
       "      <td>1</td>\n",
       "      <td>0</td>\n",
       "      <td>1</td>\n",
       "      <td>2</td>\n",
       "      <td>...</td>\n",
       "      <td>90</td>\n",
       "      <td>0</td>\n",
       "      <td>1</td>\n",
       "      <td>0</td>\n",
       "      <td>2</td>\n",
       "      <td>2</td>\n",
       "      <td>2</td>\n",
       "      <td>369.600000</td>\n",
       "      <td>5</td>\n",
       "      <td>1</td>\n",
       "    </tr>\n",
       "  </tbody>\n",
       "</table>\n",
       "<p>8470 rows × 22 columns</p>\n",
       "</div>"
      ],
      "text/plain": [
       "      State  Claim Amount  Response  Coverage  Education  EmploymentStatus  \\\n",
       "0         1    276.351928         0         0          0                 1   \n",
       "1         3    697.953590         0         1          0                 4   \n",
       "2         4   1288.743165         0         2          0                 1   \n",
       "3         2    764.586183         0         0          0                 4   \n",
       "4         1    281.369258         0         0          0                 1   \n",
       "...     ...           ...       ...       ...        ...               ...   \n",
       "9129      2   2340.598798         0         0          0                 1   \n",
       "9130      2    309.651122         1         1          1                 1   \n",
       "9131      2    816.389043         0         1          0                 4   \n",
       "9132      2    752.444244         0         1          1                 1   \n",
       "9133      2    261.183687         0         1          1                 4   \n",
       "\n",
       "      Gender  Income  Location Code  Marital Status  ...  \\\n",
       "0          0   56274              1               1  ...   \n",
       "1          0       0              1               2  ...   \n",
       "2          0   48767              1               1  ...   \n",
       "3          1       0              1               1  ...   \n",
       "4          1   43836              0               2  ...   \n",
       "...      ...     ...            ...             ...  ...   \n",
       "9129       1   71941              2               1  ...   \n",
       "9130       0   21604              1               0  ...   \n",
       "9131       1       0              1               2  ...   \n",
       "9132       1   21941              1               1  ...   \n",
       "9133       1       0              1               2  ...   \n",
       "\n",
       "      Months Since Policy Inception  Number of Open Complaints  \\\n",
       "0                                 5                          0   \n",
       "1                                42                          0   \n",
       "2                                38                          0   \n",
       "3                                65                          0   \n",
       "4                                44                          0   \n",
       "...                             ...                        ...   \n",
       "9129                             89                          0   \n",
       "9130                             28                          0   \n",
       "9131                             37                          3   \n",
       "9132                              3                          0   \n",
       "9133                             90                          0   \n",
       "\n",
       "      Number of Policies  Policy Type  Policy  Claim Reason  Sales Channel  \\\n",
       "0                      1            0       2             0              0   \n",
       "1                      8            1       5             3              0   \n",
       "2                      2            1       5             0              0   \n",
       "3                      7            0       1             0              2   \n",
       "4                      1            1       3             0              0   \n",
       "...                  ...          ...     ...           ...            ...   \n",
       "9129                   2            1       3             1              3   \n",
       "9130                   1            0       2             0              1   \n",
       "9131                   2            0       1             0              1   \n",
       "9132                   3            1       4             3              1   \n",
       "9133                   1            0       2             2              2   \n",
       "\n",
       "      Total Claim Amount  Vehicle Class  Vehicle Size  \n",
       "0             384.811147              5             1  \n",
       "1            1131.464935              0             1  \n",
       "2             566.472247              5             1  \n",
       "3             529.881344              3             1  \n",
       "4             138.130879              0             1  \n",
       "...                  ...            ...           ...  \n",
       "9129          198.234764              0             1  \n",
       "9130          379.200000              0             1  \n",
       "9131          790.784983              0             1  \n",
       "9132          691.200000              0             0  \n",
       "9133          369.600000              5             1  \n",
       "\n",
       "[8470 rows x 22 columns]"
      ]
     },
     "execution_count": 55,
     "metadata": {},
     "output_type": "execute_result"
    }
   ],
   "source": [
    "#Removing the Outliers\n",
    "Data_new=Data[(z<3).all(axis=1)]\n",
    "Data_new"
   ]
  },
  {
   "cell_type": "code",
   "execution_count": 56,
   "metadata": {},
   "outputs": [
    {
     "name": "stdout",
     "output_type": "stream",
     "text": [
      "(9134, 22)\n",
      "(8470, 22)\n"
     ]
    }
   ],
   "source": [
    "print(Data.shape)\n",
    "print(Data_new.shape)"
   ]
  },
  {
   "cell_type": "raw",
   "metadata": {},
   "source": [
    "664 observations removed as outliers"
   ]
  },
  {
   "cell_type": "markdown",
   "metadata": {},
   "source": [
    "# Checking for Skewness"
   ]
  },
  {
   "cell_type": "code",
   "execution_count": 57,
   "metadata": {},
   "outputs": [
    {
     "data": {
      "text/plain": [
       "State                            0.019194\n",
       "Claim Amount                     1.848796\n",
       "Response                         2.030625\n",
       "Coverage                         1.080580\n",
       "Education                        0.337866\n",
       "EmploymentStatus                 0.844023\n",
       "Gender                           0.044411\n",
       "Income                           0.282827\n",
       "Location Code                    0.012291\n",
       "Marital Status                  -0.099961\n",
       "Monthly Premium Auto             1.330466\n",
       "Months Since Last Claim          0.283606\n",
       "Months Since Policy Inception    0.049470\n",
       "Number of Open Complaints        2.574570\n",
       "Number of Policies               1.226531\n",
       "Policy Type                     -0.459843\n",
       "Policy                          -0.415012\n",
       "Claim Reason                     0.725402\n",
       "Sales Channel                    0.503296\n",
       "Total Claim Amount               0.709643\n",
       "Vehicle Class                    0.403978\n",
       "Vehicle Size                     0.071461\n",
       "dtype: float64"
      ]
     },
     "execution_count": 57,
     "metadata": {},
     "output_type": "execute_result"
    }
   ],
   "source": [
    "Data_new.skew()"
   ]
  },
  {
   "cell_type": "code",
   "execution_count": 58,
   "metadata": {},
   "outputs": [],
   "source": [
    "list2=['Claim Amount','Response','Coverage','EmploymentStatus','Monthly Premium Auto','Number of Open Complaints','Number of Policies','Claim Reason','Total Claim Amount']\n",
    "for i in list2:\n",
    "    Data_new[i]=np.sqrt(Data_new[i])"
   ]
  },
  {
   "cell_type": "code",
   "execution_count": 59,
   "metadata": {},
   "outputs": [
    {
     "data": {
      "text/plain": [
       "State                            0.019194\n",
       "Claim Amount                     1.069550\n",
       "Response                         2.030625\n",
       "Coverage                         0.637514\n",
       "Education                        0.337866\n",
       "EmploymentStatus                 0.096940\n",
       "Gender                           0.044411\n",
       "Income                           0.282827\n",
       "Location Code                    0.012291\n",
       "Marital Status                  -0.099961\n",
       "Monthly Premium Auto             0.973258\n",
       "Months Since Last Claim          0.283606\n",
       "Months Since Policy Inception    0.049470\n",
       "Number of Open Complaints        1.871949\n",
       "Number of Policies               0.834717\n",
       "Policy Type                     -0.459843\n",
       "Policy                          -0.415012\n",
       "Claim Reason                     0.024930\n",
       "Sales Channel                    0.503296\n",
       "Total Claim Amount              -0.336015\n",
       "Vehicle Class                    0.403978\n",
       "Vehicle Size                     0.071461\n",
       "dtype: float64"
      ]
     },
     "execution_count": 59,
     "metadata": {},
     "output_type": "execute_result"
    }
   ],
   "source": [
    "Data_new.skew()"
   ]
  },
  {
   "cell_type": "code",
   "execution_count": 60,
   "metadata": {},
   "outputs": [
    {
     "data": {
      "text/html": [
       "<div>\n",
       "<style scoped>\n",
       "    .dataframe tbody tr th:only-of-type {\n",
       "        vertical-align: middle;\n",
       "    }\n",
       "\n",
       "    .dataframe tbody tr th {\n",
       "        vertical-align: top;\n",
       "    }\n",
       "\n",
       "    .dataframe thead th {\n",
       "        text-align: right;\n",
       "    }\n",
       "</style>\n",
       "<table border=\"1\" class=\"dataframe\">\n",
       "  <thead>\n",
       "    <tr style=\"text-align: right;\">\n",
       "      <th></th>\n",
       "      <th>State</th>\n",
       "      <th>Claim Amount</th>\n",
       "      <th>Response</th>\n",
       "      <th>Coverage</th>\n",
       "      <th>Education</th>\n",
       "      <th>EmploymentStatus</th>\n",
       "      <th>Gender</th>\n",
       "      <th>Income</th>\n",
       "      <th>Location Code</th>\n",
       "      <th>Marital Status</th>\n",
       "      <th>...</th>\n",
       "      <th>Months Since Last Claim</th>\n",
       "      <th>Months Since Policy Inception</th>\n",
       "      <th>Number of Open Complaints</th>\n",
       "      <th>Number of Policies</th>\n",
       "      <th>Policy Type</th>\n",
       "      <th>Policy</th>\n",
       "      <th>Claim Reason</th>\n",
       "      <th>Sales Channel</th>\n",
       "      <th>Vehicle Class</th>\n",
       "      <th>Vehicle Size</th>\n",
       "    </tr>\n",
       "  </thead>\n",
       "  <tbody>\n",
       "    <tr>\n",
       "      <td>0</td>\n",
       "      <td>1</td>\n",
       "      <td>16.623836</td>\n",
       "      <td>0.0</td>\n",
       "      <td>0.000000</td>\n",
       "      <td>0</td>\n",
       "      <td>1.0</td>\n",
       "      <td>0</td>\n",
       "      <td>56274</td>\n",
       "      <td>1</td>\n",
       "      <td>1</td>\n",
       "      <td>...</td>\n",
       "      <td>32</td>\n",
       "      <td>5</td>\n",
       "      <td>0.000000</td>\n",
       "      <td>1.000000</td>\n",
       "      <td>0</td>\n",
       "      <td>2</td>\n",
       "      <td>0.000000</td>\n",
       "      <td>0</td>\n",
       "      <td>5</td>\n",
       "      <td>1</td>\n",
       "    </tr>\n",
       "    <tr>\n",
       "      <td>1</td>\n",
       "      <td>3</td>\n",
       "      <td>26.418811</td>\n",
       "      <td>0.0</td>\n",
       "      <td>1.000000</td>\n",
       "      <td>0</td>\n",
       "      <td>2.0</td>\n",
       "      <td>0</td>\n",
       "      <td>0</td>\n",
       "      <td>1</td>\n",
       "      <td>2</td>\n",
       "      <td>...</td>\n",
       "      <td>13</td>\n",
       "      <td>42</td>\n",
       "      <td>0.000000</td>\n",
       "      <td>2.828427</td>\n",
       "      <td>1</td>\n",
       "      <td>5</td>\n",
       "      <td>1.732051</td>\n",
       "      <td>0</td>\n",
       "      <td>0</td>\n",
       "      <td>1</td>\n",
       "    </tr>\n",
       "    <tr>\n",
       "      <td>2</td>\n",
       "      <td>4</td>\n",
       "      <td>35.899069</td>\n",
       "      <td>0.0</td>\n",
       "      <td>1.414214</td>\n",
       "      <td>0</td>\n",
       "      <td>1.0</td>\n",
       "      <td>0</td>\n",
       "      <td>48767</td>\n",
       "      <td>1</td>\n",
       "      <td>1</td>\n",
       "      <td>...</td>\n",
       "      <td>18</td>\n",
       "      <td>38</td>\n",
       "      <td>0.000000</td>\n",
       "      <td>1.414214</td>\n",
       "      <td>1</td>\n",
       "      <td>5</td>\n",
       "      <td>0.000000</td>\n",
       "      <td>0</td>\n",
       "      <td>5</td>\n",
       "      <td>1</td>\n",
       "    </tr>\n",
       "    <tr>\n",
       "      <td>3</td>\n",
       "      <td>2</td>\n",
       "      <td>27.651152</td>\n",
       "      <td>0.0</td>\n",
       "      <td>0.000000</td>\n",
       "      <td>0</td>\n",
       "      <td>2.0</td>\n",
       "      <td>1</td>\n",
       "      <td>0</td>\n",
       "      <td>1</td>\n",
       "      <td>1</td>\n",
       "      <td>...</td>\n",
       "      <td>18</td>\n",
       "      <td>65</td>\n",
       "      <td>0.000000</td>\n",
       "      <td>2.645751</td>\n",
       "      <td>0</td>\n",
       "      <td>1</td>\n",
       "      <td>0.000000</td>\n",
       "      <td>2</td>\n",
       "      <td>3</td>\n",
       "      <td>1</td>\n",
       "    </tr>\n",
       "    <tr>\n",
       "      <td>4</td>\n",
       "      <td>1</td>\n",
       "      <td>16.774065</td>\n",
       "      <td>0.0</td>\n",
       "      <td>0.000000</td>\n",
       "      <td>0</td>\n",
       "      <td>1.0</td>\n",
       "      <td>1</td>\n",
       "      <td>43836</td>\n",
       "      <td>0</td>\n",
       "      <td>2</td>\n",
       "      <td>...</td>\n",
       "      <td>12</td>\n",
       "      <td>44</td>\n",
       "      <td>0.000000</td>\n",
       "      <td>1.000000</td>\n",
       "      <td>1</td>\n",
       "      <td>3</td>\n",
       "      <td>0.000000</td>\n",
       "      <td>0</td>\n",
       "      <td>0</td>\n",
       "      <td>1</td>\n",
       "    </tr>\n",
       "    <tr>\n",
       "      <td>...</td>\n",
       "      <td>...</td>\n",
       "      <td>...</td>\n",
       "      <td>...</td>\n",
       "      <td>...</td>\n",
       "      <td>...</td>\n",
       "      <td>...</td>\n",
       "      <td>...</td>\n",
       "      <td>...</td>\n",
       "      <td>...</td>\n",
       "      <td>...</td>\n",
       "      <td>...</td>\n",
       "      <td>...</td>\n",
       "      <td>...</td>\n",
       "      <td>...</td>\n",
       "      <td>...</td>\n",
       "      <td>...</td>\n",
       "      <td>...</td>\n",
       "      <td>...</td>\n",
       "      <td>...</td>\n",
       "      <td>...</td>\n",
       "      <td>...</td>\n",
       "    </tr>\n",
       "    <tr>\n",
       "      <td>9129</td>\n",
       "      <td>2</td>\n",
       "      <td>48.379735</td>\n",
       "      <td>0.0</td>\n",
       "      <td>0.000000</td>\n",
       "      <td>0</td>\n",
       "      <td>1.0</td>\n",
       "      <td>1</td>\n",
       "      <td>71941</td>\n",
       "      <td>2</td>\n",
       "      <td>1</td>\n",
       "      <td>...</td>\n",
       "      <td>18</td>\n",
       "      <td>89</td>\n",
       "      <td>0.000000</td>\n",
       "      <td>1.414214</td>\n",
       "      <td>1</td>\n",
       "      <td>3</td>\n",
       "      <td>1.000000</td>\n",
       "      <td>3</td>\n",
       "      <td>0</td>\n",
       "      <td>1</td>\n",
       "    </tr>\n",
       "    <tr>\n",
       "      <td>9130</td>\n",
       "      <td>2</td>\n",
       "      <td>17.596907</td>\n",
       "      <td>1.0</td>\n",
       "      <td>1.000000</td>\n",
       "      <td>1</td>\n",
       "      <td>1.0</td>\n",
       "      <td>0</td>\n",
       "      <td>21604</td>\n",
       "      <td>1</td>\n",
       "      <td>0</td>\n",
       "      <td>...</td>\n",
       "      <td>14</td>\n",
       "      <td>28</td>\n",
       "      <td>0.000000</td>\n",
       "      <td>1.000000</td>\n",
       "      <td>0</td>\n",
       "      <td>2</td>\n",
       "      <td>0.000000</td>\n",
       "      <td>1</td>\n",
       "      <td>0</td>\n",
       "      <td>1</td>\n",
       "    </tr>\n",
       "    <tr>\n",
       "      <td>9131</td>\n",
       "      <td>2</td>\n",
       "      <td>28.572523</td>\n",
       "      <td>0.0</td>\n",
       "      <td>1.000000</td>\n",
       "      <td>0</td>\n",
       "      <td>2.0</td>\n",
       "      <td>1</td>\n",
       "      <td>0</td>\n",
       "      <td>1</td>\n",
       "      <td>2</td>\n",
       "      <td>...</td>\n",
       "      <td>9</td>\n",
       "      <td>37</td>\n",
       "      <td>1.732051</td>\n",
       "      <td>1.414214</td>\n",
       "      <td>0</td>\n",
       "      <td>1</td>\n",
       "      <td>0.000000</td>\n",
       "      <td>1</td>\n",
       "      <td>0</td>\n",
       "      <td>1</td>\n",
       "    </tr>\n",
       "    <tr>\n",
       "      <td>9132</td>\n",
       "      <td>2</td>\n",
       "      <td>27.430717</td>\n",
       "      <td>0.0</td>\n",
       "      <td>1.000000</td>\n",
       "      <td>1</td>\n",
       "      <td>1.0</td>\n",
       "      <td>1</td>\n",
       "      <td>21941</td>\n",
       "      <td>1</td>\n",
       "      <td>1</td>\n",
       "      <td>...</td>\n",
       "      <td>34</td>\n",
       "      <td>3</td>\n",
       "      <td>0.000000</td>\n",
       "      <td>1.732051</td>\n",
       "      <td>1</td>\n",
       "      <td>4</td>\n",
       "      <td>1.732051</td>\n",
       "      <td>1</td>\n",
       "      <td>0</td>\n",
       "      <td>0</td>\n",
       "    </tr>\n",
       "    <tr>\n",
       "      <td>9133</td>\n",
       "      <td>2</td>\n",
       "      <td>16.161178</td>\n",
       "      <td>0.0</td>\n",
       "      <td>1.000000</td>\n",
       "      <td>1</td>\n",
       "      <td>2.0</td>\n",
       "      <td>1</td>\n",
       "      <td>0</td>\n",
       "      <td>1</td>\n",
       "      <td>2</td>\n",
       "      <td>...</td>\n",
       "      <td>3</td>\n",
       "      <td>90</td>\n",
       "      <td>0.000000</td>\n",
       "      <td>1.000000</td>\n",
       "      <td>0</td>\n",
       "      <td>2</td>\n",
       "      <td>1.414214</td>\n",
       "      <td>2</td>\n",
       "      <td>5</td>\n",
       "      <td>1</td>\n",
       "    </tr>\n",
       "  </tbody>\n",
       "</table>\n",
       "<p>8470 rows × 21 columns</p>\n",
       "</div>"
      ],
      "text/plain": [
       "      State  Claim Amount  Response  Coverage  Education  EmploymentStatus  \\\n",
       "0         1     16.623836       0.0  0.000000          0               1.0   \n",
       "1         3     26.418811       0.0  1.000000          0               2.0   \n",
       "2         4     35.899069       0.0  1.414214          0               1.0   \n",
       "3         2     27.651152       0.0  0.000000          0               2.0   \n",
       "4         1     16.774065       0.0  0.000000          0               1.0   \n",
       "...     ...           ...       ...       ...        ...               ...   \n",
       "9129      2     48.379735       0.0  0.000000          0               1.0   \n",
       "9130      2     17.596907       1.0  1.000000          1               1.0   \n",
       "9131      2     28.572523       0.0  1.000000          0               2.0   \n",
       "9132      2     27.430717       0.0  1.000000          1               1.0   \n",
       "9133      2     16.161178       0.0  1.000000          1               2.0   \n",
       "\n",
       "      Gender  Income  Location Code  Marital Status  ...  \\\n",
       "0          0   56274              1               1  ...   \n",
       "1          0       0              1               2  ...   \n",
       "2          0   48767              1               1  ...   \n",
       "3          1       0              1               1  ...   \n",
       "4          1   43836              0               2  ...   \n",
       "...      ...     ...            ...             ...  ...   \n",
       "9129       1   71941              2               1  ...   \n",
       "9130       0   21604              1               0  ...   \n",
       "9131       1       0              1               2  ...   \n",
       "9132       1   21941              1               1  ...   \n",
       "9133       1       0              1               2  ...   \n",
       "\n",
       "      Months Since Last Claim  Months Since Policy Inception  \\\n",
       "0                          32                              5   \n",
       "1                          13                             42   \n",
       "2                          18                             38   \n",
       "3                          18                             65   \n",
       "4                          12                             44   \n",
       "...                       ...                            ...   \n",
       "9129                       18                             89   \n",
       "9130                       14                             28   \n",
       "9131                        9                             37   \n",
       "9132                       34                              3   \n",
       "9133                        3                             90   \n",
       "\n",
       "      Number of Open Complaints  Number of Policies  Policy Type  Policy  \\\n",
       "0                      0.000000            1.000000            0       2   \n",
       "1                      0.000000            2.828427            1       5   \n",
       "2                      0.000000            1.414214            1       5   \n",
       "3                      0.000000            2.645751            0       1   \n",
       "4                      0.000000            1.000000            1       3   \n",
       "...                         ...                 ...          ...     ...   \n",
       "9129                   0.000000            1.414214            1       3   \n",
       "9130                   0.000000            1.000000            0       2   \n",
       "9131                   1.732051            1.414214            0       1   \n",
       "9132                   0.000000            1.732051            1       4   \n",
       "9133                   0.000000            1.000000            0       2   \n",
       "\n",
       "      Claim Reason  Sales Channel  Vehicle Class  Vehicle Size  \n",
       "0         0.000000              0              5             1  \n",
       "1         1.732051              0              0             1  \n",
       "2         0.000000              0              5             1  \n",
       "3         0.000000              2              3             1  \n",
       "4         0.000000              0              0             1  \n",
       "...            ...            ...            ...           ...  \n",
       "9129      1.000000              3              0             1  \n",
       "9130      0.000000              1              0             1  \n",
       "9131      0.000000              1              0             1  \n",
       "9132      1.732051              1              0             0  \n",
       "9133      1.414214              2              5             1  \n",
       "\n",
       "[8470 rows x 21 columns]"
      ]
     },
     "execution_count": 60,
     "metadata": {},
     "output_type": "execute_result"
    }
   ],
   "source": [
    "#Splitting the dataset into train and test dataset\n",
    "df_x=Data_new.drop(['Total Claim Amount'],axis=1)\n",
    "df_x"
   ]
  },
  {
   "cell_type": "code",
   "execution_count": 61,
   "metadata": {},
   "outputs": [
    {
     "data": {
      "text/plain": [
       "array([[19.61660386],\n",
       "       [33.63725516],\n",
       "       [23.80067745],\n",
       "       ...,\n",
       "       [28.1208994 ],\n",
       "       [26.29068276],\n",
       "       [19.22498375]])"
      ]
     },
     "execution_count": 61,
     "metadata": {},
     "output_type": "execute_result"
    }
   ],
   "source": [
    "y=Data_new.loc[:,['Total Claim Amount']].values.reshape(-1,1)\n",
    "y"
   ]
  },
  {
   "cell_type": "code",
   "execution_count": 62,
   "metadata": {},
   "outputs": [
    {
     "data": {
      "text/html": [
       "<div>\n",
       "<style scoped>\n",
       "    .dataframe tbody tr th:only-of-type {\n",
       "        vertical-align: middle;\n",
       "    }\n",
       "\n",
       "    .dataframe tbody tr th {\n",
       "        vertical-align: top;\n",
       "    }\n",
       "\n",
       "    .dataframe thead th {\n",
       "        text-align: right;\n",
       "    }\n",
       "</style>\n",
       "<table border=\"1\" class=\"dataframe\">\n",
       "  <thead>\n",
       "    <tr style=\"text-align: right;\">\n",
       "      <th></th>\n",
       "      <th>State</th>\n",
       "      <th>Claim Amount</th>\n",
       "      <th>Response</th>\n",
       "      <th>Coverage</th>\n",
       "      <th>Education</th>\n",
       "      <th>EmploymentStatus</th>\n",
       "      <th>Gender</th>\n",
       "      <th>Income</th>\n",
       "      <th>Location Code</th>\n",
       "      <th>Marital Status</th>\n",
       "      <th>...</th>\n",
       "      <th>Months Since Last Claim</th>\n",
       "      <th>Months Since Policy Inception</th>\n",
       "      <th>Number of Open Complaints</th>\n",
       "      <th>Number of Policies</th>\n",
       "      <th>Policy Type</th>\n",
       "      <th>Policy</th>\n",
       "      <th>Claim Reason</th>\n",
       "      <th>Sales Channel</th>\n",
       "      <th>Vehicle Class</th>\n",
       "      <th>Vehicle Size</th>\n",
       "    </tr>\n",
       "  </thead>\n",
       "  <tbody>\n",
       "    <tr>\n",
       "      <td>0</td>\n",
       "      <td>-0.551121</td>\n",
       "      <td>-1.107239</td>\n",
       "      <td>-0.409822</td>\n",
       "      <td>-0.763792</td>\n",
       "      <td>-1.120269</td>\n",
       "      <td>-0.487255</td>\n",
       "      <td>-0.978045</td>\n",
       "      <td>0.604143</td>\n",
       "      <td>0.037243</td>\n",
       "      <td>-0.186015</td>\n",
       "      <td>...</td>\n",
       "      <td>1.683302</td>\n",
       "      <td>-1.535241</td>\n",
       "      <td>-0.464064</td>\n",
       "      <td>-0.953478</td>\n",
       "      <td>-1.717870</td>\n",
       "      <td>-1.109423</td>\n",
       "      <td>-1.127831</td>\n",
       "      <td>-1.035286</td>\n",
       "      <td>1.478254</td>\n",
       "      <td>-0.162023</td>\n",
       "    </tr>\n",
       "    <tr>\n",
       "      <td>1</td>\n",
       "      <td>0.974119</td>\n",
       "      <td>0.114185</td>\n",
       "      <td>-0.409822</td>\n",
       "      <td>1.089651</td>\n",
       "      <td>-1.120269</td>\n",
       "      <td>1.477330</td>\n",
       "      <td>-0.978045</td>\n",
       "      <td>-1.244638</td>\n",
       "      <td>0.037243</td>\n",
       "      <td>1.394274</td>\n",
       "      <td>...</td>\n",
       "      <td>-0.204683</td>\n",
       "      <td>-0.208285</td>\n",
       "      <td>-0.464064</td>\n",
       "      <td>1.916669</td>\n",
       "      <td>0.372999</td>\n",
       "      <td>0.755394</td>\n",
       "      <td>1.454417</td>\n",
       "      <td>-1.035286</td>\n",
       "      <td>-0.892124</td>\n",
       "      <td>-0.162023</td>\n",
       "    </tr>\n",
       "    <tr>\n",
       "      <td>2</td>\n",
       "      <td>1.736738</td>\n",
       "      <td>1.296365</td>\n",
       "      <td>-0.409822</td>\n",
       "      <td>1.857372</td>\n",
       "      <td>-1.120269</td>\n",
       "      <td>-0.487255</td>\n",
       "      <td>-0.978045</td>\n",
       "      <td>0.357514</td>\n",
       "      <td>0.037243</td>\n",
       "      <td>-0.186015</td>\n",
       "      <td>...</td>\n",
       "      <td>0.292155</td>\n",
       "      <td>-0.351739</td>\n",
       "      <td>-0.464064</td>\n",
       "      <td>-0.303273</td>\n",
       "      <td>0.372999</td>\n",
       "      <td>0.755394</td>\n",
       "      <td>-1.127831</td>\n",
       "      <td>-1.035286</td>\n",
       "      <td>1.478254</td>\n",
       "      <td>-0.162023</td>\n",
       "    </tr>\n",
       "    <tr>\n",
       "      <td>3</td>\n",
       "      <td>0.211499</td>\n",
       "      <td>0.267857</td>\n",
       "      <td>-0.409822</td>\n",
       "      <td>-0.763792</td>\n",
       "      <td>-1.120269</td>\n",
       "      <td>1.477330</td>\n",
       "      <td>1.022448</td>\n",
       "      <td>-1.244638</td>\n",
       "      <td>0.037243</td>\n",
       "      <td>-0.186015</td>\n",
       "      <td>...</td>\n",
       "      <td>0.292155</td>\n",
       "      <td>0.616580</td>\n",
       "      <td>-0.464064</td>\n",
       "      <td>1.629916</td>\n",
       "      <td>-1.717870</td>\n",
       "      <td>-1.731029</td>\n",
       "      <td>-1.127831</td>\n",
       "      <td>0.836205</td>\n",
       "      <td>0.530103</td>\n",
       "      <td>-0.162023</td>\n",
       "    </tr>\n",
       "    <tr>\n",
       "      <td>4</td>\n",
       "      <td>-0.551121</td>\n",
       "      <td>-1.088506</td>\n",
       "      <td>-0.409822</td>\n",
       "      <td>-0.763792</td>\n",
       "      <td>-1.120269</td>\n",
       "      <td>-0.487255</td>\n",
       "      <td>1.022448</td>\n",
       "      <td>0.195515</td>\n",
       "      <td>-1.597204</td>\n",
       "      <td>1.394274</td>\n",
       "      <td>...</td>\n",
       "      <td>-0.304051</td>\n",
       "      <td>-0.136557</td>\n",
       "      <td>-0.464064</td>\n",
       "      <td>-0.953478</td>\n",
       "      <td>0.372999</td>\n",
       "      <td>-0.487818</td>\n",
       "      <td>-1.127831</td>\n",
       "      <td>-1.035286</td>\n",
       "      <td>-0.892124</td>\n",
       "      <td>-0.162023</td>\n",
       "    </tr>\n",
       "    <tr>\n",
       "      <td>...</td>\n",
       "      <td>...</td>\n",
       "      <td>...</td>\n",
       "      <td>...</td>\n",
       "      <td>...</td>\n",
       "      <td>...</td>\n",
       "      <td>...</td>\n",
       "      <td>...</td>\n",
       "      <td>...</td>\n",
       "      <td>...</td>\n",
       "      <td>...</td>\n",
       "      <td>...</td>\n",
       "      <td>...</td>\n",
       "      <td>...</td>\n",
       "      <td>...</td>\n",
       "      <td>...</td>\n",
       "      <td>...</td>\n",
       "      <td>...</td>\n",
       "      <td>...</td>\n",
       "      <td>...</td>\n",
       "      <td>...</td>\n",
       "      <td>...</td>\n",
       "    </tr>\n",
       "    <tr>\n",
       "      <td>8465</td>\n",
       "      <td>0.211499</td>\n",
       "      <td>2.852692</td>\n",
       "      <td>-0.409822</td>\n",
       "      <td>-0.763792</td>\n",
       "      <td>-1.120269</td>\n",
       "      <td>-0.487255</td>\n",
       "      <td>1.022448</td>\n",
       "      <td>1.118854</td>\n",
       "      <td>1.671690</td>\n",
       "      <td>-0.186015</td>\n",
       "      <td>...</td>\n",
       "      <td>0.292155</td>\n",
       "      <td>1.477309</td>\n",
       "      <td>-0.464064</td>\n",
       "      <td>-0.303273</td>\n",
       "      <td>0.372999</td>\n",
       "      <td>-0.487818</td>\n",
       "      <td>0.363031</td>\n",
       "      <td>1.771950</td>\n",
       "      <td>-0.892124</td>\n",
       "      <td>-0.162023</td>\n",
       "    </tr>\n",
       "    <tr>\n",
       "      <td>8466</td>\n",
       "      <td>0.211499</td>\n",
       "      <td>-0.985898</td>\n",
       "      <td>2.440087</td>\n",
       "      <td>1.089651</td>\n",
       "      <td>-0.397212</td>\n",
       "      <td>-0.487255</td>\n",
       "      <td>-0.978045</td>\n",
       "      <td>-0.534877</td>\n",
       "      <td>0.037243</td>\n",
       "      <td>-1.766304</td>\n",
       "      <td>...</td>\n",
       "      <td>-0.105316</td>\n",
       "      <td>-0.710376</td>\n",
       "      <td>-0.464064</td>\n",
       "      <td>-0.953478</td>\n",
       "      <td>-1.717870</td>\n",
       "      <td>-1.109423</td>\n",
       "      <td>-1.127831</td>\n",
       "      <td>-0.099540</td>\n",
       "      <td>-0.892124</td>\n",
       "      <td>-0.162023</td>\n",
       "    </tr>\n",
       "    <tr>\n",
       "      <td>8467</td>\n",
       "      <td>0.211499</td>\n",
       "      <td>0.382751</td>\n",
       "      <td>-0.409822</td>\n",
       "      <td>1.089651</td>\n",
       "      <td>-1.120269</td>\n",
       "      <td>1.477330</td>\n",
       "      <td>1.022448</td>\n",
       "      <td>-1.244638</td>\n",
       "      <td>0.037243</td>\n",
       "      <td>1.394274</td>\n",
       "      <td>...</td>\n",
       "      <td>-0.602154</td>\n",
       "      <td>-0.387603</td>\n",
       "      <td>3.060484</td>\n",
       "      <td>-0.303273</td>\n",
       "      <td>-1.717870</td>\n",
       "      <td>-1.731029</td>\n",
       "      <td>-1.127831</td>\n",
       "      <td>-0.099540</td>\n",
       "      <td>-0.892124</td>\n",
       "      <td>-0.162023</td>\n",
       "    </tr>\n",
       "    <tr>\n",
       "      <td>8468</td>\n",
       "      <td>0.211499</td>\n",
       "      <td>0.240369</td>\n",
       "      <td>-0.409822</td>\n",
       "      <td>1.089651</td>\n",
       "      <td>-0.397212</td>\n",
       "      <td>-0.487255</td>\n",
       "      <td>1.022448</td>\n",
       "      <td>-0.523806</td>\n",
       "      <td>0.037243</td>\n",
       "      <td>-0.186015</td>\n",
       "      <td>...</td>\n",
       "      <td>1.882037</td>\n",
       "      <td>-1.606969</td>\n",
       "      <td>-0.464064</td>\n",
       "      <td>0.195648</td>\n",
       "      <td>0.372999</td>\n",
       "      <td>0.133788</td>\n",
       "      <td>1.454417</td>\n",
       "      <td>-0.099540</td>\n",
       "      <td>-0.892124</td>\n",
       "      <td>-2.024073</td>\n",
       "    </tr>\n",
       "    <tr>\n",
       "      <td>8469</td>\n",
       "      <td>0.211499</td>\n",
       "      <td>-1.164932</td>\n",
       "      <td>-0.409822</td>\n",
       "      <td>1.089651</td>\n",
       "      <td>-0.397212</td>\n",
       "      <td>1.477330</td>\n",
       "      <td>1.022448</td>\n",
       "      <td>-1.244638</td>\n",
       "      <td>0.037243</td>\n",
       "      <td>1.394274</td>\n",
       "      <td>...</td>\n",
       "      <td>-1.198360</td>\n",
       "      <td>1.513173</td>\n",
       "      <td>-0.464064</td>\n",
       "      <td>-0.953478</td>\n",
       "      <td>-1.717870</td>\n",
       "      <td>-1.109423</td>\n",
       "      <td>0.980566</td>\n",
       "      <td>0.836205</td>\n",
       "      <td>1.478254</td>\n",
       "      <td>-0.162023</td>\n",
       "    </tr>\n",
       "  </tbody>\n",
       "</table>\n",
       "<p>8470 rows × 21 columns</p>\n",
       "</div>"
      ],
      "text/plain": [
       "         State  Claim Amount  Response  Coverage  Education  EmploymentStatus  \\\n",
       "0    -0.551121     -1.107239 -0.409822 -0.763792  -1.120269         -0.487255   \n",
       "1     0.974119      0.114185 -0.409822  1.089651  -1.120269          1.477330   \n",
       "2     1.736738      1.296365 -0.409822  1.857372  -1.120269         -0.487255   \n",
       "3     0.211499      0.267857 -0.409822 -0.763792  -1.120269          1.477330   \n",
       "4    -0.551121     -1.088506 -0.409822 -0.763792  -1.120269         -0.487255   \n",
       "...        ...           ...       ...       ...        ...               ...   \n",
       "8465  0.211499      2.852692 -0.409822 -0.763792  -1.120269         -0.487255   \n",
       "8466  0.211499     -0.985898  2.440087  1.089651  -0.397212         -0.487255   \n",
       "8467  0.211499      0.382751 -0.409822  1.089651  -1.120269          1.477330   \n",
       "8468  0.211499      0.240369 -0.409822  1.089651  -0.397212         -0.487255   \n",
       "8469  0.211499     -1.164932 -0.409822  1.089651  -0.397212          1.477330   \n",
       "\n",
       "        Gender    Income  Location Code  Marital Status  ...  \\\n",
       "0    -0.978045  0.604143       0.037243       -0.186015  ...   \n",
       "1    -0.978045 -1.244638       0.037243        1.394274  ...   \n",
       "2    -0.978045  0.357514       0.037243       -0.186015  ...   \n",
       "3     1.022448 -1.244638       0.037243       -0.186015  ...   \n",
       "4     1.022448  0.195515      -1.597204        1.394274  ...   \n",
       "...        ...       ...            ...             ...  ...   \n",
       "8465  1.022448  1.118854       1.671690       -0.186015  ...   \n",
       "8466 -0.978045 -0.534877       0.037243       -1.766304  ...   \n",
       "8467  1.022448 -1.244638       0.037243        1.394274  ...   \n",
       "8468  1.022448 -0.523806       0.037243       -0.186015  ...   \n",
       "8469  1.022448 -1.244638       0.037243        1.394274  ...   \n",
       "\n",
       "      Months Since Last Claim  Months Since Policy Inception  \\\n",
       "0                    1.683302                      -1.535241   \n",
       "1                   -0.204683                      -0.208285   \n",
       "2                    0.292155                      -0.351739   \n",
       "3                    0.292155                       0.616580   \n",
       "4                   -0.304051                      -0.136557   \n",
       "...                       ...                            ...   \n",
       "8465                 0.292155                       1.477309   \n",
       "8466                -0.105316                      -0.710376   \n",
       "8467                -0.602154                      -0.387603   \n",
       "8468                 1.882037                      -1.606969   \n",
       "8469                -1.198360                       1.513173   \n",
       "\n",
       "      Number of Open Complaints  Number of Policies  Policy Type    Policy  \\\n",
       "0                     -0.464064           -0.953478    -1.717870 -1.109423   \n",
       "1                     -0.464064            1.916669     0.372999  0.755394   \n",
       "2                     -0.464064           -0.303273     0.372999  0.755394   \n",
       "3                     -0.464064            1.629916    -1.717870 -1.731029   \n",
       "4                     -0.464064           -0.953478     0.372999 -0.487818   \n",
       "...                         ...                 ...          ...       ...   \n",
       "8465                  -0.464064           -0.303273     0.372999 -0.487818   \n",
       "8466                  -0.464064           -0.953478    -1.717870 -1.109423   \n",
       "8467                   3.060484           -0.303273    -1.717870 -1.731029   \n",
       "8468                  -0.464064            0.195648     0.372999  0.133788   \n",
       "8469                  -0.464064           -0.953478    -1.717870 -1.109423   \n",
       "\n",
       "      Claim Reason  Sales Channel  Vehicle Class  Vehicle Size  \n",
       "0        -1.127831      -1.035286       1.478254     -0.162023  \n",
       "1         1.454417      -1.035286      -0.892124     -0.162023  \n",
       "2        -1.127831      -1.035286       1.478254     -0.162023  \n",
       "3        -1.127831       0.836205       0.530103     -0.162023  \n",
       "4        -1.127831      -1.035286      -0.892124     -0.162023  \n",
       "...            ...            ...            ...           ...  \n",
       "8465      0.363031       1.771950      -0.892124     -0.162023  \n",
       "8466     -1.127831      -0.099540      -0.892124     -0.162023  \n",
       "8467     -1.127831      -0.099540      -0.892124     -0.162023  \n",
       "8468      1.454417      -0.099540      -0.892124     -2.024073  \n",
       "8469      0.980566       0.836205       1.478254     -0.162023  \n",
       "\n",
       "[8470 rows x 21 columns]"
      ]
     },
     "execution_count": 62,
     "metadata": {},
     "output_type": "execute_result"
    }
   ],
   "source": [
    "#Scale standardly to the train dataset\n",
    "from sklearn.preprocessing import StandardScaler\n",
    "sc=StandardScaler()\n",
    "x=sc.fit_transform(df_x)\n",
    "x=pd.DataFrame(x,columns=df_x.columns)\n",
    "x"
   ]
  },
  {
   "cell_type": "markdown",
   "metadata": {},
   "source": [
    "# Now Training and testing datasets are ready for Machine learning"
   ]
  },
  {
   "cell_type": "code",
   "execution_count": 63,
   "metadata": {},
   "outputs": [
    {
     "name": "stdout",
     "output_type": "stream",
     "text": [
      "Max R2 score corresponding to  42  is  0.15161912646221853\n",
      "Max R2 score corresponding to  42  is  0.15161912646221853\n",
      "Max R2 score corresponding to  42  is  0.15161912646221853\n",
      "Max R2 score corresponding to  45  is  0.17543196721058085\n",
      "Max R2 score corresponding to  46  is  0.19521397272700725\n",
      "Max R2 score corresponding to  46  is  0.19521397272700725\n",
      "Max R2 score corresponding to  46  is  0.19521397272700725\n",
      "Max R2 score corresponding to  46  is  0.19521397272700725\n",
      "Max R2 score corresponding to  46  is  0.19521397272700725\n",
      "Max R2 score corresponding to  46  is  0.19521397272700725\n",
      "Max R2 score corresponding to  46  is  0.19521397272700725\n",
      "Max R2 score corresponding to  46  is  0.19521397272700725\n",
      "Max R2 score corresponding to  46  is  0.19521397272700725\n",
      "Max R2 score corresponding to  46  is  0.19521397272700725\n",
      "Max R2 score corresponding to  46  is  0.19521397272700725\n",
      "Max R2 score corresponding to  46  is  0.19521397272700725\n",
      "Max R2 score corresponding to  58  is  0.19994156896206627\n",
      "Max R2 score corresponding to  58  is  0.19994156896206627\n",
      "Max R2 score corresponding to  58  is  0.19994156896206627\n",
      "Max R2 score corresponding to  58  is  0.19994156896206627\n",
      "Max R2 score corresponding to  58  is  0.19994156896206627\n",
      "Max R2 score corresponding to  58  is  0.19994156896206627\n",
      "Max R2 score corresponding to  58  is  0.19994156896206627\n",
      "Max R2 score corresponding to  58  is  0.19994156896206627\n",
      "Max R2 score corresponding to  58  is  0.19994156896206627\n",
      "Max R2 score corresponding to  58  is  0.19994156896206627\n",
      "Max R2 score corresponding to  58  is  0.19994156896206627\n",
      "Max R2 score corresponding to  58  is  0.19994156896206627\n",
      "Max R2 score corresponding to  58  is  0.19994156896206627\n",
      "Max R2 score corresponding to  58  is  0.19994156896206627\n",
      "Max R2 score corresponding to  58  is  0.19994156896206627\n",
      "Max R2 score corresponding to  58  is  0.19994156896206627\n",
      "Max R2 score corresponding to  58  is  0.19994156896206627\n",
      "Max R2 score corresponding to  58  is  0.19994156896206627\n",
      "Max R2 score corresponding to  58  is  0.19994156896206627\n",
      "Max R2 score corresponding to  58  is  0.19994156896206627\n",
      "Max R2 score corresponding to  58  is  0.19994156896206627\n",
      "Max R2 score corresponding to  58  is  0.19994156896206627\n",
      "Max R2 score corresponding to  58  is  0.19994156896206627\n",
      "Max R2 score corresponding to  58  is  0.19994156896206627\n",
      "Max R2 score corresponding to  58  is  0.19994156896206627\n",
      "Max R2 score corresponding to  58  is  0.19994156896206627\n",
      "Max R2 score corresponding to  84  is  0.2145337854194912\n",
      "Max R2 score corresponding to  84  is  0.2145337854194912\n",
      "Max R2 score corresponding to  84  is  0.2145337854194912\n",
      "Max R2 score corresponding to  84  is  0.2145337854194912\n",
      "Max R2 score corresponding to  84  is  0.2145337854194912\n",
      "Max R2 score corresponding to  84  is  0.2145337854194912\n",
      "Max R2 score corresponding to  84  is  0.2145337854194912\n",
      "Max R2 score corresponding to  84  is  0.2145337854194912\n",
      "Max R2 score corresponding to  84  is  0.2145337854194912\n",
      "Max R2 score corresponding to  84  is  0.2145337854194912\n",
      "Max R2 score corresponding to  94  is  0.22286602637285213\n",
      "Max R2 score corresponding to  94  is  0.22286602637285213\n",
      "Max R2 score corresponding to  94  is  0.22286602637285213\n",
      "Max R2 score corresponding to  94  is  0.22286602637285213\n",
      "Max R2 score corresponding to  94  is  0.22286602637285213\n",
      "Max R2 score corresponding to  94  is  0.22286602637285213\n",
      "Max R2 score corresponding to  94  is  0.22286602637285213\n"
     ]
    }
   ],
   "source": [
    "from sklearn.linear_model import LinearRegression\n",
    "from sklearn.metrics import r2_score,mean_absolute_error,mean_squared_error\n",
    "from sklearn.model_selection import train_test_split,cross_val_score,GridSearchCV\n",
    "max_r2_score=0\n",
    "for i in range(42,101):\n",
    "    train_x,test_x,train_y,test_y=train_test_split(x,y,random_state=i,test_size=0.20)\n",
    "    Lr=LinearRegression()\n",
    "    Lr.fit(train_x,train_y)\n",
    "    pred=Lr.predict(test_x)\n",
    "    r2_scr=r2_score(pred,test_y)\n",
    "    if r2_scr>max_r2_score:\n",
    "        max_r2_score=r2_scr\n",
    "        final_r_state=i\n",
    "    print('Max R2 score corresponding to ',final_r_state,' is ',max_r2_score)       "
   ]
  },
  {
   "cell_type": "code",
   "execution_count": 64,
   "metadata": {},
   "outputs": [
    {
     "name": "stdout",
     "output_type": "stream",
     "text": [
      "[0.55015806 0.54449338 0.49526578 0.54913751 0.52411438 0.5311262\n",
      " 0.5383514  0.54784606 0.54427964 0.50664431]\n",
      "0.5331416722412243\n"
     ]
    }
   ],
   "source": [
    "#Checking if the model is is under or overfitting\n",
    "a_score=cross_val_score(Lr,x,y,cv=10,scoring='r2')\n",
    "print(a_score)\n",
    "print(np.mean(a_score))"
   ]
  },
  {
   "cell_type": "code",
   "execution_count": 65,
   "metadata": {},
   "outputs": [
    {
     "name": "stdout",
     "output_type": "stream",
     "text": [
      "Predicted Total Claim Amount  [[23.54259744]\n",
      " [27.5695874 ]\n",
      " [22.56416237]\n",
      " ...\n",
      " [26.04145707]\n",
      " [20.54950865]\n",
      " [17.05370374]]\n"
     ]
    }
   ],
   "source": [
    "#Final LinearRegression\n",
    "train_x,test_x,train_y,test_y=train_test_split(x,y,random_state=94,test_size=0.25)\n",
    "Lr=LinearRegression()\n",
    "Lr.fit(train_x,train_y)\n",
    "Lrpred=Lr.predict(test_x)\n",
    "print(\"Predicted Total Claim Amount \",Lrpred)"
   ]
  },
  {
   "cell_type": "code",
   "execution_count": 66,
   "metadata": {},
   "outputs": [
    {
     "name": "stdout",
     "output_type": "stream",
     "text": [
      "R2 Score 0.21828527181824608\n",
      "Mean Absolute Error 3.3189150144754156\n",
      "Mean Squared Error 17.643845181148397\n",
      "Root Mean Squared Error 4.2004577347175385\n"
     ]
    }
   ],
   "source": [
    "print('R2 Score',r2_score(Lrpred,test_y))\n",
    "print('Mean Absolute Error',mean_absolute_error(Lrpred,test_y))\n",
    "print('Mean Squared Error',mean_squared_error(Lrpred,test_y))\n",
    "print('Root Mean Squared Error',np.sqrt(mean_squared_error(Lrpred,test_y)))"
   ]
  },
  {
   "cell_type": "code",
   "execution_count": 67,
   "metadata": {},
   "outputs": [
    {
     "name": "stdout",
     "output_type": "stream",
     "text": [
      "{'kernel': 'rbf'}\n",
      "0.7522720431971481\n"
     ]
    }
   ],
   "source": [
    "from sklearn.svm import SVR\n",
    "sv=SVR()\n",
    "param={'kernel':['rbf','linear','poly']}\n",
    "gd_sr=GridSearchCV(estimator=sv,param_grid=param,cv=10,scoring='r2')\n",
    "gd_sr.fit(train_x,train_y)\n",
    "best_param=gd_sr.best_params_\n",
    "print(best_param)\n",
    "best_score=gd_sr.best_score_\n",
    "print(best_score)"
   ]
  },
  {
   "cell_type": "code",
   "execution_count": 68,
   "metadata": {},
   "outputs": [
    {
     "name": "stdout",
     "output_type": "stream",
     "text": [
      "{'criterion': 'mse'}\n",
      "0.7010888673480828\n"
     ]
    }
   ],
   "source": [
    "from sklearn.tree import DecisionTreeRegressor\n",
    "dt=DecisionTreeRegressor()\n",
    "param={'criterion':['mse','mae','friedman_mse']}\n",
    "gd_sr=GridSearchCV(estimator=dt,param_grid=param,cv=10,scoring='r2')\n",
    "gd_sr.fit(train_x,train_y)\n",
    "best_param=gd_sr.best_params_\n",
    "print(best_param)\n",
    "best_score=gd_sr.best_score_\n",
    "print(best_score)"
   ]
  },
  {
   "cell_type": "code",
   "execution_count": 69,
   "metadata": {},
   "outputs": [
    {
     "name": "stdout",
     "output_type": "stream",
     "text": [
      "{'n_neighbors': 50}\n",
      "0.587609997289921\n"
     ]
    }
   ],
   "source": [
    "from sklearn.neighbors import KNeighborsRegressor\n",
    "knn=KNeighborsRegressor()\n",
    "param={'n_neighbors':[50,100,200,300,400]}\n",
    "gd_sr=GridSearchCV(estimator=knn,param_grid=param,cv=10,scoring='r2')\n",
    "gd_sr.fit(train_x,train_y)\n",
    "best_param=gd_sr.best_params_\n",
    "print(best_param)\n",
    "best_score=gd_sr.best_score_\n",
    "print(best_score)"
   ]
  },
  {
   "cell_type": "markdown",
   "metadata": {},
   "source": [
    "Checking the Score by Ensembleing Methods"
   ]
  },
  {
   "cell_type": "code",
   "execution_count": 70,
   "metadata": {},
   "outputs": [
    {
     "name": "stdout",
     "output_type": "stream",
     "text": [
      "{'n_estimators': 300}\n",
      "0.8460032091742383\n"
     ]
    }
   ],
   "source": [
    "from sklearn.ensemble import RandomForestRegressor\n",
    "rf=RandomForestRegressor()\n",
    "param={'n_estimators':[100,200,300,400]}\n",
    "gd_sr=GridSearchCV(estimator=rf,param_grid=param,cv=10,scoring='r2')\n",
    "gd_sr.fit(train_x,train_y)\n",
    "best_param=gd_sr.best_params_\n",
    "print(best_param)\n",
    "best_score=gd_sr.best_score_\n",
    "print(best_score)"
   ]
  },
  {
   "cell_type": "code",
   "execution_count": 71,
   "metadata": {},
   "outputs": [
    {
     "name": "stdout",
     "output_type": "stream",
     "text": [
      "{'n_estimators': 200}\n",
      "0.8395618980119105\n"
     ]
    }
   ],
   "source": [
    "from sklearn.ensemble import GradientBoostingRegressor\n",
    "gbr=GradientBoostingRegressor()\n",
    "param={'n_estimators':[100,200,300,400]}\n",
    "gd_sr=GridSearchCV(estimator=gbr,param_grid=param,cv=10,scoring='r2')\n",
    "gd_sr.fit(train_x,train_y)\n",
    "best_param=gd_sr.best_params_\n",
    "print(best_param)\n",
    "best_score=gd_sr.best_score_\n",
    "print(best_score)"
   ]
  },
  {
   "cell_type": "markdown",
   "metadata": {},
   "source": [
    "From all the models RandomForestRegressor has the heighest r2 score 0.8460032091742383 (84.60%).So we will save this model for production and save the prediction."
   ]
  },
  {
   "cell_type": "code",
   "execution_count": 72,
   "metadata": {},
   "outputs": [
    {
     "name": "stdout",
     "output_type": "stream",
     "text": [
      "Predicted Total Claim Amount [26.2180593  29.74717346 24.43928679 ... 21.55141932 15.87807863\n",
      " 21.21649238]\n",
      "\n",
      "\n",
      "R2 Score 0.8492569138866259\n",
      "Mean Absolute Error 1.7145525524896317\n",
      "Mean Squared Error 5.529613743837301\n",
      "Root Mean Squared Error 2.3515130754127864\n"
     ]
    }
   ],
   "source": [
    "rf=RandomForestRegressor(n_estimators=300)\n",
    "rf.fit(train_x,train_y)\n",
    "rfpred=rf.predict(test_x)\n",
    "print('Predicted Total Claim Amount',rfpred)\n",
    "print('\\n')\n",
    "print('R2 Score',r2_score(rfpred,test_y))\n",
    "print('Mean Absolute Error',mean_absolute_error(rfpred,test_y))\n",
    "print('Mean Squared Error',mean_squared_error(rfpred,test_y))\n",
    "print('Root Mean Squared Error',np.sqrt(mean_squared_error(rfpred,test_y)))"
   ]
  },
  {
   "cell_type": "code",
   "execution_count": 73,
   "metadata": {},
   "outputs": [
    {
     "data": {
      "text/plain": [
       "array([26.68396991])"
      ]
     },
     "execution_count": 73,
     "metadata": {},
     "output_type": "execute_result"
    }
   ],
   "source": [
    "test1=np.array([1,256,2,62,2,2,1,223,1,1,89,1,13,2,3,1,1,2,1,2,1]).reshape(1,-1)\n",
    "rf.predict(test1)"
   ]
  },
  {
   "cell_type": "code",
   "execution_count": 74,
   "metadata": {},
   "outputs": [
    {
     "data": {
      "text/plain": [
       "array([26.73532968])"
      ]
     },
     "execution_count": 74,
     "metadata": {},
     "output_type": "execute_result"
    }
   ],
   "source": [
    "test2=np.array([3,116,2,2,2,2,1,213,2,2,19,1,23,1,3,1,5,2,1,6,1]).reshape(1,-1)\n",
    "rf.predict(test2)"
   ]
  },
  {
   "cell_type": "code",
   "execution_count": 75,
   "metadata": {},
   "outputs": [],
   "source": [
    "#Saving the prediction\n",
    "df=pd.DataFrame(rfpred)\n",
    "df.to_csv('Auto_insurance_claim_pred.csv')"
   ]
  },
  {
   "cell_type": "code",
   "execution_count": 76,
   "metadata": {},
   "outputs": [
    {
     "name": "stderr",
     "output_type": "stream",
     "text": [
      "C:\\Users\\Biranchi\\Anaconda3\\lib\\site-packages\\sklearn\\externals\\joblib\\__init__.py:15: DeprecationWarning: sklearn.externals.joblib is deprecated in 0.21 and will be removed in 0.23. Please import this functionality directly from joblib, which can be installed with: pip install joblib. If this warning is raised when loading pickled models, you may need to re-serialize those models with scikit-learn 0.21+.\n",
      "  warnings.warn(msg, category=DeprecationWarning)\n"
     ]
    },
    {
     "data": {
      "text/plain": [
       "['Auto_insurance_claim_pred.obj']"
      ]
     },
     "execution_count": 76,
     "metadata": {},
     "output_type": "execute_result"
    }
   ],
   "source": [
    "#Saving the model\n",
    "from sklearn.externals import joblib\n",
    "joblib.dump(rf,'Auto_insurance_claim_pred.obj')"
   ]
  },
  {
   "cell_type": "code",
   "execution_count": null,
   "metadata": {},
   "outputs": [],
   "source": []
  }
 ],
 "metadata": {
  "kernelspec": {
   "display_name": "Python 3",
   "language": "python",
   "name": "python3"
  },
  "language_info": {
   "codemirror_mode": {
    "name": "ipython",
    "version": 3
   },
   "file_extension": ".py",
   "mimetype": "text/x-python",
   "name": "python",
   "nbconvert_exporter": "python",
   "pygments_lexer": "ipython3",
   "version": "3.7.4"
  }
 },
 "nbformat": 4,
 "nbformat_minor": 2
}
